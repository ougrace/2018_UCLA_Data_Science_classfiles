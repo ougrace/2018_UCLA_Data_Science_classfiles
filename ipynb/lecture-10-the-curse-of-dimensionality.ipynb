{
 "cells": [
  {
   "cell_type": "markdown",
   "metadata": {},
   "source": [
    "### The Curse of Dimensionality"
   ]
  },
  {
   "cell_type": "code",
   "execution_count": 1,
   "metadata": {},
   "outputs": [],
   "source": [
    "###### Define Numerical Python environment\n",
    "\n",
    "import numpy as np\n",
    "import pandas as pd\n",
    "import matplotlib.pyplot as plt\n",
    "%matplotlib inline"
   ]
  },
  {
   "cell_type": "code",
   "execution_count": 2,
   "metadata": {},
   "outputs": [],
   "source": [
    "###### Define `datasets` of varying size using `make_classification`\n",
    "\n",
    "from sklearn.datasets import make_classification\n",
    "\n",
    "n_vals = np.logspace(1, 4, 20)\n",
    "\n",
    "datasets = { \n",
    "    int(n): make_classification(int(n)) \n",
    "    for n in n_vals\n",
    "}"
   ]
  },
  {
   "cell_type": "code",
   "execution_count": 3,
   "metadata": {},
   "outputs": [],
   "source": [
    "###### Load models from Scikit-Learn\n",
    "\n",
    "from sklearn.neighbors import KNeighborsClassifier\n",
    "from sklearn.tree import DecisionTreeClassifier\n",
    "from sklearn.linear_model import LogisticRegression\n",
    "from sklearn.svm import SVC"
   ]
  },
  {
   "cell_type": "code",
   "execution_count": 4,
   "metadata": {},
   "outputs": [],
   "source": [
    "###### Define dictionary of models\n",
    "\n",
    "models = {\n",
    "    'knn' : KNeighborsClassifier(),\n",
    "    'lr' : LogisticRegression(),\n",
    "    'dt' : DecisionTreeClassifier(),\n",
    "    'svm' : SVC(),\n",
    "}"
   ]
  },
  {
   "cell_type": "code",
   "execution_count": 5,
   "metadata": {},
   "outputs": [],
   "source": [
    "###### import `time` library\n",
    "\n",
    "from time import time"
   ]
  },
  {
   "cell_type": "code",
   "execution_count": 6,
   "metadata": {},
   "outputs": [],
   "source": [
    "###### Define functions to time fit and prediction\n",
    "\n",
    "def time_fit(data, model):\n",
    "    start = time()\n",
    "    model.fit(*data)\n",
    "    fit_time = time() - start\n",
    "    return fit_time\n",
    "\n",
    "def time_predict(data, model):\n",
    "    start = time()\n",
    "    model.predict(data[0])\n",
    "    predict_time = time() - start\n",
    "    return predict_time"
   ]
  },
  {
   "cell_type": "code",
   "execution_count": 7,
   "metadata": {},
   "outputs": [],
   "source": [
    "###### Define function to test all models on a dataset of size $n$\n",
    "\n",
    "def fit_predict_model_on_n(model_name, n):\n",
    "    \n",
    "    model = models[model_name]\n",
    "    dataset = datasets[n]\n",
    "    \n",
    "    fit_time = time_fit(dataset, model)\n",
    "    \n",
    "    predict_time = time_predict(dataset, model)\n",
    "    \n",
    "    return {\n",
    "        'model_name' : model_name,\n",
    "        'n' : n,\n",
    "        'fit_time' : fit_time,\n",
    "        'predict_time' : predict_time\n",
    "    }"
   ]
  },
  {
   "cell_type": "code",
   "execution_count": 8,
   "metadata": {},
   "outputs": [],
   "source": [
    "###### Run all models against all datasets \n",
    "\n",
    "results = []\n",
    "for n in datasets.keys():\n",
    "    for model in models.keys():\n",
    "        results.append(fit_predict_model_on_n(model, n))"
   ]
  },
  {
   "cell_type": "code",
   "execution_count": 9,
   "metadata": {},
   "outputs": [],
   "source": [
    "###### Collect results in a `DataFrame`\n",
    "\n",
    "results_df = pd.DataFrame(results)"
   ]
  },
  {
   "cell_type": "code",
   "execution_count": 10,
   "metadata": {},
   "outputs": [
    {
     "data": {
      "text/html": [
       "<div>\n",
       "<style scoped>\n",
       "    .dataframe tbody tr th:only-of-type {\n",
       "        vertical-align: middle;\n",
       "    }\n",
       "\n",
       "    .dataframe tbody tr th {\n",
       "        vertical-align: top;\n",
       "    }\n",
       "\n",
       "    .dataframe thead th {\n",
       "        text-align: right;\n",
       "    }\n",
       "</style>\n",
       "<table border=\"1\" class=\"dataframe\">\n",
       "  <thead>\n",
       "    <tr style=\"text-align: right;\">\n",
       "      <th></th>\n",
       "      <th>fit_time</th>\n",
       "      <th>model_name</th>\n",
       "      <th>n</th>\n",
       "      <th>predict_time</th>\n",
       "    </tr>\n",
       "  </thead>\n",
       "  <tbody>\n",
       "    <tr>\n",
       "      <th>49</th>\n",
       "      <td>0.001512</td>\n",
       "      <td>lr</td>\n",
       "      <td>784</td>\n",
       "      <td>0.000087</td>\n",
       "    </tr>\n",
       "    <tr>\n",
       "      <th>61</th>\n",
       "      <td>0.003356</td>\n",
       "      <td>lr</td>\n",
       "      <td>2335</td>\n",
       "      <td>0.000208</td>\n",
       "    </tr>\n",
       "    <tr>\n",
       "      <th>41</th>\n",
       "      <td>0.001146</td>\n",
       "      <td>lr</td>\n",
       "      <td>379</td>\n",
       "      <td>0.000084</td>\n",
       "    </tr>\n",
       "    <tr>\n",
       "      <th>45</th>\n",
       "      <td>0.001624</td>\n",
       "      <td>lr</td>\n",
       "      <td>545</td>\n",
       "      <td>0.001891</td>\n",
       "    </tr>\n",
       "    <tr>\n",
       "      <th>16</th>\n",
       "      <td>0.000275</td>\n",
       "      <td>knn</td>\n",
       "      <td>42</td>\n",
       "      <td>0.000526</td>\n",
       "    </tr>\n",
       "  </tbody>\n",
       "</table>\n",
       "</div>"
      ],
      "text/plain": [
       "    fit_time model_name     n  predict_time\n",
       "49  0.001512         lr   784      0.000087\n",
       "61  0.003356         lr  2335      0.000208\n",
       "41  0.001146         lr   379      0.000084\n",
       "45  0.001624         lr   545      0.001891\n",
       "16  0.000275        knn    42      0.000526"
      ]
     },
     "execution_count": 10,
     "metadata": {},
     "output_type": "execute_result"
    }
   ],
   "source": [
    "###### Display a sample of the results\n",
    "\n",
    "results_df.sample(5)"
   ]
  },
  {
   "cell_type": "code",
   "execution_count": 11,
   "metadata": {},
   "outputs": [
    {
     "data": {
      "image/png": "[encoded data removed]",
      "text/plain": [
       "<Figure size 1440x360 with 2 Axes>"
      ]
     },
     "metadata": {},
     "output_type": "display_data"
    }
   ],
   "source": [
    "###### Plot Fit Time and Prediction Time\n",
    "\n",
    "fig, (ax1, ax2) = plt.subplots(1, 2, figsize=(20,5))\n",
    "\n",
    "for model_name in results_df.model_name.unique():\n",
    "    \n",
    "    model_mask = (results_df.model_name == model_name)\n",
    "    model_results_df = results_df[model_mask]\n",
    "\n",
    "    ax1.set_title('Fit Time')\n",
    "    ax1.plot(model_results_df.n, \n",
    "             model_results_df.fit_time, \n",
    "             label=model_name)\n",
    "    ax1.set_ylim((0,5))\n",
    "    ax1.legend()\n",
    "    \n",
    "    ax2.set_title('Prediction Time')\n",
    "    ax2.set_ylim((0, 5))\n",
    "    ax2.plot(model_results_df.n, \n",
    "             model_results_df.predict_time, \n",
    "             label=model_name)\n",
    "    ax2.legend()\n",
    "    \n",
    "plt.show()    "
   ]
  },
  {
   "cell_type": "code",
   "execution_count": 12,
   "metadata": {},
   "outputs": [
    {
     "data": {
      "image/png": "[encoded data removed]",
      "text/plain": [
       "<Figure size 1440x360 with 2 Axes>"
      ]
     },
     "metadata": {},
     "output_type": "display_data"
    }
   ],
   "source": [
    "###### Plot Fit Time and Prediction Time with Logarithmic Scale for $n$\n",
    "\n",
    "fig, (ax1, ax2) = plt.subplots(1, 2, figsize=(20,5))\n",
    "\n",
    "for model_name in results_df.model_name.unique():\n",
    "    \n",
    "    model_mask = (results_df.model_name == model_name)\n",
    "    model_results_df = results_df[model_mask]\n",
    "    \n",
    "    ax1.set_title('Fit Time')\n",
    "    ax1.plot(model_results_df.n, \n",
    "             model_results_df.fit_time, \n",
    "             label=model_name)\n",
    "    ax1.set_xscale('log')\n",
    "    ax1.set_ylim((0, 5))\n",
    "    ax1.legend()\n",
    "    \n",
    "    ax2.set_title('Prediction Time')\n",
    "    ax2.plot(model_results_df.n, \n",
    "             model_results_df.predict_time, \n",
    "             label=model_name)\n",
    "    ax2.set_xscale('log')\n",
    "    ax2.set_ylim((0, 5))\n",
    "    ax2.legend()\n",
    "\n",
    "plt.show()    "
   ]
  }
 ],
 "metadata": {
  "kernelspec": {
   "display_name": "Python 3",
   "language": "python",
   "name": "python3"
  },
  "language_info": {
   "codemirror_mode": {
    "name": "ipython",
    "version": 3
   },
   "file_extension": ".py",
   "mimetype": "text/x-python",
   "name": "python",
   "nbconvert_exporter": "python",
   "pygments_lexer": "ipython3",
   "version": "3.6.6"
  }
 },
 "nbformat": 4,
 "nbformat_minor": 2
}
