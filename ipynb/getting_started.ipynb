{
 "cells": [
  {
   "cell_type": "markdown",
   "metadata": {},
   "source": [
    "### Amazon Web Services"
   ]
  },
  {
   "cell_type": "markdown",
   "metadata": {},
   "source": [
    "If you have not already done so, set up an AWS account<sup>newaws</sup>. \n",
    "\n",
    "newaws: As of 2018/08/25, detailed instructions for doing this can be obtained here: https://aws.amazon.com/premiumsupport/knowledge-center/create-and-activate-aws-account/.\n"
   ]
  },
  {
   "cell_type": "markdown",
   "metadata": {},
   "source": [
    "You will be using AWS to manage the hardware upon which your data science platform will run. We will leave the details of what exactly \"hardware\" means to AWS. This is to say that AWS may be allocating resources as a virtual machine, but for your purposes, the experience will be as if you are using a physical system across the room from you."
   ]
  },
  {
   "cell_type": "markdown",
   "metadata": {},
   "source": [
    "The most popular service offered by Amazon Web Services is the Elastic Compute Cloud (EC2), \"a web service that provides secure, resizable compute capacity in the cloud\"<sup>ec2</sup>. For our purposes, compute capacity means a cloud-based computer you will use to run your platform.\n",
    "\n",
    "ec2: https://aws.amazon.com/ec2/\n"
   ]
  },
  {
   "cell_type": "markdown",
   "metadata": {},
   "source": [
    "Readers new to AWS will be able to work through this text using the AWS Free Tier<sup>free tier</sup>. For the first 12 months following sign up, new users receive 750 Hours per month of EC2 time. This amounts to 31.25 days of availability and, provided that readers keep only one server running at a time, ensures that readers can work through this text at no cost.\n",
    "\n",
    "\n",
    "free tier: https://aws.amazon.com/free/\n"
   ]
  },
  {
   "cell_type": "markdown",
   "metadata": {},
   "source": [
    "### Configure your Local System"
   ]
  },
  {
   "cell_type": "markdown",
   "metadata": {},
   "source": [
    "In this first chapter, with the exception of some AWS system configuration in the browser, all of the work that you will be doing will take place at the command line. Work at the command line is done via a special type of application called a shell. A shell is a user interface that provides access to the operating system of a computer. We prefer the shell to other modes of working with computers because of its simplicity."
   ]
  },
  {
   "cell_type": "markdown",
   "metadata": {},
   "source": [
    "The most popular shell is the Bourne Again Shell or Bash. If you are using a Mac OS X system or a Linux system, you will already have Bash available to you in an application called Terminal. If you are using a Windows system, we recommend the use of Git-Bash<sup>git bash</sup>. We have no preference as to the settings used when configuring Git-Bash. The default settings are fine when installing the program. If you are using a Chromebook, we recommend the use of Termius, available from the Chrome Web Store.\n",
    "\n",
    "git bash: https://gitforwindows.org\n"
   ]
  },
  {
   "cell_type": "markdown",
   "metadata": {},
   "source": [
    "#### SSH Keys"
   ]
  },
  {
   "cell_type": "markdown",
   "metadata": {},
   "source": [
    "All of the work that you will be doing will take place remotely. As such, there is very little configuration to be done for the local system. The one thing that you will need to do is configure a set of SSH Keys to enable secure connection to the remote system you bring online."
   ]
  },
  {
   "cell_type": "markdown",
   "metadata": {},
   "source": [
    "<include type=\"image\" url=\"ch-01-ssh-keys.png\"> \n",
    "\n",
    "###### Connecting with SSH Keys\n",
    "\n",
    "![](../img/ch-01-ssh-keys.png)\n",
    "\n",
    "</include>\n"
   ]
  },
  {
   "cell_type": "markdown",
   "metadata": {},
   "source": [
    "An SSH Key is a password-less method of authenticating to a remote system using public-key cryptography. Authentication is done using a key pair consisting of a public key, which can be shared publicly, and a private key, which is known only to the user (See Figure \\ref{fig:ch-01-ssh-keys.png}). One might think of the public key as the lock on your front door, accessible to anyone, and the private key as the key in your pocket so that only you are able to open your door and gain access to your home."
   ]
  },
  {
   "cell_type": "markdown",
   "metadata": {},
   "source": [
    "You will generate this key pair on our local system and then provide the public key to AWS so that it can be added to any system you wish to launch. You will keep the private key on our local system and use it whenever you wish to gain access."
   ]
  },
  {
   "cell_type": "markdown",
   "metadata": {},
   "source": [
    "### Create a New Key Pair"
   ]
  },
  {
   "cell_type": "markdown",
   "metadata": {},
   "source": [
    "You will use the Bash tool `ssh-keygen` to create a new key pair. To begin open a new terminal session<sup>term</sup>, where you will examine whether or not you already have a key pair. Launching a new Bash session will put you in your home directory. \n",
    "\n",
    "term: On a Mac or Linux system, simply open the Terminal application. On Windows, open Git-Bash. On Chromebook, open Termius.\n"
   ]
  },
  {
   "cell_type": "markdown",
   "metadata": {},
   "source": [
    "The canonical location for storing SSH Keys is in a folder called `~/.ssh` in our home directory<sup>home</sup>. Note that this directory begins with a `.` which makes it a hidden directory. In Listing \\ref{lst:ls-home}, you use `cd` to navigate to our home directory and `ls -la` to display all of the contents of our home directory in a list.\n",
    "\n",
    "home: On every system that we will use, the $\\sim$ symbol is used as an alias for your home directory. The location of the actual home directory will vary by system. Ubuntu users' home directory will be `/home/username`. Mac OS X users' home directory will be `/Users/username`. Windows/Git-Bash users' home directory will be `/c/Users/username`.\n"
   ]
  },
  {
   "cell_type": "markdown",
   "metadata": {},
   "source": [
    "$\\square$ **Note:** Occasionally in code listings, I will truncate the output. If you see `...` in the listing, this should be taken to mean that there is additional output generated that is not important for the discussion."
   ]
  },
  {
   "cell_type": "markdown",
   "metadata": {},
   "source": [
    "<include type=\"listing\" label=\"ls-home\">\n",
    "\n",
    "###### List the contents of our home directory\n",
    "\n",
    "```\n",
    "$ cd ~\n",
    "$ ls -la\n",
    "...\n",
    "drwxr-xr-x   21 joshuacook  staff    714 Jul 31  2017 .pylint.d\n",
    "drwx------   11 joshuacook  staff    374 Jan 28 18:49 .ssh\n",
    "drwxr-xr-x    6 joshuacook  staff    204 Feb  2 22:01 .vim\n",
    "-rw-------    1 joshuacook  staff  20788 Feb 10 08:54 .viminfo\n",
    "-rw-r--r--@   1 joshuacook  staff   1263 Jul 26  2017 .vimrc\n",
    "drwx------@   5 joshuacook  staff    170 Aug 26 09:12 Applications\n",
    "drwx------+  19 joshuacook  staff    646 Feb 11 09:32 Desktop\n",
    "drwx------+   6 joshuacook  staff    204 Feb  4 12:18 Documents\n",
    "...\n",
    "```\n",
    "</include>"
   ]
  },
  {
   "cell_type": "markdown",
   "metadata": {},
   "source": [
    "My local system is running Mac OS X and has the `.ssh` folder already. As the directory already exists, in Listing \\ref{lst:ls-ssh}, I list the contents of my `.ssh` directory."
   ]
  },
  {
   "cell_type": "markdown",
   "metadata": {},
   "source": [
    "<include type=\"listing\" label=\"ls-ssh\">\n",
    "    \n",
    "###### Display contents of the `.ssh` directory\n",
    "\n",
    "```\n",
    "$ ls -la .ssh\n",
    "total 96\n",
    "drwx------  11 joshuacook  staff    374 Jan 28 18:49 .\n",
    "drwxr-xr-x+ 74 joshuacook  staff   2516 Feb 10 08:54 ..\n",
    "-rw-------   1 joshuacook  staff   1679 Jan 11 16:21 id_rsa\n",
    "-rw-r--r--   1 joshuacook  staff    418 Jan 11 16:21 id_rsa.pub\n",
    "```\n",
    "\n",
    "</include>"
   ]
  },
  {
   "cell_type": "markdown",
   "metadata": {},
   "source": [
    "As can be seen, I already have an SSH Keypair named `id_rsa` and `id_rsa.pub`. If this is true for you, as well, you should skip the next step and not create new SSH Keys (See Listing  \\ref{lst:create-new-ssh-key})."
   ]
  },
  {
   "cell_type": "markdown",
   "metadata": {},
   "source": [
    "If when listing the home directory, you do not see a folder called `.ssh` or when displaying the contents of `.ssh` you do not see an SSH Keypair named `id_rsa` and `id_rsa.pub`, a new SSH Keypair will need to be created. In Listing \\ref{lst:create-new-ssh-key}, you create a new SSH Keypair using the `ssh-keygen` command line utility."
   ]
  },
  {
   "cell_type": "markdown",
   "metadata": {},
   "source": [
    "During the creation of the SSH Keypair, you will be prompted three times. The first asks where you should save the SSH Keypair, defaulting to the `.ssh/id_rsa` in our home directory. In Listing \\ref{lst:create-new-ssh-key}, you see that this is being done at `/Users/joshuacook/.ssh/id_rsa` on my local system where my username is `joshuacook`. The second and third prompts will ask for a passphrase to be added to the key. For our purposes, leaving this passphrase empty will be fine. In other words, the default options are preferable and you may simply hit `<ENTER>` three times."
   ]
  },
  {
   "cell_type": "markdown",
   "metadata": {},
   "source": [
    "<include type=\"listing\" label=\"create-new-ssh-key\">\n",
    "    \n",
    "###### Create a new SSH Keypair\n",
    "\n",
    "```\n",
    "$ ssh-keygen\n",
    "Generating public/private rsa key pair.\n",
    "Enter file in which to save the key (/Users/joshuacook/.ssh/id_rsa):\n",
    "Created directory '/Users/joshuacook/.ssh'.\n",
    "Enter passphrase (empty for no passphrase):\n",
    "Enter same passphrase again:\n",
    "Your identification has been saved in /Users/joshuacook/.ssh/id_rsa.\n",
    "Your public key has been saved in /Users/joshuacook/.ssh/id_rsa.pub.\n",
    "The key fingerprint is:\n",
    "SHA256:MkCnhaAzjcjRHCUc/pdUsxrk7be6+gNXTrEchJyFOqs joshuacook@LOCAL\n",
    "The key's randomart image is:\n",
    "+---[RSA 2048]----+\n",
    "| .===oo..o*o     |\n",
    "|o+o=o+o o=oo     |\n",
    "|*...o  +.o. +    |\n",
    "| o  ...o=  =     |\n",
    "|     .o+S.+.     |\n",
    "|      .= ....    |\n",
    "|      . o  .     |\n",
    "|     E   ..      |\n",
    "|       .o+o      |\n",
    "+----[SHA256]-----+\n",
    "```\n",
    "\n",
    "</include>"
   ]
  },
  {
   "cell_type": "markdown",
   "metadata": {},
   "source": [
    "You can verify the SSH Keypair you just created by displaying the Public Key in our shell (Listing \\ref{lst:cat-pub-key}). Here, you use the `cat` command, which concatenates the contents of `id_rsa.pub` to the shell output."
   ]
  },
  {
   "cell_type": "markdown",
   "metadata": {},
   "source": [
    "<include type=\"listing\" label=\"cat-pub-key\">\n",
    "    \n",
    "###### Display Public SSH Key\n",
    "\n",
    "```\n",
    "$ cat ~/.ssh/id_rsa.pub\n",
    "ssh-rsa\n",
    "AAAAB3NzaC1yc2EAAAADAQABAAABAQDdnHPEiq1a4OsDDY+g9luWQS8pCjBmR\n",
    "64MmsrQ9MaIaE5shIcFB1Kg3pGwJpypiZjoSh9pS55S9LckNsBfn8Ff42ALLj\n",
    "R8y+WlJKVk/0DvDXgGVcCc0t/uTvxVx0bRruYxLW167J89UnxnJuRZDLeY9fD\n",
    "OfIzSR5eglhCWVqiOzB+OsLqR1W04Xz1oStID78UiY5msW+EFg25Hg1wepYMC\n",
    "JG/Zr43ByOYPGseUrbCqFBS1KlQnzfWRfEKHZbtEe6HbWwz1UDL2NrdFXxZAI\n",
    "XYYoCVtl4WXd/WjDwSjbMmtf3BqenVKZcP2DQ9/W+geIGGjvOTfUdsCHennYI\n",
    "EUfEEP joshuacook@LOCAL\n",
    "```\n",
    "</include>"
   ]
  },
  {
   "cell_type": "markdown",
   "metadata": {},
   "source": [
    "### Configure your AWS Account"
   ]
  },
  {
   "cell_type": "markdown",
   "metadata": {},
   "source": [
    "That is the sum of the local configuration you will need to do in order to get started. The next thing you will need to do is configure our AWS Account. To do this, you will need to configure a Key Pair corresponding to the SSH Keypair on your local system. The AWS Key Pair is slightly misnamed as it is not in fact a pair, but rather is simply the public portion of the SSH Keypair you have on our local system."
   ]
  },
  {
   "cell_type": "markdown",
   "metadata": {},
   "source": [
    "To begin, log in to your AWS control panel and navigate to the EC2 Dashboard (Figure \\ref{fig:ch-01-access-ec2-dash.png}). First, access “Services” (Figure \\ref{fig:ch-01-access-ec2-dash.png}, #1) then access “EC2” (Figure \\ref{fig:ch-01-access-ec2-dash.png}, #2). The Services link can be accessed from any page in the AWS website."
   ]
  },
  {
   "cell_type": "markdown",
   "metadata": {},
   "source": [
    "<include type=\"image\" url=\"ch-01-access-ec2-dash.png\"> \n",
    "\n",
    "###### Access EC2 Dashboard\n",
    "\n",
    "![](../img/ch-01-access-ec2-dash.png)\n",
    "\n",
    "</include>"
   ]
  },
  {
   "cell_type": "markdown",
   "metadata": {},
   "source": [
    "#### Add the Public Key to AWS"
   ]
  },
  {
   "cell_type": "markdown",
   "metadata": {},
   "source": [
    "Once at the EC2 control panel, access the Key Pairs pane using either link (Figure \\ref{fig:ch-01-access-key-pairs.png})."
   ]
  },
  {
   "cell_type": "markdown",
   "metadata": {},
   "source": [
    "<include type=\"image\" url=\"ch-01-access-key-pairs.png\"> \n",
    "\n",
    "###### Access Key Pairs in the EC2 Dashboard\n",
    "\n",
    "![](../img/ch-01-access-key-pairs.png)\n",
    "\n",
    "</include>"
   ]
  },
  {
   "cell_type": "markdown",
   "metadata": {},
   "source": [
    "From the Key Pairs pane, choose “Import Key Pair.” This will activate a modal that you can use to create a new key pair associated with a region on your AWS account. Make sure to give the key pair a computer-friendly name, like `from-MacBook-2018`. Paste the contents of your public key (`id_rsa.pub`) into the public key contents. Prior to clicking Import, your key should appear as in Figure \\ref{fig:ch-01-import-public-key.png}. Click Import to create the new key."
   ]
  },
  {
   "cell_type": "markdown",
   "metadata": {},
   "source": [
    "<include type=\"image\" url=\"ch-01-import-public-key.png\"> \n",
    "\n",
    "###### Import a New Public Key\n",
    "\n",
    "![](../img/ch-01-import-public-key.png)\n",
    "\n",
    "</include>"
   ]
  },
  {
   "cell_type": "markdown",
   "metadata": {},
   "source": [
    "You have created a key pair between AWS and your local system. When you create a new instance, you will instruct AWS to provision the instance with this public key and thus you will be able to access the cloud-based system from your local system using your private key."
   ]
  },
  {
   "cell_type": "markdown",
   "metadata": {},
   "source": [
    "### Launch a New EC2 Instance"
   ]
  },
  {
   "cell_type": "markdown",
   "metadata": {},
   "source": [
    "To create a new instance, start from the EC2 Dashboard and click the Launch Instance button (Figure \\ref{fig:ch-01-launch-instance.png})."
   ]
  },
  {
   "cell_type": "markdown",
   "metadata": {},
   "source": [
    "<include type=\"image\" url=\"ch-01-launch-instance.png\"> \n",
    "\n",
    "###### Begin the launch process for a new instance\n",
    "\n",
    "![](../img/ch-01-launch-instance.png)\n",
    "\n",
    "</include>"
   ]
  },
  {
   "cell_type": "markdown",
   "metadata": {},
   "source": [
    "#### Step 1: Choose an Amazon Machine Image (AMI)"
   ]
  },
  {
   "cell_type": "markdown",
   "metadata": {},
   "source": [
    "The launching of a new instance is a multi-step process that walks the user through all configurations necessary. The **first tab** is “Choose AMI.” An AMI is an Amazon Machine Image\\footnote{http://docs.aws.amazon.com/AWSEC2/latest/UserGuide/AMIs.html}. and contains the software you will need to run your sandbox machine. I recommend choosing the latest stable Ubuntu Server release that is free-tier eligible. At the time of writing, this was ami-efd0428f, Ubuntu Server 16.04 LTS (HVM), SSD Volume Type (Figure \\ref{fig:ch-01-latest-ubuntu.png})."
   ]
  },
  {
   "cell_type": "markdown",
   "metadata": {},
   "source": [
    "<include type=\"image\" url=\"ch-01-latest-ubuntu.png\"> \n",
    "\n",
    "###### Choose the latest stable Ubuntu Server release as AMI\n",
    "\n",
    "![](../img/ch-01-latest-ubuntu.png)\n",
    "\n",
    "</include>"
   ]
  },
  {
   "cell_type": "markdown",
   "metadata": {},
   "source": [
    "#### Step 2: Choose Instance Type"
   ]
  },
  {
   "cell_type": "markdown",
   "metadata": {},
   "source": [
    "The **second tab** is “Choose Instance Type.” In practice, I have found that the free tier, `t2.micro`  (Figure \\ref{fig:ch-01-choose-type.png}), is sufficient for many applications. Furthermore, the instance type may always be changed later should the need present itself."
   ]
  },
  {
   "cell_type": "markdown",
   "metadata": {},
   "source": [
    "<include type=\"image\" url=\"ch-01-choose-type.png\"> \n",
    "\n",
    "###### Choose `t2.micro` for Instance Type\n",
    "\n",
    "![](../img/ch-01-choose-type.png)\n",
    "\n",
    "</include>"
   ]
  },
  {
   "cell_type": "markdown",
   "metadata": {},
   "source": [
    "#### Step 3: Configure Instance Details"
   ]
  },
  {
   "cell_type": "markdown",
   "metadata": {},
   "source": [
    "The **third tab**, “Configure Instance,” can be safely ignored."
   ]
  },
  {
   "cell_type": "markdown",
   "metadata": {},
   "source": [
    "#### Step 4: Add Storage"
   ]
  },
  {
   "cell_type": "markdown",
   "metadata": {},
   "source": [
    "The **fourth tab** is “Add Storage.” This option is also specific to intended usage. It should be noted that Jupyter Docker images can take up more than 5GB of disk\n",
    "space in the local image cache. For this reason, it is recommended to raise the value from the default 8GB to 30GB. Furthermore, as noted on this tab:\n",
    "\n",
    "<blockquote>\n",
    "    Free tier eligible customers can get up to 30 GB of EBS General Purpose (SSD) or Magnetic storage.\n",
    "</blockquote>"
   ]
  },
  {
   "cell_type": "markdown",
   "metadata": {},
   "source": [
    "#### Step 5: Add Tags"
   ]
  },
  {
   "cell_type": "markdown",
   "metadata": {},
   "source": [
    "The fifth tab, “Add Tags,” can be safely ignored."
   ]
  },
  {
   "cell_type": "markdown",
   "metadata": {},
   "source": [
    "#### Step 6: Configure Security Group"
   ]
  },
  {
   "cell_type": "markdown",
   "metadata": {},
   "source": [
    "The sixth tab, “Configure Security Group,” is critical for the proper functioning of your systems. By default this tab will be set up to \"Create a **new** security group\". This will not work for us! Ultimately, we will be accessing our system via a web browser which we require at a minimum that port 80 is open. We recommend simply using the default group which will open our system on all ports. If greater security is required for your specific application a more restrictive security group may be defined and used."
   ]
  },
  {
   "cell_type": "markdown",
   "metadata": {},
   "source": [
    "Select the \"default\" security group (Figure \\ref{fig:ch-01-default-security-group.png})."
   ]
  },
  {
   "cell_type": "markdown",
   "metadata": {},
   "source": [
    "<include type=\"image\" url=\"ch-01-default-security-group.png\"> \n",
    "\n",
    "###### Choose the latest stable Ubuntu Server release as AMI\n",
    "\n",
    "![](../img/ch-01-default-security-group.png)\n",
    "\n",
    "</include>"
   ]
  },
  {
   "cell_type": "markdown",
   "metadata": {},
   "source": [
    "$\\square$ **Note:** You may receive a Warning stating, \"Rules with source of 0.0.0.0/0 allow all IP addresses to access your instance. We recommend setting security group rules to allow access from known IP addresses only.\" This is expected and is okay."
   ]
  },
  {
   "cell_type": "markdown",
   "metadata": {},
   "source": [
    "#### Step 7: Review Instance Launch"
   ]
  },
  {
   "cell_type": "markdown",
   "metadata": {},
   "source": [
    "Finally, click “Review and Launch.” Here, you see the specific configuration of the EC2 instance you will be creating. Verify that you are creating a `t2.micro` (Figure \\ref{fig:ch-01-review-and-launch.png}, #2)running the latest free tier-eligible version of Ubuntu Server (Figure \\ref{fig:ch-01-review-and-launch.png}, #1)and that it is available to all traffic (Figure \\ref{fig:ch-01-review-and-launch.png}, #3), and then click the Launch button (Figure \\ref{fig:ch-01-review-and-launch.png}, #4)."
   ]
  },
  {
   "cell_type": "markdown",
   "metadata": {},
   "source": [
    "<include type=\"image\" url=\"ch-01-review-and-launch.png\"> \n",
    "\n",
    "###### Review and launch the new instance\n",
    "\n",
    "![](../img/ch-01-review-and-launch.png)\n",
    "\n",
    "</include>"
   ]
  },
  {
   "cell_type": "markdown",
   "metadata": {},
   "source": [
    "#### Add an SSH Key"
   ]
  },
  {
   "cell_type": "markdown",
   "metadata": {},
   "source": [
    "In a final confirmation step, you will see a modal titled “Select an existing key pair or create a new key pair.” Select the key pair you previously created. Check the box acknowledging access to that key pair and launch the instance (Figure \\ref{fig:ch-01-add-key-pair.png})."
   ]
  },
  {
   "cell_type": "markdown",
   "metadata": {},
   "source": [
    "<include type=\"image\" url=\"ch-01-add-key-pair.png\"> \n",
    "\n",
    "###### Add a key pair to the instance\n",
    "\n",
    "![](../img/ch-01-add-key-pair.png)\n",
    "\n",
    "</include>"
   ]
  },
  {
   "cell_type": "markdown",
   "metadata": {},
   "source": [
    "$\\square$ **Note:** If this step is not done correctly, that is, if the correct key pair is not added to the launching instance, the instance will need to be terminated and a new instance will need to be launched. There is now way to add a key pair to a running instance."
   ]
  },
  {
   "cell_type": "markdown",
   "metadata": {},
   "source": [
    "You should see a notification that the instance is now running. Click the View Instances tab in the lower right corner to be taken to the EC2 Dashboard Instances pane, where you should see your new instance running."
   ]
  },
  {
   "cell_type": "markdown",
   "metadata": {},
   "source": [
    "#### Examing the Newly Launched Instance"
   ]
  },
  {
   "cell_type": "markdown",
   "metadata": {},
   "source": [
    "Make note of the IP address of the new instance (Figure \\ref{fig:ch-01-new-ip.png})."
   ]
  },
  {
   "cell_type": "markdown",
   "metadata": {},
   "source": [
    "<include type=\"image\" url=\"ch-01-new-ip.png\"> \n",
    "\n",
    "###### Note the IP address of the new instance\n",
    "\n",
    "![](../img/ch-01-new-ip.png)\n",
    "\n",
    "</include>"
   ]
  },
  {
   "cell_type": "markdown",
   "metadata": {},
   "source": [
    "### Git and Github"
   ]
  },
  {
   "cell_type": "markdown",
   "metadata": {},
   "source": [
    "As you work through this text, you will be developing a series of data science projects. Tracking software development work is typically done using version control software. One of the most popular version control tools is `git`. Additonally, it can be useful to use a version control hosting service as a remote backup for work being tracked using `git`. The remote service we will use is Github.com. In my experience, learners who are new to version control often confuse `git` and Github, so it bares repeating -- we will use `git` to track changes we make to our code and Github as a remote backup for these changes."
   ]
  },
  {
   "cell_type": "markdown",
   "metadata": {},
   "source": [
    "#### Configuring Github"
   ]
  },
  {
   "cell_type": "markdown",
   "metadata": {},
   "source": [
    "We will assume that you have a Github account. Once this has been done, you will need to configue an SSH connection between AWS and Github. This next part may potentially create a confusion. We are actually going to need a new SSH Keypair, this one associated with our AWS instance. This is because it is our AWS instance that will be connecting to Github, not our local machine (Figure See \\ref{fig:ch-01-ssh-local-remote.png})."
   ]
  },
  {
   "cell_type": "markdown",
   "metadata": {},
   "source": [
    "<include type=\"image\" url=\"ch-01-ssh-local-remote.png\"> \n",
    "\n",
    "###### SSH Connections\n",
    "\n",
    "![](../img/ch-01-ssh-local-remote.png)\n",
    "\n",
    "</include>"
   ]
  },
  {
   "cell_type": "markdown",
   "metadata": {},
   "source": [
    "#### Create a New Key Pair"
   ]
  },
  {
   "cell_type": "markdown",
   "metadata": {},
   "source": [
    "In Listing \\ref{lst:create-new-ssh-key-remote}, you create a new key pair on your remote AWS instance. In Listing \\ref{lst:ssh-into-new-instance}, you connect to your new AWS instance. To do this we will use the IP address we made note of in Figure \\ref{fig:ch-01-new-ip.png}. We use SSH to connect to our remote AWS instance. Note that we use the username, `ubuntu`, the default username for the Ubuntu 16 AMI provided by AWS."
   ]
  },
  {
   "cell_type": "markdown",
   "metadata": {},
   "source": [
    "<include type=\"listing\" label=\"ssh-into-new-instance\">\n",
    "    \n",
    "###### SSH into New Instance\n",
    "\n",
    "```\n",
    "$ ssh ubuntu@54.244.109.176\n",
    "Welcome to Ubuntu 16.04.2 LTS (GNU/Linux 4.4.0-64-generic x86_64)\n",
    "```\n",
    "\n",
    "</include>"
   ]
  },
  {
   "cell_type": "markdown",
   "metadata": {},
   "source": [
    "$\\square$ **Note:** The first time you access your EC2 instance, you should see the following message: `The authenticity of host '54.244.109.176 (54.244.109.176)' can't be established ... Are you sure you want to continue connecting (yes/no)? This is expected. You should hit <ENTER> to accept or type yes and hit <ENTER>.`"
   ]
  },
  {
   "cell_type": "markdown",
   "metadata": {},
   "source": [
    "In Listing \\ref{lst:create-new-ssh-key-remote}, you create a new SSH Keypair on our remote AWS instance. Again, during the creation of the SSH Keypair, you will be prompted three times. The first asks where you should save the SSH Keypair, defaulting to the `.ssh/id_rsa` in our home directory. In Listing \\ref{lst:create-new-ssh-key-remote}, you see that this is being done at `/home/ubuntu/.ssh/id_rsa`\\footnote{This should be the same for everyone now, as you should be working on an AWS \\texttt{t2.micro} running an Ubuntu system where the user's name is \\texttt{ubuntu}}. The second and third prompts will ask for a passphrase to be added to the key. For our purposes, leaving this passphrase empty will be fine. In other words, the default options are preferable and you may simply hit `<ENTER>` three times."
   ]
  },
  {
   "cell_type": "markdown",
   "metadata": {},
   "source": [
    "<include type=\"listing\" label=\"create-new-ssh-key-remote\">\n",
    "    \n",
    "###### Create a new SSH Keypair\n",
    "\n",
    "```\n",
    "$ ssh-keygen\n",
    "Generating public/private rsa key pair.\n",
    "Enter file in which to save the key (/home/ubuntu/.ssh/id_rsa):\n",
    "Created directory '/home/ubuntu/.ssh'.\n",
    "Enter passphrase (empty for no passphrase):\n",
    "Enter same passphrase again:\n",
    "Your identification has been saved in /home/ubuntu/.ssh/id_rsa.\n",
    "Your public key has been saved in /home/ubuntu/.ssh/id_rsa.pub.\n",
    "The key fingerprint is:\n",
    "SHA256:ZSpFpgSRgRqlQom8yVBG2dZo1tgkPQdrmUGgMXGDtRY\n",
    "ubuntu@ip-172-31-43-19\n",
    "The key's randomart image is:\n",
    "+---[RSA 2048]----+\n",
    "|o=XBE/*.o        |\n",
    "|==+=O**O.        |\n",
    "|=o++o *o. o      |\n",
    "|o+ . . . +       |\n",
    "|      . S        |\n",
    "|       .         |\n",
    "|                 |\n",
    "|                 |\n",
    "|                 |\n",
    "+----[SHA256]-----+\n",
    "```\n",
    "\n",
    "</include>"
   ]
  },
  {
   "cell_type": "markdown",
   "metadata": {},
   "source": [
    "As before, you can verify the SSH Keypair you just created by displaying the Public Key in your shell (Listing \\ref{lst:cat-pub-key-remote}). Again, you use the `cat` command, which concatenates the contents of `id_rsa.pub` to the shell output."
   ]
  },
  {
   "cell_type": "markdown",
   "metadata": {},
   "source": [
    "<include type=\"listing\" label=\"cat-pub-key-remote\">\n",
    "    \n",
    "###### Display Public SSH Key\n",
    "\n",
    "```\n",
    "$ cat ~/.ssh/id_rsa.pub\n",
    "ssh-rsa\n",
    "AAAAB3NzaC1yc2EAAAADAQABAAABAQDQ896GUMgCMAIW79gwF3ojRjcUYCKUKc8b+q\n",
    "iQlah2jtr7s0K4WRGjktOy3lCCHO+1UK/GrzY1Y4VxCKoKJDH3G9N5UzyGhlxa/2Ah\n",
    "kKxzHht1knyh/mkVGqYUhuHpXfxUQAstCFrIdp3G0MDPiko2qeJcBF7JSv1lLMbIuM\n",
    "XuVU/Mzq6BU+tEogScYytmLckyEe1j8RJ+e5nBURwmkgj3UAN1DzmU/lVwLlltEpmC\n",
    "DlOel4yEXAw8yBwM3GwjahfiBThvBHpsc43HxWrkM8Yi/kdDnvsDZYxU4zhXZPsPab\n",
    "UY/LfxEod9c6Sui5W8GtAfdi6krnqbzxrKt81Mradh ubuntu@ip-172-31-43-19\n",
    "```\n",
    "\n",
    "</include>"
   ]
  },
  {
   "cell_type": "markdown",
   "metadata": {},
   "source": [
    "#### Add the Public Key to Github"
   ]
  },
  {
   "cell_type": "markdown",
   "metadata": {},
   "source": [
    "Previously, you added your local SSH public key to your AWS account. Now, you will add your AWS SSH public key to your Github account\\footnote{https://help.github.com/articles/adding-a-new-ssh-key-to-your-github-account/}. First, access the **Settings** for your account by clicking the profile photo in the upper-right corner of any page on Github. Next, in the user settings sidebar, select **SSH and GPG keys**. On the SSH and GPG Keys page, click **New SSH key**. On the next page, give your key a descriptive title e.g. \"AWS Feb 2018\" and then paste your AWS public key in to the \"Key\" field . Finally, click **Add SSH key** and confirm your Github password , if prompted."
   ]
  },
  {
   "cell_type": "markdown",
   "metadata": {},
   "source": [
    "### Learning to read the Bash Prompt"
   ]
  },
  {
   "cell_type": "markdown",
   "metadata": {},
   "source": [
    "During your work you will no doubt notice that an idle SSH connection may become disconnected and/or unresponsive. Should this happen, simply close the terminal session, launch a new one, and reconnect to the remote instance."
   ]
  },
  {
   "cell_type": "markdown",
   "metadata": {},
   "source": [
    "The most important thing is that you are aware of which system your current shell session is connected to. Shell prompts are designed to relay this information to you immediately. If you are new to working with Bash, you may need to train yourself to being aware of the prompt when typing. Listing \\ref{lst:default-AWS-prompt} shows the default AWS Bash prompt. The information contained is the username, `ubuntu`, and the private IP address of the AWS instance. **This is not the public address you use to connect**. What is useful about this, is that we can immediately see that the user is `ubuntu`. This tells us we are connected to AWS."
   ]
  },
  {
   "cell_type": "markdown",
   "metadata": {},
   "source": [
    "<include type=\"listing\" label=\"default-AWS-prompt\">\n",
    "    \n",
    "###### The default AWS Bash prompt\n",
    "```\n",
    "ubuntu@ip-172-31-21-89:~$\n",
    "```\n",
    "\n",
    "</include>"
   ]
  },
  {
   "cell_type": "markdown",
   "metadata": {},
   "source": [
    "Your local system will no doubt display something different (See Listing \\ref{lst:other-prompt}). Again, the important thing is to take note of what is displayed by the prompt and to learn to associate that prompt with the correct system. As you become a more advanced Bash user, you may wish to personalize your prompt, but for now it is imperative that you learn to read the prompt in order to always know to which system you are connected."
   ]
  },
  {
   "cell_type": "markdown",
   "metadata": {},
   "source": [
    "<include type=\"listing\" label=\"other-prompt\">\n",
    "    \n",
    "###### A local Bash prompt\n",
    "```\n",
    "joshuas-macbook-pro:~$\n",
    "```\n",
    "</include>"
   ]
  },
  {
   "cell_type": "markdown",
   "metadata": {},
   "source": [
    "### Test your SSH Connection to Github"
   ]
  },
  {
   "cell_type": "markdown",
   "metadata": {},
   "source": [
    "Having added you AWS Public Key to your Github account, you should verify your SSH connection from your AWS instance. In Listing \\ref{lst:verify-github-ssh}, we attempt to connect to Github via SSH. As before, we receive a message about the authenticity of the connection. Again, type `yes`, and continue. If successful, you will see a message telling you have successfully authenticated but that Github does not provide shell access."
   ]
  },
  {
   "cell_type": "markdown",
   "metadata": {},
   "source": [
    "<include type=\"listing\" label=\"verify-github-ssh\">\n",
    "    \n",
    "###### Verify Github SSH Key\n",
    "```\n",
    "ubuntu@ip-172-31-21-89:~$ ssh -T git@github.com\n",
    "The authenticity of host 'github.com (IP ADDRESS)' can't be\n",
    "established.\n",
    "RSA key fingerprint is\n",
    "16:27:ac:a5:76:28:2d:36:63:1b:56:4d:eb:df:a6:48.\n",
    "Are you sure you want to continue connecting (yes/no)? yes\n",
    "Hi username! You've successfully authenticated, but GitHub does\n",
    "not provide shell access.\n",
    "```\n",
    "\n",
    "</include>"
   ]
  },
  {
   "cell_type": "markdown",
   "metadata": {},
   "source": [
    "### Docker"
   ]
  },
  {
   "cell_type": "markdown",
   "metadata": {},
   "source": [
    "Having configured our SSH connections and provisioned a new AWS EC2 instance, it is time to get to the business of building your data science platform. To do this you will use the containerization platform Docker and its Docker Compose tool. While Docker is very easy to use, it can be difficult to understand for the uninitiated. In an earlier work, *Docker for Data Science*<sup>dockerfordatascience</sup>, I wrote:\n",
    "\n",
    "dockerfordatascience: https://www.apress.com/us/book/9781484230114"
   ]
  },
  {
   "cell_type": "markdown",
   "metadata": {},
   "source": [
    "> [Using Docker] we add a layer of complexity to our software, but in doing so gain the advantage of ensuring that our local development environment will be identical to any possible environment into which we would deploy the application."
   ]
  },
  {
   "cell_type": "markdown",
   "metadata": {},
   "source": [
    "It may be simpler, however, to simply think about using Docker as a way to manage a running process. Your system will be running two processes: an IPython shell and a PostgreSQL server. Were you to not use Docker, you would need to ensure that the AWS instance had all of the libraries required to run both of those processes (and keep those libraries up to date)."
   ]
  },
  {
   "cell_type": "markdown",
   "metadata": {},
   "source": [
    "Instead, you will let Docker manage the processes using a container for each process. Each respective container will be run using a predefined image built using best practices and ready to run their respective process. The exchange is this: you will take on the congitive burden of *understanding* what Docker is doing and Docker (and the Docker community) will take over the burden of making sure that your processes run."
   ]
  },
  {
   "cell_type": "markdown",
   "metadata": {},
   "source": [
    "#### Docker Compose"
   ]
  },
  {
   "cell_type": "markdown",
   "metadata": {},
   "source": [
    "Docker Compose is a tool built for managing an application consisting of multiple containers. Using Docker Compose, it is possible to completely define an application using a simple text file. To make this conversation less abstract, let's have a look at the `docker-compose.yml` file you will use to define your first application (See Listing \\ref{lst:docker-compose})."
   ]
  },
  {
   "cell_type": "markdown",
   "metadata": {},
   "source": [
    "<include type=\"listing\" label=\"docker-compose\">\n",
    "    \n",
    "###### Your Data Science Application\n",
    "\n",
    "```\n",
    "version: \"3\"\n",
    "services:\n",
    "  ipython_shell:\n",
    "    image: jupyter/scipy-notebook\n",
    "  database:\n",
    "    image: postgres\n",
    "    volumes:\n",
    "      - postgres_data:/var/lib/postgresql/data\n",
    "volumes:\n",
    "  postgres_data\n",
    "```\n",
    "    \n",
    "</include>"
   ]
  },
  {
   "cell_type": "markdown",
   "metadata": {},
   "source": [
    "That's it. This simple file completely defines a fully-functioning Data Science Application. In it, we define the two services we need: `ipython_shell` and `database`. These two services are defined using the `jupyter/scipy-notebook` and `postgres` images. When we launch the application, the images will be pulled from Docker Hub into our local memory and then launched. The one other thing we do is create a data volume `postgres_data`. We will use this as the data volume for our database server so that if for some reason we have to shut our system down, we do not lose our data. The data will exist on this volume independent of the services."
   ]
  },
  {
   "cell_type": "markdown",
   "metadata": {},
   "source": [
    "$\\square$ **Note:** Throughout this text, when discussing infrastructure, I may casually refer to containers, services, and processes. At the risk of annoying your local site reliability engineer, you may treat these as terms as synonomous. Care should be taken, however, not to confuse services/containers/processes and images. An image defines a service, but a service should be thought of as a living and active thing. You may loosely compare the service-image relationship to the object-class relationship in Object-Oriented Programming. A service is a running container defined by an image, just like an object is an instance of a class that exists in memory."
   ]
  },
  {
   "cell_type": "markdown",
   "metadata": {},
   "source": [
    "#### Installing and Configuring Docker"
   ]
  },
  {
   "cell_type": "markdown",
   "metadata": {},
   "source": [
    "Installing Docker on your AWS instance is a downright trivial process. It consists of running an install script that can be obtained from Docker and then adding your user to the Docker group. In Listing \\ref{lst:install-docker}, we run these two commands. First, we download the install script from https://get.docker.com, then immediately pipe the script into the shell (`| sh`)."
   ]
  },
  {
   "cell_type": "markdown",
   "metadata": {},
   "source": [
    "$\\square$ **Note:** It is generally considered to be a significant security vulnerability to execute arbitrary code obtained from an unknown, or untrusted source. For our purposes, the source (https://get.docker/com) is considered trustworthy, we are using SSL to perform the curl, and in practice this is the method I use to install Docker. Still, it may make the security minded more comfortable to `curl` the script, inspect, and then run it."
   ]
  },
  {
   "cell_type": "markdown",
   "metadata": {},
   "source": [
    "<include type=\"listing\" label=\"install-docker\">\n",
    "    \n",
    "###### Install Docker via a Shell Script\n",
    "\n",
    "```\n",
    "$ curl -sSL https://get.docker.com/ | sh\n",
    "# Executing docker install script, commit: 1d31602\n",
    "+ sudo -E sh -c apt-get update -qq >/dev/null\n",
    "...\n",
    "\n",
    "Client:\n",
    " Version:   18.02.0-ce\n",
    " API version:   1.36\n",
    " Go version:    go1.9.3\n",
    " Git commit:    fc4de44\n",
    " Built: Wed Feb  7 21:16:33 2018\n",
    " OS/Arch:   linux/amd64\n",
    " Experimental:  false\n",
    " Orchestrator:  swarm\n",
    "\n",
    "Server:\n",
    " Engine:\n",
    "  Version:  18.02.0-ce\n",
    "  API version:  1.36 (minimum version 1.12)\n",
    "  Go version:   go1.9.3\n",
    "  Git commit:   fc4de44\n",
    "  Built:    Wed Feb  7 21:15:05 2018\n",
    "  OS/Arch:  linux/amd64\n",
    "  Experimental: false\n",
    "\n",
    "...\n",
    "\n",
    "```\n",
    "\n",
    "</include>"
   ]
  },
  {
   "cell_type": "markdown",
   "metadata": {},
   "source": [
    "When the script completes there is one last thing to be done. In Listing \\ref{lst:add-to-docker-group}, you add the `ubuntu` user to the `docker` group. By default, the command line docker client will require sudo access in order to issue commands to the docker daemon. You can add the `ubuntu` user to the `docker` group in order to allow the `ubuntu` user to issue commands to docker without sudo."
   ]
  },
  {
   "cell_type": "markdown",
   "metadata": {},
   "source": [
    "<include type=\"listing\" label=\"add-to-docker-group\">\n",
    "    \n",
    "###### Add the Ubuntu User to the Docker Group\n",
    "\n",
    "```\n",
    "$ sudo usermod -aG docker ubuntu\n",
    "```\n",
    "\n",
    "</include>"
   ]
  },
  {
   "cell_type": "markdown",
   "metadata": {},
   "source": [
    "Finally, in order to force the changes to take effect, you should disconnect and reconnect to their remote system. You can achieve this by typing `exit` or `ctrl-d` and then reconnecting via ssh to your EC2 instance."
   ]
  },
  {
   "cell_type": "markdown",
   "metadata": {},
   "source": [
    "#### Installing and Configuring Docker"
   ]
  },
  {
   "cell_type": "markdown",
   "metadata": {},
   "source": [
    "Recall that regardless of your local operating system, you are working on an AWS EC2 Instance running the Linux variant, Ubuntu. As such, `docker-compose`can be installed using the instructions provided here: https://github.com/docker/compose/releases, which are written specifically for Linux machines. As of the writing of this book, this consists of two steps."
   ]
  },
  {
   "cell_type": "markdown",
   "metadata": {},
   "source": [
    "In Listing \\ref{lst:curl-docker-compose}, you use `curl` to retrieve the `docker-compose` binary from Github. As of the writing of this book. the latest version of `docker-compose` was `1.19.0`. You should retrieve the latest version from the above url."
   ]
  },
  {
   "cell_type": "markdown",
   "metadata": {},
   "source": [
    "<include type=\"listing\" label=\"curl-docker-compose\">\n",
    "    \n",
    "###### Retrieve `docker-compose` binary from Github\n",
    "\n",
    "```\n",
    "$ sudo curl -L https://github.com/docker/compose/releases/download/1.19.0/docker-compose-`uname -s`-`uname -m` -o /usr/local/bin/docker-compose\n",
    "```\n",
    "</include>"
   ]
  },
  {
   "cell_type": "markdown",
   "metadata": {},
   "source": [
    "In Listing \\ref{lst:chmod-docker-compose}, we use the `chmod`<sup>chmod</sup> utility to allow `docker-compose` to be executed (`+x`).\n",
    "\n",
    "chmod: The unix \"change mode\" utility. I pronounce it \"shmod\"."
   ]
  },
  {
   "cell_type": "markdown",
   "metadata": {},
   "source": [
    "<include type=\"listing\" label=\"chmod-docker-compose\">\n",
    "    \n",
    "###### Enable Docker Compose to be Executed\n",
    "\n",
    "```\n",
    "$ sudo chmod +x /usr/local/bin/docker-compose\n",
    "```\n",
    "\n",
    "</include>"
   ]
  },
  {
   "cell_type": "markdown",
   "metadata": {},
   "source": [
    "Finally, in Listing \\ref{lst:docker-compose-version}, we check the version of `docker-compose` against what we expect to have installed."
   ]
  },
  {
   "cell_type": "markdown",
   "metadata": {},
   "source": [
    "<include type=\"listing\" label=\"docker-compose-version\">\n",
    "\n",
    "###### Check Docker-Compose Version\n",
    "\n",
    "```\n",
    "$ docker-compose -v\n",
    "docker-compose version 1.19.0, build 9e633ef\n",
    "```"
   ]
  }
 ],
 "metadata": {
  "kernelspec": {
   "display_name": "Python 3",
   "language": "python",
   "name": "python3"
  },
  "language_info": {
   "codemirror_mode": {
    "name": "ipython",
    "version": 3
   },
   "file_extension": ".py",
   "mimetype": "text/x-python",
   "name": "python",
   "nbconvert_exporter": "python",
   "pygments_lexer": "ipython3",
   "version": "3.6.6"
  }
 },
 "nbformat": 4,
 "nbformat_minor": 2
}
