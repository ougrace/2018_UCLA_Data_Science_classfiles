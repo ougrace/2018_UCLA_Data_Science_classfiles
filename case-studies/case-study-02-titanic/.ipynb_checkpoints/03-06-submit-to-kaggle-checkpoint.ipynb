{
 "cells": [
  {
   "cell_type": "code",
   "execution_count": 1,
   "metadata": {},
   "outputs": [],
   "source": [
    "source('init.r')"
   ]
  },
  {
   "cell_type": "markdown",
   "metadata": {},
   "source": [
    "## Submitting to Kaggle\n",
    "\n",
    "Predicting passenger survival during the sinking of the Titanic based upon passenger demographics is currently a prediction competition on the popular Predictive modeling competition website, Kaggle.com. Details for the competition are available here: https://www.kaggle.com/c/titanic\n",
    "\n",
    "Having done our best to generate a predictive model using the input data, we are in a good position to submit predictions to this comptetion."
   ]
  },
  {
   "cell_type": "markdown",
   "metadata": {},
   "source": [
    "#### Progress Report"
   ]
  },
  {
   "cell_type": "code",
   "execution_count": 2,
   "metadata": {},
   "outputs": [
    {
     "data": {
      "image/png": "[encoded data removed]",
      "text/plain": [
       "plot without title"
      ]
     },
     "metadata": {},
     "output_type": "display_data"
    }
   ],
   "source": [
    "scores = c(accuracy(titanic$Survived, no_survivors),\n",
    "           accuracy(titanic$Survived, random_model),\n",
    "           accuracy(titanic$Survived, women_survived),\n",
    "           accuracy(titanic$Survived, women_and_first_class_survived),\n",
    "           accuracy(titanic$Survived, women_and_children_survived))\n",
    "\n",
    "barplot(scores, xlab = 'model', \n",
    "        names.arg = c('none','rand','women', 'women+1stclass', 'women+children'))\n",
    "abline(h = max(scores))"
   ]
  },
  {
   "cell_type": "markdown",
   "metadata": {},
   "source": [
    "Our top performing model was built in the following way:\n",
    "\n",
    "1. We loaded the training data.\n",
    "\n",
    "   ```\n",
    "   titanic <- read.csv('titanic.csv')\n",
    "   ```\n",
    "\n",
    "1. We counted the number of passengers in our data set.\n",
    "\n",
    "   ```\n",
    "   number_of_passengers = length(titanic$Survived)\n",
    "   ```\n",
    "\n",
    "1. We used this to generate a prediction vector consisting entirely of zeros.\n",
    "\n",
    "    ```\n",
    "    no_survivors <- rep(0, number_of_passengers)\n",
    "    ```\n",
    "    \n",
    "1. We used masking to replace the prediction for female passengers with a value of 1.\n",
    "\n",
    "    ```\n",
    "    women_mask = titanic$Sex == 'female'\n",
    "    women_survived = rep(no_survivors)\n",
    "    women_survived[women_mask] = 1\n",
    "    ```\n",
    "\n",
    "1. We used masking to replace the prediction for children (passengers with an `age` less than 7)  with a value of 1.\n",
    "\n",
    "    ```\n",
    "    children_mask = titanic$Age < 7\n",
    "    women_and_children_survived = rep(women_survived)\n",
    "    women_and_children_survived[children_mask] = 1\n",
    "    ```"
   ]
  },
  {
   "cell_type": "markdown",
   "metadata": {},
   "source": [
    "We can use this exact model to submit our predictions to the competition."
   ]
  },
  {
   "cell_type": "markdown",
   "metadata": {},
   "source": [
    "### Obtain the Data\n",
    "\n",
    "First, we should obtain and load the data directly from the competition website. This can be done on the \"Data\" tab (#1). Download the data to be used for prediction using the \"Download\" button (#2).\n",
    "\n",
    "<img src=\"https://www.evernote.com/l/AAGMJUC9ZkRK1oFhQ9QrHRESJvFzoIjPcqUB/image.png\" width=700px>"
   ]
  },
  {
   "cell_type": "markdown",
   "metadata": {},
   "source": [
    "#### Sample Submission\n",
    "\n",
    "The Data page contains a sample submission caled `gender_submission.csv`. We can look at this file to see what our submission should look like in terms of format."
   ]
  },
  {
   "cell_type": "markdown",
   "metadata": {},
   "source": [
    "    PassengerId,Survived\n",
    "    892,0\n",
    "    893,1\n",
    "    894,0\n",
    "    895,0\n",
    "    896,1\n",
    "    897,0\n",
    "    898,1\n",
    "    899,0\n",
    "    900,1"
   ]
  },
  {
   "cell_type": "markdown",
   "metadata": {},
   "source": [
    "We note that the sample submission is simply a two-column .csv file with a header row. The header row contains the column names `PassengerId` and `Survived`."
   ]
  },
  {
   "cell_type": "markdown",
   "metadata": {},
   "source": [
    "### Prepare Test Data Predictions\n",
    "\n",
    "We can prepare our vector of test predictions using the same method outlined above, this time using the **test data**. Note that we will need to use `PassengerId` to count the number of passengers, `Survived` is not included in this dataset."
   ]
  },
  {
   "cell_type": "code",
   "execution_count": 3,
   "metadata": {},
   "outputs": [],
   "source": [
    "titanic = read.csv('test.csv')\n",
    "number_of_passengers = length(titanic$PassengerId)\n",
    "no_survivors = rep(0, number_of_passengers)\n",
    "women_mask = titanic$Sex == 'female'\n",
    "women_survived = rep(no_survivors)\n",
    "women_survived[women_mask] = 1\n",
    "children_mask = titanic$Age < 7\n",
    "women_and_children_survived = rep(women_survived)\n",
    "women_and_children_survived[children_mask] = 1"
   ]
  },
  {
   "cell_type": "markdown",
   "metadata": {},
   "source": [
    "### Prepare and Submit Submission CSV file"
   ]
  },
  {
   "cell_type": "code",
   "execution_count": 4,
   "metadata": {},
   "outputs": [],
   "source": [
    "titanic$Survived = women_and_children_survived"
   ]
  },
  {
   "cell_type": "code",
   "execution_count": 5,
   "metadata": {},
   "outputs": [],
   "source": [
    "submission = titanic[,c('PassengerId', 'Survived')]"
   ]
  },
  {
   "cell_type": "code",
   "execution_count": 6,
   "metadata": {},
   "outputs": [
    {
     "data": {
      "text/html": [
       "<table>\n",
       "<thead><tr><th scope=col>PassengerId</th><th scope=col>Survived</th></tr></thead>\n",
       "<tbody>\n",
       "\t<tr><td>892</td><td>0  </td></tr>\n",
       "\t<tr><td>893</td><td>1  </td></tr>\n",
       "\t<tr><td>894</td><td>0  </td></tr>\n",
       "\t<tr><td>895</td><td>0  </td></tr>\n",
       "\t<tr><td>896</td><td>1  </td></tr>\n",
       "\t<tr><td>897</td><td>0  </td></tr>\n",
       "</tbody>\n",
       "</table>\n"
      ],
      "text/latex": [
       "\\begin{tabular}{r|ll}\n",
       " PassengerId & Survived\\\\\n",
       "\\hline\n",
       "\t 892 & 0  \\\\\n",
       "\t 893 & 1  \\\\\n",
       "\t 894 & 0  \\\\\n",
       "\t 895 & 0  \\\\\n",
       "\t 896 & 1  \\\\\n",
       "\t 897 & 0  \\\\\n",
       "\\end{tabular}\n"
      ],
      "text/markdown": [
       "\n",
       "PassengerId | Survived | \n",
       "|---|---|---|---|---|---|\n",
       "| 892 | 0   | \n",
       "| 893 | 1   | \n",
       "| 894 | 0   | \n",
       "| 895 | 0   | \n",
       "| 896 | 1   | \n",
       "| 897 | 0   | \n",
       "\n",
       "\n"
      ],
      "text/plain": [
       "  PassengerId Survived\n",
       "1 892         0       \n",
       "2 893         1       \n",
       "3 894         0       \n",
       "4 895         0       \n",
       "5 896         1       \n",
       "6 897         0       "
      ]
     },
     "metadata": {},
     "output_type": "display_data"
    }
   ],
   "source": [
    "head(submission)"
   ]
  },
  {
   "cell_type": "code",
   "execution_count": 7,
   "metadata": {},
   "outputs": [],
   "source": [
    "write.csv(submission, 'submission.csv', row.names=FALSE)"
   ]
  }
 ],
 "metadata": {
  "kernelspec": {
   "display_name": "R",
   "language": "R",
   "name": "ir"
  },
  "language_info": {
   "codemirror_mode": "r",
   "file_extension": ".r",
   "mimetype": "text/x-r-source",
   "name": "R",
   "pygments_lexer": "r",
   "version": "3.4.1"
  }
 },
 "nbformat": 4,
 "nbformat_minor": 2
}
