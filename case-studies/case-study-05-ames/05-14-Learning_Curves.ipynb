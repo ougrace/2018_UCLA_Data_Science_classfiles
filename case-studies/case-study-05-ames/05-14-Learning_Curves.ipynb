{
 "cells": [
  {
   "cell_type": "code",
   "execution_count": 1,
   "metadata": {},
   "outputs": [],
   "source": [
    "run src/preprocessing.py"
   ]
  },
  {
   "cell_type": "code",
   "execution_count": 2,
   "metadata": {},
   "outputs": [],
   "source": [
    "import matplotlib.pyplot as plt\n",
    "import numpy as np\n",
    "import seaborn as sns"
   ]
  },
  {
   "cell_type": "code",
   "execution_count": 4,
   "metadata": {},
   "outputs": [
    {
     "data": {
      "text/plain": [
       "((1444, 382), (1444, 390), (1444, 382), (1444, 390))"
      ]
     },
     "execution_count": 4,
     "metadata": {},
     "output_type": "execute_result"
    }
   ],
   "source": [
    "dataset_1.shape, dataset_2.shape, dataset_3.shape, dataset_4.shape"
   ]
  },
  {
   "cell_type": "markdown",
   "metadata": {},
   "source": [
    "#### Complete Feature Sets\n",
    "\n",
    "We are starting to do some fairly complicated feature engineering. It makes sense that we should spend some time thinking about the different data sets we are creating so that we can keep track of what we have.\n",
    "\n",
    "##### Dataset 1 - Standard Scaled Data Set\n",
    "\n",
    "One data set is the standard scaled data set. For this data set, there is no need to separate the encoded categorical features. These two dataframes comprise a complete data set\n",
    "\n",
    "- Log Transformed, Standard Scaled Numerical Features (`numeric_log_std_sc_out_rem_df`)\n",
    "- Complete One-hot Encoded Categorical Features (`categorical_encoded_df`)\n",
    "\n",
    "##### Dataset 2 - Standard Scaled, PCA Augmented Data Set\n",
    "\n",
    "One data set is the standard scaled data set, augmented with transformed data from a PCA Run on the numeric features. We know that there is significant redundancy in this data set. These three dataframes comprise a complete data set\n",
    "\n",
    "- Log Transformed, Standard Scaled Numerical Features (`numeric_log_std_sc_out_rem_df`)\n",
    "- Complete One-hot Encoded Categorical Features (`categorical_encoded_df`)\n",
    "- PCA-transformed Numeric Data (`numeric_log_std_sc_out_rem_pca_df`)\n",
    "\n",
    "##### Dataset 3 - Gelman Scaled Data Set\n",
    "\n",
    "Another data set is the Gelman scaled data set. For this data set, we have separated the encoded categorical features based on a threshold for variance. These three dataframes comprise a complete data set\n",
    "\n",
    "- Log Transformed, Gelman Scaled Numerical Features (`numeric_log_gel_sc_df`)\n",
    "- One-hot Encoded Categorical Features with Significant Variance, Centered (`categorical_encoded_features_significant_variance_centered`)\n",
    "- One-hot Encoded Categorical Features with Insignificant Variance (`categorical_encoded_features_insignificant_variance`)\n",
    "\n",
    "##### Dataset 4 - Gelman Scaled, PCA Augmented  Data Set\n",
    "\n",
    "Our final data set is the Gelman scaled data set, augmented with transformed data from a PCA Run on the numeric features and categorical features with significant variance. This Data sets also has significant redundancy. For this data set, we have separated the encoded categorical features based on a threshold for variance. These three dataframes comprise a complete data set\n",
    "\n",
    "- Log Transformed, Gelman Scaled Numerical Features (`numeric_log_gel_sc_df`)\n",
    "- One-hot Encoded Categorical Features with Significant Variance, Centered (`categorical_encoded_features_significant_variance_centered`)\n",
    "- One-hot Encoded Categorical Features with Insignificant Variance (`categorical_encoded_features_insignificant_variance`)\n",
    "- PCA-transformed Numeric and Significant Categorical (`numeric_gelman_categorical_significant_pca`)\n",
    "\n",
    "\n",
    "\n"
   ]
  },
  {
   "cell_type": "code",
   "execution_count": 5,
   "metadata": {},
   "outputs": [],
   "source": [
    "from sklearn.metrics import r2_score, mean_squared_error, mean_absolute_error"
   ]
  },
  {
   "cell_type": "code",
   "execution_count": 6,
   "metadata": {},
   "outputs": [],
   "source": [
    "mean_sale_price = target_1.mean()\n",
    "naive_guess = np.ones(len(target_1))*mean_sale_price"
   ]
  },
  {
   "cell_type": "code",
   "execution_count": 7,
   "metadata": {},
   "outputs": [
    {
     "data": {
      "text/plain": [
       "array([180922.1066482, 180922.1066482, 180922.1066482, 180922.1066482,\n",
       "       180922.1066482])"
      ]
     },
     "execution_count": 7,
     "metadata": {},
     "output_type": "execute_result"
    }
   ],
   "source": [
    "naive_guess[:5]"
   ]
  },
  {
   "cell_type": "code",
   "execution_count": 8,
   "metadata": {},
   "outputs": [],
   "source": [
    "naive_r2 = r2_score(target_1, naive_guess)\n",
    "naive_rmse = np.sqrt(mean_squared_error(target_1, naive_guess))\n",
    "naive_mae = mean_absolute_error(target_1, naive_guess)"
   ]
  },
  {
   "cell_type": "code",
   "execution_count": 9,
   "metadata": {},
   "outputs": [
    {
     "data": {
      "text/plain": [
       "(0.0, 79216.76694980003, 57374.611279072444)"
      ]
     },
     "execution_count": 9,
     "metadata": {},
     "output_type": "execute_result"
    }
   ],
   "source": [
    "naive_r2, naive_rmse, naive_mae"
   ]
  },
  {
   "cell_type": "markdown",
   "metadata": {},
   "source": [
    "#### Fundamental Question: How much does a home in Ames, Iowa sell for?"
   ]
  },
  {
   "cell_type": "code",
   "execution_count": 14,
   "metadata": {},
   "outputs": [
    {
     "name": "stdout",
     "output_type": "stream",
     "text": [
      "\u001b[31mdistributed 1.21.8 requires msgpack, which is not installed.\u001b[0m\n",
      "\u001b[33mYou are using pip version 10.0.1, however version 18.0 is available.\n",
      "You should consider upgrading via the 'pip install --upgrade pip' command.\u001b[0m\n"
     ]
    }
   ],
   "source": [
    "!pip install tqdm --quiet"
   ]
  },
  {
   "cell_type": "code",
   "execution_count": 11,
   "metadata": {},
   "outputs": [],
   "source": [
    "from sklearn.linear_model import Ridge, Lasso\n",
    "from sklearn.model_selection import train_test_split\n",
    "from tqdm import tqdm \n",
    "from time import time"
   ]
  },
  {
   "cell_type": "code",
   "execution_count": 12,
   "metadata": {},
   "outputs": [],
   "source": [
    "import sklearn"
   ]
  },
  {
   "cell_type": "code",
   "execution_count": 13,
   "metadata": {},
   "outputs": [
    {
     "data": {
      "text/plain": [
       "'0.19.1'"
      ]
     },
     "execution_count": 13,
     "metadata": {},
     "output_type": "execute_result"
    }
   ],
   "source": [
    "sklearn.__version__"
   ]
  },
  {
   "cell_type": "code",
   "execution_count": 34,
   "metadata": {},
   "outputs": [],
   "source": [
    "def sample_training_set(X_train, y_train, n_pcnt):\n",
    "    n = X_train.shape[0]*n_pcnt//100\n",
    "    return n, X_train[:n], y_train[:n]\n",
    "\n",
    "def time_function_call(function_call):\n",
    "    start = time()\n",
    "    result = function_call\n",
    "    execution_time = time() - start\n",
    "    return result, execution_time\n",
    "\n",
    "def run_model(model, model_name, n_pcnt, data, labels):\n",
    "\n",
    "    X_train, X_test, y_train, y_test = train_test_split(data, labels, test_size=.1,\n",
    "                                                        random_state=1000)\n",
    "\n",
    "    \n",
    "    n, X_samp, y_samp = sample_training_set(X_train, y_train, n_pcnt)\n",
    "    \n",
    "    _, fit_time = time_function_call(\n",
    "        model.fit(X_samp, y_samp))\n",
    "    \n",
    "    train_pred, train_pred_time = time_function_call(\n",
    "        model.predict(X_samp))\n",
    "    \n",
    "    test_pred, test_pred_time = time_function_call(\n",
    "        model.predict(X_test))    \n",
    "    \n",
    "    return {\n",
    "            'model_name' : model_name,\n",
    "            'n_pcnt' : n_pcnt,\n",
    "            'n' : n, \n",
    "            'rmse_train' : np.sqrt(mean_squared_error(y_samp, train_pred)),\n",
    "            'rmse_test' : np.sqrt(mean_squared_error(y_test, test_pred)),\n",
    "            'mae_train' : mean_absolute_error(y_samp, train_pred),\n",
    "            'mae_test' : mean_absolute_error(y_test, test_pred),\n",
    "            'r2_train_score' : model.score(X_samp, y_samp),\n",
    "            'r2_test_score' : model.score(X_test, y_test),\n",
    "            'fit_time' : fit_time,\n",
    "            'train_pred_time' : train_pred_time,\n",
    "            'test_pred_time' : test_pred_time}"
   ]
  },
  {
   "cell_type": "code",
   "execution_count": 35,
   "metadata": {},
   "outputs": [
    {
     "data": {
      "text/plain": [
       "((1444, 390), (1444,))"
      ]
     },
     "execution_count": 35,
     "metadata": {},
     "output_type": "execute_result"
    }
   ],
   "source": [
    "dataset_2.shape, target_2.shape"
   ]
  },
  {
   "cell_type": "code",
   "execution_count": 36,
   "metadata": {},
   "outputs": [
    {
     "name": "stderr",
     "output_type": "stream",
     "text": [
      "100%|██████████| 18/18 [01:01<00:00,  3.42s/it]\n"
     ]
    }
   ],
   "source": [
    "test_results = {}\n",
    "percentages = [1,2,3,4,5,7,10,15,20,25,30,40,50,60,70,80,90,100]\n",
    "for n in tqdm(percentages):\n",
    "    test_results[n] = run_model(Lasso(max_iter=1E5), 'Lasso', n,\n",
    "                                dataset_2,\n",
    "                                target_2)\n"
   ]
  },
  {
   "cell_type": "code",
   "execution_count": 37,
   "metadata": {
    "scrolled": false
   },
   "outputs": [
    {
     "data": {
      "text/html": [
       "<div>\n",
       "<style scoped>\n",
       "    .dataframe tbody tr th:only-of-type {\n",
       "        vertical-align: middle;\n",
       "    }\n",
       "\n",
       "    .dataframe tbody tr th {\n",
       "        vertical-align: top;\n",
       "    }\n",
       "\n",
       "    .dataframe thead th {\n",
       "        text-align: right;\n",
       "    }\n",
       "</style>\n",
       "<table border=\"1\" class=\"dataframe\">\n",
       "  <thead>\n",
       "    <tr style=\"text-align: right;\">\n",
       "      <th></th>\n",
       "      <th>fit_time</th>\n",
       "      <th>mae_test</th>\n",
       "      <th>mae_train</th>\n",
       "      <th>model_name</th>\n",
       "      <th>n</th>\n",
       "      <th>n_pcnt</th>\n",
       "      <th>r2_test_score</th>\n",
       "      <th>r2_train_score</th>\n",
       "      <th>rmse_test</th>\n",
       "      <th>rmse_train</th>\n",
       "      <th>test_pred_time</th>\n",
       "      <th>train_pred_time</th>\n",
       "    </tr>\n",
       "  </thead>\n",
       "  <tbody>\n",
       "    <tr>\n",
       "      <th>1</th>\n",
       "      <td>9.53674e-07</td>\n",
       "      <td>34937.4</td>\n",
       "      <td>2.56006</td>\n",
       "      <td>Lasso</td>\n",
       "      <td>12</td>\n",
       "      <td>1</td>\n",
       "      <td>0.374484</td>\n",
       "      <td>1</td>\n",
       "      <td>60367.8</td>\n",
       "      <td>3.45762</td>\n",
       "      <td>1.19209e-06</td>\n",
       "      <td>0</td>\n",
       "    </tr>\n",
       "    <tr>\n",
       "      <th>2</th>\n",
       "      <td>0</td>\n",
       "      <td>29926</td>\n",
       "      <td>6.31328</td>\n",
       "      <td>Lasso</td>\n",
       "      <td>25</td>\n",
       "      <td>2</td>\n",
       "      <td>0.607213</td>\n",
       "      <td>1</td>\n",
       "      <td>47837.1</td>\n",
       "      <td>8.31628</td>\n",
       "      <td>0</td>\n",
       "      <td>0</td>\n",
       "    </tr>\n",
       "    <tr>\n",
       "      <th>3</th>\n",
       "      <td>0</td>\n",
       "      <td>28855.8</td>\n",
       "      <td>11.1716</td>\n",
       "      <td>Lasso</td>\n",
       "      <td>38</td>\n",
       "      <td>3</td>\n",
       "      <td>0.645409</td>\n",
       "      <td>1</td>\n",
       "      <td>45451.7</td>\n",
       "      <td>14.8581</td>\n",
       "      <td>0</td>\n",
       "      <td>9.53674e-07</td>\n",
       "    </tr>\n",
       "    <tr>\n",
       "      <th>4</th>\n",
       "      <td>0</td>\n",
       "      <td>29888.1</td>\n",
       "      <td>21.1151</td>\n",
       "      <td>Lasso</td>\n",
       "      <td>51</td>\n",
       "      <td>4</td>\n",
       "      <td>0.65257</td>\n",
       "      <td>1</td>\n",
       "      <td>44990.4</td>\n",
       "      <td>26.4874</td>\n",
       "      <td>0</td>\n",
       "      <td>0</td>\n",
       "    </tr>\n",
       "    <tr>\n",
       "      <th>5</th>\n",
       "      <td>0</td>\n",
       "      <td>29972.1</td>\n",
       "      <td>22.9609</td>\n",
       "      <td>Lasso</td>\n",
       "      <td>64</td>\n",
       "      <td>5</td>\n",
       "      <td>0.63696</td>\n",
       "      <td>1</td>\n",
       "      <td>45990</td>\n",
       "      <td>29.5583</td>\n",
       "      <td>0</td>\n",
       "      <td>0</td>\n",
       "    </tr>\n",
       "    <tr>\n",
       "      <th>7</th>\n",
       "      <td>1.19209e-06</td>\n",
       "      <td>31582.5</td>\n",
       "      <td>53.507</td>\n",
       "      <td>Lasso</td>\n",
       "      <td>90</td>\n",
       "      <td>7</td>\n",
       "      <td>0.675717</td>\n",
       "      <td>0.999999</td>\n",
       "      <td>43465.9</td>\n",
       "      <td>66.983</td>\n",
       "      <td>0</td>\n",
       "      <td>0</td>\n",
       "    </tr>\n",
       "    <tr>\n",
       "      <th>10</th>\n",
       "      <td>1.19209e-06</td>\n",
       "      <td>42466.8</td>\n",
       "      <td>105.345</td>\n",
       "      <td>Lasso</td>\n",
       "      <td>129</td>\n",
       "      <td>10</td>\n",
       "      <td>0.4439</td>\n",
       "      <td>0.999998</td>\n",
       "      <td>56919.7</td>\n",
       "      <td>129.28</td>\n",
       "      <td>0</td>\n",
       "      <td>0</td>\n",
       "    </tr>\n",
       "    <tr>\n",
       "      <th>15</th>\n",
       "      <td>1.19209e-06</td>\n",
       "      <td>48867</td>\n",
       "      <td>404.172</td>\n",
       "      <td>Lasso</td>\n",
       "      <td>194</td>\n",
       "      <td>15</td>\n",
       "      <td>0.313538</td>\n",
       "      <td>0.999966</td>\n",
       "      <td>63240.4</td>\n",
       "      <td>547.589</td>\n",
       "      <td>0</td>\n",
       "      <td>9.53674e-07</td>\n",
       "    </tr>\n",
       "    <tr>\n",
       "      <th>20</th>\n",
       "      <td>1.19209e-06</td>\n",
       "      <td>44219.9</td>\n",
       "      <td>3711.01</td>\n",
       "      <td>Lasso</td>\n",
       "      <td>259</td>\n",
       "      <td>20</td>\n",
       "      <td>0.399898</td>\n",
       "      <td>0.996536</td>\n",
       "      <td>59128.8</td>\n",
       "      <td>5489.86</td>\n",
       "      <td>9.53674e-07</td>\n",
       "      <td>0</td>\n",
       "    </tr>\n",
       "    <tr>\n",
       "      <th>25</th>\n",
       "      <td>0</td>\n",
       "      <td>41717.9</td>\n",
       "      <td>6591.71</td>\n",
       "      <td>Lasso</td>\n",
       "      <td>324</td>\n",
       "      <td>25</td>\n",
       "      <td>0.476511</td>\n",
       "      <td>0.989529</td>\n",
       "      <td>55225.5</td>\n",
       "      <td>9103.53</td>\n",
       "      <td>0</td>\n",
       "      <td>1.19209e-06</td>\n",
       "    </tr>\n",
       "    <tr>\n",
       "      <th>30</th>\n",
       "      <td>0</td>\n",
       "      <td>31117.2</td>\n",
       "      <td>8100.9</td>\n",
       "      <td>Lasso</td>\n",
       "      <td>389</td>\n",
       "      <td>30</td>\n",
       "      <td>0.708283</td>\n",
       "      <td>0.982195</td>\n",
       "      <td>41225.6</td>\n",
       "      <td>11653.9</td>\n",
       "      <td>0</td>\n",
       "      <td>1.19209e-06</td>\n",
       "    </tr>\n",
       "    <tr>\n",
       "      <th>40</th>\n",
       "      <td>0</td>\n",
       "      <td>23901.3</td>\n",
       "      <td>9759.22</td>\n",
       "      <td>Lasso</td>\n",
       "      <td>519</td>\n",
       "      <td>40</td>\n",
       "      <td>0.814342</td>\n",
       "      <td>0.968834</td>\n",
       "      <td>32888.5</td>\n",
       "      <td>14713</td>\n",
       "      <td>0</td>\n",
       "      <td>0</td>\n",
       "    </tr>\n",
       "    <tr>\n",
       "      <th>50</th>\n",
       "      <td>0</td>\n",
       "      <td>20184.6</td>\n",
       "      <td>10889.8</td>\n",
       "      <td>Lasso</td>\n",
       "      <td>649</td>\n",
       "      <td>50</td>\n",
       "      <td>0.872055</td>\n",
       "      <td>0.96123</td>\n",
       "      <td>27302.2</td>\n",
       "      <td>15941.7</td>\n",
       "      <td>0</td>\n",
       "      <td>0</td>\n",
       "    </tr>\n",
       "    <tr>\n",
       "      <th>60</th>\n",
       "      <td>1.19209e-06</td>\n",
       "      <td>20630.5</td>\n",
       "      <td>11988.4</td>\n",
       "      <td>Lasso</td>\n",
       "      <td>779</td>\n",
       "      <td>60</td>\n",
       "      <td>0.860741</td>\n",
       "      <td>0.954282</td>\n",
       "      <td>28483.8</td>\n",
       "      <td>17758</td>\n",
       "      <td>9.53674e-07</td>\n",
       "      <td>0</td>\n",
       "    </tr>\n",
       "    <tr>\n",
       "      <th>70</th>\n",
       "      <td>0</td>\n",
       "      <td>18838.1</td>\n",
       "      <td>12157.4</td>\n",
       "      <td>Lasso</td>\n",
       "      <td>909</td>\n",
       "      <td>70</td>\n",
       "      <td>0.88465</td>\n",
       "      <td>0.951895</td>\n",
       "      <td>25923.6</td>\n",
       "      <td>18131.7</td>\n",
       "      <td>9.53674e-07</td>\n",
       "      <td>0</td>\n",
       "    </tr>\n",
       "    <tr>\n",
       "      <th>80</th>\n",
       "      <td>9.53674e-07</td>\n",
       "      <td>20703.2</td>\n",
       "      <td>12465.7</td>\n",
       "      <td>Lasso</td>\n",
       "      <td>1039</td>\n",
       "      <td>80</td>\n",
       "      <td>0.812343</td>\n",
       "      <td>0.947812</td>\n",
       "      <td>33065</td>\n",
       "      <td>18584</td>\n",
       "      <td>0</td>\n",
       "      <td>1.19209e-06</td>\n",
       "    </tr>\n",
       "    <tr>\n",
       "      <th>90</th>\n",
       "      <td>1.19209e-06</td>\n",
       "      <td>19271.4</td>\n",
       "      <td>12568.2</td>\n",
       "      <td>Lasso</td>\n",
       "      <td>1169</td>\n",
       "      <td>90</td>\n",
       "      <td>0.827977</td>\n",
       "      <td>0.946295</td>\n",
       "      <td>31657.7</td>\n",
       "      <td>18710.4</td>\n",
       "      <td>0</td>\n",
       "      <td>9.53674e-07</td>\n",
       "    </tr>\n",
       "    <tr>\n",
       "      <th>100</th>\n",
       "      <td>9.53674e-07</td>\n",
       "      <td>18191.7</td>\n",
       "      <td>12425.4</td>\n",
       "      <td>Lasso</td>\n",
       "      <td>1299</td>\n",
       "      <td>100</td>\n",
       "      <td>0.842131</td>\n",
       "      <td>0.945171</td>\n",
       "      <td>30327.3</td>\n",
       "      <td>18619</td>\n",
       "      <td>0</td>\n",
       "      <td>9.53674e-07</td>\n",
       "    </tr>\n",
       "  </tbody>\n",
       "</table>\n",
       "</div>"
      ],
      "text/plain": [
       "        fit_time mae_test mae_train model_name     n n_pcnt r2_test_score  \\\n",
       "1    9.53674e-07  34937.4   2.56006      Lasso    12      1      0.374484   \n",
       "2              0    29926   6.31328      Lasso    25      2      0.607213   \n",
       "3              0  28855.8   11.1716      Lasso    38      3      0.645409   \n",
       "4              0  29888.1   21.1151      Lasso    51      4       0.65257   \n",
       "5              0  29972.1   22.9609      Lasso    64      5       0.63696   \n",
       "7    1.19209e-06  31582.5    53.507      Lasso    90      7      0.675717   \n",
       "10   1.19209e-06  42466.8   105.345      Lasso   129     10        0.4439   \n",
       "15   1.19209e-06    48867   404.172      Lasso   194     15      0.313538   \n",
       "20   1.19209e-06  44219.9   3711.01      Lasso   259     20      0.399898   \n",
       "25             0  41717.9   6591.71      Lasso   324     25      0.476511   \n",
       "30             0  31117.2    8100.9      Lasso   389     30      0.708283   \n",
       "40             0  23901.3   9759.22      Lasso   519     40      0.814342   \n",
       "50             0  20184.6   10889.8      Lasso   649     50      0.872055   \n",
       "60   1.19209e-06  20630.5   11988.4      Lasso   779     60      0.860741   \n",
       "70             0  18838.1   12157.4      Lasso   909     70       0.88465   \n",
       "80   9.53674e-07  20703.2   12465.7      Lasso  1039     80      0.812343   \n",
       "90   1.19209e-06  19271.4   12568.2      Lasso  1169     90      0.827977   \n",
       "100  9.53674e-07  18191.7   12425.4      Lasso  1299    100      0.842131   \n",
       "\n",
       "    r2_train_score rmse_test rmse_train test_pred_time train_pred_time  \n",
       "1                1   60367.8    3.45762    1.19209e-06               0  \n",
       "2                1   47837.1    8.31628              0               0  \n",
       "3                1   45451.7    14.8581              0     9.53674e-07  \n",
       "4                1   44990.4    26.4874              0               0  \n",
       "5                1     45990    29.5583              0               0  \n",
       "7         0.999999   43465.9     66.983              0               0  \n",
       "10        0.999998   56919.7     129.28              0               0  \n",
       "15        0.999966   63240.4    547.589              0     9.53674e-07  \n",
       "20        0.996536   59128.8    5489.86    9.53674e-07               0  \n",
       "25        0.989529   55225.5    9103.53              0     1.19209e-06  \n",
       "30        0.982195   41225.6    11653.9              0     1.19209e-06  \n",
       "40        0.968834   32888.5      14713              0               0  \n",
       "50         0.96123   27302.2    15941.7              0               0  \n",
       "60        0.954282   28483.8      17758    9.53674e-07               0  \n",
       "70        0.951895   25923.6    18131.7    9.53674e-07               0  \n",
       "80        0.947812     33065      18584              0     1.19209e-06  \n",
       "90        0.946295   31657.7    18710.4              0     9.53674e-07  \n",
       "100       0.945171   30327.3      18619              0     9.53674e-07  "
      ]
     },
     "execution_count": 37,
     "metadata": {},
     "output_type": "execute_result"
    }
   ],
   "source": [
    "test_results = pd.DataFrame(test_results).T.sort_values('n')\n",
    "test_results"
   ]
  },
  {
   "cell_type": "code",
   "execution_count": 38,
   "metadata": {},
   "outputs": [
    {
     "data": {
      "text/plain": [
       "<matplotlib.legend.Legend at 0x1a264bc198>"
      ]
     },
     "execution_count": 38,
     "metadata": {},
     "output_type": "execute_result"
    },
    {
     "data": {
      "image/png": "[encoded data removed]",
      "text/plain": [
       "<Figure size 432x288 with 1 Axes>"
      ]
     },
     "metadata": {},
     "output_type": "display_data"
    }
   ],
   "source": [
    "plt.plot(test_results.n_pcnt, test_results.r2_test_score, label='test performance')\n",
    "plt.plot(test_results.n_pcnt, test_results.r2_train_score, label='train performance')\n",
    "plt.legend()"
   ]
  },
  {
   "cell_type": "code",
   "execution_count": null,
   "metadata": {},
   "outputs": [],
   "source": []
  }
 ],
 "metadata": {
  "kernelspec": {
   "display_name": "Python 3",
   "language": "python",
   "name": "python3"
  },
  "language_info": {
   "codemirror_mode": {
    "name": "ipython",
    "version": 3
   },
   "file_extension": ".py",
   "mimetype": "text/x-python",
   "name": "python",
   "nbconvert_exporter": "python",
   "pygments_lexer": "ipython3",
   "version": "3.6.5"
  }
 },
 "nbformat": 4,
 "nbformat_minor": 2
}
