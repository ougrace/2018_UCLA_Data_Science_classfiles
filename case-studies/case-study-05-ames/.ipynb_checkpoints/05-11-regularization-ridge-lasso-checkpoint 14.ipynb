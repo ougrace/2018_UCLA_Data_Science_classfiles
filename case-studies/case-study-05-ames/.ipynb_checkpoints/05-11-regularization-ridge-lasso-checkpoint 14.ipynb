{
 "cells": [
  {
   "cell_type": "code",
   "execution_count": 1,
   "metadata": {},
   "outputs": [],
   "source": [
    "import pandas as pd\n",
    "import numpy as np\n",
    "import matplotlib\n",
    "import matplotlib.pyplot as plt\n",
    "import seaborn as sns\n",
    "\n",
    "%matplotlib inline"
   ]
  },
  {
   "cell_type": "markdown",
   "metadata": {},
   "source": [
    "<a id='intro'></a>\n",
    "\n",
    "## Overview of regularization\n",
    "\n",
    "---\n",
    "\n",
    "The goal of \"regularizing\" regression models is to **structurally prevent overfitting by imposing a penalty on the coefficients** of the model.\n",
    "\n",
    "Regularization methods like the Ridge and Lasso add this additional \"penalty\" on **the size of coefficients** to the loss function. When the loss function is minimized, this additional component is added to the residual sum of squares.\n",
    "\n",
    "In other words, the minimization becomes a balance between the error between:\n",
    "1. predictions and true values\n",
    "2. the size of the coefficients. "
   ]
  },
  {
   "cell_type": "markdown",
   "metadata": {},
   "source": [
    "The two most common types of regularization are the **Lasso**, **Ridge**. There is a mixture of them called the **Elastic Net**. We will take a look at the mathematics of regularization and the effect these penalties have on model fits."
   ]
  },
  {
   "cell_type": "markdown",
   "metadata": {},
   "source": [
    "<img src=\"https://www.evernote.com/l/AAH_btO8DnBF8I9__sqWwamIflWoyht43OoB/image.png\"\n",
    "     width=500px>"
   ]
  },
  {
   "cell_type": "markdown",
   "metadata": {},
   "source": [
    "From ISLR, Ch. 6\n",
    "\n",
    "The image on the left represents regularization via the Lasso. The image on the right regularization via a Ridge Regression.\n",
    "\n",
    "The red lines represent countours of a paraboloid signifying the loss function. \n",
    "\n",
    "The point in the center is the nadir of the paraboloid and represents the minimum of the loss function.\n",
    "\n",
    "The trick with regularization is to get as close to the bottom of the paraboloid while staying within the area defined by the regularization function. One interpretation of this is think of the regularizataion as a \"budget\". We want to get to the center of the paraboloid, but we have to stay within our budget to do so. "
   ]
  },
  {
   "cell_type": "markdown",
   "metadata": {},
   "source": [
    "<a id='lsq-loss'></a>\n",
    "\n",
    "## Review: least squares loss function\n",
    "\n",
    "---\n",
    "\n",
    "Ordinary least squares regression minimizes the residual sum of squares (RSS) to fit the data:"
   ]
  },
  {
   "cell_type": "markdown",
   "metadata": {},
   "source": [
    "$$\\epsilon_i = y_i - \\widehat{y}_i$$\n",
    "\n",
    "### $$\\mathcal{L}(\\beta) = \\sum_{i=1}^n \\epsilon_i^2 =  (y-X\\beta)^T(y-X\\beta)$$"
   ]
  },
  {
   "cell_type": "markdown",
   "metadata": {},
   "source": [
    "<a id='ridge'></a>\n",
    "\n",
    "## The Ridge penalty\n",
    "\n",
    "---\n",
    "\n",
    "Ridge regression adds the sum of the squared (non-intercept!) $\\beta$ values to the loss function:"
   ]
  },
  {
   "cell_type": "markdown",
   "metadata": {},
   "source": [
    "### $$\\mathcal{L}_{ridge}(\\beta) = \\sum_{i=1}^n \\epsilon_i^2 +\\alpha\\sum\\beta_i^2 =  (y-X\\beta)^T(y-X\\beta)+\\alpha\\beta^T\\beta $$"
   ]
  },
  {
   "cell_type": "markdown",
   "metadata": {},
   "source": [
    "Now, to fit the $\\beta$ vector we will minimize $\\mathcal{L}_{ridge}(\\beta)$. \n",
    "\n",
    "Again, we take the derivative so that \n",
    "\n",
    "### $$ \\frac{d }{d \\beta} \\mathcal{L}(\\beta)= \n",
    "2X^TX\\beta\n",
    "-2X^Ty +2\\lambda\\beta$$"
   ]
  },
  {
   "cell_type": "markdown",
   "metadata": {},
   "source": [
    "And set the result equal to zero so that \n",
    "\n",
    "### $$ X^TX\\beta+\\lambda\\beta=X^Ty $$\n",
    "\n",
    "### $$ (X^TX+\\lambda I)\\beta=X^Ty $$"
   ]
  },
  {
   "cell_type": "markdown",
   "metadata": {},
   "source": [
    "Then\n",
    "\n",
    "### $$\\beta = (X^TX+\\lambda I)^{-1}X^Ty$$\n",
    "\n",
    "or\n",
    "\n",
    "    beta = inv(X.T.dot(X)+lambda*np.eye(n)).dot(X.T).dot(y)"
   ]
  },
  {
   "cell_type": "markdown",
   "metadata": {},
   "source": [
    "Notes:\n",
    "\n",
    "- $\\beta^T\\beta$ can be written as $||\\beta||_2^2$ and is known as the $\\ell_2$ norm.\n",
    "- $\\alpha$ is a constant for the _strength_ of the regularization parameter. \n",
    "- The higher this value, the greater the impact of this new component in the loss function.\n",
    "- Thinking of our budget for reaching the bottom of the bowl, the **bigger** the $\\lambda$, the **smaller** our budget!\n",
    "- The **bigger** the $\\lambda$, the **smaller** our coefficients"
   ]
  },
  {
   "cell_type": "markdown",
   "metadata": {},
   "source": [
    "<a id='lasso'></a>\n",
    "\n",
    "## The Lasso penalty\n",
    "\n",
    "---\n",
    "\n",
    "The Lasso regression takes a different approach. Instead of adding the sum of _squared_ $\\beta$ coefficients to the RSS, it adds the sum of the _absolute values_ of the $\\beta$ coefficients:"
   ]
  },
  {
   "cell_type": "markdown",
   "metadata": {},
   "source": [
    "### $$\\mathcal{L}_{lasso}(\\beta) = \\sum_{i=1}^n \\epsilon_i^2+\\lambda\\sum\\rvert\\beta_i\\rvert =  (y-X\\beta)^T(y-X\\beta)+\\lambda\\rvert\\beta\\rvert $$"
   ]
  },
  {
   "cell_type": "markdown",
   "metadata": {},
   "source": [
    "**WARNING** $\\rvert\\beta\\rvert$ is not differentiable.\n",
    "\n",
    "Therefore, there is no closed form solution to the Lasso i.e. we can not solve it using Algebra!\n",
    "\n",
    "Think about an absolute value curve."
   ]
  },
  {
   "cell_type": "markdown",
   "metadata": {},
   "source": [
    "There is a kink in this function at $x=0$ and the derivative is not continuous."
   ]
  },
  {
   "cell_type": "code",
   "execution_count": 2,
   "metadata": {},
   "outputs": [
    {
     "data": {
      "text/plain": [
       "<matplotlib.legend.Legend at 0x7ff0e7c82a20>"
      ]
     },
     "execution_count": 2,
     "metadata": {},
     "output_type": "execute_result"
    },
    {
     "data": {
      "image/png": "[encoded data removed]",
      "text/plain": [
       "<matplotlib.figure.Figure at 0x7ff12142aa58>"
      ]
     },
     "metadata": {},
     "output_type": "display_data"
    }
   ],
   "source": [
    "x = np.linspace(-3,3,500)\n",
    "plt.plot(x,  np.piecewise(x, [x < 0, x >= 0], [lambda x: -x, lambda x: x]), label='abs values function')\n",
    "plt.plot(x,  np.piecewise(x, [x < 0, x >= 0], [-1, 1]), label='derivative')\n",
    "plt.axvline(c='black',lw=.5)\n",
    "plt.axhline(c='black',lw=.5)\n",
    "plt.legend()"
   ]
  },
  {
   "cell_type": "markdown",
   "metadata": {},
   "source": [
    "Notes:\n",
    "\n",
    "- $\\rvert\\beta\\rvert$ can be written as $|\\beta|_1$ and is known as the $\\ell_1$ norm.\n",
    "- $\\lambda$ is a constant for the _strength_ of the regularization parameter. \n",
    "- The higher this value, the greater the impact of this new component in the loss function.\n",
    "- Thinking of our budget for reaching the bottom of the bowl, the **bigger** the $\\lambda$, the **smaller** our budget!\n",
    "- The **bigger** the $\\lambda$, the **smaller** our coefficients"
   ]
  },
  {
   "cell_type": "markdown",
   "metadata": {},
   "source": [
    "<a id='elastic-net'></a>\n",
    "\n",
    "## Elastic Net penalty\n",
    "\n",
    "---\n",
    "\n",
    "Elastic Net is simply a combination of the Lasso and the Ridge regularizations. It adds *both* penalties to the loss function:\n",
    "\n",
    "### $$\\mathcal{L}_{lasso}(\\beta) = \\sum_{i=1}^n \\rvert\\epsilon_i\\rvert + \\lambda_1\\sum\\rvert\\beta_i\\rvert+\\lambda_2\\sum\\beta_i^2 $$"
   ]
  },
  {
   "cell_type": "markdown",
   "metadata": {},
   "source": [
    "In the elastic net, the effect of the Ridge vs. the Lasso is balanced by the two lambda parameters. "
   ]
  },
  {
   "cell_type": "markdown",
   "metadata": {},
   "source": [
    "## What is the effect of regularization?\n",
    "\n",
    "---\n",
    "\n",
    "An important aspect of this data, which is a reason why we might choose to use regularization, is that there is **multicollinearity** in the data. The term multicollinearity means that there are high correlations between predictor variables in your model. \n",
    "\n",
    "**This can lead to a variety of problems including:**\n",
    "1. The effect of predictor variables estimated by your regression will depend on what other variabes are included in your model.\n",
    "2. Predictors can have wildly different effects depending on the observations in your sample, and small changes in samples can result in very different estimated effects.\n",
    "3. With very high multicollinearity, the inverse matrix the computer calculates may not be accurate.\n",
    "4. We can no longer interpret a coefficient on a variable as the effect on the target of a one unit increase in that variable holding the other variables constant. This is because when predictors are strongly correlated, there is not a scenario in which one variable can change without a conditional change in another variable.\n",
    "\n",
    "The Ridge is best suited to deal with multicollinearity. Lasso also deals with multicollinearity between variables, but in a more brutal way (it \"zeroes out\" the less effective variable).\n",
    "\n",
    "The Lasso is particularly useful when you have redundant or unimportant variables. If you have 1000 variables in a dataset the Lasso can perform \"feature selection\" automatically for you by forcing coefficients to be zero."
   ]
  },
  {
   "cell_type": "markdown",
   "metadata": {},
   "source": [
    "### Load the Ames Data\n",
    "\n",
    "This version has red and white wines concatenated together and tagged with a binary 1,0 indicator (1 is red wine). There are many other variables purportedly related to the rated quality of the wine."
   ]
  },
  {
   "cell_type": "code",
   "execution_count": 3,
   "metadata": {},
   "outputs": [
    {
     "data": {
      "text/plain": [
       "<matplotlib.figure.Figure at 0x7ff0e4694160>"
      ]
     },
     "metadata": {},
     "output_type": "display_data"
    }
   ],
   "source": [
    "run src/preprocessing.py"
   ]
  },
  {
   "cell_type": "code",
   "execution_count": 4,
   "metadata": {},
   "outputs": [
    {
     "data": {
      "text/html": [
       "<div>\n",
       "<style scoped>\n",
       "    .dataframe tbody tr th:only-of-type {\n",
       "        vertical-align: middle;\n",
       "    }\n",
       "\n",
       "    .dataframe tbody tr th {\n",
       "        vertical-align: top;\n",
       "    }\n",
       "\n",
       "    .dataframe thead th {\n",
       "        text-align: right;\n",
       "    }\n",
       "</style>\n",
       "<table border=\"1\" class=\"dataframe\">\n",
       "  <thead>\n",
       "    <tr style=\"text-align: right;\">\n",
       "      <th></th>\n",
       "      <th>MSSubClass_20</th>\n",
       "      <th>MSSubClass_30</th>\n",
       "      <th>MSSubClass_40</th>\n",
       "      <th>MSSubClass_45</th>\n",
       "      <th>MSSubClass_50</th>\n",
       "      <th>MSSubClass_60</th>\n",
       "      <th>MSSubClass_70</th>\n",
       "      <th>MSSubClass_75</th>\n",
       "      <th>MSSubClass_80</th>\n",
       "      <th>MSSubClass_85</th>\n",
       "      <th>...</th>\n",
       "      <th>MiscVal</th>\n",
       "      <th>YrSold</th>\n",
       "      <th>PC 1</th>\n",
       "      <th>PC 2</th>\n",
       "      <th>PC 3</th>\n",
       "      <th>PC 4</th>\n",
       "      <th>PC 5</th>\n",
       "      <th>PC 6</th>\n",
       "      <th>PC 7</th>\n",
       "      <th>PC 8</th>\n",
       "    </tr>\n",
       "    <tr>\n",
       "      <th>Id</th>\n",
       "      <th></th>\n",
       "      <th></th>\n",
       "      <th></th>\n",
       "      <th></th>\n",
       "      <th></th>\n",
       "      <th></th>\n",
       "      <th></th>\n",
       "      <th></th>\n",
       "      <th></th>\n",
       "      <th></th>\n",
       "      <th></th>\n",
       "      <th></th>\n",
       "      <th></th>\n",
       "      <th></th>\n",
       "      <th></th>\n",
       "      <th></th>\n",
       "      <th></th>\n",
       "      <th></th>\n",
       "      <th></th>\n",
       "      <th></th>\n",
       "      <th></th>\n",
       "    </tr>\n",
       "  </thead>\n",
       "  <tbody>\n",
       "    <tr>\n",
       "      <th>606</th>\n",
       "      <td>0</td>\n",
       "      <td>0</td>\n",
       "      <td>0</td>\n",
       "      <td>0</td>\n",
       "      <td>0</td>\n",
       "      <td>1</td>\n",
       "      <td>0</td>\n",
       "      <td>0</td>\n",
       "      <td>0</td>\n",
       "      <td>0</td>\n",
       "      <td>...</td>\n",
       "      <td>-0.191027</td>\n",
       "      <td>0.891266</td>\n",
       "      <td>-1.021968</td>\n",
       "      <td>1.505865</td>\n",
       "      <td>1.020785</td>\n",
       "      <td>0.407724</td>\n",
       "      <td>-2.111995</td>\n",
       "      <td>-2.296613</td>\n",
       "      <td>-1.170928</td>\n",
       "      <td>0.793622</td>\n",
       "    </tr>\n",
       "    <tr>\n",
       "      <th>1314</th>\n",
       "      <td>0</td>\n",
       "      <td>0</td>\n",
       "      <td>0</td>\n",
       "      <td>0</td>\n",
       "      <td>0</td>\n",
       "      <td>1</td>\n",
       "      <td>0</td>\n",
       "      <td>0</td>\n",
       "      <td>0</td>\n",
       "      <td>0</td>\n",
       "      <td>...</td>\n",
       "      <td>-0.191027</td>\n",
       "      <td>1.642892</td>\n",
       "      <td>-3.185680</td>\n",
       "      <td>0.274669</td>\n",
       "      <td>1.930689</td>\n",
       "      <td>0.622950</td>\n",
       "      <td>0.498625</td>\n",
       "      <td>0.712393</td>\n",
       "      <td>-1.486736</td>\n",
       "      <td>-0.694920</td>\n",
       "    </tr>\n",
       "    <tr>\n",
       "      <th>1031</th>\n",
       "      <td>0</td>\n",
       "      <td>0</td>\n",
       "      <td>0</td>\n",
       "      <td>0</td>\n",
       "      <td>0</td>\n",
       "      <td>0</td>\n",
       "      <td>0</td>\n",
       "      <td>0</td>\n",
       "      <td>0</td>\n",
       "      <td>0</td>\n",
       "      <td>...</td>\n",
       "      <td>-0.191027</td>\n",
       "      <td>-1.365857</td>\n",
       "      <td>2.746015</td>\n",
       "      <td>-0.419109</td>\n",
       "      <td>2.974298</td>\n",
       "      <td>-0.519749</td>\n",
       "      <td>0.860368</td>\n",
       "      <td>0.738342</td>\n",
       "      <td>1.175256</td>\n",
       "      <td>-0.139425</td>\n",
       "    </tr>\n",
       "    <tr>\n",
       "      <th>1186</th>\n",
       "      <td>0</td>\n",
       "      <td>0</td>\n",
       "      <td>0</td>\n",
       "      <td>0</td>\n",
       "      <td>1</td>\n",
       "      <td>0</td>\n",
       "      <td>0</td>\n",
       "      <td>0</td>\n",
       "      <td>0</td>\n",
       "      <td>0</td>\n",
       "      <td>...</td>\n",
       "      <td>-0.191027</td>\n",
       "      <td>-1.365857</td>\n",
       "      <td>2.867996</td>\n",
       "      <td>1.000860</td>\n",
       "      <td>1.168257</td>\n",
       "      <td>-0.505635</td>\n",
       "      <td>-0.475389</td>\n",
       "      <td>0.002616</td>\n",
       "      <td>0.890070</td>\n",
       "      <td>-0.655253</td>\n",
       "    </tr>\n",
       "  </tbody>\n",
       "</table>\n",
       "<p>4 rows × 390 columns</p>\n",
       "</div>"
      ],
      "text/plain": [
       "      MSSubClass_20  MSSubClass_30  MSSubClass_40  MSSubClass_45  \\\n",
       "Id                                                                 \n",
       "606               0              0              0              0   \n",
       "1314              0              0              0              0   \n",
       "1031              0              0              0              0   \n",
       "1186              0              0              0              0   \n",
       "\n",
       "      MSSubClass_50  MSSubClass_60  MSSubClass_70  MSSubClass_75  \\\n",
       "Id                                                                 \n",
       "606               0              1              0              0   \n",
       "1314              0              1              0              0   \n",
       "1031              0              0              0              0   \n",
       "1186              1              0              0              0   \n",
       "\n",
       "      MSSubClass_80  MSSubClass_85    ...      MiscVal    YrSold      PC 1  \\\n",
       "Id                                    ...                                    \n",
       "606               0              0    ...    -0.191027  0.891266 -1.021968   \n",
       "1314              0              0    ...    -0.191027  1.642892 -3.185680   \n",
       "1031              0              0    ...    -0.191027 -1.365857  2.746015   \n",
       "1186              0              0    ...    -0.191027 -1.365857  2.867996   \n",
       "\n",
       "          PC 2      PC 3      PC 4      PC 5      PC 6      PC 7      PC 8  \n",
       "Id                                                                          \n",
       "606   1.505865  1.020785  0.407724 -2.111995 -2.296613 -1.170928  0.793622  \n",
       "1314  0.274669  1.930689  0.622950  0.498625  0.712393 -1.486736 -0.694920  \n",
       "1031 -0.419109  2.974298 -0.519749  0.860368  0.738342  1.175256 -0.139425  \n",
       "1186  1.000860  1.168257 -0.505635 -0.475389  0.002616  0.890070 -0.655253  \n",
       "\n",
       "[4 rows x 390 columns]"
      ]
     },
     "execution_count": 4,
     "metadata": {},
     "output_type": "execute_result"
    }
   ],
   "source": [
    "dataset_2.sample(4)"
   ]
  },
  {
   "cell_type": "code",
   "execution_count": 5,
   "metadata": {},
   "outputs": [
    {
     "data": {
      "text/plain": [
       "((1444,), (1444, 390))"
      ]
     },
     "execution_count": 5,
     "metadata": {},
     "output_type": "execute_result"
    }
   ],
   "source": [
    "target_2.shape, dataset_2.shape"
   ]
  },
  {
   "cell_type": "markdown",
   "metadata": {},
   "source": [
    "<a id='viz-ridge'></a>\n",
    "\n",
    "## Visualizing the Ridge\n",
    "\n",
    "---\n",
    "\n",
    "Import the `Ridge` model class from sklearn."
   ]
  },
  {
   "cell_type": "code",
   "execution_count": 6,
   "metadata": {},
   "outputs": [],
   "source": [
    "from sklearn.linear_model import Ridge"
   ]
  },
  {
   "cell_type": "markdown",
   "metadata": {},
   "source": [
    "This function iterates over a series of different alpha regularization parameters. The alpha is sklearn's equivalent of the lambda value in the formula that multiples the square of betas from the equation.\n",
    "\n",
    "The function stores the results of the model so that we can plot them interactively."
   ]
  },
  {
   "cell_type": "code",
   "execution_count": 7,
   "metadata": {},
   "outputs": [],
   "source": [
    "def ridge_coefs(X, Y, alphas):\n",
    "    \n",
    "    # set up the list to hold the different sets of coefficients:\n",
    "    coefs = []\n",
    "    \n",
    "    # Set up a ridge regression object\n",
    "    ridge_reg = Ridge()\n",
    "    \n",
    "    # Iterate through the alphas fed into the function:\n",
    "    for a in alphas:\n",
    "        \n",
    "        # On each alpha reset the ridge model's alpha to the current one:\n",
    "        ridge_reg.set_params(alpha=a)\n",
    "        \n",
    "        # fit or refit the model on the provided X, Y\n",
    "        ridge_reg.fit(X, Y)\n",
    "        \n",
    "        # Get out the coefficient list\n",
    "        coefs.append(ridge_reg.coef_)\n",
    "        \n",
    "    return coefs"
   ]
  },
  {
   "cell_type": "markdown",
   "metadata": {},
   "source": [
    "Alpha values for the ridge are best visualized on a logarithmic \"magnitude\" scale. Essentially, the effect of alpha on the coefficients does not increase linearly but by orders of magnitude. "
   ]
  },
  {
   "cell_type": "code",
   "execution_count": 9,
   "metadata": {},
   "outputs": [
    {
     "data": {
      "text/plain": [
       "array([  1.00000000e-02,   1.00000000e-01,   1.00000000e+00,\n",
       "         1.00000000e+01,   1.00000000e+02])"
      ]
     },
     "execution_count": 9,
     "metadata": {},
     "output_type": "execute_result"
    }
   ],
   "source": [
    "np.logspace(-2,2,5)"
   ]
  },
  {
   "cell_type": "code",
   "execution_count": 8,
   "metadata": {},
   "outputs": [],
   "source": [
    "# np.logspace gives us points between specified orders of magnitude on a logarithmic scale. It is base 10.\n",
    "r_alphas = np.logspace(-3, 12, 45)\n",
    "\n",
    "# Get the coefficients for each alpha for the Ridge, using the function above\n",
    "r_coefs = ridge_coefs(dataset_2, target_2, r_alphas)"
   ]
  },
  {
   "cell_type": "markdown",
   "metadata": {},
   "source": [
    "The plotting function below will:\n",
    "\n",
    " - Plot the effect of changing alpha on the coefficient size on a **path** graph\n",
    " - Plot the effect of changing alpha on the coefficient size on a **bar** graph\n",
    " \n",
    "Each one gives informative information. It's just two different ways of visualizing the same thing. The chart is interactive so you can play around with the values of alpha across the specified range above."
   ]
  },
  {
   "cell_type": "code",
   "execution_count": 10,
   "metadata": {},
   "outputs": [],
   "source": [
    "import warnings\n",
    "warnings.filterwarnings('ignore')"
   ]
  },
  {
   "cell_type": "code",
   "execution_count": 11,
   "metadata": {},
   "outputs": [],
   "source": [
    "# The cycler package lets us \"cycle\" throug colors.\n",
    "# Just another thing i had to look up on stackoverflow. That's my life.\n",
    "from cycler import cycler\n",
    "\n",
    "def coef_plotter(alphas, coefs, to_alpha, regtype='ridge'):\n",
    "    \n",
    "    # Get the full range of alphas before subsetting to keep the plots from \n",
    "    # resetting axes each time. (We use these values to set static axes later).\n",
    "    amin = np.min(alphas)\n",
    "    amax = np.max(alphas)\n",
    "    \n",
    "    # Subset the alphas and coefficients to just the ones below the set limit\n",
    "    # from the interactive widget:\n",
    "    alphas = [a for a in alphas if a <= to_alpha]\n",
    "    coefs = coefs[0:len(alphas)]\n",
    "    \n",
    "    # Get some colors from seaborn:\n",
    "    colors = sns.color_palette(\"husl\", len(coefs[0]))\n",
    "    \n",
    "    # Get the figure and reset the size to be wider:\n",
    "    fig = plt.figure()\n",
    "    fig.set_size_inches(18,5)\n",
    "\n",
    "    # We have two axes this time on our figure. \n",
    "    # The fig.add_subplot adds axes to our figure. The number inside stands for:\n",
    "    #[figure_rows|figure_cols|position_of_current_axes]\n",
    "    ax1 = fig.add_subplot(121)\n",
    "    \n",
    "    # Give it the color cycler:\n",
    "    ax1.set_prop_cycle(cycler('color', colors))\n",
    "    \n",
    "    # Print a vertical line showing our current alpha threshold:\n",
    "    ax1.axvline(to_alpha, lw=2, ls='dashed', c='k', alpha=0.4)\n",
    "    \n",
    "    # Plot the lines of the alphas on x-axis and coefficients on y-axis\n",
    "    ax1.plot(alphas, coefs, lw=2)\n",
    "    \n",
    "    # set labels for axes:\n",
    "    ax1.set_xlabel('alpha', fontsize=20)\n",
    "    ax1.set_ylabel('coefficients', fontsize=20)\n",
    "    \n",
    "    # If this is for the ridge, set this to a log scale on the x-axis:\n",
    "    ax1.set_xscale('log')\n",
    "    ax1.set_yscale('log')\n",
    "    \n",
    "    # Enforce the axis limits:\n",
    "    ax1.set_xlim([amin, amax])\n",
    "    ax1.set_ylim(1E-2,1E5)\n",
    "    \n",
    "    # Put a title on the axis\n",
    "    ax1.set_title(regtype+' coef paths\\n', fontsize=20)\n",
    "    \n",
    "    # Get the ymin and ymax for this axis to enforce it to be the same on the \n",
    "    # second chart:\n",
    "    ymin, ymax = ax1.get_ylim()\n",
    "\n",
    "    # Add our second axes for the barplot in position 2:\n",
    "    ax2 = fig.add_subplot(122)\n",
    "    ax2.set_yscale('log')\n",
    "    ax2.set_ylim(1E-2,1E5)\n",
    "    \n",
    "    # Position the bars according to their index from the feature names variable:\n",
    "    \n",
    "    try:\n",
    "        ax2.bar(range(len(coefs[-1])), coefs[-1], align='center', color=colors)\n",
    "    except ValueError:\n",
    "        pass\n",
    "#     ax2.set_xticks(range(1, len(feature_names)+1))\n",
    "    \n",
    "    # enforce limits and add titles, labels\n",
    "    ax2.set_ylim([ymin, ymax])\n",
    "    ax2.set_title(regtype+' predictor coefs\\n', fontsize=20)\n",
    "    ax2.set_xlabel('coefficients', fontsize=20)\n",
    "    ax2.set_ylabel('alpha', fontsize=20)\n",
    "    \n",
    "    plt.show()\n"
   ]
  },
  {
   "cell_type": "markdown",
   "metadata": {},
   "source": [
    "Load the ipython widgets so we can make this plotting function interactive!"
   ]
  },
  {
   "cell_type": "code",
   "execution_count": 12,
   "metadata": {
    "scrolled": false
   },
   "outputs": [],
   "source": [
    "from ipywidgets import *\n",
    "from IPython.display import display"
   ]
  },
  {
   "cell_type": "markdown",
   "metadata": {},
   "source": [
    "The function and `interact` from ipywidgets lets me take some specified alphas that we have already calculated the coefficients for and plot them out."
   ]
  },
  {
   "cell_type": "code",
   "execution_count": 14,
   "metadata": {},
   "outputs": [
    {
     "data": {
      "application/vnd.jupyter.widget-view+json": {
       "model_id": "92b0e48dc588471c8cebe7596f8f807f",
       "version_major": 2,
       "version_minor": 0
      },
      "text/plain": [
       "interactive(children=(FloatSlider(value=-3.0, description='log_of_alpha', max=12.0, min=-3.0, step=0.33), Outp…"
      ]
     },
     "metadata": {},
     "output_type": "display_data"
    },
    {
     "data": {
      "text/plain": [
       "<function __main__.ridge_plot_runner(log_of_alpha=-3.0)>"
      ]
     },
     "execution_count": 14,
     "metadata": {},
     "output_type": "execute_result"
    }
   ],
   "source": [
    "def ridge_plot_runner(log_of_alpha=-3.0):\n",
    "    coef_plotter(r_alphas, r_coefs, 10**log_of_alpha, regtype='ridge')\n",
    "\n",
    "interact(ridge_plot_runner, log_of_alpha=(-3.0,12.0,0.33))"
   ]
  },
  {
   "cell_type": "markdown",
   "metadata": {},
   "source": [
    "<a id='viz-lasso'></a>\n",
    "\n",
    "## Visualizing the Lasso\n",
    "\n",
    "---\n",
    "\n",
    "Now we do the same thing as above but for the Lasso. You will be able to see how the coefficients change differently for both."
   ]
  },
  {
   "cell_type": "code",
   "execution_count": 15,
   "metadata": {},
   "outputs": [],
   "source": [
    "from sklearn.linear_model import Lasso"
   ]
  },
  {
   "cell_type": "code",
   "execution_count": 16,
   "metadata": {},
   "outputs": [],
   "source": [
    "# This is the same as the ridge coefficient by alpha calculator\n",
    "def lasso_coefs(X, Y, alphas):\n",
    "    coefs = []\n",
    "    lasso_reg = Lasso()\n",
    "    for a in alphas:\n",
    "        lasso_reg.set_params(alpha=a)\n",
    "        lasso_reg.fit(X, Y)\n",
    "        coefs.append(lasso_reg.coef_)\n",
    "        \n",
    "    return coefs\n"
   ]
  },
  {
   "cell_type": "markdown",
   "metadata": {},
   "source": [
    "Alphas for the Lasso tend to effect regularization linearly rather than by orders of magnitude like in the ridge. \n",
    "\n",
    "A linear series of alphas is sufficient."
   ]
  },
  {
   "cell_type": "code",
   "execution_count": 17,
   "metadata": {},
   "outputs": [],
   "source": [
    "l_alphas = np.logspace(-3,12,45)\n",
    "l_coefs = lasso_coefs(dataset_2, target_2, l_alphas)"
   ]
  },
  {
   "cell_type": "markdown",
   "metadata": {},
   "source": [
    "Run the same plotting function above, but now with the calculated coefficients of alpha for the Lasso."
   ]
  },
  {
   "cell_type": "code",
   "execution_count": 18,
   "metadata": {},
   "outputs": [
    {
     "data": {
      "application/vnd.jupyter.widget-view+json": {
       "model_id": "ec0c57960e6844f391455a64dd424a61",
       "version_major": 2,
       "version_minor": 0
      },
      "text/plain": [
       "interactive(children=(FloatSlider(value=-3.0, description='log_of_alpha', max=10.0, min=-3.0, step=0.33), Outp…"
      ]
     },
     "metadata": {},
     "output_type": "display_data"
    },
    {
     "data": {
      "text/plain": [
       "<function __main__.lasso_plot_runner(log_of_alpha=-3)>"
      ]
     },
     "execution_count": 18,
     "metadata": {},
     "output_type": "execute_result"
    }
   ],
   "source": [
    "def lasso_plot_runner(log_of_alpha=-3):\n",
    "    coef_plotter(l_alphas, l_coefs, 10**log_of_alpha, regtype='lasso')\n",
    "\n",
    "interact(lasso_plot_runner, log_of_alpha=(-3.0,10.0,0.33))"
   ]
  },
  {
   "cell_type": "code",
   "execution_count": 20,
   "metadata": {},
   "outputs": [],
   "source": [
    "from sklearn.model_selection import GridSearchCV"
   ]
  },
  {
   "cell_type": "code",
   "execution_count": null,
   "metadata": {},
   "outputs": [],
   "source": [
    "lasso_gs = GridSearchCV(Lasso(), param_grid={'alpha' : np.logspace(-3,5,9)}, n_jobs=-1, cv=5)\n",
    "lasso_gs.fit(dataset_1, target_1)"
   ]
  },
  {
   "cell_type": "code",
   "execution_count": 23,
   "metadata": {},
   "outputs": [
    {
     "data": {
      "text/plain": [
       "GridSearchCV(cv=5, error_score='raise',\n",
       "       estimator=Lasso(alpha=1.0, copy_X=True, fit_intercept=True, max_iter=1000,\n",
       "   normalize=False, positive=False, precompute=False, random_state=None,\n",
       "   selection='cyclic', tol=0.0001, warm_start=False),\n",
       "       fit_params=None, iid=True, n_jobs=-1,\n",
       "       param_grid={'alpha': array([  1.00000e-03,   1.00000e-02,   1.00000e-01,   1.00000e+00,\n",
       "         1.00000e+01,   1.00000e+02,   1.00000e+03,   1.00000e+04,\n",
       "         1.00000e+05])},\n",
       "       pre_dispatch='2*n_jobs', refit=True, return_train_score='warn',\n",
       "       scoring=None, verbose=0)"
      ]
     },
     "execution_count": 23,
     "metadata": {},
     "output_type": "execute_result"
    }
   ],
   "source": [
    "lasso_gs"
   ]
  },
  {
   "cell_type": "code",
   "execution_count": 26,
   "metadata": {},
   "outputs": [
    {
     "data": {
      "text/html": [
       "<div>\n",
       "<style scoped>\n",
       "    .dataframe tbody tr th:only-of-type {\n",
       "        vertical-align: middle;\n",
       "    }\n",
       "\n",
       "    .dataframe tbody tr th {\n",
       "        vertical-align: top;\n",
       "    }\n",
       "\n",
       "    .dataframe thead th {\n",
       "        text-align: right;\n",
       "    }\n",
       "</style>\n",
       "<table border=\"1\" class=\"dataframe\">\n",
       "  <thead>\n",
       "    <tr style=\"text-align: right;\">\n",
       "      <th></th>\n",
       "      <th>0</th>\n",
       "      <th>1</th>\n",
       "      <th>2</th>\n",
       "      <th>3</th>\n",
       "      <th>4</th>\n",
       "      <th>5</th>\n",
       "      <th>6</th>\n",
       "      <th>7</th>\n",
       "      <th>8</th>\n",
       "    </tr>\n",
       "  </thead>\n",
       "  <tbody>\n",
       "    <tr>\n",
       "      <th>mean_fit_time</th>\n",
       "      <td>0.835488</td>\n",
       "      <td>0.678138</td>\n",
       "      <td>0.655113</td>\n",
       "      <td>0.696827</td>\n",
       "      <td>0.430825</td>\n",
       "      <td>0.127905</td>\n",
       "      <td>0.0577508</td>\n",
       "      <td>0.0233486</td>\n",
       "      <td>0.0153247</td>\n",
       "    </tr>\n",
       "    <tr>\n",
       "      <th>mean_score_time</th>\n",
       "      <td>0.00685644</td>\n",
       "      <td>0.00595794</td>\n",
       "      <td>0.00562291</td>\n",
       "      <td>0.00565305</td>\n",
       "      <td>0.00556383</td>\n",
       "      <td>0.00561786</td>\n",
       "      <td>0.00617566</td>\n",
       "      <td>0.00902209</td>\n",
       "      <td>0.00793147</td>\n",
       "    </tr>\n",
       "    <tr>\n",
       "      <th>mean_test_score</th>\n",
       "      <td>0.862475</td>\n",
       "      <td>0.863586</td>\n",
       "      <td>0.866499</td>\n",
       "      <td>0.870554</td>\n",
       "      <td>0.88473</td>\n",
       "      <td>0.8967</td>\n",
       "      <td>0.840823</td>\n",
       "      <td>0.659513</td>\n",
       "      <td>-0.00525042</td>\n",
       "    </tr>\n",
       "    <tr>\n",
       "      <th>mean_train_score</th>\n",
       "      <td>0.946966</td>\n",
       "      <td>0.946966</td>\n",
       "      <td>0.946967</td>\n",
       "      <td>0.946922</td>\n",
       "      <td>0.94541</td>\n",
       "      <td>0.930617</td>\n",
       "      <td>0.861942</td>\n",
       "      <td>0.666364</td>\n",
       "      <td>0</td>\n",
       "    </tr>\n",
       "    <tr>\n",
       "      <th>param_alpha</th>\n",
       "      <td>0.001</td>\n",
       "      <td>0.01</td>\n",
       "      <td>0.1</td>\n",
       "      <td>1</td>\n",
       "      <td>10</td>\n",
       "      <td>100</td>\n",
       "      <td>1000</td>\n",
       "      <td>10000</td>\n",
       "      <td>100000</td>\n",
       "    </tr>\n",
       "    <tr>\n",
       "      <th>params</th>\n",
       "      <td>{'alpha': 0.001}</td>\n",
       "      <td>{'alpha': 0.01}</td>\n",
       "      <td>{'alpha': 0.1}</td>\n",
       "      <td>{'alpha': 1.0}</td>\n",
       "      <td>{'alpha': 10.0}</td>\n",
       "      <td>{'alpha': 100.0}</td>\n",
       "      <td>{'alpha': 1000.0}</td>\n",
       "      <td>{'alpha': 10000.0}</td>\n",
       "      <td>{'alpha': 100000.0}</td>\n",
       "    </tr>\n",
       "    <tr>\n",
       "      <th>rank_test_score</th>\n",
       "      <td>6</td>\n",
       "      <td>5</td>\n",
       "      <td>4</td>\n",
       "      <td>3</td>\n",
       "      <td>2</td>\n",
       "      <td>1</td>\n",
       "      <td>7</td>\n",
       "      <td>8</td>\n",
       "      <td>9</td>\n",
       "    </tr>\n",
       "    <tr>\n",
       "      <th>split0_test_score</th>\n",
       "      <td>0.882291</td>\n",
       "      <td>0.882406</td>\n",
       "      <td>0.88259</td>\n",
       "      <td>0.88421</td>\n",
       "      <td>0.893752</td>\n",
       "      <td>0.899191</td>\n",
       "      <td>0.865667</td>\n",
       "      <td>0.680028</td>\n",
       "      <td>-0.00012582</td>\n",
       "    </tr>\n",
       "    <tr>\n",
       "      <th>split0_train_score</th>\n",
       "      <td>0.946441</td>\n",
       "      <td>0.946441</td>\n",
       "      <td>0.946442</td>\n",
       "      <td>0.946397</td>\n",
       "      <td>0.94502</td>\n",
       "      <td>0.928997</td>\n",
       "      <td>0.864476</td>\n",
       "      <td>0.665782</td>\n",
       "      <td>0</td>\n",
       "    </tr>\n",
       "    <tr>\n",
       "      <th>split1_test_score</th>\n",
       "      <td>0.889505</td>\n",
       "      <td>0.889631</td>\n",
       "      <td>0.890789</td>\n",
       "      <td>0.895714</td>\n",
       "      <td>0.904562</td>\n",
       "      <td>0.916498</td>\n",
       "      <td>0.878554</td>\n",
       "      <td>0.714215</td>\n",
       "      <td>-0.00080407</td>\n",
       "    </tr>\n",
       "    <tr>\n",
       "      <th>split1_train_score</th>\n",
       "      <td>0.944654</td>\n",
       "      <td>0.944654</td>\n",
       "      <td>0.944656</td>\n",
       "      <td>0.944617</td>\n",
       "      <td>0.942929</td>\n",
       "      <td>0.927889</td>\n",
       "      <td>0.85781</td>\n",
       "      <td>0.64961</td>\n",
       "      <td>0</td>\n",
       "    </tr>\n",
       "    <tr>\n",
       "      <th>split2_test_score</th>\n",
       "      <td>0.849234</td>\n",
       "      <td>0.849455</td>\n",
       "      <td>0.85034</td>\n",
       "      <td>0.854601</td>\n",
       "      <td>0.875742</td>\n",
       "      <td>0.884952</td>\n",
       "      <td>0.808059</td>\n",
       "      <td>0.628686</td>\n",
       "      <td>-0.00565345</td>\n",
       "    </tr>\n",
       "    <tr>\n",
       "      <th>split2_train_score</th>\n",
       "      <td>0.949351</td>\n",
       "      <td>0.949352</td>\n",
       "      <td>0.949353</td>\n",
       "      <td>0.949306</td>\n",
       "      <td>0.947497</td>\n",
       "      <td>0.932118</td>\n",
       "      <td>0.860363</td>\n",
       "      <td>0.663583</td>\n",
       "      <td>0</td>\n",
       "    </tr>\n",
       "    <tr>\n",
       "      <th>split3_test_score</th>\n",
       "      <td>0.870837</td>\n",
       "      <td>0.870907</td>\n",
       "      <td>0.871377</td>\n",
       "      <td>0.874911</td>\n",
       "      <td>0.887744</td>\n",
       "      <td>0.90442</td>\n",
       "      <td>0.844579</td>\n",
       "      <td>0.646479</td>\n",
       "      <td>-0.019632</td>\n",
       "    </tr>\n",
       "    <tr>\n",
       "      <th>split3_train_score</th>\n",
       "      <td>0.947091</td>\n",
       "      <td>0.947091</td>\n",
       "      <td>0.947091</td>\n",
       "      <td>0.947041</td>\n",
       "      <td>0.945747</td>\n",
       "      <td>0.930658</td>\n",
       "      <td>0.862963</td>\n",
       "      <td>0.672896</td>\n",
       "      <td>0</td>\n",
       "    </tr>\n",
       "    <tr>\n",
       "      <th>split4_test_score</th>\n",
       "      <td>0.820361</td>\n",
       "      <td>0.825399</td>\n",
       "      <td>0.837295</td>\n",
       "      <td>0.843241</td>\n",
       "      <td>0.861772</td>\n",
       "      <td>0.878375</td>\n",
       "      <td>0.807139</td>\n",
       "      <td>0.628049</td>\n",
       "      <td>-1.87047e-05</td>\n",
       "    </tr>\n",
       "    <tr>\n",
       "      <th>split4_train_score</th>\n",
       "      <td>0.947292</td>\n",
       "      <td>0.947292</td>\n",
       "      <td>0.947291</td>\n",
       "      <td>0.947247</td>\n",
       "      <td>0.945858</td>\n",
       "      <td>0.933424</td>\n",
       "      <td>0.864101</td>\n",
       "      <td>0.679951</td>\n",
       "      <td>0</td>\n",
       "    </tr>\n",
       "    <tr>\n",
       "      <th>std_fit_time</th>\n",
       "      <td>0.214621</td>\n",
       "      <td>0.0599562</td>\n",
       "      <td>0.044757</td>\n",
       "      <td>0.0427609</td>\n",
       "      <td>0.138252</td>\n",
       "      <td>0.0251548</td>\n",
       "      <td>0.00584713</td>\n",
       "      <td>0.00266851</td>\n",
       "      <td>0.00259595</td>\n",
       "    </tr>\n",
       "    <tr>\n",
       "      <th>std_score_time</th>\n",
       "      <td>0.00126347</td>\n",
       "      <td>0.000905132</td>\n",
       "      <td>0.000161063</td>\n",
       "      <td>0.000176667</td>\n",
       "      <td>0.000145065</td>\n",
       "      <td>0.000189952</td>\n",
       "      <td>0.00318391</td>\n",
       "      <td>0.00115391</td>\n",
       "      <td>0.00355345</td>\n",
       "    </tr>\n",
       "    <tr>\n",
       "      <th>std_test_score</th>\n",
       "      <td>0.0250526</td>\n",
       "      <td>0.0234132</td>\n",
       "      <td>0.0199257</td>\n",
       "      <td>0.0191715</td>\n",
       "      <td>0.0147687</td>\n",
       "      <td>0.0136461</td>\n",
       "      <td>0.0291959</td>\n",
       "      <td>0.0332376</td>\n",
       "      <td>0.0074899</td>\n",
       "    </tr>\n",
       "    <tr>\n",
       "      <th>std_train_score</th>\n",
       "      <td>0.00151218</td>\n",
       "      <td>0.00151219</td>\n",
       "      <td>0.00151186</td>\n",
       "      <td>0.00150932</td>\n",
       "      <td>0.00148156</td>\n",
       "      <td>0.00200985</td>\n",
       "      <td>0.00251757</td>\n",
       "      <td>0.0101593</td>\n",
       "      <td>0</td>\n",
       "    </tr>\n",
       "  </tbody>\n",
       "</table>\n",
       "</div>"
      ],
      "text/plain": [
       "                                   0                1               2  \\\n",
       "mean_fit_time               0.835488         0.678138        0.655113   \n",
       "mean_score_time           0.00685644       0.00595794      0.00562291   \n",
       "mean_test_score             0.862475         0.863586        0.866499   \n",
       "mean_train_score            0.946966         0.946966        0.946967   \n",
       "param_alpha                    0.001             0.01             0.1   \n",
       "params              {'alpha': 0.001}  {'alpha': 0.01}  {'alpha': 0.1}   \n",
       "rank_test_score                    6                5               4   \n",
       "split0_test_score           0.882291         0.882406         0.88259   \n",
       "split0_train_score          0.946441         0.946441        0.946442   \n",
       "split1_test_score           0.889505         0.889631        0.890789   \n",
       "split1_train_score          0.944654         0.944654        0.944656   \n",
       "split2_test_score           0.849234         0.849455         0.85034   \n",
       "split2_train_score          0.949351         0.949352        0.949353   \n",
       "split3_test_score           0.870837         0.870907        0.871377   \n",
       "split3_train_score          0.947091         0.947091        0.947091   \n",
       "split4_test_score           0.820361         0.825399        0.837295   \n",
       "split4_train_score          0.947292         0.947292        0.947291   \n",
       "std_fit_time                0.214621        0.0599562        0.044757   \n",
       "std_score_time            0.00126347      0.000905132     0.000161063   \n",
       "std_test_score             0.0250526        0.0234132       0.0199257   \n",
       "std_train_score           0.00151218       0.00151219      0.00151186   \n",
       "\n",
       "                                 3                4                 5  \\\n",
       "mean_fit_time             0.696827         0.430825          0.127905   \n",
       "mean_score_time         0.00565305       0.00556383        0.00561786   \n",
       "mean_test_score           0.870554          0.88473            0.8967   \n",
       "mean_train_score          0.946922          0.94541          0.930617   \n",
       "param_alpha                      1               10               100   \n",
       "params              {'alpha': 1.0}  {'alpha': 10.0}  {'alpha': 100.0}   \n",
       "rank_test_score                  3                2                 1   \n",
       "split0_test_score          0.88421         0.893752          0.899191   \n",
       "split0_train_score        0.946397          0.94502          0.928997   \n",
       "split1_test_score         0.895714         0.904562          0.916498   \n",
       "split1_train_score        0.944617         0.942929          0.927889   \n",
       "split2_test_score         0.854601         0.875742          0.884952   \n",
       "split2_train_score        0.949306         0.947497          0.932118   \n",
       "split3_test_score         0.874911         0.887744           0.90442   \n",
       "split3_train_score        0.947041         0.945747          0.930658   \n",
       "split4_test_score         0.843241         0.861772          0.878375   \n",
       "split4_train_score        0.947247         0.945858          0.933424   \n",
       "std_fit_time             0.0427609         0.138252         0.0251548   \n",
       "std_score_time         0.000176667      0.000145065       0.000189952   \n",
       "std_test_score           0.0191715        0.0147687         0.0136461   \n",
       "std_train_score         0.00150932       0.00148156        0.00200985   \n",
       "\n",
       "                                    6                   7                    8  \n",
       "mean_fit_time               0.0577508           0.0233486            0.0153247  \n",
       "mean_score_time            0.00617566          0.00902209           0.00793147  \n",
       "mean_test_score              0.840823            0.659513          -0.00525042  \n",
       "mean_train_score             0.861942            0.666364                    0  \n",
       "param_alpha                      1000               10000               100000  \n",
       "params              {'alpha': 1000.0}  {'alpha': 10000.0}  {'alpha': 100000.0}  \n",
       "rank_test_score                     7                   8                    9  \n",
       "split0_test_score            0.865667            0.680028          -0.00012582  \n",
       "split0_train_score           0.864476            0.665782                    0  \n",
       "split1_test_score            0.878554            0.714215          -0.00080407  \n",
       "split1_train_score            0.85781             0.64961                    0  \n",
       "split2_test_score            0.808059            0.628686          -0.00565345  \n",
       "split2_train_score           0.860363            0.663583                    0  \n",
       "split3_test_score            0.844579            0.646479            -0.019632  \n",
       "split3_train_score           0.862963            0.672896                    0  \n",
       "split4_test_score            0.807139            0.628049         -1.87047e-05  \n",
       "split4_train_score           0.864101            0.679951                    0  \n",
       "std_fit_time               0.00584713          0.00266851           0.00259595  \n",
       "std_score_time             0.00318391          0.00115391           0.00355345  \n",
       "std_test_score              0.0291959           0.0332376            0.0074899  \n",
       "std_train_score            0.00251757           0.0101593                    0  "
      ]
     },
     "execution_count": 26,
     "metadata": {},
     "output_type": "execute_result"
    }
   ],
   "source": [
    "lasso_results = pd.DataFrame(lasso_gs.cv_results_)\n",
    "lasso_results.T"
   ]
  },
  {
   "cell_type": "code",
   "execution_count": null,
   "metadata": {},
   "outputs": [],
   "source": [
    "def plot_for_dataset(dataset, target, dataset_name, alphas):\n",
    "    lasso_gs = GridSearchCV(Lasso(), param_grid={'alpha': alphas}, n_jobs=-1, cv=5)\n",
    "    lasso_gs.fit(dataset, target)\n",
    "    lasso_results = pd.DataFrame(lasso_gs.cv_results_)\n",
    "    lasso_results.set_index('param_alpha', inplace=True)\n",
    "\n",
    "    ridge_gs = GridSearchCV(Ridge(), param_grid={'alpha' : alphas}, n_jobs=-1, cv=5)\n",
    "    ridge_gs.fit(dataset, target)\n",
    "    ridge_results = pd.DataFrame(ridge_gs.cv_results_)\n",
    "    ridge_results.set_index('param_alpha', inplace=True)\n",
    "\n",
    "    fig, ax = plt.subplots(1,2, figsize=(20,5))\n",
    "    fig.suptitle(dataset_name)\n",
    "\n",
    "    lasso_results[['mean_train_score', 'mean_test_score']].plot(logx=True, ylim=(0.5,1.0), ax=ax[0])\n",
    "    ridge_results[['mean_train_score', 'mean_test_score']].plot(logx=True, ylim=(0.5,1.0), ax=ax[1])\n",
    "\n",
    "    lasso_max_test_score = round(lasso_results.mean_test_score.max(), 4)\n",
    "    ridge_max_test_score = round(ridge_results.mean_test_score.max(), 4)\n",
    "\n",
    "    ax[0].axhline(lasso_max_test_score, color='red', label='max')\n",
    "    mid_alphas = int(len(alphas)/2+1)\n",
    "    ax[0].text(alphas[mid_alphas], lasso_max_test_score + .01, str(lasso_max_test_score))\n",
    "    ax[0].set_title('Lasso')\n",
    "    ax[1].axhline(ridge_max_test_score, color='red', label='max')\n",
    "    ax[1].text(alphas[mid_alphas], ridge_max_test_score + .01, str(ridge_max_test_score))\n",
    "    ax[1].set_title('Ridge');"
   ]
  },
  {
   "cell_type": "code",
   "execution_count": null,
   "metadata": {},
   "outputs": [],
   "source": [
    "plot_for_dataset(dataset_1, target_1, 'Dataset 1', np.logspace(-3,5,9))\n",
    "plot_for_dataset(dataset_2, target_2, 'Dataset 2', np.logspace(-3,5,9))\n",
    "plot_for_dataset(dataset_3, target_3, 'Dataset 3', np.logspace(-3,5,9))\n",
    "plot_for_dataset(dataset_4, target_4, 'Dataset 4', np.logspace(-3,5,9))"
   ]
  },
  {
   "cell_type": "code",
   "execution_count": null,
   "metadata": {},
   "outputs": [],
   "source": [
    "plot_for_dataset(dataset_1, target_1, 'Dataset 1', np.logspace(1,3,5))\n",
    "plot_for_dataset(dataset_2, target_2, 'Dataset 2', np.logspace(1,3,5))\n",
    "plot_for_dataset(dataset_3, target_3, 'Dataset 3', np.logspace(1,3,5))\n",
    "plot_for_dataset(dataset_4, target_4, 'Dataset 4', np.logspace(1,3,5))"
   ]
  },
  {
   "cell_type": "code",
   "execution_count": null,
   "metadata": {},
   "outputs": [],
   "source": [
    "lasso_gs = GridSearchCV(Lasso(), param_grid={'alpha': np.logspace(1,3,5)}, n_jobs=-1, cv=5)\n",
    "lasso_gs.fit(dataset_2, target_2)\n",
    "lasso_results = pd.DataFrame(lasso_gs.cv_results_)\n",
    "lasso_results.set_index('param_alpha', inplace=True)"
   ]
  },
  {
   "cell_type": "code",
   "execution_count": null,
   "metadata": {},
   "outputs": [],
   "source": [
    "lasso_gs.best_estimator_"
   ]
  },
  {
   "cell_type": "code",
   "execution_count": null,
   "metadata": {},
   "outputs": [],
   "source": [
    "coefficients = pd.DataFrame(lasso_gs.best_estimator_.coef_, index=dataset_2.columns, columns=['value'])\n",
    "coefficients = coefficients[coefficients.value != 0 ]\n",
    "coefficients.shape"
   ]
  },
  {
   "cell_type": "code",
   "execution_count": null,
   "metadata": {},
   "outputs": [],
   "source": [
    "pd.options.display.max_rows = 150"
   ]
  },
  {
   "cell_type": "code",
   "execution_count": null,
   "metadata": {},
   "outputs": [],
   "source": [
    "coefficients['abs'] = np.abs(coefficients.value)\n",
    "coefficients.sort_values('abs', ascending=False).head(133)"
   ]
  },
  {
   "cell_type": "code",
   "execution_count": null,
   "metadata": {},
   "outputs": [],
   "source": []
  }
 ],
 "metadata": {
  "kernelspec": {
   "display_name": "Python 3",
   "language": "python",
   "name": "python3"
  },
  "language_info": {
   "codemirror_mode": {
    "name": "ipython",
    "version": 3
   },
   "file_extension": ".py",
   "mimetype": "text/x-python",
   "name": "python",
   "nbconvert_exporter": "python",
   "pygments_lexer": "ipython3",
   "version": "3.6.3"
  },
  "widgets": {
   "state": {
    "03860d2d80204ca295d01e93e8e99474": {
     "views": [
      {
       "cell_index": 41
      }
     ]
    },
    "b535fb165fa343b297ba42fb4a55c6fa": {
     "views": [
      {
       "cell_index": 34
      }
     ]
    },
    "f5d5ef714eee4c61b085a3bb6b96cd73": {
     "views": [
      {
       "cell_index": 55
      }
     ]
    },
    "fdc5e91596ea49fa84bf4aed6d37b849": {
     "views": [
      {
       "cell_index": 47
      }
     ]
    }
   },
   "version": "1.2.0"
  }
 },
 "nbformat": 4,
 "nbformat_minor": 2
}
