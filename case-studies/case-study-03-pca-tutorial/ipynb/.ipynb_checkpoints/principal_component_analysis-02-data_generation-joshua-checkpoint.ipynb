{
 "cells": [
  {
   "cell_type": "markdown",
   "metadata": {},
   "source": [
    "## A Toy Example"
   ]
  },
  {
   "cell_type": "markdown",
   "metadata": {},
   "source": [
    "Pretend we are studying the motion of the physicist’s ideal spring. \n",
    "\n",
    "This system consists of a ball of mass $m$ attached to a massless, frictionless spring. \n",
    "\n",
    "The ball is released a small distance away from equilibrium (i.e. the spring is stretched). \n",
    "\n",
    "Because the spring is ideal, it oscillates indefinitely along the $x$-axis about its equilibrium at a set frequency."
   ]
  },
  {
   "cell_type": "markdown",
   "metadata": {},
   "source": [
    "![](https://ccrma.stanford.edu/~jos/Laplace/img60.png)"
   ]
  },
  {
   "cell_type": "markdown",
   "metadata": {},
   "source": [
    "This simple example is a canonical problem in classical mechanics. "
   ]
  },
  {
   "cell_type": "markdown",
   "metadata": {},
   "source": [
    "This is a standard problem in physics in which the force on the mass along the $x$ direction is a function of position. \n",
    "\n",
    "$$F = -kx$$\n",
    "\n",
    "where $x$ is the position and $k$ is a constant associated with the spring itself. "
   ]
  },
  {
   "cell_type": "markdown",
   "metadata": {},
   "source": [
    "We also know that the force on an object is \n",
    "\n",
    "$$F = ma$$\n",
    "\n",
    "where $m$ is the mass of the object and $a$ is its acceleration."
   ]
  },
  {
   "cell_type": "markdown",
   "metadata": {},
   "source": [
    "Thus, \n",
    "\n",
    "$$F = -kx = ma$$\n"
   ]
  },
  {
   "cell_type": "markdown",
   "metadata": {},
   "source": [
    "We can further connect these by noting that when the position, $x$, is a function of time, the velocity, $v$ is the first derivative of the position. \n",
    "\n",
    "The velocity is how the position is changing with respect to time. \n",
    "\n",
    "We annotate this as\n",
    "\n",
    "$$v(t) = \\frac{d}{dt}x = \\dot{x}$$"
   ]
  },
  {
   "cell_type": "markdown",
   "metadata": {},
   "source": [
    "The acceleration $a$ is the first derivative of the velocity and the second derivative of the position. It is how the velocity is changing with respect to time. \n",
    "\n",
    "We annotate this as\n",
    "\n",
    "\n",
    "$$a(t) = \\frac{d^2}{dt^2}x = \\ddot{x}$$"
   ]
  },
  {
   "cell_type": "markdown",
   "metadata": {},
   "source": [
    "Therefore,\n",
    "\n",
    "$$-kx = m\\ddot{x}$$\n",
    "\n",
    "or\n",
    "\n",
    "$$\\ddot{x} +\\frac{k}{m}x = 0$$"
   ]
  },
  {
   "cell_type": "markdown",
   "metadata": {},
   "source": [
    "This is known as a **differential equation** and has the solution \n",
    "\n",
    "$$x(t) = x_o\\cos (\\omega t) + \\frac{v_o}{\\omega}\\sin (\\omega t)$$\n",
    "\n",
    "where $\\omega = \\frac{k}{m}$."
   ]
  },
  {
   "cell_type": "markdown",
   "metadata": {},
   "source": [
    "### True Function\n",
    "\n",
    "We use this equation to define a \"true function\". We imagine pulling the mass to the left and then letting it go. This is modeled by $x_0 = -2$, $v_0 = 0$. \n",
    "\n",
    "We have chosen an arbitrary $\\omega=0.1$. Recall, that $\\omega$ is a constant containing the mass of the weight and the constant of the spring. "
   ]
  },
  {
   "cell_type": "code",
   "execution_count": 1,
   "metadata": {},
   "outputs": [
    {
     "name": "stdout",
     "output_type": "stream",
     "text": [
      "/home/jovyan/projects/dsi/09-unsupervised_learning-a_tutorial_on_pca\n"
     ]
    }
   ],
   "source": [
    "cd .."
   ]
  },
  {
   "cell_type": "code",
   "execution_count": 2,
   "metadata": {},
   "outputs": [
    {
     "name": "stdout",
     "output_type": "stream",
     "text": [
      "mkdir: cannot create directory ‘data’: File exists\r\n"
     ]
    }
   ],
   "source": [
    "mkdir data"
   ]
  },
  {
   "cell_type": "code",
   "execution_count": 3,
   "metadata": {},
   "outputs": [],
   "source": [
    "import matplotlib.pyplot as plt\n",
    "import numpy as np\n",
    "import pandas as pd"
   ]
  },
  {
   "cell_type": "code",
   "execution_count": 4,
   "metadata": {},
   "outputs": [],
   "source": [
    "x_0 = -2\n",
    "v_0 = 0\n",
    "omega = .1\n",
    "true_function = lambda t: x_0*np.cos(omega*t) + v_0/omega*np.sin(omega*t)"
   ]
  },
  {
   "cell_type": "markdown",
   "metadata": {},
   "source": [
    "In order to model this in time, we define an arbitrary time vector."
   ]
  },
  {
   "cell_type": "code",
   "execution_count": 5,
   "metadata": {},
   "outputs": [],
   "source": [
    "tt = np.linspace(1,151,150)"
   ]
  },
  {
   "cell_type": "markdown",
   "metadata": {},
   "source": [
    "#### What kind of object is `tt`? What is its dimension?"
   ]
  },
  {
   "cell_type": "markdown",
   "metadata": {},
   "source": [
    "Then, motion in a vacuum would look as "
   ]
  },
  {
   "cell_type": "code",
   "execution_count": 6,
   "metadata": {},
   "outputs": [],
   "source": [
    "xx = true_function(tt)"
   ]
  },
  {
   "cell_type": "code",
   "execution_count": 8,
   "metadata": {},
   "outputs": [
    {
     "data": {
      "text/plain": [
       "<matplotlib.text.Text at 0x7f2aeaf464a8>"
      ]
     },
     "execution_count": 8,
     "metadata": {},
     "output_type": "execute_result"
    },
    {
     "data": {
      "image/png": "[encoded data removed]",
      "text/plain": [
       "<matplotlib.figure.Figure at 0x7f2aeaf10710>"
      ]
     },
     "metadata": {},
     "output_type": "display_data"
    }
   ],
   "source": [
    "%matplotlib inline\n",
    "plt.scatter(xx, tt)\n",
    "plt.title('Motion in Vacuum')\n",
    "plt.xlabel('position')\n",
    "plt.ylabel('time')"
   ]
  },
  {
   "cell_type": "markdown",
   "metadata": {},
   "source": [
    "### Environmental Noise"
   ]
  },
  {
   "cell_type": "markdown",
   "metadata": {},
   "source": [
    "There would of course be some environmental noise. We model this using a simple noise function with a gaussian distribution."
   ]
  },
  {
   "cell_type": "code",
   "execution_count": null,
   "metadata": {},
   "outputs": [],
   "source": [
    "env_noise = .2*np.random.rand(150)"
   ]
  },
  {
   "cell_type": "markdown",
   "metadata": {},
   "source": [
    "### Actual Motion\n",
    "\n",
    "Then the actual motion would be the vacuum motion with the noise added."
   ]
  },
  {
   "cell_type": "code",
   "execution_count": null,
   "metadata": {},
   "outputs": [],
   "source": [
    "xx_act = true_function(tt) + env_noise"
   ]
  },
  {
   "cell_type": "code",
   "execution_count": null,
   "metadata": {},
   "outputs": [],
   "source": [
    "plt.scatter(xx_act, tt)\n",
    "plt.title('Actual Motion')\n",
    "plt.xlabel('position')\n",
    "plt.ylabel('time')"
   ]
  },
  {
   "cell_type": "markdown",
   "metadata": {},
   "source": [
    "### Modeling Experimental Data Collection\n",
    "\n",
    "In the subsequent lesson, we will be modeling a situation in which we are measuing the above Actual Motion using three different cameras."
   ]
  },
  {
   "cell_type": "markdown",
   "metadata": {},
   "source": [
    "<img src=\"https://www.evernote.com/l/AAFyWbRBljJIqqUfNcOo8SvvvPa3gCnvCsAB/image.png\" width=\"400px\">"
   ]
  },
  {
   "cell_type": "markdown",
   "metadata": {},
   "source": [
    "In order to simulate the positioning of the cameras, we will perform a rotation transformation on `xx_act`."
   ]
  },
  {
   "cell_type": "markdown",
   "metadata": {},
   "source": [
    "**Note**: we will make use of `np.pi` to convert from degrees to radians."
   ]
  },
  {
   "cell_type": "code",
   "execution_count": null,
   "metadata": {},
   "outputs": [],
   "source": [
    "np.pi"
   ]
  },
  {
   "cell_type": "code",
   "execution_count": null,
   "metadata": {},
   "outputs": [],
   "source": [
    "deg_to_rad = lambda x: np.pi/180*x\n",
    "\n",
    "def rotation(x, angle, rads=False):\n",
    "    if not rads:\n",
    "        angle = deg_to_rad(angle)\n",
    "        \n",
    "    xx = x*np.cos(angle)\n",
    "    yy = x*np.sin(angle)\n",
    "    return np.array([xx, yy]).T"
   ]
  },
  {
   "cell_type": "code",
   "execution_count": null,
   "metadata": {},
   "outputs": [],
   "source": [
    "cam_A = rotation(xx, 23)\n",
    "cam_B = rotation(xx, -15)\n",
    "cam_C = rotation(xx, 65)"
   ]
  },
  {
   "cell_type": "code",
   "execution_count": null,
   "metadata": {},
   "outputs": [],
   "source": [
    "plt.scatter(xx_act, np.zeros_like(xx_act), label='actual')\n",
    "plt.scatter(cam_A[:, 0], cam_A[:, 1], label='camera A')\n",
    "plt.scatter(cam_B[:, 0], cam_B[:, 1], label='camera B')\n",
    "plt.scatter(cam_C[:, 0], cam_C[:, 1], label='camera C')\n",
    "plt.legend()"
   ]
  },
  {
   "cell_type": "markdown",
   "metadata": {},
   "source": [
    "#### Each of the cameras is measuring the same thing from a different angle"
   ]
  },
  {
   "cell_type": "markdown",
   "metadata": {},
   "source": [
    "## Instrument noise\n",
    "\n",
    "Finally, we introduce some noise associated with the cameras ability to detect the position. "
   ]
  },
  {
   "cell_type": "code",
   "execution_count": null,
   "metadata": {},
   "outputs": [],
   "source": [
    "noise_factor_A = .4\n",
    "noise_factor_B = 1.1\n",
    "noise_factor_C = .5"
   ]
  },
  {
   "cell_type": "code",
   "execution_count": null,
   "metadata": {},
   "outputs": [],
   "source": [
    "noise_A = noise_factor_A*np.random.rand(300).reshape(150,2)\n",
    "noise_B = noise_factor_B*np.random.rand(300).reshape(150,2)\n",
    "noise_C = noise_factor_C*np.random.rand(300).reshape(150,2)"
   ]
  },
  {
   "cell_type": "code",
   "execution_count": null,
   "metadata": {},
   "outputs": [],
   "source": [
    "cam_A_act = cam_A + noise_A\n",
    "cam_B_act = cam_B + noise_B\n",
    "cam_C_act = cam_C + noise_C"
   ]
  },
  {
   "cell_type": "code",
   "execution_count": null,
   "metadata": {},
   "outputs": [],
   "source": [
    "plt.scatter(xx_act, np.zeros_like(xx_act), label='actual')\n",
    "plt.scatter(cam_A_act[:, 0], cam_A_act[:, 1], label='camera A')\n",
    "plt.scatter(cam_B_act[:, 0], cam_B_act[:, 1], label='camera B')\n",
    "plt.scatter(cam_C_act[:, 0], cam_C_act[:, 1], label='camera C')\n",
    "plt.legend()"
   ]
  },
  {
   "cell_type": "markdown",
   "metadata": {},
   "source": [
    "## Add Data to a dataframe and pickle"
   ]
  },
  {
   "cell_type": "code",
   "execution_count": null,
   "metadata": {},
   "outputs": [],
   "source": [
    "data_df = pd.DataFrame()\n",
    "data_df['x_a'] = cam_A_act[:, 0]\n",
    "data_df['x_b'] = cam_B_act[:, 0]\n",
    "data_df['x_c'] = cam_C_act[:, 0]\n",
    "data_df['y_a'] = cam_A_act[:, 1]\n",
    "data_df['y_b'] = cam_B_act[:, 1]\n",
    "data_df['y_c'] = cam_C_act[:, 1]"
   ]
  },
  {
   "cell_type": "code",
   "execution_count": null,
   "metadata": {},
   "outputs": [],
   "source": [
    "data_df.to_pickle('data/ball_on_spring.p')"
   ]
  },
  {
   "cell_type": "markdown",
   "metadata": {},
   "source": [
    "## Serialization"
   ]
  },
  {
   "cell_type": "markdown",
   "metadata": {},
   "source": [
    "#### For DataFrames\n",
    "    pd.read_pickle(file_location)\n",
    "    dataframe = pd.DataFrame.to_pickle(file_location)\n",
    "\n",
    "#### For sklearn objects\n",
    "As opposed to `sklearn.externals.joblib`\n",
    "    sklearn.externals.joblib.dump(object, file_location)\n",
    "    object = sklearn.externals.joblib.load(file_location)\n",
    "\n",
    "#### Generally, for Python objects\n",
    "    import pickle\n",
    "\n",
    "    pickle.dump(object, file)\n",
    "    object = pickle.load(file)\n",
    "\n",
    "#### General Serialization Language Agnostic\n",
    "    import json\n",
    "    \n",
    "    json.dump(some_dict, file)\n",
    "    some_dict = json.load(file)"
   ]
  },
  {
   "cell_type": "code",
   "execution_count": null,
   "metadata": {},
   "outputs": [],
   "source": []
  }
 ],
 "metadata": {
  "kernelspec": {
   "display_name": "Python 3",
   "language": "python",
   "name": "python3"
  },
  "language_info": {
   "codemirror_mode": {
    "name": "ipython",
    "version": 3
   },
   "file_extension": ".py",
   "mimetype": "text/x-python",
   "name": "python",
   "nbconvert_exporter": "python",
   "pygments_lexer": "ipython3",
   "version": "3.6.2"
  }
 },
 "nbformat": 4,
 "nbformat_minor": 2
}
