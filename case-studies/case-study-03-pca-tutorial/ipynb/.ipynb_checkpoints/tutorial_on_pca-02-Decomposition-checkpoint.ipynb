{
 "cells": [
  {
   "cell_type": "code",
   "execution_count": null,
   "metadata": {},
   "outputs": [],
   "source": [
    "cd .."
   ]
  },
  {
   "cell_type": "code",
   "execution_count": null,
   "metadata": {},
   "outputs": [],
   "source": [
    "import numpy as np\n",
    "import pandas as pd\n",
    "import scipy.linalg as sla\n",
    "import matplotlib.pyplot as plt\n",
    "from preamble import draw_vector, initialize_2d_plot\n",
    "%matplotlib inline"
   ]
  },
  {
   "cell_type": "markdown",
   "metadata": {},
   "source": [
    "**Note** I will be using pandas for holding matrices because this conveniently allows us to index column vectors easily."
   ]
  },
  {
   "cell_type": "markdown",
   "metadata": {},
   "source": [
    "### The Identity Matrix"
   ]
  },
  {
   "cell_type": "code",
   "execution_count": null,
   "metadata": {},
   "outputs": [],
   "source": [
    "I_2 = pd.DataFrame(np.eye(2))"
   ]
  },
  {
   "cell_type": "code",
   "execution_count": null,
   "metadata": {},
   "outputs": [],
   "source": [
    "I_2"
   ]
  },
  {
   "cell_type": "markdown",
   "metadata": {},
   "source": [
    "### Plot the column vectors of the 2-D Identity, $I$"
   ]
  },
  {
   "cell_type": "code",
   "execution_count": null,
   "metadata": {},
   "outputs": [],
   "source": [
    "plt.figure(figsize=(4,4))\n",
    "plt.arrow(0, 0, 1, 0, lw=1, head_width=.1)\n",
    "plt.arrow(0, 0, 0, 1, lw=1, head_width=.1)\n",
    "plt.xlim(-2,2)\n",
    "plt.ylim(-2,2)"
   ]
  },
  {
   "cell_type": "markdown",
   "metadata": {},
   "source": [
    "### What are the column vectors of the 2-D Identity in terms of Analytic Geometry?"
   ]
  },
  {
   "cell_type": "markdown",
   "metadata": {},
   "source": [
    "Note also that the column vector of $I$ are orthogonal."
   ]
  },
  {
   "cell_type": "markdown",
   "metadata": {},
   "source": [
    "Recall that the dot product between two vectors can be defined in terms of the cosine of the angle between them.\n",
    "\n",
    "$$\\mathbf{u}^T\\mathbf{v} = u\\cdot v\\cdot \\cos \\theta$$"
   ]
  },
  {
   "cell_type": "markdown",
   "metadata": {},
   "source": [
    "If two vectors are orthogonal (perpendicular) then the angle between them will be 90° and and the cosine of the angle between them is zero. "
   ]
  },
  {
   "cell_type": "markdown",
   "metadata": {},
   "source": [
    "Therefore, two vectors are orthogonal if and only if  their dot product is zero."
   ]
  },
  {
   "cell_type": "code",
   "execution_count": null,
   "metadata": {
    "scrolled": true
   },
   "outputs": [],
   "source": [
    "I_2[0].dot(I_2[1])"
   ]
  },
  {
   "cell_type": "markdown",
   "metadata": {},
   "source": [
    "## Matrix Decomposition"
   ]
  },
  {
   "cell_type": "markdown",
   "metadata": {},
   "source": [
    "A decomposition is the breaking of a matrix into a series of matrix multiplications. \n",
    "\n",
    "A very canonical decomposition is the QR factorization where $Q$ is an orthogonal matrix and $R$ is an upper triangular matrix. Thus we might have a matrix $X$ and we seek \n",
    "\n",
    "$$X=QR$$"
   ]
  },
  {
   "cell_type": "code",
   "execution_count": null,
   "metadata": {},
   "outputs": [],
   "source": [
    "W = np.random.rand(4).reshape(2,2)\n",
    "X = pd.DataFrame(W.T.dot(W))\n",
    "X"
   ]
  },
  {
   "cell_type": "markdown",
   "metadata": {},
   "source": [
    "**Advanced Note** We create a new random matrix $W$, then define $X$ to be $W^TW$. In doing so, $X$ is \n",
    "\n",
    "1. symmetric\n",
    "2. positive definite\n",
    "\n",
    "This second point guarantees that we will have real (as opposed to complex) eigenvalues at the end of this notebook."
   ]
  },
  {
   "cell_type": "code",
   "execution_count": null,
   "metadata": {},
   "outputs": [],
   "source": [
    "Q, R = sla.qr(X)\n",
    "Q, R = pd.DataFrame(Q), pd.DataFrame(R)\n",
    "display(Q)\n",
    "display(R)"
   ]
  },
  {
   "cell_type": "markdown",
   "metadata": {},
   "source": [
    "### $Q$ is orthogonal"
   ]
  },
  {
   "cell_type": "code",
   "execution_count": null,
   "metadata": {},
   "outputs": [],
   "source": [
    "Q[0].dot(Q[1])"
   ]
  },
  {
   "cell_type": "code",
   "execution_count": null,
   "metadata": {
    "scrolled": true
   },
   "outputs": [],
   "source": [
    "Q.dot(R)"
   ]
  },
  {
   "cell_type": "code",
   "execution_count": null,
   "metadata": {},
   "outputs": [],
   "source": [
    "X"
   ]
  },
  {
   "cell_type": "markdown",
   "metadata": {},
   "source": [
    "### $PLU$ Decomposition"
   ]
  },
  {
   "cell_type": "code",
   "execution_count": null,
   "metadata": {},
   "outputs": [],
   "source": [
    "P, L, U = sla.lu(X)\n",
    "P, L, U = pd.DataFrame(P), pd.DataFrame(L), pd.DataFrame(U)\n",
    "display(P)\n",
    "display(L)\n",
    "display(U)"
   ]
  },
  {
   "cell_type": "code",
   "execution_count": null,
   "metadata": {},
   "outputs": [],
   "source": [
    "P.dot(L).dot(U)"
   ]
  },
  {
   "cell_type": "code",
   "execution_count": null,
   "metadata": {},
   "outputs": [],
   "source": [
    "X"
   ]
  },
  {
   "cell_type": "markdown",
   "metadata": {},
   "source": [
    "### Eigendecomposition"
   ]
  },
  {
   "cell_type": "markdown",
   "metadata": {},
   "source": [
    "An eigendecomposition is a special kind of decomposition in which a matrix is decomposed into eigenvectors and eigenvalues which describe the essential nature of the matrix. \n",
    "\n",
    "\"eigen\" is German meaning \"own\", \"self\", or \"essential\". \n",
    "\n",
    "Under an eigendecomposition, a matrix is decomposed so that\n",
    "\n",
    "$$X = V\\Lambda V^T$$\n",
    "\n",
    "where $V$ is a matrix of eigenvectors and $\\Lambda$ is a diagonal matrix with corresponding eigenvalues on the diagonal."
   ]
  },
  {
   "cell_type": "markdown",
   "metadata": {},
   "source": [
    "The matrix $V$ is\n",
    "\n",
    "$$ V=\n",
    "\\left(\\begin{matrix}\n",
    "\\mathbf{v}_1 \\dots \\mathbf{v}_n \n",
    "\\end{matrix}\\right)\n",
    "$$\n",
    "\n",
    "where each $\\mathbf{v}_i$ is a column-oriented eigenvector."
   ]
  },
  {
   "cell_type": "markdown",
   "metadata": {},
   "source": [
    "### The Eigen Equation\n",
    "\n",
    "An eigenvector and corresponding eigenvalue are described by the following equation.\n",
    "\n",
    "$$X\\mathbf{v} = \\lambda \\mathbf{v}$$"
   ]
  },
  {
   "cell_type": "code",
   "execution_count": null,
   "metadata": {},
   "outputs": [],
   "source": [
    "eig_vals, eig_vecs = np.linalg.eig(X)"
   ]
  },
  {
   "cell_type": "code",
   "execution_count": null,
   "metadata": {},
   "outputs": [],
   "source": [
    "Lambda = pd.DataFrame(np.diag(eig_vals))\n",
    "V = pd.DataFrame(eig_vecs)\n",
    "display(Lambda)\n",
    "display(V)"
   ]
  },
  {
   "cell_type": "code",
   "execution_count": null,
   "metadata": {},
   "outputs": [],
   "source": [
    "V.dot(Lambda).dot(V.T)"
   ]
  },
  {
   "cell_type": "code",
   "execution_count": null,
   "metadata": {},
   "outputs": [],
   "source": [
    "X"
   ]
  },
  {
   "cell_type": "markdown",
   "metadata": {},
   "source": [
    "### The Eigen Equation"
   ]
  },
  {
   "cell_type": "markdown",
   "metadata": {},
   "source": [
    "$$X\\mathbf{v} = \\lambda \\mathbf{v}$$"
   ]
  },
  {
   "cell_type": "markdown",
   "metadata": {},
   "source": [
    "What this means is that multiplying a matrix by one of its eigenvectors gives a scalar multiple of that eigenvector. **The direction doesn't change!!**"
   ]
  },
  {
   "cell_type": "code",
   "execution_count": null,
   "metadata": {},
   "outputs": [],
   "source": [
    "V[0]"
   ]
  },
  {
   "cell_type": "code",
   "execution_count": null,
   "metadata": {},
   "outputs": [],
   "source": [
    "X.dot(V[0])"
   ]
  },
  {
   "cell_type": "code",
   "execution_count": null,
   "metadata": {},
   "outputs": [],
   "source": [
    "initialize_2d_plot(0,3,0,3)\n",
    "draw_vector(X.dot(V[0]), kwargs={'color':'green', 'linewidth':3})\n",
    "draw_vector(V[0])"
   ]
  },
  {
   "cell_type": "code",
   "execution_count": null,
   "metadata": {},
   "outputs": [],
   "source": [
    "initialize_2d_plot(0,3,0,3)\n",
    "draw_vector(Lambda[0][0]*V[0], kwargs={'color':'green', 'linewidth':3})\n",
    "draw_vector(V[0])"
   ]
  },
  {
   "cell_type": "code",
   "execution_count": null,
   "metadata": {},
   "outputs": [],
   "source": []
  }
 ],
 "metadata": {
  "kernelspec": {
   "display_name": "Python 3",
   "language": "python",
   "name": "python3"
  },
  "language_info": {
   "codemirror_mode": {
    "name": "ipython",
    "version": 3
   },
   "file_extension": ".py",
   "mimetype": "text/x-python",
   "name": "python",
   "nbconvert_exporter": "python",
   "pygments_lexer": "ipython3",
   "version": "3.6.2"
  }
 },
 "nbformat": 4,
 "nbformat_minor": 2
}
