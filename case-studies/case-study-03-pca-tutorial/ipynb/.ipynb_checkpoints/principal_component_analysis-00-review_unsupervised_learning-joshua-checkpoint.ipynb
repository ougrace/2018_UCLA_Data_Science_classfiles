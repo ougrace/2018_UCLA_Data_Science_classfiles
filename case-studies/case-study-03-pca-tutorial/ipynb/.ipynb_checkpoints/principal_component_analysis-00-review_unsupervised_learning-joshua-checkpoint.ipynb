{
 "cells": [
  {
   "cell_type": "markdown",
   "metadata": {},
   "source": [
    "# Don't Drop Out Of Numpy"
   ]
  },
  {
   "cell_type": "code",
   "execution_count": 1,
   "metadata": {},
   "outputs": [
    {
     "name": "stdout",
     "output_type": "stream",
     "text": [
      "/home/jovyan/projects/dsi/09-unsupervised_learning-a_tutorial_on_pca\n"
     ]
    }
   ],
   "source": [
    "cd .."
   ]
  },
  {
   "cell_type": "code",
   "execution_count": 2,
   "metadata": {},
   "outputs": [],
   "source": [
    "from lib.preprocessing import BoxCoxTransformer\n",
    "import numpy as np\n",
    "import pandas as pd\n",
    "import matplotlib.pyplot as plt\n",
    "import seaborn as sns\n",
    "%matplotlib inline"
   ]
  },
  {
   "cell_type": "markdown",
   "metadata": {},
   "source": [
    "This lesson will make heavy use of the numerical python library, `numpy`. Remember, its very important when working in `numpy` that you do not \"drop out of `numpy`\" that is change your data into regular lists."
   ]
  },
  {
   "cell_type": "code",
   "execution_count": 3,
   "metadata": {},
   "outputs": [
    {
     "data": {
      "text/plain": [
       "list"
      ]
     },
     "execution_count": 3,
     "metadata": {},
     "output_type": "execute_result"
    }
   ],
   "source": [
    "type([1,2])"
   ]
  },
  {
   "cell_type": "code",
   "execution_count": 4,
   "metadata": {},
   "outputs": [
    {
     "data": {
      "text/plain": [
       "numpy.ndarray"
      ]
     },
     "execution_count": 4,
     "metadata": {},
     "output_type": "execute_result"
    }
   ],
   "source": [
    "type(np.array([1,2]))"
   ]
  },
  {
   "cell_type": "markdown",
   "metadata": {},
   "source": [
    "The most common way to \"drop out of `numpy`\" is to use a list comprehension on a `numpy` array."
   ]
  },
  {
   "cell_type": "code",
   "execution_count": 5,
   "metadata": {},
   "outputs": [
    {
     "data": {
      "text/plain": [
       "list"
      ]
     },
     "execution_count": 5,
     "metadata": {},
     "output_type": "execute_result"
    }
   ],
   "source": [
    "type([v for v in np.array([1,2])])"
   ]
  },
  {
   "cell_type": "markdown",
   "metadata": {},
   "source": [
    "#### `numpy` vs `math`\n",
    "\n",
    "Python has a `math` library in addition to `numpy`. The main difference is that `numpy` works on vectors, whereas `math` works on scalar values."
   ]
  },
  {
   "cell_type": "code",
   "execution_count": 6,
   "metadata": {},
   "outputs": [],
   "source": [
    "import math"
   ]
  },
  {
   "cell_type": "markdown",
   "metadata": {},
   "source": [
    "We will need cosine and sine functions to define our true function. As we will be performing vector calculations, we will need to use the `numpy` trigonometric functions as opposed to the `math` trigonometric functions."
   ]
  },
  {
   "cell_type": "code",
   "execution_count": 7,
   "metadata": {},
   "outputs": [
    {
     "name": "stdout",
     "output_type": "stream",
     "text": [
      "only length-1 arrays can be converted to Python scalars\n"
     ]
    }
   ],
   "source": [
    "vv = np.linspace(1,1000,1000)\n",
    "np.cos(vv)\n",
    "try:\n",
    "    math.cos(vv)\n",
    "except TypeError as e:\n",
    "    print(e)"
   ]
  },
  {
   "cell_type": "markdown",
   "metadata": {},
   "source": [
    "We could perform a list comprehension using the `math` function."
   ]
  },
  {
   "cell_type": "code",
   "execution_count": 8,
   "metadata": {},
   "outputs": [],
   "source": [
    "cos_vv = [math.cos(v) for v in vv]"
   ]
  },
  {
   "cell_type": "markdown",
   "metadata": {},
   "source": [
    "The issue is time."
   ]
  },
  {
   "cell_type": "code",
   "execution_count": null,
   "metadata": {},
   "outputs": [],
   "source": [
    "%%timeit\n",
    "np.cos(vv)"
   ]
  },
  {
   "cell_type": "code",
   "execution_count": null,
   "metadata": {},
   "outputs": [],
   "source": [
    "%%timeit\n",
    "[math.cos(v) for v in vv]"
   ]
  },
  {
   "cell_type": "markdown",
   "metadata": {},
   "source": [
    "This difference only increases for larger $n$."
   ]
  },
  {
   "cell_type": "code",
   "execution_count": null,
   "metadata": {},
   "outputs": [],
   "source": [
    "%%timeit \n",
    "np.cos(np.linspace(1,1000,10000))"
   ]
  },
  {
   "cell_type": "code",
   "execution_count": null,
   "metadata": {},
   "outputs": [],
   "source": [
    "%%timeit \n",
    "[math.cos(v) for v in np.linspace(1,1000,10000)]"
   ]
  },
  {
   "cell_type": "code",
   "execution_count": null,
   "metadata": {},
   "outputs": [],
   "source": [
    "%%timeit \n",
    "np.cos(np.linspace(1,1000,1000000))"
   ]
  },
  {
   "cell_type": "code",
   "execution_count": null,
   "metadata": {},
   "outputs": [],
   "source": [
    "%%timeit \n",
    "[math.cos(v) for v in np.linspace(1,1000,1000000)]"
   ]
  },
  {
   "cell_type": "markdown",
   "metadata": {},
   "source": [
    "# Unsupervised Learning"
   ]
  },
  {
   "cell_type": "markdown",
   "metadata": {},
   "source": [
    "With unsupervised learning, we are still interested in developing models, but we do not have an output for each input. Rather we simply have data points.\n",
    "\n",
    "\n",
    "### With unsupervised learning, there is no target."
   ]
  },
  {
   "cell_type": "markdown",
   "metadata": {},
   "source": [
    "# Moments"
   ]
  },
  {
   "cell_type": "markdown",
   "metadata": {},
   "source": [
    "If the points represent mass:\n",
    "- the zeroth moment is the total mass\n",
    "- the first moment divided by the total mass is the center of mass\n",
    "- the second moment is the rotational inertia\n",
    "\n",
    "If the points represent probability density:\n",
    "- the zeroth moment is the total probability (i.e. one)\n",
    "- the first moment is the mean\n",
    "- the second central moment is the variance\n",
    "- the third standardized moment is the skewness"
   ]
  },
  {
   "cell_type": "markdown",
   "metadata": {},
   "source": [
    "### Critical to Remember\n",
    "\n",
    "- the **mean** is the expected value of a feature\n",
    "- the **variance** is a central moment and describes the spread around an expected value\n",
    "- the **skewness** is a standardized moment and describes the degree to which the feature's distribution deviates from the normal distribution\n",
    "- to centralize a feature, subtract the mean from the feature\n",
    "\n",
    "   e.g. `X_c = X - X.mean()`\n",
    "\n",
    "- to standardize a feature, subtract the mean and divide by the standard deviation\n",
    "\n",
    "   e.g. `X_sc = (X - X.mean())/X.std()`\n",
    "- `sklearn` has no built-in tool for removing skew, though one is in development and it may make it in to future versions. \n",
    "- the `lib.preprocessing` module in this repository includes an `sklearn` compatible `BoxCoxTransformer`."
   ]
  },
  {
   "cell_type": "markdown",
   "metadata": {},
   "source": [
    "## Deskewing Data"
   ]
  },
  {
   "cell_type": "code",
   "execution_count": null,
   "metadata": {},
   "outputs": [],
   "source": [
    "from sklearn.datasets import load_iris\n",
    "from scipy.stats import skew"
   ]
  },
  {
   "cell_type": "code",
   "execution_count": null,
   "metadata": {},
   "outputs": [],
   "source": [
    "X, y = load_iris(return_X_y=True)\n",
    "X = pd.DataFrame(X)"
   ]
  },
  {
   "cell_type": "code",
   "execution_count": null,
   "metadata": {},
   "outputs": [],
   "source": [
    "stats = X.describe().T\n",
    "stats['skew'] = skew(X)\n",
    "stats"
   ]
  },
  {
   "cell_type": "code",
   "execution_count": null,
   "metadata": {},
   "outputs": [],
   "source": [
    "fig = plt.figure(figsize=(20,6))\n",
    "for i, col in enumerate(X.columns):\n",
    "    fig.add_subplot(221+i)\n",
    "    sns.distplot(X[col], label=str(col))\n",
    "    plt.axvline(X[col].mean(), c='red')\n",
    "    plt.axvline(X[col].median(), c='black')\n",
    "    plt.legend()"
   ]
  },
  {
   "cell_type": "code",
   "execution_count": null,
   "metadata": {},
   "outputs": [],
   "source": [
    "X_dsk = pd.DataFrame(BoxCoxTransformer().fit_transform(X))"
   ]
  },
  {
   "cell_type": "code",
   "execution_count": null,
   "metadata": {},
   "outputs": [],
   "source": [
    "stats_dsk = X_dsk.describe().T\n",
    "stats_dsk['skew'] = skew(X_dsk)\n",
    "stats_dsk"
   ]
  },
  {
   "cell_type": "code",
   "execution_count": null,
   "metadata": {},
   "outputs": [],
   "source": [
    "fig = plt.figure(figsize=(20,6))\n",
    "for i, col in enumerate(X_dsk.columns):\n",
    "    fig.add_subplot(221+i)\n",
    "    sns.distplot(X_dsk[col], label=str(col))\n",
    "    plt.axvline(X_dsk[col].mean(), c='red')\n",
    "    plt.axvline(X_dsk[col].median(), c='black')\n",
    "    plt.legend()"
   ]
  },
  {
   "cell_type": "code",
   "execution_count": null,
   "metadata": {},
   "outputs": [],
   "source": [
    "X_cond = X_dsk.copy()\n",
    "X_cond[2] = X[2]\n",
    "X_cond[3] = X[3]"
   ]
  },
  {
   "cell_type": "code",
   "execution_count": null,
   "metadata": {},
   "outputs": [],
   "source": [
    "stats_dsk = X_cond.describe().T\n",
    "stats_dsk['skew'] = skew(X_cond)\n",
    "stats_dsk"
   ]
  },
  {
   "cell_type": "code",
   "execution_count": null,
   "metadata": {},
   "outputs": [],
   "source": [
    "fig = plt.figure(figsize=(20,6))\n",
    "for i, col in enumerate(X_cond.columns):\n",
    "    fig.add_subplot(221+i)\n",
    "    sns.distplot(X_cond[col], label=str(col))\n",
    "    plt.axvline(X_cond[col].mean(), c='red')\n",
    "    plt.axvline(X_cond[col].median(), c='black')\n",
    "    plt.legend()"
   ]
  },
  {
   "cell_type": "code",
   "execution_count": null,
   "metadata": {},
   "outputs": [],
   "source": []
  }
 ],
 "metadata": {
  "kernelspec": {
   "display_name": "Python 3",
   "language": "python",
   "name": "python3"
  },
  "language_info": {
   "codemirror_mode": {
    "name": "ipython",
    "version": 3
   },
   "file_extension": ".py",
   "mimetype": "text/x-python",
   "name": "python",
   "nbconvert_exporter": "python",
   "pygments_lexer": "ipython3",
   "version": "3.6.2"
  }
 },
 "nbformat": 4,
 "nbformat_minor": 2
}
