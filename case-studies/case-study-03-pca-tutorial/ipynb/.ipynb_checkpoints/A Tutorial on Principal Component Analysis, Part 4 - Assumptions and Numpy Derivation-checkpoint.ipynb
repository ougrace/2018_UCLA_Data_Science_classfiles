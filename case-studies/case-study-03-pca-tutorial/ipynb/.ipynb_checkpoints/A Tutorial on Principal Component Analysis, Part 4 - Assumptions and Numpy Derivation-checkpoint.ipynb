{
 "cells": [
  {
   "cell_type": "code",
   "execution_count": 1,
   "metadata": {
    "collapsed": true
   },
   "outputs": [],
   "source": [
    "import numpy as np\n",
    "import pandas as pd\n",
    "import seaborn as sns\n",
    "import matplotlib.pyplot as plt\n",
    "import scipy.stats as st\n",
    "%matplotlib inline"
   ]
  },
  {
   "cell_type": "markdown",
   "metadata": {},
   "source": [
    "<img src=\"https://www.evernote.com/l/AAFyWbRBljJIqqUfNcOo8SvvvPa3gCnvCsAB/image.png\" width=\"400px\">"
   ]
  },
  {
   "cell_type": "code",
   "execution_count": 2,
   "metadata": {
    "collapsed": true
   },
   "outputs": [],
   "source": [
    "data_df = pd.read_pickle('../data/ball_on_spring.p')"
   ]
  },
  {
   "cell_type": "code",
   "execution_count": 3,
   "metadata": {},
   "outputs": [
    {
     "data": {
      "text/html": [
       "<div>\n",
       "<table border=\"1\" class=\"dataframe\">\n",
       "  <thead>\n",
       "    <tr style=\"text-align: right;\">\n",
       "      <th></th>\n",
       "      <th>x_a</th>\n",
       "      <th>x_b</th>\n",
       "      <th>x_c</th>\n",
       "      <th>y_a</th>\n",
       "      <th>y_b</th>\n",
       "      <th>y_c</th>\n",
       "    </tr>\n",
       "  </thead>\n",
       "  <tbody>\n",
       "    <tr>\n",
       "      <th>94</th>\n",
       "      <td>2.078881</td>\n",
       "      <td>2.214552</td>\n",
       "      <td>1.196147</td>\n",
       "      <td>1.023591</td>\n",
       "      <td>-0.446920</td>\n",
       "      <td>1.983177</td>\n",
       "    </tr>\n",
       "    <tr>\n",
       "      <th>134</th>\n",
       "      <td>-0.724415</td>\n",
       "      <td>0.063705</td>\n",
       "      <td>-0.251865</td>\n",
       "      <td>-0.080178</td>\n",
       "      <td>1.200117</td>\n",
       "      <td>-0.657554</td>\n",
       "    </tr>\n",
       "    <tr>\n",
       "      <th>3</th>\n",
       "      <td>-1.585586</td>\n",
       "      <td>-1.131614</td>\n",
       "      <td>-0.619781</td>\n",
       "      <td>-0.522027</td>\n",
       "      <td>0.849995</td>\n",
       "      <td>-1.241663</td>\n",
       "    </tr>\n",
       "    <tr>\n",
       "      <th>57</th>\n",
       "      <td>-1.578014</td>\n",
       "      <td>-0.898351</td>\n",
       "      <td>-0.619813</td>\n",
       "      <td>-0.494151</td>\n",
       "      <td>0.673921</td>\n",
       "      <td>-1.396441</td>\n",
       "    </tr>\n",
       "  </tbody>\n",
       "</table>\n",
       "</div>"
      ],
      "text/plain": [
       "          x_a       x_b       x_c       y_a       y_b       y_c\n",
       "94   2.078881  2.214552  1.196147  1.023591 -0.446920  1.983177\n",
       "134 -0.724415  0.063705 -0.251865 -0.080178  1.200117 -0.657554\n",
       "3   -1.585586 -1.131614 -0.619781 -0.522027  0.849995 -1.241663\n",
       "57  -1.578014 -0.898351 -0.619813 -0.494151  0.673921 -1.396441"
      ]
     },
     "execution_count": 3,
     "metadata": {},
     "output_type": "execute_result"
    }
   ],
   "source": [
    "data_df.sample(4)"
   ]
  },
  {
   "cell_type": "code",
   "execution_count": 4,
   "metadata": {},
   "outputs": [
    {
     "data": {
      "image/png": "[encoded data removed]",
      "text/plain": [
       "<matplotlib.figure.Figure at 0x7ffa83fc7f98>"
      ]
     },
     "metadata": {},
     "output_type": "display_data"
    }
   ],
   "source": [
    "fig, ax = plt.subplots(1,3,figsize=(15,4))\n",
    "for i, cam in enumerate(['a', 'b', 'c']):\n",
    "    x_axis = 'x_{}'.format(cam)\n",
    "    y_axis = 'y_{}'.format(cam)\n",
    "    data_df.plot(x_axis, y_axis, kind='scatter', ax=ax[i], xlim=(-4,4), ylim=(-4,4))\n",
    "    ax[i].axvline(c='black')\n",
    "    ax[i].axhline(c='black')\n",
    "    ax[i].arrow(0,-4,0,1,color='green',lw=12)"
   ]
  },
  {
   "cell_type": "markdown",
   "metadata": {},
   "source": [
    "We can think of the green arrow as the camera."
   ]
  },
  {
   "cell_type": "markdown",
   "metadata": {},
   "source": [
    "### Variance and the Goal"
   ]
  },
  {
   "cell_type": "markdown",
   "metadata": {},
   "source": [
    "At a high-level, our goal is to find a transformation for our data so that it is a \"best expression\" of the data."
   ]
  },
  {
   "cell_type": "markdown",
   "metadata": {},
   "source": [
    "Mathematically, this looks like this \n",
    "\n",
    "$$X' = PX$$\n",
    "\n",
    "where $X$ is the original data and $X'$ is the transformed, \"best expression\" of the data. \n",
    "\n",
    "$P$ is a permutation or transformation matrix. "
   ]
  },
  {
   "cell_type": "markdown",
   "metadata": {},
   "source": [
    "# Assumptions and Limits\n",
    "\n",
    "1. Linearity\n",
    "2. Scaled Data\n",
    "3. Larger variances are more important\n",
    "4. The principal components are orthogonal"
   ]
  },
  {
   "cell_type": "markdown",
   "metadata": {},
   "source": [
    "### Numpy Derivation"
   ]
  },
  {
   "cell_type": "markdown",
   "metadata": {},
   "source": [
    "Let $X$ be our data.\n",
    "\n",
    "First look at $X^TX$."
   ]
  },
  {
   "cell_type": "code",
   "execution_count": 6,
   "metadata": {},
   "outputs": [
    {
     "data": {
      "text/html": [
       "<div>\n",
       "<table border=\"1\" class=\"dataframe\">\n",
       "  <thead>\n",
       "    <tr style=\"text-align: right;\">\n",
       "      <th></th>\n",
       "      <th>x_a</th>\n",
       "      <th>x_b</th>\n",
       "      <th>x_c</th>\n",
       "      <th>y_a</th>\n",
       "      <th>y_b</th>\n",
       "      <th>y_c</th>\n",
       "    </tr>\n",
       "  </thead>\n",
       "  <tbody>\n",
       "    <tr>\n",
       "      <th>x_a</th>\n",
       "      <td>251.251986</td>\n",
       "      <td>259.048555</td>\n",
       "      <td>118.941783</td>\n",
       "      <td>103.529060</td>\n",
       "      <td>-60.317572</td>\n",
       "      <td>247.192509</td>\n",
       "    </tr>\n",
       "    <tr>\n",
       "      <th>x_b</th>\n",
       "      <td>259.048555</td>\n",
       "      <td>299.305140</td>\n",
       "      <td>131.395517</td>\n",
       "      <td>113.566998</td>\n",
       "      <td>-31.902208</td>\n",
       "      <td>258.610908</td>\n",
       "    </tr>\n",
       "    <tr>\n",
       "      <th>x_c</th>\n",
       "      <td>118.941783</td>\n",
       "      <td>131.395517</td>\n",
       "      <td>64.032006</td>\n",
       "      <td>52.187085</td>\n",
       "      <td>-14.240083</td>\n",
       "      <td>118.963122</td>\n",
       "    </tr>\n",
       "    <tr>\n",
       "      <th>y_a</th>\n",
       "      <td>103.529060</td>\n",
       "      <td>113.566998</td>\n",
       "      <td>52.187085</td>\n",
       "      <td>46.845991</td>\n",
       "      <td>-14.108722</td>\n",
       "      <td>103.714195</td>\n",
       "    </tr>\n",
       "    <tr>\n",
       "      <th>y_b</th>\n",
       "      <td>-60.317572</td>\n",
       "      <td>-31.902208</td>\n",
       "      <td>-14.240083</td>\n",
       "      <td>-14.108722</td>\n",
       "      <td>81.793385</td>\n",
       "      <td>-54.785670</td>\n",
       "    </tr>\n",
       "    <tr>\n",
       "      <th>y_c</th>\n",
       "      <td>247.192509</td>\n",
       "      <td>258.610908</td>\n",
       "      <td>118.963122</td>\n",
       "      <td>103.714195</td>\n",
       "      <td>-54.785670</td>\n",
       "      <td>248.591992</td>\n",
       "    </tr>\n",
       "  </tbody>\n",
       "</table>\n",
       "</div>"
      ],
      "text/plain": [
       "            x_a         x_b         x_c         y_a        y_b         y_c\n",
       "x_a  251.251986  259.048555  118.941783  103.529060 -60.317572  247.192509\n",
       "x_b  259.048555  299.305140  131.395517  113.566998 -31.902208  258.610908\n",
       "x_c  118.941783  131.395517   64.032006   52.187085 -14.240083  118.963122\n",
       "y_a  103.529060  113.566998   52.187085   46.845991 -14.108722  103.714195\n",
       "y_b  -60.317572  -31.902208  -14.240083  -14.108722  81.793385  -54.785670\n",
       "y_c  247.192509  258.610908  118.963122  103.714195 -54.785670  248.591992"
      ]
     },
     "execution_count": 6,
     "metadata": {},
     "output_type": "execute_result"
    }
   ],
   "source": [
    "data_df.T.dot(data_df)\n",
    "# this is a symmetric matrix (X.T dot X)"
   ]
  },
  {
   "cell_type": "markdown",
   "metadata": {},
   "source": [
    "Let's look at the covariance matrix of $X$."
   ]
  },
  {
   "cell_type": "code",
   "execution_count": 7,
   "metadata": {},
   "outputs": [
    {
     "data": {
      "text/html": [
       "<div>\n",
       "<table border=\"1\" class=\"dataframe\">\n",
       "  <thead>\n",
       "    <tr style=\"text-align: right;\">\n",
       "      <th></th>\n",
       "      <th>x_a</th>\n",
       "      <th>x_b</th>\n",
       "      <th>x_c</th>\n",
       "      <th>y_a</th>\n",
       "      <th>y_b</th>\n",
       "      <th>y_c</th>\n",
       "    </tr>\n",
       "  </thead>\n",
       "  <tbody>\n",
       "    <tr>\n",
       "      <th>x_a</th>\n",
       "      <td>1.668530</td>\n",
       "      <td>1.676848</td>\n",
       "      <td>0.767168</td>\n",
       "      <td>0.672199</td>\n",
       "      <td>-0.479744</td>\n",
       "      <td>1.634341</td>\n",
       "    </tr>\n",
       "    <tr>\n",
       "      <th>x_b</th>\n",
       "      <td>1.676848</td>\n",
       "      <td>1.793750</td>\n",
       "      <td>0.773534</td>\n",
       "      <td>0.683389</td>\n",
       "      <td>-0.475075</td>\n",
       "      <td>1.649724</td>\n",
       "    </tr>\n",
       "    <tr>\n",
       "      <th>x_c</th>\n",
       "      <td>0.767168</td>\n",
       "      <td>0.773534</td>\n",
       "      <td>0.375179</td>\n",
       "      <td>0.310549</td>\n",
       "      <td>-0.227037</td>\n",
       "      <td>0.755127</td>\n",
       "    </tr>\n",
       "    <tr>\n",
       "      <th>y_a</th>\n",
       "      <td>0.672199</td>\n",
       "      <td>0.683389</td>\n",
       "      <td>0.310549</td>\n",
       "      <td>0.285518</td>\n",
       "      <td>-0.190339</td>\n",
       "      <td>0.664577</td>\n",
       "    </tr>\n",
       "    <tr>\n",
       "      <th>y_b</th>\n",
       "      <td>-0.479744</td>\n",
       "      <td>-0.475075</td>\n",
       "      <td>-0.227037</td>\n",
       "      <td>-0.190339</td>\n",
       "      <td>0.232203</td>\n",
       "      <td>-0.471973</td>\n",
       "    </tr>\n",
       "    <tr>\n",
       "      <th>y_c</th>\n",
       "      <td>1.634341</td>\n",
       "      <td>1.649724</td>\n",
       "      <td>0.755127</td>\n",
       "      <td>0.664577</td>\n",
       "      <td>-0.471973</td>\n",
       "      <td>1.634068</td>\n",
       "    </tr>\n",
       "  </tbody>\n",
       "</table>\n",
       "</div>"
      ],
      "text/plain": [
       "          x_a       x_b       x_c       y_a       y_b       y_c\n",
       "x_a  1.668530  1.676848  0.767168  0.672199 -0.479744  1.634341\n",
       "x_b  1.676848  1.793750  0.773534  0.683389 -0.475075  1.649724\n",
       "x_c  0.767168  0.773534  0.375179  0.310549 -0.227037  0.755127\n",
       "y_a  0.672199  0.683389  0.310549  0.285518 -0.190339  0.664577\n",
       "y_b -0.479744 -0.475075 -0.227037 -0.190339  0.232203 -0.471973\n",
       "y_c  1.634341  1.649724  0.755127  0.664577 -0.471973  1.634068"
      ]
     },
     "execution_count": 7,
     "metadata": {},
     "output_type": "execute_result"
    }
   ],
   "source": [
    "data_df.cov()"
   ]
  },
  {
   "cell_type": "markdown",
   "metadata": {},
   "source": [
    "And the correlation matrix of $X$."
   ]
  },
  {
   "cell_type": "code",
   "execution_count": 8,
   "metadata": {},
   "outputs": [
    {
     "data": {
      "text/html": [
       "<div>\n",
       "<table border=\"1\" class=\"dataframe\">\n",
       "  <thead>\n",
       "    <tr style=\"text-align: right;\">\n",
       "      <th></th>\n",
       "      <th>x_a</th>\n",
       "      <th>x_b</th>\n",
       "      <th>x_c</th>\n",
       "      <th>y_a</th>\n",
       "      <th>y_b</th>\n",
       "      <th>y_c</th>\n",
       "    </tr>\n",
       "  </thead>\n",
       "  <tbody>\n",
       "    <tr>\n",
       "      <th>x_a</th>\n",
       "      <td>1.000000</td>\n",
       "      <td>0.969272</td>\n",
       "      <td>0.969625</td>\n",
       "      <td>0.973899</td>\n",
       "      <td>-0.770741</td>\n",
       "      <td>0.989784</td>\n",
       "    </tr>\n",
       "    <tr>\n",
       "      <th>x_b</th>\n",
       "      <td>0.969272</td>\n",
       "      <td>1.000000</td>\n",
       "      <td>0.942929</td>\n",
       "      <td>0.954926</td>\n",
       "      <td>-0.736117</td>\n",
       "      <td>0.963597</td>\n",
       "    </tr>\n",
       "    <tr>\n",
       "      <th>x_c</th>\n",
       "      <td>0.969625</td>\n",
       "      <td>0.942929</td>\n",
       "      <td>1.000000</td>\n",
       "      <td>0.948841</td>\n",
       "      <td>-0.769208</td>\n",
       "      <td>0.964418</td>\n",
       "    </tr>\n",
       "    <tr>\n",
       "      <th>y_a</th>\n",
       "      <td>0.973899</td>\n",
       "      <td>0.954926</td>\n",
       "      <td>0.948841</td>\n",
       "      <td>1.000000</td>\n",
       "      <td>-0.739226</td>\n",
       "      <td>0.972956</td>\n",
       "    </tr>\n",
       "    <tr>\n",
       "      <th>y_b</th>\n",
       "      <td>-0.770741</td>\n",
       "      <td>-0.736117</td>\n",
       "      <td>-0.769208</td>\n",
       "      <td>-0.739226</td>\n",
       "      <td>1.000000</td>\n",
       "      <td>-0.766210</td>\n",
       "    </tr>\n",
       "    <tr>\n",
       "      <th>y_c</th>\n",
       "      <td>0.989784</td>\n",
       "      <td>0.963597</td>\n",
       "      <td>0.964418</td>\n",
       "      <td>0.972956</td>\n",
       "      <td>-0.766210</td>\n",
       "      <td>1.000000</td>\n",
       "    </tr>\n",
       "  </tbody>\n",
       "</table>\n",
       "</div>"
      ],
      "text/plain": [
       "          x_a       x_b       x_c       y_a       y_b       y_c\n",
       "x_a  1.000000  0.969272  0.969625  0.973899 -0.770741  0.989784\n",
       "x_b  0.969272  1.000000  0.942929  0.954926 -0.736117  0.963597\n",
       "x_c  0.969625  0.942929  1.000000  0.948841 -0.769208  0.964418\n",
       "y_a  0.973899  0.954926  0.948841  1.000000 -0.739226  0.972956\n",
       "y_b -0.770741 -0.736117 -0.769208 -0.739226  1.000000 -0.766210\n",
       "y_c  0.989784  0.963597  0.964418  0.972956 -0.766210  1.000000"
      ]
     },
     "execution_count": 8,
     "metadata": {},
     "output_type": "execute_result"
    }
   ],
   "source": [
    "data_df.corr()"
   ]
  },
  {
   "cell_type": "code",
   "execution_count": 10,
   "metadata": {
    "collapsed": true
   },
   "outputs": [],
   "source": [
    "#there's no discernable pattern in there because the data is not scaled."
   ]
  },
  {
   "cell_type": "markdown",
   "metadata": {},
   "source": [
    "### Scale the Data"
   ]
  },
  {
   "cell_type": "code",
   "execution_count": 17,
   "metadata": {
    "collapsed": true
   },
   "outputs": [],
   "source": [
    "data_sc_df = (data_df - data_df.mean())/data_df.std()\n",
    "# josh just manually scaled this instead of importing StandardScaler from sklearn.preprocessing\n",
    "# and then in StandardScaler we would fit_transform the data"
   ]
  },
  {
   "cell_type": "markdown",
   "metadata": {},
   "source": [
    "### $X_{sc}^TX_{sc}$"
   ]
  },
  {
   "cell_type": "code",
   "execution_count": 18,
   "metadata": {},
   "outputs": [
    {
     "data": {
      "text/html": [
       "<div>\n",
       "<table border=\"1\" class=\"dataframe\">\n",
       "  <thead>\n",
       "    <tr style=\"text-align: right;\">\n",
       "      <th></th>\n",
       "      <th>x_a</th>\n",
       "      <th>x_b</th>\n",
       "      <th>x_c</th>\n",
       "      <th>y_a</th>\n",
       "      <th>y_b</th>\n",
       "      <th>y_c</th>\n",
       "    </tr>\n",
       "  </thead>\n",
       "  <tbody>\n",
       "    <tr>\n",
       "      <th>x_a</th>\n",
       "      <td>149.000000</td>\n",
       "      <td>144.421508</td>\n",
       "      <td>144.474120</td>\n",
       "      <td>145.110944</td>\n",
       "      <td>-114.840404</td>\n",
       "      <td>147.477847</td>\n",
       "    </tr>\n",
       "    <tr>\n",
       "      <th>x_b</th>\n",
       "      <td>144.421508</td>\n",
       "      <td>149.000000</td>\n",
       "      <td>140.496451</td>\n",
       "      <td>142.283992</td>\n",
       "      <td>-109.681381</td>\n",
       "      <td>143.575889</td>\n",
       "    </tr>\n",
       "    <tr>\n",
       "      <th>x_c</th>\n",
       "      <td>144.474120</td>\n",
       "      <td>140.496451</td>\n",
       "      <td>149.000000</td>\n",
       "      <td>141.377339</td>\n",
       "      <td>-114.611923</td>\n",
       "      <td>143.698243</td>\n",
       "    </tr>\n",
       "    <tr>\n",
       "      <th>y_a</th>\n",
       "      <td>145.110944</td>\n",
       "      <td>142.283992</td>\n",
       "      <td>141.377339</td>\n",
       "      <td>149.000000</td>\n",
       "      <td>-110.144731</td>\n",
       "      <td>144.970396</td>\n",
       "    </tr>\n",
       "    <tr>\n",
       "      <th>y_b</th>\n",
       "      <td>-114.840404</td>\n",
       "      <td>-109.681381</td>\n",
       "      <td>-114.611923</td>\n",
       "      <td>-110.144731</td>\n",
       "      <td>149.000000</td>\n",
       "      <td>-114.165322</td>\n",
       "    </tr>\n",
       "    <tr>\n",
       "      <th>y_c</th>\n",
       "      <td>147.477847</td>\n",
       "      <td>143.575889</td>\n",
       "      <td>143.698243</td>\n",
       "      <td>144.970396</td>\n",
       "      <td>-114.165322</td>\n",
       "      <td>149.000000</td>\n",
       "    </tr>\n",
       "  </tbody>\n",
       "</table>\n",
       "</div>"
      ],
      "text/plain": [
       "            x_a         x_b         x_c         y_a         y_b         y_c\n",
       "x_a  149.000000  144.421508  144.474120  145.110944 -114.840404  147.477847\n",
       "x_b  144.421508  149.000000  140.496451  142.283992 -109.681381  143.575889\n",
       "x_c  144.474120  140.496451  149.000000  141.377339 -114.611923  143.698243\n",
       "y_a  145.110944  142.283992  141.377339  149.000000 -110.144731  144.970396\n",
       "y_b -114.840404 -109.681381 -114.611923 -110.144731  149.000000 -114.165322\n",
       "y_c  147.477847  143.575889  143.698243  144.970396 -114.165322  149.000000"
      ]
     },
     "execution_count": 18,
     "metadata": {},
     "output_type": "execute_result"
    }
   ],
   "source": [
    "data_sc_df.T.dot(data_sc_df)\n"
   ]
  },
  {
   "cell_type": "markdown",
   "metadata": {},
   "source": [
    "### $X_{sc}$ covariance"
   ]
  },
  {
   "cell_type": "code",
   "execution_count": 15,
   "metadata": {
    "scrolled": false
   },
   "outputs": [
    {
     "data": {
      "text/html": [
       "<div>\n",
       "<table border=\"1\" class=\"dataframe\">\n",
       "  <thead>\n",
       "    <tr style=\"text-align: right;\">\n",
       "      <th></th>\n",
       "      <th>x_a</th>\n",
       "      <th>x_b</th>\n",
       "      <th>x_c</th>\n",
       "      <th>y_a</th>\n",
       "      <th>y_b</th>\n",
       "      <th>y_c</th>\n",
       "    </tr>\n",
       "  </thead>\n",
       "  <tbody>\n",
       "    <tr>\n",
       "      <th>x_a</th>\n",
       "      <td>1.000000</td>\n",
       "      <td>0.969272</td>\n",
       "      <td>0.969625</td>\n",
       "      <td>0.973899</td>\n",
       "      <td>-0.770741</td>\n",
       "      <td>0.989784</td>\n",
       "    </tr>\n",
       "    <tr>\n",
       "      <th>x_b</th>\n",
       "      <td>0.969272</td>\n",
       "      <td>1.000000</td>\n",
       "      <td>0.942929</td>\n",
       "      <td>0.954926</td>\n",
       "      <td>-0.736117</td>\n",
       "      <td>0.963597</td>\n",
       "    </tr>\n",
       "    <tr>\n",
       "      <th>x_c</th>\n",
       "      <td>0.969625</td>\n",
       "      <td>0.942929</td>\n",
       "      <td>1.000000</td>\n",
       "      <td>0.948841</td>\n",
       "      <td>-0.769208</td>\n",
       "      <td>0.964418</td>\n",
       "    </tr>\n",
       "    <tr>\n",
       "      <th>y_a</th>\n",
       "      <td>0.973899</td>\n",
       "      <td>0.954926</td>\n",
       "      <td>0.948841</td>\n",
       "      <td>1.000000</td>\n",
       "      <td>-0.739226</td>\n",
       "      <td>0.972956</td>\n",
       "    </tr>\n",
       "    <tr>\n",
       "      <th>y_b</th>\n",
       "      <td>-0.770741</td>\n",
       "      <td>-0.736117</td>\n",
       "      <td>-0.769208</td>\n",
       "      <td>-0.739226</td>\n",
       "      <td>1.000000</td>\n",
       "      <td>-0.766210</td>\n",
       "    </tr>\n",
       "    <tr>\n",
       "      <th>y_c</th>\n",
       "      <td>0.989784</td>\n",
       "      <td>0.963597</td>\n",
       "      <td>0.964418</td>\n",
       "      <td>0.972956</td>\n",
       "      <td>-0.766210</td>\n",
       "      <td>1.000000</td>\n",
       "    </tr>\n",
       "  </tbody>\n",
       "</table>\n",
       "</div>"
      ],
      "text/plain": [
       "          x_a       x_b       x_c       y_a       y_b       y_c\n",
       "x_a  1.000000  0.969272  0.969625  0.973899 -0.770741  0.989784\n",
       "x_b  0.969272  1.000000  0.942929  0.954926 -0.736117  0.963597\n",
       "x_c  0.969625  0.942929  1.000000  0.948841 -0.769208  0.964418\n",
       "y_a  0.973899  0.954926  0.948841  1.000000 -0.739226  0.972956\n",
       "y_b -0.770741 -0.736117 -0.769208 -0.739226  1.000000 -0.766210\n",
       "y_c  0.989784  0.963597  0.964418  0.972956 -0.766210  1.000000"
      ]
     },
     "execution_count": 15,
     "metadata": {},
     "output_type": "execute_result"
    }
   ],
   "source": [
    "data_sc_df.cov()"
   ]
  },
  {
   "cell_type": "markdown",
   "metadata": {},
   "source": [
    "### $X_{sc}$ correlation"
   ]
  },
  {
   "cell_type": "markdown",
   "metadata": {},
   "source": [
    "the correlation matrix is scaled data.\n",
    "$X^TX$\n",
    "Divide by the size of the dataset."
   ]
  },
  {
   "cell_type": "code",
   "execution_count": 19,
   "metadata": {},
   "outputs": [
    {
     "data": {
      "text/html": [
       "<div>\n",
       "<table border=\"1\" class=\"dataframe\">\n",
       "  <thead>\n",
       "    <tr style=\"text-align: right;\">\n",
       "      <th></th>\n",
       "      <th>x_a</th>\n",
       "      <th>x_b</th>\n",
       "      <th>x_c</th>\n",
       "      <th>y_a</th>\n",
       "      <th>y_b</th>\n",
       "      <th>y_c</th>\n",
       "    </tr>\n",
       "  </thead>\n",
       "  <tbody>\n",
       "    <tr>\n",
       "      <th>x_a</th>\n",
       "      <td>1.000000</td>\n",
       "      <td>0.969272</td>\n",
       "      <td>0.969625</td>\n",
       "      <td>0.973899</td>\n",
       "      <td>-0.770741</td>\n",
       "      <td>0.989784</td>\n",
       "    </tr>\n",
       "    <tr>\n",
       "      <th>x_b</th>\n",
       "      <td>0.969272</td>\n",
       "      <td>1.000000</td>\n",
       "      <td>0.942929</td>\n",
       "      <td>0.954926</td>\n",
       "      <td>-0.736117</td>\n",
       "      <td>0.963597</td>\n",
       "    </tr>\n",
       "    <tr>\n",
       "      <th>x_c</th>\n",
       "      <td>0.969625</td>\n",
       "      <td>0.942929</td>\n",
       "      <td>1.000000</td>\n",
       "      <td>0.948841</td>\n",
       "      <td>-0.769208</td>\n",
       "      <td>0.964418</td>\n",
       "    </tr>\n",
       "    <tr>\n",
       "      <th>y_a</th>\n",
       "      <td>0.973899</td>\n",
       "      <td>0.954926</td>\n",
       "      <td>0.948841</td>\n",
       "      <td>1.000000</td>\n",
       "      <td>-0.739226</td>\n",
       "      <td>0.972956</td>\n",
       "    </tr>\n",
       "    <tr>\n",
       "      <th>y_b</th>\n",
       "      <td>-0.770741</td>\n",
       "      <td>-0.736117</td>\n",
       "      <td>-0.769208</td>\n",
       "      <td>-0.739226</td>\n",
       "      <td>1.000000</td>\n",
       "      <td>-0.766210</td>\n",
       "    </tr>\n",
       "    <tr>\n",
       "      <th>y_c</th>\n",
       "      <td>0.989784</td>\n",
       "      <td>0.963597</td>\n",
       "      <td>0.964418</td>\n",
       "      <td>0.972956</td>\n",
       "      <td>-0.766210</td>\n",
       "      <td>1.000000</td>\n",
       "    </tr>\n",
       "  </tbody>\n",
       "</table>\n",
       "</div>"
      ],
      "text/plain": [
       "          x_a       x_b       x_c       y_a       y_b       y_c\n",
       "x_a  1.000000  0.969272  0.969625  0.973899 -0.770741  0.989784\n",
       "x_b  0.969272  1.000000  0.942929  0.954926 -0.736117  0.963597\n",
       "x_c  0.969625  0.942929  1.000000  0.948841 -0.769208  0.964418\n",
       "y_a  0.973899  0.954926  0.948841  1.000000 -0.739226  0.972956\n",
       "y_b -0.770741 -0.736117 -0.769208 -0.739226  1.000000 -0.766210\n",
       "y_c  0.989784  0.963597  0.964418  0.972956 -0.766210  1.000000"
      ]
     },
     "execution_count": 19,
     "metadata": {},
     "output_type": "execute_result"
    }
   ],
   "source": [
    "\n",
    "\n",
    "data_sc_df.corr()"
   ]
  },
  {
   "cell_type": "markdown",
   "metadata": {},
   "source": [
    "### What does this tell us about $X^TX$, the covariance, and the correlation?"
   ]
  },
  {
   "cell_type": "code",
   "execution_count": 20,
   "metadata": {
    "collapsed": true
   },
   "outputs": [],
   "source": [
    "eig_vals, eig_vecs = np.linalg.eig(data_sc_df.cov())"
   ]
  },
  {
   "cell_type": "code",
   "execution_count": 21,
   "metadata": {},
   "outputs": [
    {
     "data": {
      "text/plain": [
       "array([ 5.49643184,  0.36642403,  0.00953637,  0.0264624 ,  0.04514051,\n",
       "        0.05600485])"
      ]
     },
     "execution_count": 21,
     "metadata": {},
     "output_type": "execute_result"
    }
   ],
   "source": [
    "eig_vals"
   ]
  },
  {
   "cell_type": "code",
   "execution_count": 22,
   "metadata": {},
   "outputs": [
    {
     "data": {
      "text/plain": [
       "array([[-0.42274797, -0.13706511,  0.78719899, -0.42353199, -0.05442525,\n",
       "        -0.02176229],\n",
       "       [-0.41501564, -0.20268534, -0.08618012,  0.20963116,  0.61894605,\n",
       "         0.59347639],\n",
       "       [-0.41678228, -0.09954635, -0.07798408,  0.30165649,  0.32575495,\n",
       "        -0.78306361],\n",
       "       [-0.41675105, -0.20165505, -0.01556533,  0.53218158, -0.68856027,\n",
       "         0.16756804],\n",
       "       [ 0.35205663, -0.93215182,  0.00801246, -0.03297949,  0.01579122,\n",
       "        -0.07581492],\n",
       "       [-0.42156067, -0.14370301, -0.6053947 , -0.63354078, -0.18292835,\n",
       "        -0.01722239]])"
      ]
     },
     "execution_count": 22,
     "metadata": {},
     "output_type": "execute_result"
    }
   ],
   "source": [
    "eig_vecs"
   ]
  },
  {
   "cell_type": "code",
   "execution_count": 23,
   "metadata": {
    "collapsed": true
   },
   "outputs": [],
   "source": [
    "from sklearn.decomposition import PCA"
   ]
  },
  {
   "cell_type": "code",
   "execution_count": 24,
   "metadata": {
    "collapsed": true
   },
   "outputs": [],
   "source": [
    "pca = PCA()"
   ]
  },
  {
   "cell_type": "code",
   "execution_count": 25,
   "metadata": {},
   "outputs": [
    {
     "data": {
      "text/plain": [
       "PCA(copy=True, iterated_power='auto', n_components=None, random_state=None,\n",
       "  svd_solver='auto', tol=0.0, whiten=False)"
      ]
     },
     "execution_count": 25,
     "metadata": {},
     "output_type": "execute_result"
    }
   ],
   "source": [
    "pca.fit(data_sc_df)"
   ]
  },
  {
   "cell_type": "code",
   "execution_count": 26,
   "metadata": {
    "scrolled": true
   },
   "outputs": [
    {
     "data": {
      "text/plain": [
       "array([ 5.45978896,  0.3639812 ,  0.05563149,  0.04483957,  0.02628598,\n",
       "        0.00947279])"
      ]
     },
     "execution_count": 26,
     "metadata": {},
     "output_type": "execute_result"
    }
   ],
   "source": [
    "pca.explained_variance_"
   ]
  },
  {
   "cell_type": "code",
   "execution_count": 31,
   "metadata": {
    "collapsed": true
   },
   "outputs": [],
   "source": [
    "XTX = data_sc_df.T.dot(data_sc_df)"
   ]
  },
  {
   "cell_type": "code",
   "execution_count": 32,
   "metadata": {
    "collapsed": true
   },
   "outputs": [],
   "source": [
    "eig_vals, eig_vecs = np.linalg.eig(XTX/150)"
   ]
  },
  {
   "cell_type": "code",
   "execution_count": 33,
   "metadata": {},
   "outputs": [
    {
     "data": {
      "text/plain": [
       "array([ 5.45978896,  0.3639812 ,  0.00947279,  0.02628598,  0.04483957,\n",
       "        0.05563149])"
      ]
     },
     "execution_count": 33,
     "metadata": {},
     "output_type": "execute_result"
    }
   ],
   "source": [
    "# notice the eigen values are very close to the explained variance in PCA\n",
    "eig_vals"
   ]
  },
  {
   "cell_type": "markdown",
   "metadata": {},
   "source": [
    "### We can state the sklearn PCA algorithm as such"
   ]
  },
  {
   "cell_type": "markdown",
   "metadata": {},
   "source": [
    "1. for data $A$\n",
    "2. calculate $A^TA$\n",
    "3. divide $A^TA$ by the number of rows in $A$\n",
    "4. find the eigendecomposition of $A^TA = S\\Lambda S^T$\n",
    "5. the explained variances are the eigenvalues\n",
    "\n",
    "P is the eigenvectors"
   ]
  },
  {
   "cell_type": "markdown",
   "metadata": {},
   "source": [
    "### Explained Variance Ratio"
   ]
  },
  {
   "cell_type": "code",
   "execution_count": 34,
   "metadata": {},
   "outputs": [
    {
     "data": {
      "text/plain": [
       "array([ 0.91607197,  0.06107067,  0.00933414,  0.00752342,  0.0044104 ,\n",
       "        0.00158939])"
      ]
     },
     "execution_count": 34,
     "metadata": {},
     "output_type": "execute_result"
    }
   ],
   "source": [
    "pca.explained_variance_ratio_"
   ]
  },
  {
   "cell_type": "markdown",
   "metadata": {},
   "source": [
    "Basically almost all of our data is captured by the first principal component. "
   ]
  },
  {
   "cell_type": "code",
   "execution_count": 35,
   "metadata": {
    "collapsed": true
   },
   "outputs": [],
   "source": [
    "pca_1 = PCA(n_components=1)"
   ]
  },
  {
   "cell_type": "code",
   "execution_count": 36,
   "metadata": {
    "collapsed": true
   },
   "outputs": [],
   "source": [
    "pca_1_vec = pca_1.fit_transform(data_sc_df)"
   ]
  },
  {
   "cell_type": "code",
   "execution_count": 39,
   "metadata": {
    "collapsed": true
   },
   "outputs": [],
   "source": [
    "tt = np.array(range(150))\n",
    "# make some arbitrary vector along the x axis and then plot it\n"
   ]
  },
  {
   "cell_type": "code",
   "execution_count": 40,
   "metadata": {},
   "outputs": [
    {
     "data": {
      "text/plain": [
       "<matplotlib.collections.PathCollection at 0x7ffa4fc373c8>"
      ]
     },
     "execution_count": 40,
     "metadata": {},
     "output_type": "execute_result"
    },
    {
     "data": {
      "image/png": "[encoded data removed]",
      "text/plain": [
       "<matplotlib.figure.Figure at 0x7ffa533237b8>"
      ]
     },
     "metadata": {},
     "output_type": "display_data"
    }
   ],
   "source": [
    "plt.scatter(pca_1_vec, tt)"
   ]
  },
  {
   "cell_type": "code",
   "execution_count": null,
   "metadata": {
    "collapsed": true
   },
   "outputs": [],
   "source": []
  }
 ],
 "metadata": {
  "kernelspec": {
   "display_name": "Python 3",
   "language": "python",
   "name": "python3"
  },
  "language_info": {
   "codemirror_mode": {
    "name": "ipython",
    "version": 3
   },
   "file_extension": ".py",
   "mimetype": "text/x-python",
   "name": "python",
   "nbconvert_exporter": "python",
   "pygments_lexer": "ipython3",
   "version": "3.6.2"
  }
 },
 "nbformat": 4,
 "nbformat_minor": 2
}
