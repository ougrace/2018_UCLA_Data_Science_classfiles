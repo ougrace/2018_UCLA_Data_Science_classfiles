{
 "cells": [
  {
   "cell_type": "code",
   "execution_count": 1,
   "metadata": {
    "collapsed": true
   },
   "outputs": [],
   "source": [
    "import numpy as np\n",
    "import scipy.linalg as sla\n",
    "import matplotlib.pyplot as plt\n",
    "%matplotlib inline"
   ]
  },
  {
   "cell_type": "markdown",
   "metadata": {},
   "source": [
    "### The Identity Matrix"
   ]
  },
  {
   "cell_type": "code",
   "execution_count": 2,
   "metadata": {
    "collapsed": true
   },
   "outputs": [],
   "source": [
    "I_2 = np.eye(2)"
   ]
  },
  {
   "cell_type": "code",
   "execution_count": 3,
   "metadata": {},
   "outputs": [
    {
     "data": {
      "text/plain": [
       "array([[ 1.,  0.],\n",
       "       [ 0.,  1.]])"
      ]
     },
     "execution_count": 3,
     "metadata": {},
     "output_type": "execute_result"
    }
   ],
   "source": [
    "I_2"
   ]
  },
  {
   "cell_type": "markdown",
   "metadata": {},
   "source": [
    "### Plot the column vectors of the 2-D Identity, $I$"
   ]
  },
  {
   "cell_type": "code",
   "execution_count": 4,
   "metadata": {},
   "outputs": [
    {
     "data": {
      "text/plain": [
       "(-2, 2)"
      ]
     },
     "execution_count": 4,
     "metadata": {},
     "output_type": "execute_result"
    },
    {
     "data": {
      "image/png": "[encoded data removed]",
      "text/plain": [
       "<matplotlib.figure.Figure at 0x7f75367764a8>"
      ]
     },
     "metadata": {},
     "output_type": "display_data"
    }
   ],
   "source": [
    "plt.figure(figsize=(4,4))\n",
    "plt.arrow(0, 0, 1, 0, lw=1, head_width=.1)\n",
    "plt.arrow(0, 0, 0, 1, lw=1, head_width=.1)\n",
    "plt.xlim(-2,2)\n",
    "plt.ylim(-2,2)"
   ]
  },
  {
   "cell_type": "markdown",
   "metadata": {},
   "source": [
    "### What are the column vectors of the 2-D Identity in terms of Analytic Geometry?"
   ]
  },
  {
   "cell_type": "markdown",
   "metadata": {},
   "source": [
    "Note also that the column vector of $I$ are orthogonal."
   ]
  },
  {
   "cell_type": "markdown",
   "metadata": {},
   "source": [
    "Recall that the dot product between two vectors can be defined in terms of the cosine of the angle between them.\n",
    "\n",
    "$$\\mathbf{u}^T\\mathbf{v} = u\\cdot v\\cdot \\cos \\theta$$"
   ]
  },
  {
   "cell_type": "markdown",
   "metadata": {},
   "source": [
    "If two vectors are orthogonal (perpendicular) then the angle between them will be 90° and and the cosine of the angle between them is zero. "
   ]
  },
  {
   "cell_type": "markdown",
   "metadata": {},
   "source": [
    "Therefore, two vectors are orthogonal if and only if  their dot product is zero."
   ]
  },
  {
   "cell_type": "code",
   "execution_count": 5,
   "metadata": {},
   "outputs": [
    {
     "data": {
      "text/plain": [
       "0.0"
      ]
     },
     "execution_count": 5,
     "metadata": {},
     "output_type": "execute_result"
    }
   ],
   "source": [
    "I_2[:,0].dot(I_2[:,1])"
   ]
  },
  {
   "cell_type": "markdown",
   "metadata": {},
   "source": [
    "## Matrix Decomposition"
   ]
  },
  {
   "cell_type": "markdown",
   "metadata": {},
   "source": [
    "A decomposition is the breaking of a matrix into a series of matrix multiplications. \n",
    "\n",
    "A very canonical decomposition is the QR factorization where $Q$ is an orthogonal matrix and $R$ is an upper triangular matrix. Thus we might have a matrix $X$ and we seek \n",
    "\n",
    "$$X=QR$$"
   ]
  },
  {
   "cell_type": "code",
   "execution_count": 6,
   "metadata": {},
   "outputs": [
    {
     "data": {
      "text/plain": [
       "array([[ 0.95491261,  0.44180596,  0.79224336],\n",
       "       [ 0.44180596,  0.34679025,  0.63069498],\n",
       "       [ 0.79224336,  0.63069498,  1.28683561]])"
      ]
     },
     "execution_count": 6,
     "metadata": {},
     "output_type": "execute_result"
    }
   ],
   "source": [
    "W = np.random.rand(9).reshape(3,3)\n",
    "X = W.T.dot(W)\n",
    "X"
   ]
  },
  {
   "cell_type": "markdown",
   "metadata": {},
   "source": [
    "**Advanced Note** We create a new random matrix $W$, then define $X$ to be $W^TW$. In doing so, $X$ is \n",
    "\n",
    "1. symmetric\n",
    "2. positive definite\n",
    "\n",
    "This second point guarantees that we will have real eigenvalues at the end of this notebook."
   ]
  },
  {
   "cell_type": "code",
   "execution_count": 7,
   "metadata": {},
   "outputs": [
    {
     "data": {
      "text/plain": [
       "array([[-0.7250224 ,  0.68859065,  0.01361773],\n",
       "       [-0.33544348, -0.33578427, -0.88018554],\n",
       "       [-0.60151491, -0.64272221,  0.47443436]])"
      ]
     },
     "metadata": {},
     "output_type": "display_data"
    },
    {
     "data": {
      "text/plain": [
       "array([[-1.31708015, -0.81602018, -1.56000751],\n",
       "       [ 0.        , -0.21758493, -0.49332391],\n",
       "       [ 0.        ,  0.        ,  0.06617899]])"
      ]
     },
     "metadata": {},
     "output_type": "display_data"
    }
   ],
   "source": [
    "Q, R = sla.qr(X)\n",
    "display(Q)\n",
    "display(R)"
   ]
  },
  {
   "cell_type": "markdown",
   "metadata": {},
   "source": [
    "### $Q$ is orthogonal"
   ]
  },
  {
   "cell_type": "code",
   "execution_count": 8,
   "metadata": {},
   "outputs": [
    {
     "data": {
      "text/plain": [
       "(-1.1102230246251565e-16, 0.0, 1.1102230246251565e-16)"
      ]
     },
     "execution_count": 8,
     "metadata": {},
     "output_type": "execute_result"
    }
   ],
   "source": [
    "Q[:,0].dot(Q[:,1]), Q[:,0].dot(Q[:,2]), Q[:,1].dot(Q[:,2])"
   ]
  },
  {
   "cell_type": "code",
   "execution_count": 9,
   "metadata": {
    "scrolled": true
   },
   "outputs": [
    {
     "data": {
      "text/plain": [
       "array([[ 0.95491261,  0.44180596,  0.79224336],\n",
       "       [ 0.44180596,  0.34679025,  0.63069498],\n",
       "       [ 0.79224336,  0.63069498,  1.28683561]])"
      ]
     },
     "execution_count": 9,
     "metadata": {},
     "output_type": "execute_result"
    }
   ],
   "source": [
    "Q.dot(R)"
   ]
  },
  {
   "cell_type": "code",
   "execution_count": 10,
   "metadata": {},
   "outputs": [
    {
     "data": {
      "text/plain": [
       "array([[ 0.95491261,  0.44180596,  0.79224336],\n",
       "       [ 0.44180596,  0.34679025,  0.63069498],\n",
       "       [ 0.79224336,  0.63069498,  1.28683561]])"
      ]
     },
     "execution_count": 10,
     "metadata": {},
     "output_type": "execute_result"
    }
   ],
   "source": [
    "X"
   ]
  },
  {
   "cell_type": "markdown",
   "metadata": {},
   "source": [
    "### $PLU$ Decomposition"
   ]
  },
  {
   "cell_type": "code",
   "execution_count": 11,
   "metadata": {},
   "outputs": [
    {
     "data": {
      "text/plain": [
       "array([[ 1.,  0.,  0.],\n",
       "       [ 0.,  0.,  1.],\n",
       "       [ 0.,  1.,  0.]])"
      ]
     },
     "metadata": {},
     "output_type": "display_data"
    },
    {
     "data": {
      "text/plain": [
       "array([[ 1.        ,  0.        ,  0.        ],\n",
       "       [ 0.82965012,  1.        ,  0.        ],\n",
       "       [ 0.46266638,  0.53901631,  1.        ]])"
      ]
     },
     "metadata": {},
     "output_type": "display_data"
    },
    {
     "data": {
      "text/plain": [
       "array([[ 0.95491261,  0.44180596,  0.79224336],\n",
       "       [ 0.        ,  0.26415061,  0.62955081],\n",
       "       [ 0.        ,  0.        , -0.07518755]])"
      ]
     },
     "metadata": {},
     "output_type": "display_data"
    }
   ],
   "source": [
    "P, L, U = sla.lu(X)\n",
    "display(P)\n",
    "display(L)\n",
    "display(U)"
   ]
  },
  {
   "cell_type": "code",
   "execution_count": 12,
   "metadata": {},
   "outputs": [
    {
     "data": {
      "text/plain": [
       "array([[ 0.95491261,  0.44180596,  0.79224336],\n",
       "       [ 0.44180596,  0.34679025,  0.63069498],\n",
       "       [ 0.79224336,  0.63069498,  1.28683561]])"
      ]
     },
     "execution_count": 12,
     "metadata": {},
     "output_type": "execute_result"
    }
   ],
   "source": [
    "P.dot(L).dot(U)"
   ]
  },
  {
   "cell_type": "code",
   "execution_count": 13,
   "metadata": {},
   "outputs": [
    {
     "data": {
      "text/plain": [
       "array([[ 0.95491261,  0.44180596,  0.79224336],\n",
       "       [ 0.44180596,  0.34679025,  0.63069498],\n",
       "       [ 0.79224336,  0.63069498,  1.28683561]])"
      ]
     },
     "execution_count": 13,
     "metadata": {},
     "output_type": "execute_result"
    }
   ],
   "source": [
    "X"
   ]
  },
  {
   "cell_type": "markdown",
   "metadata": {},
   "source": [
    "### Eigendecomposition"
   ]
  },
  {
   "cell_type": "markdown",
   "metadata": {},
   "source": [
    "An eigendecomposition is a special kind of decomposition in which a matrix is decomposed into eigenvectors and eigenvalues which describe the essential nature of the matrix. \n",
    "\n",
    "\"eigen\" is German meaning \"own\", \"self\", or \"essential\". \n",
    "\n",
    "Under an eigendecomposition, a matrix is decomposed so that\n",
    "\n",
    "$$X = S\\Lambda S^T$$\n",
    "\n",
    "where $S$ is a matrix of eigenvectors and $\\Lambda$ is a diagonal matrix with corresponding eigenvalues on the diagonal."
   ]
  },
  {
   "cell_type": "code",
   "execution_count": 14,
   "metadata": {
    "collapsed": true
   },
   "outputs": [],
   "source": [
    "eig_vals, eig_vecs = np.linalg.eig(X)"
   ]
  },
  {
   "cell_type": "code",
   "execution_count": 15,
   "metadata": {},
   "outputs": [
    {
     "data": {
      "text/plain": [
       "array([[ 2.24188657,  0.        ,  0.        ],\n",
       "       [ 0.        ,  0.3202352 ,  0.        ],\n",
       "       [ 0.        ,  0.        ,  0.02641669]])"
      ]
     },
     "metadata": {},
     "output_type": "display_data"
    },
    {
     "data": {
      "text/plain": [
       "array([[ 0.57592808,  0.81181608,  0.0962367 ],\n",
       "       [ 0.37587115, -0.15841981, -0.91303014],\n",
       "       [ 0.72596675, -0.5620123 ,  0.39637666]])"
      ]
     },
     "metadata": {},
     "output_type": "display_data"
    }
   ],
   "source": [
    "Lambda = np.diag(eig_vals)\n",
    "S = eig_vecs\n",
    "display(Lambda)\n",
    "display(S)"
   ]
  },
  {
   "cell_type": "code",
   "execution_count": 16,
   "metadata": {},
   "outputs": [
    {
     "data": {
      "text/plain": [
       "array([[ 0.95491261,  0.44180596,  0.79224336],\n",
       "       [ 0.44180596,  0.34679025,  0.63069498],\n",
       "       [ 0.79224336,  0.63069498,  1.28683561]])"
      ]
     },
     "execution_count": 16,
     "metadata": {},
     "output_type": "execute_result"
    }
   ],
   "source": [
    "S.dot(Lambda).dot(S.T)"
   ]
  },
  {
   "cell_type": "markdown",
   "metadata": {},
   "source": [
    "### The Eigen Equation"
   ]
  },
  {
   "cell_type": "markdown",
   "metadata": {},
   "source": [
    "$$X\\mathbf{v} = \\lambda \\mathbf{v}$$"
   ]
  },
  {
   "cell_type": "code",
   "execution_count": 17,
   "metadata": {},
   "outputs": [
    {
     "data": {
      "text/plain": [
       "array([ 1.29116544,  0.84266049,  1.62753511])"
      ]
     },
     "execution_count": 17,
     "metadata": {},
     "output_type": "execute_result"
    }
   ],
   "source": [
    "X.dot(eig_vecs[:, 0])"
   ]
  },
  {
   "cell_type": "code",
   "execution_count": 18,
   "metadata": {},
   "outputs": [
    {
     "data": {
      "text/plain": [
       "array([ 1.29116544,  0.84266049,  1.62753511])"
      ]
     },
     "execution_count": 18,
     "metadata": {},
     "output_type": "execute_result"
    }
   ],
   "source": [
    "eig_vals[0]*eig_vecs[:, 0]"
   ]
  },
  {
   "cell_type": "code",
   "execution_count": null,
   "metadata": {
    "collapsed": true
   },
   "outputs": [],
   "source": []
  }
 ],
 "metadata": {
  "kernelspec": {
   "display_name": "Python 3",
   "language": "python",
   "name": "python3"
  },
  "language_info": {
   "codemirror_mode": {
    "name": "ipython",
    "version": 3
   },
   "file_extension": ".py",
   "mimetype": "text/x-python",
   "name": "python",
   "nbconvert_exporter": "python",
   "pygments_lexer": "ipython3",
   "version": "3.6.2"
  }
 },
 "nbformat": 4,
 "nbformat_minor": 2
}
