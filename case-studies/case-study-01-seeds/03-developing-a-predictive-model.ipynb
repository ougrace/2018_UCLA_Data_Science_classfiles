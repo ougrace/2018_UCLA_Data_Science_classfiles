{
 "cells": [
  {
   "cell_type": "markdown",
   "metadata": {},
   "source": [
    "### Building a Predictive Model"
   ]
  },
  {
   "cell_type": "code",
   "execution_count": 35,
   "metadata": {},
   "outputs": [],
   "source": [
    "from sklearn.metrics import accuracy_score"
   ]
  },
  {
   "cell_type": "code",
   "execution_count": 36,
   "metadata": {},
   "outputs": [],
   "source": [
    "from sklearn.neighbors import KNeighborsClassifier"
   ]
  },
  {
   "cell_type": "code",
   "execution_count": 37,
   "metadata": {},
   "outputs": [],
   "source": [
    "from sklearn.model_selection import train_test_split"
   ]
  },
  {
   "cell_type": "code",
   "execution_count": null,
   "metadata": {},
   "outputs": [],
   "source": [
    "knc = KNeighborsClassifier()"
   ]
  },
  {
   "cell_type": "code",
   "execution_count": 37,
   "metadata": {},
   "outputs": [],
   "source": [
    "X_train, \\\n",
    "    X_test, \\\n",
    "    y_train, \\\n",
    "    y_test = train_test_split(features, target, random_state=10)"
   ]
  },
  {
   "cell_type": "code",
   "execution_count": 38,
   "metadata": {},
   "outputs": [
    {
     "data": {
      "text/html": [
       "<div>\n",
       "<style scoped>\n",
       "    .dataframe tbody tr th:only-of-type {\n",
       "        vertical-align: middle;\n",
       "    }\n",
       "\n",
       "    .dataframe tbody tr th {\n",
       "        vertical-align: top;\n",
       "    }\n",
       "\n",
       "    .dataframe thead th {\n",
       "        text-align: right;\n",
       "    }\n",
       "</style>\n",
       "<table border=\"1\" class=\"dataframe\">\n",
       "  <thead>\n",
       "    <tr style=\"text-align: right;\">\n",
       "      <th></th>\n",
       "      <th>test_score</th>\n",
       "      <th>train_score</th>\n",
       "    </tr>\n",
       "    <tr>\n",
       "      <th>k</th>\n",
       "      <th></th>\n",
       "      <th></th>\n",
       "    </tr>\n",
       "  </thead>\n",
       "  <tbody>\n",
       "    <tr>\n",
       "      <th>2</th>\n",
       "      <td>0.943396</td>\n",
       "      <td>0.961783</td>\n",
       "    </tr>\n",
       "    <tr>\n",
       "      <th>3</th>\n",
       "      <td>0.886792</td>\n",
       "      <td>0.961783</td>\n",
       "    </tr>\n",
       "    <tr>\n",
       "      <th>4</th>\n",
       "      <td>0.905660</td>\n",
       "      <td>0.936306</td>\n",
       "    </tr>\n",
       "    <tr>\n",
       "      <th>5</th>\n",
       "      <td>0.905660</td>\n",
       "      <td>0.917197</td>\n",
       "    </tr>\n",
       "    <tr>\n",
       "      <th>6</th>\n",
       "      <td>0.924528</td>\n",
       "      <td>0.917197</td>\n",
       "    </tr>\n",
       "    <tr>\n",
       "      <th>7</th>\n",
       "      <td>0.905660</td>\n",
       "      <td>0.910828</td>\n",
       "    </tr>\n",
       "    <tr>\n",
       "      <th>8</th>\n",
       "      <td>0.924528</td>\n",
       "      <td>0.910828</td>\n",
       "    </tr>\n",
       "    <tr>\n",
       "      <th>9</th>\n",
       "      <td>0.924528</td>\n",
       "      <td>0.917197</td>\n",
       "    </tr>\n",
       "    <tr>\n",
       "      <th>10</th>\n",
       "      <td>0.905660</td>\n",
       "      <td>0.917197</td>\n",
       "    </tr>\n",
       "    <tr>\n",
       "      <th>11</th>\n",
       "      <td>0.924528</td>\n",
       "      <td>0.910828</td>\n",
       "    </tr>\n",
       "    <tr>\n",
       "      <th>12</th>\n",
       "      <td>0.905660</td>\n",
       "      <td>0.917197</td>\n",
       "    </tr>\n",
       "    <tr>\n",
       "      <th>13</th>\n",
       "      <td>0.905660</td>\n",
       "      <td>0.898089</td>\n",
       "    </tr>\n",
       "    <tr>\n",
       "      <th>14</th>\n",
       "      <td>0.905660</td>\n",
       "      <td>0.898089</td>\n",
       "    </tr>\n",
       "    <tr>\n",
       "      <th>15</th>\n",
       "      <td>0.905660</td>\n",
       "      <td>0.904459</td>\n",
       "    </tr>\n",
       "    <tr>\n",
       "      <th>16</th>\n",
       "      <td>0.905660</td>\n",
       "      <td>0.898089</td>\n",
       "    </tr>\n",
       "    <tr>\n",
       "      <th>17</th>\n",
       "      <td>0.924528</td>\n",
       "      <td>0.904459</td>\n",
       "    </tr>\n",
       "    <tr>\n",
       "      <th>18</th>\n",
       "      <td>0.924528</td>\n",
       "      <td>0.904459</td>\n",
       "    </tr>\n",
       "    <tr>\n",
       "      <th>19</th>\n",
       "      <td>0.924528</td>\n",
       "      <td>0.910828</td>\n",
       "    </tr>\n",
       "  </tbody>\n",
       "</table>\n",
       "</div>"
      ],
      "text/plain": [
       "    test_score  train_score\n",
       "k                          \n",
       "2     0.943396     0.961783\n",
       "3     0.886792     0.961783\n",
       "4     0.905660     0.936306\n",
       "5     0.905660     0.917197\n",
       "6     0.924528     0.917197\n",
       "7     0.905660     0.910828\n",
       "8     0.924528     0.910828\n",
       "9     0.924528     0.917197\n",
       "10    0.905660     0.917197\n",
       "11    0.924528     0.910828\n",
       "12    0.905660     0.917197\n",
       "13    0.905660     0.898089\n",
       "14    0.905660     0.898089\n",
       "15    0.905660     0.904459\n",
       "16    0.905660     0.898089\n",
       "17    0.924528     0.904459\n",
       "18    0.924528     0.904459\n",
       "19    0.924528     0.910828"
      ]
     },
     "execution_count": 38,
     "metadata": {},
     "output_type": "execute_result"
    }
   ],
   "source": [
    "scores = []\n",
    "for i in range(2,20):\n",
    "    knc = KNeighborsClassifier(i)\n",
    "    knc.fit(X_train, y_train)\n",
    "    train_score = knc.score(X_train, y_train)\n",
    "    test_score = knc.score(X_test, y_test)\n",
    "    scores.append({\n",
    "        'k' : i,\n",
    "        'train_score' : train_score,\n",
    "        'test_score' : test_score\n",
    "    })\n",
    "scores_df = pd.DataFrame(scores)\n",
    "scores_df.set_index('k', inplace=True)\n",
    "scores_df"
   ]
  },
  {
   "cell_type": "code",
   "execution_count": 39,
   "metadata": {},
   "outputs": [
    {
     "data": {
      "text/plain": [
       "<matplotlib.axes._subplots.AxesSubplot at 0x7f341b7cd588>"
      ]
     },
     "execution_count": 39,
     "metadata": {},
     "output_type": "execute_result"
    },
    {
     "data": {
      "image/png": "[encoded data removed]",
      "text/plain": [
       "<matplotlib.figure.Figure at 0x7f3425b25160>"
      ]
     },
     "metadata": {},
     "output_type": "display_data"
    }
   ],
   "source": [
    "scores_df.plot()"
   ]
  },
  {
   "cell_type": "code",
   "execution_count": 40,
   "metadata": {},
   "outputs": [
    {
     "data": {
      "text/html": [
       "<div>\n",
       "<style scoped>\n",
       "    .dataframe tbody tr th:only-of-type {\n",
       "        vertical-align: middle;\n",
       "    }\n",
       "\n",
       "    .dataframe tbody tr th {\n",
       "        vertical-align: top;\n",
       "    }\n",
       "\n",
       "    .dataframe thead th {\n",
       "        text-align: right;\n",
       "    }\n",
       "</style>\n",
       "<table border=\"1\" class=\"dataframe\">\n",
       "  <thead>\n",
       "    <tr style=\"text-align: right;\">\n",
       "      <th></th>\n",
       "      <th>test_score</th>\n",
       "      <th>train_score</th>\n",
       "    </tr>\n",
       "    <tr>\n",
       "      <th>k</th>\n",
       "      <th></th>\n",
       "      <th></th>\n",
       "    </tr>\n",
       "  </thead>\n",
       "  <tbody>\n",
       "    <tr>\n",
       "      <th>2</th>\n",
       "      <td>0.943396</td>\n",
       "      <td>0.961783</td>\n",
       "    </tr>\n",
       "    <tr>\n",
       "      <th>4</th>\n",
       "      <td>0.905660</td>\n",
       "      <td>0.936306</td>\n",
       "    </tr>\n",
       "    <tr>\n",
       "      <th>6</th>\n",
       "      <td>0.924528</td>\n",
       "      <td>0.917197</td>\n",
       "    </tr>\n",
       "    <tr>\n",
       "      <th>8</th>\n",
       "      <td>0.924528</td>\n",
       "      <td>0.910828</td>\n",
       "    </tr>\n",
       "    <tr>\n",
       "      <th>10</th>\n",
       "      <td>0.905660</td>\n",
       "      <td>0.917197</td>\n",
       "    </tr>\n",
       "    <tr>\n",
       "      <th>12</th>\n",
       "      <td>0.905660</td>\n",
       "      <td>0.917197</td>\n",
       "    </tr>\n",
       "    <tr>\n",
       "      <th>14</th>\n",
       "      <td>0.905660</td>\n",
       "      <td>0.898089</td>\n",
       "    </tr>\n",
       "    <tr>\n",
       "      <th>16</th>\n",
       "      <td>0.905660</td>\n",
       "      <td>0.898089</td>\n",
       "    </tr>\n",
       "    <tr>\n",
       "      <th>18</th>\n",
       "      <td>0.924528</td>\n",
       "      <td>0.904459</td>\n",
       "    </tr>\n",
       "  </tbody>\n",
       "</table>\n",
       "</div>"
      ],
      "text/plain": [
       "    test_score  train_score\n",
       "k                          \n",
       "2     0.943396     0.961783\n",
       "4     0.905660     0.936306\n",
       "6     0.924528     0.917197\n",
       "8     0.924528     0.910828\n",
       "10    0.905660     0.917197\n",
       "12    0.905660     0.917197\n",
       "14    0.905660     0.898089\n",
       "16    0.905660     0.898089\n",
       "18    0.924528     0.904459"
      ]
     },
     "execution_count": 40,
     "metadata": {},
     "output_type": "execute_result"
    }
   ],
   "source": [
    "scores = []\n",
    "for i in range(1,10):\n",
    "    knc = KNeighborsClassifier(i*2)\n",
    "    knc.fit(X_train, y_train)\n",
    "    train_score = knc.score(X_train, y_train)\n",
    "    test_score = knc.score(X_test, y_test)\n",
    "    scores.append({\n",
    "        'k' : i*2,\n",
    "        'train_score' : train_score,\n",
    "        'test_score' : test_score\n",
    "    })\n",
    "scores_df = pd.DataFrame(scores)\n",
    "scores_df.set_index('k', inplace=True)\n",
    "scores_df"
   ]
  },
  {
   "cell_type": "code",
   "execution_count": 41,
   "metadata": {
    "scrolled": true
   },
   "outputs": [
    {
     "data": {
      "text/plain": [
       "<matplotlib.axes._subplots.AxesSubplot at 0x7f3425b72cc0>"
      ]
     },
     "execution_count": 41,
     "metadata": {},
     "output_type": "execute_result"
    },
    {
     "data": {
      "image/png": "[encoded data removed]",
      "text/plain": [
       "<matplotlib.figure.Figure at 0x7f343079d9b0>"
      ]
     },
     "metadata": {},
     "output_type": "display_data"
    }
   ],
   "source": [
    "scores_df.plot()"
   ]
  },
  {
   "cell_type": "code",
   "execution_count": 42,
   "metadata": {},
   "outputs": [],
   "source": [
    "best_features = list(lm_scores_df.index)"
   ]
  },
  {
   "cell_type": "code",
   "execution_count": 43,
   "metadata": {},
   "outputs": [
    {
     "data": {
      "text/html": [
       "<div>\n",
       "<style scoped>\n",
       "    .dataframe tbody tr th:only-of-type {\n",
       "        vertical-align: middle;\n",
       "    }\n",
       "\n",
       "    .dataframe tbody tr th {\n",
       "        vertical-align: top;\n",
       "    }\n",
       "\n",
       "    .dataframe thead th {\n",
       "        text-align: right;\n",
       "    }\n",
       "</style>\n",
       "<table border=\"1\" class=\"dataframe\">\n",
       "  <thead>\n",
       "    <tr style=\"text-align: right;\">\n",
       "      <th></th>\n",
       "      <th>features</th>\n",
       "      <th>knc_test_score</th>\n",
       "      <th>knc_train_score</th>\n",
       "      <th>lr_test_score</th>\n",
       "      <th>lr_train_score</th>\n",
       "    </tr>\n",
       "    <tr>\n",
       "      <th>feature_added</th>\n",
       "      <th></th>\n",
       "      <th></th>\n",
       "      <th></th>\n",
       "      <th></th>\n",
       "      <th></th>\n",
       "    </tr>\n",
       "  </thead>\n",
       "  <tbody>\n",
       "    <tr>\n",
       "      <th>area</th>\n",
       "      <td>area</td>\n",
       "      <td>0.886792</td>\n",
       "      <td>0.898089</td>\n",
       "      <td>0.660377</td>\n",
       "      <td>0.707006</td>\n",
       "    </tr>\n",
       "    <tr>\n",
       "      <th>width_of_kernel</th>\n",
       "      <td>area width_of_kernel</td>\n",
       "      <td>0.886792</td>\n",
       "      <td>0.923567</td>\n",
       "      <td>0.773585</td>\n",
       "      <td>0.783439</td>\n",
       "    </tr>\n",
       "    <tr>\n",
       "      <th>perimeter</th>\n",
       "      <td>area width_of_kernel perimeter</td>\n",
       "      <td>0.886792</td>\n",
       "      <td>0.904459</td>\n",
       "      <td>0.867925</td>\n",
       "      <td>0.859873</td>\n",
       "    </tr>\n",
       "    <tr>\n",
       "      <th>length_of_kernel</th>\n",
       "      <td>area width_of_kernel perimeter length_of_kernel</td>\n",
       "      <td>0.886792</td>\n",
       "      <td>0.917197</td>\n",
       "      <td>0.867925</td>\n",
       "      <td>0.853503</td>\n",
       "    </tr>\n",
       "    <tr>\n",
       "      <th>length_of_kernel_groove</th>\n",
       "      <td>area width_of_kernel perimeter length_of_kerne...</td>\n",
       "      <td>0.943396</td>\n",
       "      <td>0.942675</td>\n",
       "      <td>0.924528</td>\n",
       "      <td>0.917197</td>\n",
       "    </tr>\n",
       "    <tr>\n",
       "      <th>asymmetry_coefficient</th>\n",
       "      <td>area width_of_kernel perimeter length_of_kerne...</td>\n",
       "      <td>0.943396</td>\n",
       "      <td>0.961783</td>\n",
       "      <td>0.905660</td>\n",
       "      <td>0.923567</td>\n",
       "    </tr>\n",
       "    <tr>\n",
       "      <th>compactness</th>\n",
       "      <td>area width_of_kernel perimeter length_of_kerne...</td>\n",
       "      <td>0.943396</td>\n",
       "      <td>0.961783</td>\n",
       "      <td>0.905660</td>\n",
       "      <td>0.923567</td>\n",
       "    </tr>\n",
       "  </tbody>\n",
       "</table>\n",
       "</div>"
      ],
      "text/plain": [
       "                                                                  features  \\\n",
       "feature_added                                                                \n",
       "area                                                                  area   \n",
       "width_of_kernel                                       area width_of_kernel   \n",
       "perimeter                                   area width_of_kernel perimeter   \n",
       "length_of_kernel           area width_of_kernel perimeter length_of_kernel   \n",
       "length_of_kernel_groove  area width_of_kernel perimeter length_of_kerne...   \n",
       "asymmetry_coefficient    area width_of_kernel perimeter length_of_kerne...   \n",
       "compactness              area width_of_kernel perimeter length_of_kerne...   \n",
       "\n",
       "                         knc_test_score  knc_train_score  lr_test_score  \\\n",
       "feature_added                                                             \n",
       "area                           0.886792         0.898089       0.660377   \n",
       "width_of_kernel                0.886792         0.923567       0.773585   \n",
       "perimeter                      0.886792         0.904459       0.867925   \n",
       "length_of_kernel               0.886792         0.917197       0.867925   \n",
       "length_of_kernel_groove        0.943396         0.942675       0.924528   \n",
       "asymmetry_coefficient          0.943396         0.961783       0.905660   \n",
       "compactness                    0.943396         0.961783       0.905660   \n",
       "\n",
       "                         lr_train_score  \n",
       "feature_added                            \n",
       "area                           0.707006  \n",
       "width_of_kernel                0.783439  \n",
       "perimeter                      0.859873  \n",
       "length_of_kernel               0.853503  \n",
       "length_of_kernel_groove        0.917197  \n",
       "asymmetry_coefficient          0.923567  \n",
       "compactness                    0.923567  "
      ]
     },
     "execution_count": 43,
     "metadata": {},
     "output_type": "execute_result"
    }
   ],
   "source": [
    "lr = LogisticRegression()\n",
    "knc = KNeighborsClassifier(2)\n",
    "\n",
    "X_train_df = pd.DataFrame(X_train)\n",
    "X_train_df.columns = features.columns\n",
    "X_test_df = pd.DataFrame(X_test)\n",
    "X_test_df.columns = features.columns\n",
    "\n",
    "final_performance_scores = []\n",
    "for i in range(len(best_features)):\n",
    "    knc = KNeighborsClassifier(2)\n",
    "    feats = best_features[:i+1]\n",
    "    lr.fit(X_train_df[feats], y_train)\n",
    "    knc.fit(X_train_df[feats], y_train)    \n",
    "\n",
    "    final_performance_scores.append({\n",
    "        'features' : ' '.join(feats),\n",
    "        'feature_added' : best_features[i],\n",
    "        'lr_train_score' : lr.score(X_train_df[feats], y_train),\n",
    "        'lr_test_score' : lr.score(X_test_df[feats], y_test),\n",
    "        'knc_train_score' : knc.score(X_train_df[feats], y_train),\n",
    "        'knc_test_score' : knc.score(X_test_df[feats], y_test)\n",
    "    })\n",
    "\n",
    "final_performance_scores_df = pd.DataFrame(final_performance_scores)\n",
    "final_performance_scores_df.set_index('feature_added', inplace=True)\n",
    "final_performance_scores_df"
   ]
  },
  {
   "cell_type": "code",
   "execution_count": 44,
   "metadata": {},
   "outputs": [
    {
     "data": {
      "text/plain": [
       "<matplotlib.axes._subplots.AxesSubplot at 0x7f3425b7d400>"
      ]
     },
     "execution_count": 44,
     "metadata": {},
     "output_type": "execute_result"
    },
    {
     "data": {
      "image/png": "[encoded data removed]",
      "text/plain": [
       "<matplotlib.figure.Figure at 0x7f341b72f4e0>"
      ]
     },
     "metadata": {},
     "output_type": "display_data"
    }
   ],
   "source": [
    "final_performance_scores_df.plot(rot=45, figsize=(20,7))"
   ]
  }
 ],
 "metadata": {
  "kernelspec": {
   "display_name": "Python 3",
   "language": "python",
   "name": "python3"
  },
  "language_info": {
   "codemirror_mode": {
    "name": "ipython",
    "version": 3
   },
   "file_extension": ".py",
   "mimetype": "text/x-python",
   "name": "python",
   "nbconvert_exporter": "python",
   "pygments_lexer": "ipython3",
   "version": "3.6.6"
  }
 },
 "nbformat": 4,
 "nbformat_minor": 2
}
