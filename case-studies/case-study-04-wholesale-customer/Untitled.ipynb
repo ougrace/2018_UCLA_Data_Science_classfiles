{
 "cells": [
  {
   "cell_type": "code",
   "execution_count": 5,
   "metadata": {},
   "outputs": [],
   "source": [
    "%run load_data.py"
   ]
  },
  {
   "cell_type": "code",
   "execution_count": 8,
   "metadata": {},
   "outputs": [
    {
     "data": {
      "text/html": [
       "<div>\n",
       "<style scoped>\n",
       "    .dataframe tbody tr th:only-of-type {\n",
       "        vertical-align: middle;\n",
       "    }\n",
       "\n",
       "    .dataframe tbody tr th {\n",
       "        vertical-align: top;\n",
       "    }\n",
       "\n",
       "    .dataframe thead th {\n",
       "        text-align: right;\n",
       "    }\n",
       "</style>\n",
       "<table border=\"1\" class=\"dataframe\">\n",
       "  <thead>\n",
       "    <tr style=\"text-align: right;\">\n",
       "      <th></th>\n",
       "      <th>Fresh</th>\n",
       "      <th>Milk</th>\n",
       "      <th>Grocery</th>\n",
       "      <th>Frozen</th>\n",
       "      <th>Detergents_Paper</th>\n",
       "      <th>Delicatessen</th>\n",
       "    </tr>\n",
       "  </thead>\n",
       "  <tbody>\n",
       "    <tr>\n",
       "      <th>Fresh</th>\n",
       "      <td>1.000000</td>\n",
       "      <td>-0.023114</td>\n",
       "      <td>-0.106490</td>\n",
       "      <td>0.409108</td>\n",
       "      <td>-0.180152</td>\n",
       "      <td>0.274444</td>\n",
       "    </tr>\n",
       "    <tr>\n",
       "      <th>Milk</th>\n",
       "      <td>-0.023114</td>\n",
       "      <td>1.000000</td>\n",
       "      <td>0.777832</td>\n",
       "      <td>-0.044705</td>\n",
       "      <td>0.684856</td>\n",
       "      <td>0.384415</td>\n",
       "    </tr>\n",
       "    <tr>\n",
       "      <th>Grocery</th>\n",
       "      <td>-0.106490</td>\n",
       "      <td>0.777832</td>\n",
       "      <td>1.000000</td>\n",
       "      <td>-0.161393</td>\n",
       "      <td>0.818136</td>\n",
       "      <td>0.283831</td>\n",
       "    </tr>\n",
       "    <tr>\n",
       "      <th>Frozen</th>\n",
       "      <td>0.409108</td>\n",
       "      <td>-0.044705</td>\n",
       "      <td>-0.161393</td>\n",
       "      <td>1.000000</td>\n",
       "      <td>-0.219160</td>\n",
       "      <td>0.277641</td>\n",
       "    </tr>\n",
       "    <tr>\n",
       "      <th>Detergents_Paper</th>\n",
       "      <td>-0.180152</td>\n",
       "      <td>0.684856</td>\n",
       "      <td>0.818136</td>\n",
       "      <td>-0.219160</td>\n",
       "      <td>1.000000</td>\n",
       "      <td>0.178416</td>\n",
       "    </tr>\n",
       "    <tr>\n",
       "      <th>Delicatessen</th>\n",
       "      <td>0.274444</td>\n",
       "      <td>0.384415</td>\n",
       "      <td>0.283831</td>\n",
       "      <td>0.277641</td>\n",
       "      <td>0.178416</td>\n",
       "      <td>1.000000</td>\n",
       "    </tr>\n",
       "  </tbody>\n",
       "</table>\n",
       "</div>"
      ],
      "text/plain": [
       "                     Fresh      Milk   Grocery    Frozen  Detergents_Paper  \\\n",
       "Fresh             1.000000 -0.023114 -0.106490  0.409108         -0.180152   \n",
       "Milk             -0.023114  1.000000  0.777832 -0.044705          0.684856   \n",
       "Grocery          -0.106490  0.777832  1.000000 -0.161393          0.818136   \n",
       "Frozen            0.409108 -0.044705 -0.161393  1.000000         -0.219160   \n",
       "Detergents_Paper -0.180152  0.684856  0.818136 -0.219160          1.000000   \n",
       "Delicatessen      0.274444  0.384415  0.283831  0.277641          0.178416   \n",
       "\n",
       "                  Delicatessen  \n",
       "Fresh                 0.274444  \n",
       "Milk                  0.384415  \n",
       "Grocery               0.283831  \n",
       "Frozen                0.277641  \n",
       "Detergents_Paper      0.178416  \n",
       "Delicatessen          1.000000  "
      ]
     },
     "execution_count": 8,
     "metadata": {},
     "output_type": "execute_result"
    }
   ],
   "source": [
    "Z_bc.corr()"
   ]
  },
  {
   "cell_type": "code",
   "execution_count": 1,
   "metadata": {},
   "outputs": [],
   "source": [
    "import numpy as np\n",
    "c_r = np.array([1,1,1,0,0,0])\n",
    "c_g = np.array([0,0,0,1,1,0])\n",
    "c_b = np.array([0,0,0,0,0,1])"
   ]
  },
  {
   "cell_type": "code",
   "execution_count": 3,
   "metadata": {},
   "outputs": [
    {
     "data": {
      "text/plain": [
       "(0.5, 0.3333333333333333, 0.16666666666666666)"
      ]
     },
     "execution_count": 3,
     "metadata": {},
     "output_type": "execute_result"
    }
   ],
   "source": [
    "c_r.mean(), c_g.mean(), c_b.mean()"
   ]
  },
  {
   "cell_type": "code",
   "execution_count": 4,
   "metadata": {},
   "outputs": [
    {
     "data": {
      "text/plain": [
       "(0.5, 0.4714045207910317, 0.372677996249965)"
      ]
     },
     "execution_count": 4,
     "metadata": {},
     "output_type": "execute_result"
    }
   ],
   "source": [
    "c_r.std(), c_g.std(), c_b.std()"
   ]
  },
  {
   "cell_type": "code",
   "execution_count": null,
   "metadata": {},
   "outputs": [],
   "source": []
  }
 ],
 "metadata": {
  "kernelspec": {
   "display_name": "Python 3",
   "language": "python",
   "name": "python3"
  },
  "language_info": {
   "codemirror_mode": {
    "name": "ipython",
    "version": 3
   },
   "file_extension": ".py",
   "mimetype": "text/x-python",
   "name": "python",
   "nbconvert_exporter": "python",
   "pygments_lexer": "ipython3",
   "version": "3.6.5"
  }
 },
 "nbformat": 4,
 "nbformat_minor": 2
}
