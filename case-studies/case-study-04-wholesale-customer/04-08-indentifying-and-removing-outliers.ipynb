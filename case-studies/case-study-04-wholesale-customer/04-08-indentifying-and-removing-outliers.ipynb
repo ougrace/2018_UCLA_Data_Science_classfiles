{
 "cells": [
  {
   "cell_type": "markdown",
   "metadata": {},
   "source": [
    "## Identifying and Removing Outliers"
   ]
  },
  {
   "cell_type": "code",
   "execution_count": 1,
   "metadata": {},
   "outputs": [],
   "source": [
    "%run load_data.py"
   ]
  },
  {
   "cell_type": "code",
   "execution_count": 2,
   "metadata": {},
   "outputs": [
    {
     "name": "stdout",
     "output_type": "stream",
     "text": [
      "Variable   Type         Data/Info\n",
      "---------------------------------\n",
      "X          DataFrame         Fresh   Milk  Grocer<...>n\\n[440 rows x 6 columns]\n",
      "Z          DataFrame            Fresh      Milk  <...>n\\n[440 rows x 6 columns]\n",
      "Z_bc       DataFrame            Fresh      Milk  <...>n\\n[440 rows x 6 columns]\n",
      "Z_log      DataFrame            Fresh      Milk  <...>n\\n[440 rows x 6 columns]\n",
      "boxcox_X   DataFrame             Fresh       Milk<...>n\\n[440 rows x 6 columns]\n",
      "log_X      DataFrame             Fresh       Milk<...>n\\n[440 rows x 6 columns]\n"
     ]
    }
   ],
   "source": [
    "%whos DataFrame"
   ]
  },
  {
   "cell_type": "code",
   "execution_count": 3,
   "metadata": {},
   "outputs": [],
   "source": [
    "%matplotlib inline"
   ]
  },
  {
   "cell_type": "markdown",
   "metadata": {},
   "source": [
    "To identify outliers in the data, we will use what is [the Tukey Method](http://datapigtechnologies.com/blog/index.php/highlighting-outliers-in-your-data-with-the-tukey-method/). \n",
    "\n",
    "- leverages the Interquartile Range \n",
    "- isn’t dependent on distributional assumptions \n",
    "- ignores the mean and standard deviation\n",
    "- making it resistant to being influenced by the extreme values in the range\n",
    "\n",
    "**Tukey's Method:** look for points that are more than 1.5 times the Inter-quartile range above the third quartile or below the first quartile."
   ]
  },
  {
   "cell_type": "code",
   "execution_count": 9,
   "metadata": {},
   "outputs": [],
   "source": [
    "def feature_outliers(dataframe, col, param=1.5):\n",
    "    Q1 = np.percentile(dataframe[col], 25)\n",
    "    Q3 = np.percentile(dataframe[col], 75)\n",
    "    tukey_window = param*(Q3-Q1)\n",
    "    less_than_Q1 = (dataframe[col] < Q1 - tukey_window)\n",
    "#     print(less_than_Q1)\n",
    "    greater_than_Q3 = (dataframe[col] > Q3 + tukey_window)\n",
    "    tukey_mask = (less_than_Q1 | greater_than_Q3)\n",
    "    return dataframe.loc[tukey_mask]\n"
   ]
  },
  {
   "cell_type": "code",
   "execution_count": 10,
   "metadata": {},
   "outputs": [
    {
     "data": {
      "text/html": [
       "<div>\n",
       "<style scoped>\n",
       "    .dataframe tbody tr th:only-of-type {\n",
       "        vertical-align: middle;\n",
       "    }\n",
       "\n",
       "    .dataframe tbody tr th {\n",
       "        vertical-align: top;\n",
       "    }\n",
       "\n",
       "    .dataframe thead th {\n",
       "        text-align: right;\n",
       "    }\n",
       "</style>\n",
       "<table border=\"1\" class=\"dataframe\">\n",
       "  <thead>\n",
       "    <tr style=\"text-align: right;\">\n",
       "      <th></th>\n",
       "      <th>Fresh</th>\n",
       "      <th>Milk</th>\n",
       "      <th>Grocery</th>\n",
       "      <th>Frozen</th>\n",
       "      <th>Detergents_Paper</th>\n",
       "      <th>Delicatessen</th>\n",
       "    </tr>\n",
       "  </thead>\n",
       "  <tbody>\n",
       "    <tr>\n",
       "      <th>28</th>\n",
       "      <td>4113</td>\n",
       "      <td>20484</td>\n",
       "      <td>25957</td>\n",
       "      <td>1158</td>\n",
       "      <td>8604</td>\n",
       "      <td>5206</td>\n",
       "    </tr>\n",
       "    <tr>\n",
       "      <th>43</th>\n",
       "      <td>630</td>\n",
       "      <td>11095</td>\n",
       "      <td>23998</td>\n",
       "      <td>787</td>\n",
       "      <td>9529</td>\n",
       "      <td>72</td>\n",
       "    </tr>\n",
       "    <tr>\n",
       "      <th>47</th>\n",
       "      <td>44466</td>\n",
       "      <td>54259</td>\n",
       "      <td>55571</td>\n",
       "      <td>7782</td>\n",
       "      <td>24171</td>\n",
       "      <td>6465</td>\n",
       "    </tr>\n",
       "    <tr>\n",
       "      <th>49</th>\n",
       "      <td>4967</td>\n",
       "      <td>21412</td>\n",
       "      <td>28921</td>\n",
       "      <td>1798</td>\n",
       "      <td>13583</td>\n",
       "      <td>1163</td>\n",
       "    </tr>\n",
       "    <tr>\n",
       "      <th>56</th>\n",
       "      <td>4098</td>\n",
       "      <td>29892</td>\n",
       "      <td>26866</td>\n",
       "      <td>2616</td>\n",
       "      <td>17740</td>\n",
       "      <td>1340</td>\n",
       "    </tr>\n",
       "    <tr>\n",
       "      <th>61</th>\n",
       "      <td>35942</td>\n",
       "      <td>38369</td>\n",
       "      <td>59598</td>\n",
       "      <td>3254</td>\n",
       "      <td>26701</td>\n",
       "      <td>2017</td>\n",
       "    </tr>\n",
       "    <tr>\n",
       "      <th>65</th>\n",
       "      <td>85</td>\n",
       "      <td>20959</td>\n",
       "      <td>45828</td>\n",
       "      <td>36</td>\n",
       "      <td>24231</td>\n",
       "      <td>1423</td>\n",
       "    </tr>\n",
       "    <tr>\n",
       "      <th>77</th>\n",
       "      <td>12205</td>\n",
       "      <td>12697</td>\n",
       "      <td>28540</td>\n",
       "      <td>869</td>\n",
       "      <td>12034</td>\n",
       "      <td>1009</td>\n",
       "    </tr>\n",
       "    <tr>\n",
       "      <th>85</th>\n",
       "      <td>16117</td>\n",
       "      <td>46197</td>\n",
       "      <td>92780</td>\n",
       "      <td>1026</td>\n",
       "      <td>40827</td>\n",
       "      <td>2944</td>\n",
       "    </tr>\n",
       "    <tr>\n",
       "      <th>86</th>\n",
       "      <td>22925</td>\n",
       "      <td>73498</td>\n",
       "      <td>32114</td>\n",
       "      <td>987</td>\n",
       "      <td>20070</td>\n",
       "      <td>903</td>\n",
       "    </tr>\n",
       "    <tr>\n",
       "      <th>92</th>\n",
       "      <td>9198</td>\n",
       "      <td>27472</td>\n",
       "      <td>32034</td>\n",
       "      <td>3232</td>\n",
       "      <td>18906</td>\n",
       "      <td>5130</td>\n",
       "    </tr>\n",
       "    <tr>\n",
       "      <th>109</th>\n",
       "      <td>1406</td>\n",
       "      <td>16729</td>\n",
       "      <td>28986</td>\n",
       "      <td>673</td>\n",
       "      <td>836</td>\n",
       "      <td>3</td>\n",
       "    </tr>\n",
       "    <tr>\n",
       "      <th>145</th>\n",
       "      <td>22039</td>\n",
       "      <td>8384</td>\n",
       "      <td>34792</td>\n",
       "      <td>42</td>\n",
       "      <td>12591</td>\n",
       "      <td>4430</td>\n",
       "    </tr>\n",
       "    <tr>\n",
       "      <th>163</th>\n",
       "      <td>5531</td>\n",
       "      <td>15726</td>\n",
       "      <td>26870</td>\n",
       "      <td>2367</td>\n",
       "      <td>13726</td>\n",
       "      <td>446</td>\n",
       "    </tr>\n",
       "    <tr>\n",
       "      <th>201</th>\n",
       "      <td>4484</td>\n",
       "      <td>14399</td>\n",
       "      <td>24708</td>\n",
       "      <td>3549</td>\n",
       "      <td>14235</td>\n",
       "      <td>1681</td>\n",
       "    </tr>\n",
       "    <tr>\n",
       "      <th>205</th>\n",
       "      <td>1107</td>\n",
       "      <td>11711</td>\n",
       "      <td>23596</td>\n",
       "      <td>955</td>\n",
       "      <td>9265</td>\n",
       "      <td>710</td>\n",
       "    </tr>\n",
       "    <tr>\n",
       "      <th>211</th>\n",
       "      <td>12119</td>\n",
       "      <td>28326</td>\n",
       "      <td>39694</td>\n",
       "      <td>4736</td>\n",
       "      <td>19410</td>\n",
       "      <td>2870</td>\n",
       "    </tr>\n",
       "    <tr>\n",
       "      <th>216</th>\n",
       "      <td>2532</td>\n",
       "      <td>16599</td>\n",
       "      <td>36486</td>\n",
       "      <td>179</td>\n",
       "      <td>13308</td>\n",
       "      <td>674</td>\n",
       "    </tr>\n",
       "    <tr>\n",
       "      <th>251</th>\n",
       "      <td>6134</td>\n",
       "      <td>23133</td>\n",
       "      <td>33586</td>\n",
       "      <td>6746</td>\n",
       "      <td>18594</td>\n",
       "      <td>5121</td>\n",
       "    </tr>\n",
       "    <tr>\n",
       "      <th>304</th>\n",
       "      <td>161</td>\n",
       "      <td>7460</td>\n",
       "      <td>24773</td>\n",
       "      <td>617</td>\n",
       "      <td>11783</td>\n",
       "      <td>2410</td>\n",
       "    </tr>\n",
       "    <tr>\n",
       "      <th>331</th>\n",
       "      <td>11223</td>\n",
       "      <td>14881</td>\n",
       "      <td>26839</td>\n",
       "      <td>1234</td>\n",
       "      <td>9606</td>\n",
       "      <td>1102</td>\n",
       "    </tr>\n",
       "    <tr>\n",
       "      <th>333</th>\n",
       "      <td>8565</td>\n",
       "      <td>4980</td>\n",
       "      <td>67298</td>\n",
       "      <td>131</td>\n",
       "      <td>38102</td>\n",
       "      <td>1215</td>\n",
       "    </tr>\n",
       "    <tr>\n",
       "      <th>343</th>\n",
       "      <td>1689</td>\n",
       "      <td>6964</td>\n",
       "      <td>26316</td>\n",
       "      <td>1456</td>\n",
       "      <td>15469</td>\n",
       "      <td>37</td>\n",
       "    </tr>\n",
       "    <tr>\n",
       "      <th>437</th>\n",
       "      <td>14531</td>\n",
       "      <td>15488</td>\n",
       "      <td>30243</td>\n",
       "      <td>437</td>\n",
       "      <td>14841</td>\n",
       "      <td>1867</td>\n",
       "    </tr>\n",
       "  </tbody>\n",
       "</table>\n",
       "</div>"
      ],
      "text/plain": [
       "     Fresh   Milk  Grocery  Frozen  Detergents_Paper  Delicatessen\n",
       "28    4113  20484    25957    1158              8604          5206\n",
       "43     630  11095    23998     787              9529            72\n",
       "47   44466  54259    55571    7782             24171          6465\n",
       "49    4967  21412    28921    1798             13583          1163\n",
       "56    4098  29892    26866    2616             17740          1340\n",
       "61   35942  38369    59598    3254             26701          2017\n",
       "65      85  20959    45828      36             24231          1423\n",
       "77   12205  12697    28540     869             12034          1009\n",
       "85   16117  46197    92780    1026             40827          2944\n",
       "86   22925  73498    32114     987             20070           903\n",
       "92    9198  27472    32034    3232             18906          5130\n",
       "109   1406  16729    28986     673               836             3\n",
       "145  22039   8384    34792      42             12591          4430\n",
       "163   5531  15726    26870    2367             13726           446\n",
       "201   4484  14399    24708    3549             14235          1681\n",
       "205   1107  11711    23596     955              9265           710\n",
       "211  12119  28326    39694    4736             19410          2870\n",
       "216   2532  16599    36486     179             13308           674\n",
       "251   6134  23133    33586    6746             18594          5121\n",
       "304    161   7460    24773     617             11783          2410\n",
       "331  11223  14881    26839    1234              9606          1102\n",
       "333   8565   4980    67298     131             38102          1215\n",
       "343   1689   6964    26316    1456             15469            37\n",
       "437  14531  15488    30243     437             14841          1867"
      ]
     },
     "execution_count": 10,
     "metadata": {},
     "output_type": "execute_result"
    }
   ],
   "source": [
    "feature_outliers(X, 'Grocery')"
   ]
  },
  {
   "cell_type": "code",
   "execution_count": 14,
   "metadata": {},
   "outputs": [
    {
     "name": "stdout",
     "output_type": "stream",
     "text": [
      "Variable   Type         Data/Info\n",
      "---------------------------------\n",
      "X          DataFrame         Fresh   Milk  Grocer<...>n\\n[440 rows x 6 columns]\n",
      "Z          DataFrame            Fresh      Milk  <...>n\\n[440 rows x 6 columns]\n",
      "Z_bc       DataFrame            Fresh      Milk  <...>n\\n[440 rows x 6 columns]\n",
      "Z_log      DataFrame            Fresh      Milk  <...>n\\n[440 rows x 6 columns]\n",
      "boxcox_X   DataFrame             Fresh       Milk<...>n\\n[440 rows x 6 columns]\n",
      "log_X      DataFrame             Fresh       Milk<...>n\\n[440 rows x 6 columns]\n"
     ]
    }
   ],
   "source": [
    "%whos DataFrame"
   ]
  },
  {
   "cell_type": "code",
   "execution_count": 21,
   "metadata": {},
   "outputs": [
    {
     "name": "stdout",
     "output_type": "stream",
     "text": [
      "X outliers\n",
      "Fresh (20, 6)\n",
      "Milk (28, 6)\n",
      "Grocery (24, 6)\n",
      "Frozen (43, 6)\n",
      "Detergents_Paper (30, 6)\n",
      "Delicatessen (27, 6)\n",
      "\n",
      "Z outliers\n",
      "Fresh (20, 6)\n",
      "Milk (28, 6)\n",
      "Grocery (24, 6)\n",
      "Frozen (43, 6)\n",
      "Detergents_Paper (30, 6)\n",
      "Delicatessen (27, 6)\n",
      "\n",
      "Z_log outliers\n",
      "Fresh (16, 6)\n",
      "Milk (4, 6)\n",
      "Grocery (2, 6)\n",
      "Frozen (10, 6)\n",
      "Detergents_Paper (2, 6)\n",
      "Delicatessen (14, 6)\n",
      "\n",
      "Z_bc outliers\n",
      "Fresh (1, 6)\n",
      "Milk (2, 6)\n",
      "Grocery (2, 6)\n",
      "Frozen (8, 6)\n",
      "Detergents_Paper (0, 6)\n",
      "Delicatessen (11, 6)\n"
     ]
    }
   ],
   "source": [
    "print(\"X outliers\")\n",
    "for col in X.columns:\n",
    "    print(col, feature_outliers(X, col).shape)\n",
    "print()\n",
    "print(\"Z outliers\")\n",
    "for col in Z.columns:\n",
    "    print(col, feature_outliers(Z, col).shape)\n",
    "print()\n",
    "print(\"Z_log outliers\")\n",
    "for col in Z_log.columns:\n",
    "    print(col, feature_outliers(Z_log, col).shape)\n",
    "print()\n",
    "print(\"Z_bc outliers\")\n",
    "for col in Z_bc.columns:\n",
    "    print(col, feature_outliers(Z_bc, col).shape)"
   ]
  },
  {
   "cell_type": "markdown",
   "metadata": {},
   "source": [
    "What if we count the rows that show up as an outlier more than once?"
   ]
  },
  {
   "cell_type": "code",
   "execution_count": 22,
   "metadata": {},
   "outputs": [],
   "source": [
    "from collections import Counter"
   ]
  },
  {
   "cell_type": "code",
   "execution_count": 23,
   "metadata": {},
   "outputs": [],
   "source": [
    "def multiple_outliers(dataframe, count=2):\n",
    "    raw_outliers = []\n",
    "    for col in dataframe:\n",
    "        outlier_df = feature_outliers(dataframe, col)\n",
    "        raw_outliers += list(outlier_df.index)\n",
    "\n",
    "    outlier_count = Counter(raw_outliers)\n",
    "    outliers = [k for k,v in outlier_count.items() if v >= count]\n",
    "    return outliers"
   ]
  },
  {
   "cell_type": "code",
   "execution_count": 24,
   "metadata": {},
   "outputs": [
    {
     "data": {
      "text/plain": [
       "41"
      ]
     },
     "execution_count": 24,
     "metadata": {},
     "output_type": "execute_result"
    }
   ],
   "source": [
    "len(multiple_outliers(X))"
   ]
  },
  {
   "cell_type": "code",
   "execution_count": 25,
   "metadata": {},
   "outputs": [
    {
     "data": {
      "text/plain": [
       "41"
      ]
     },
     "execution_count": 25,
     "metadata": {},
     "output_type": "execute_result"
    }
   ],
   "source": [
    "len(multiple_outliers(Z))"
   ]
  },
  {
   "cell_type": "code",
   "execution_count": 26,
   "metadata": {},
   "outputs": [
    {
     "data": {
      "text/plain": [
       "5"
      ]
     },
     "execution_count": 26,
     "metadata": {},
     "output_type": "execute_result"
    }
   ],
   "source": [
    "len(multiple_outliers(Z_log))"
   ]
  },
  {
   "cell_type": "code",
   "execution_count": 27,
   "metadata": {},
   "outputs": [
    {
     "data": {
      "text/plain": [
       "2"
      ]
     },
     "execution_count": 27,
     "metadata": {},
     "output_type": "execute_result"
    }
   ],
   "source": [
    "len(multiple_outliers(Z_bc))"
   ]
  },
  {
   "cell_type": "code",
   "execution_count": 30,
   "metadata": {
    "scrolled": true
   },
   "outputs": [],
   "source": [
    "z_log_outlier_indices = multiple_outliers(Z_log)"
   ]
  },
  {
   "cell_type": "code",
   "execution_count": 29,
   "metadata": {},
   "outputs": [
    {
     "data": {
      "text/plain": [
       "[154, 183]"
      ]
     },
     "execution_count": 29,
     "metadata": {},
     "output_type": "execute_result"
    }
   ],
   "source": [
    "multiple_outliers(Z_bc)"
   ]
  },
  {
   "cell_type": "code",
   "execution_count": 31,
   "metadata": {},
   "outputs": [],
   "source": [
    "z_bc_outlier_indices = multiple_outliers(Z_bc)"
   ]
  },
  {
   "cell_type": "code",
   "execution_count": 32,
   "metadata": {},
   "outputs": [],
   "source": [
    "Z_log_rmo = Z_log.drop(z_log_outlier_indices)"
   ]
  },
  {
   "cell_type": "code",
   "execution_count": 33,
   "metadata": {},
   "outputs": [],
   "source": [
    "Z_bc_rmo = Z_bc.drop(z_bc_outlier_indices)"
   ]
  },
  {
   "cell_type": "code",
   "execution_count": 43,
   "metadata": {},
   "outputs": [
    {
     "data": {
      "image/png": "[encoded data removed]",
      "text/plain": [
       "<Figure size 1440x432 with 24 Axes>"
      ]
     },
     "metadata": {},
     "output_type": "display_data"
    }
   ],
   "source": [
    "import matplotlib.pyplot as plt\n",
    "import seaborn as sns\n",
    "\n",
    "_, ax = plt.subplots(4,6,figsize=(20,6))\n",
    "\n",
    "for i, df in enumerate([X, Z, Z_log, Z_bc]):\n",
    "    for j, col in enumerate(X.columns):\n",
    "        sns.boxplot(df, ax=ax[i][j])"
   ]
  },
  {
   "cell_type": "code",
   "execution_count": null,
   "metadata": {},
   "outputs": [],
   "source": []
  }
 ],
 "metadata": {
  "kernelspec": {
   "display_name": "Python 3",
   "language": "python",
   "name": "python3"
  },
  "language_info": {
   "codemirror_mode": {
    "name": "ipython",
    "version": 3
   },
   "file_extension": ".py",
   "mimetype": "text/x-python",
   "name": "python",
   "nbconvert_exporter": "python",
   "pygments_lexer": "ipython3",
   "version": "3.6.5"
  }
 },
 "nbformat": 4,
 "nbformat_minor": 2
}
