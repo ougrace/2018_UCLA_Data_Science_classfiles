{
 "cells": [
  {
   "cell_type": "code",
   "execution_count": null,
   "metadata": {},
   "outputs": [],
   "source": [
    "run load_data.py"
   ]
  },
  {
   "cell_type": "markdown",
   "metadata": {},
   "source": [
    "### Evaluating Model Pipelines\n",
    "\n",
    "We will evaluate a total of 24 model pipelines:\n",
    "\n",
    "1. the original data\n",
    "1. the original data with outliers removed\n",
    "1. the original data transformed by a PCA with 2 components \n",
    "1. the original data with outliers removed transformed by a PCA with 2 components \n",
    "1. the original data transformed by a PCA with 3 components \n",
    "1. the original data with outliers removed transformed by a PCA with 3 components  \n",
    "1. scaled data\n",
    "1. scaled data with outliers removed\n",
    "1. scaled data transformed by a PCA with 2 components \n",
    "1. scaled data with outliers removed transformed by a PCA with 2 components\n",
    "1. scaled data transformed by a PCA with 3 components  \n",
    "1. scaled data with outliers removed transformed by a PCA with 3 components  \n",
    "1. log transformed, scaled data\n",
    "1. log transformed, scaled data with outliers removed\n",
    "1. log transformed, scaled data transformed by a PCA with 2 components\n",
    "1. log transformed, scaled data with outliers removed transformed by a PCA with 2 components \n",
    "1. log transformed, scaled data transformed by a PCA with 3 components  \n",
    "1. log transformed, scaled data with outliers removed transformed by a PCA with 3 components  \n",
    "1. box-cox transformed, scaled data\n",
    "1. box-cox transformed, scaled data with outliers removed\n",
    "1. box-cox transformed, scaled data transformed by a PCA with 2 components \n",
    "1. box-cox transformed, scaled data with outliers removed transformed by a PCA with 2 components \n",
    "1. box-cox transformed, scaled data transformed by a PCA with 3 components  \n",
    "1. box-cox transformed, scaled data with outliers removed transformed by a PCA with 3 components  "
   ]
  },
  {
   "cell_type": "markdown",
   "metadata": {},
   "source": [
    "### Experiment Design\n",
    "\n",
    "We will pass each of these transformed data sets to a Gaussian Mixture Model and then assess the model using the BIC."
   ]
  },
  {
   "cell_type": "code",
   "execution_count": null,
   "metadata": {},
   "outputs": [],
   "source": [
    "from sklearn.mixture import GaussianMixture"
   ]
  },
  {
   "cell_type": "code",
   "execution_count": null,
   "metadata": {},
   "outputs": [],
   "source": [
    "original_data = [\n",
    "    ('original', customer_features),\n",
    "    ('original - no outliers', customer_features_outliers_removed),\n",
    "    ('original - pca, 2 components', customer_features_pca_2),\n",
    "    ('original - pca, 3 components', customer_features_pca_3),\n",
    "    ('original - no outliers, pca, 2 components', customer_features_outliers_removed_pca_2),\n",
    "    ('original - no outliers, pca, 3 components', customer_features_outliers_removed_pca_3)\n",
    "]\n",
    "\n",
    "scaled_data = [\n",
    "    ('scaled', customer_sc),\n",
    "    ('scaled - no outliers', customer_sc_outliers_removed),\n",
    "    ('scaled - pca, 2 components', customer_sc_pca_2),\n",
    "    ('scaled - pca, 3 components', customer_sc_pca_3),\n",
    "    ('scaled - no outliers, pca, 2 components', customer_sc_outliers_removed_pca_2),\n",
    "    ('scaled - no outliers, pca, 3 components', customer_sc_outliers_removed_pca_3),\n",
    "]\n",
    "\n",
    "log_transformed_data = [\n",
    "    ('log transformed, scaled', customer_log_sc),\n",
    "    ('log transformed, scaled - no outliers', customer_log_sc_outliers_removed),\n",
    "    ('log transformed, scaled - pca, 2 components', customer_log_sc_pca_2),\n",
    "    ('log transformed, scaled - pca, 3 components', customer_log_sc_pca_3),\n",
    "    ('log transformed, scaled - no outliers, pca, 2 components', customer_log_sc_outliers_removed_pca_2),\n",
    "    ('log transformed, scaled - no outliers, pca, 3 components', customer_log_sc_outliers_removed_pca_3),\n",
    "]\n",
    "\n",
    "box_cox_transformed_data = [\n",
    "    ('box-cox transformed, scaled', customer_box_cox_sc),\n",
    "    ('box-cox transformed, scaled - no outliers', customer_box_cox_sc_outliers_removed),\n",
    "    ('box-cox transformed, scaled - pca, 2 components', customer_box_cox_sc_pca_2),\n",
    "    ('box-cox transformed, scaled - pca, 3 components', customer_box_cox_sc_pca_3),\n",
    "    ('box-cox transformed, scaled - no outliers, pca, 2 components', customer_box_cox_sc_outliers_removed_pca_2),\n",
    "    ('box-cox transformed, scaled - no outliers, pca, 3 components', customer_box_cox_sc_outliers_removed_pca_3),\n",
    "]"
   ]
  },
  {
   "cell_type": "code",
   "execution_count": null,
   "metadata": {},
   "outputs": [],
   "source": [
    "def fit_and_score(data, n_components=2):\n",
    "    model = GaussianMixture(n_components=n_components)\n",
    "    model.fit(data)\n",
    "    return model.bic(data)"
   ]
  },
  {
   "cell_type": "code",
   "execution_count": null,
   "metadata": {},
   "outputs": [],
   "source": [
    "n = 2\n",
    "\n",
    "results_2_clusters = []\n",
    "\n",
    "for name, data in original_data:\n",
    "    results_2_clusters.append({\n",
    "        'name' : name, \n",
    "        'n' : n, \n",
    "        'BIC' : fit_and_score(data, n)\n",
    "    })\n",
    "\n",
    "for name, data in scaled_data:\n",
    "    results_2_clusters.append({\n",
    "        'name' : name, \n",
    "        'n' : n, \n",
    "        'BIC' : fit_and_score(data, n)\n",
    "    })\n",
    "    \n",
    "for name, data in log_transformed_data:\n",
    "    results_2_clusters.append({\n",
    "        'name' : name, \n",
    "        'n' : n, \n",
    "        'BIC' : fit_and_score(data, n)\n",
    "    })\n",
    "    \n",
    "for name, data in box_cox_transformed_data:\n",
    "    results_2_clusters.append({\n",
    "        'name' : name, \n",
    "        'n' : n, \n",
    "        'BIC' : fit_and_score(data, n)\n",
    "    })\n"
   ]
  },
  {
   "cell_type": "code",
   "execution_count": null,
   "metadata": {},
   "outputs": [],
   "source": [
    "pd.DataFrame(results_2_clusters).sort_values('BIC')"
   ]
  },
  {
   "cell_type": "code",
   "execution_count": null,
   "metadata": {},
   "outputs": [],
   "source": [
    "n = 3\n",
    "\n",
    "results_3_clusters = []\n",
    "\n",
    "for name, data in original_data:\n",
    "    results_3_clusters.append({\n",
    "        'name' : name, \n",
    "        'n' : n, \n",
    "        'BIC' : fit_and_score(data, n)\n",
    "    })\n",
    "\n",
    "for name, data in scaled_data:\n",
    "    results_3_clusters.append({\n",
    "        'name' : name, \n",
    "        'n' : n, \n",
    "        'BIC' : fit_and_score(data, n)\n",
    "    })\n",
    "    \n",
    "for name, data in log_transformed_data:\n",
    "    results_3_clusters.append({\n",
    "        'name' : name, \n",
    "        'n' : n, \n",
    "        'BIC' : fit_and_score(data, n)\n",
    "    })\n",
    "    \n",
    "for name, data in box_cox_transformed_data:\n",
    "    results_3_clusters.append({\n",
    "        'name' : name, \n",
    "        'n' : n, \n",
    "        'BIC' : fit_and_score(data, n)\n",
    "    })\n",
    "\n"
   ]
  },
  {
   "cell_type": "code",
   "execution_count": null,
   "metadata": {},
   "outputs": [],
   "source": [
    "pd.DataFrame(results_3_clusters).sort_values('BIC')"
   ]
  },
  {
   "cell_type": "markdown",
   "metadata": {},
   "source": [
    "### One More Thing ... What About Those Labels?"
   ]
  },
  {
   "cell_type": "code",
   "execution_count": null,
   "metadata": {},
   "outputs": [],
   "source": [
    "channel = customers.Channel.astype(int) - 1\n",
    "# region = customers.Region"
   ]
  },
  {
   "cell_type": "code",
   "execution_count": null,
   "metadata": {},
   "outputs": [],
   "source": [
    "from sklearn.metrics import accuracy_score\n",
    "\n",
    "def fit_and_score_predictions(data, labels, n_components=2):\n",
    "    model = GaussianMixture(n_components=n_components)\n",
    "    model.fit(data)\n",
    "    predictions = model.predict(data)\n",
    "    labels_pos = labels\n",
    "    labels_neg = (labels == 0).astype(int)\n",
    "    return max(accuracy_score(labels_pos, predictions), accuracy_score(labels_neg, predictions))"
   ]
  },
  {
   "cell_type": "code",
   "execution_count": null,
   "metadata": {},
   "outputs": [],
   "source": [
    "customer_sc_outliers_removed.shape"
   ]
  },
  {
   "cell_type": "code",
   "execution_count": null,
   "metadata": {},
   "outputs": [],
   "source": [
    "original_data_with_labels = [\n",
    "    ('original', customer_features, channel),\n",
    "    ('original - no outliers', customer_features_outliers_removed, channel_original_outliers_removed),\n",
    "    ('original - pca, 2 components', customer_features_pca_2, channel),\n",
    "    ('original - pca, 3 components', customer_features_pca_3, channel),\n",
    "    ('original - no outliers, pca, 2 components', customer_features_outliers_removed_pca_2, channel_original_outliers_removed),\n",
    "    ('original - no outliers, pca, 3 components', customer_features_outliers_removed_pca_3, channel_original_outliers_removed)\n",
    "]\n",
    "\n",
    "scaled_data_with_labels = [\n",
    "    ('scaled', customer_sc, channel),\n",
    "    ('scaled - no outliers', customer_sc_outliers_removed, channel_scaled_outliers_removed),\n",
    "    ('scaled - pca, 2 components', customer_sc_pca_2, channel),\n",
    "    ('scaled - pca, 3 components', customer_sc_pca_3, channel),\n",
    "    ('scaled - no outliers, pca, 2 components', customer_sc_outliers_removed_pca_2, channel_scaled_outliers_removed),\n",
    "    ('scaled - no outliers, pca, 3 components', customer_sc_outliers_removed_pca_3, channel_scaled_outliers_removed),\n",
    "]\n",
    "\n",
    "log_transformed_data_with_labels = [\n",
    "    ('log transformed, scaled', customer_log_sc, channel),\n",
    "    ('log transformed, scaled - no outliers', customer_log_sc_outliers_removed, channel_log_outliers_removed),\n",
    "    ('log transformed, scaled - pca, 2 components', customer_log_sc_pca_2, channel),\n",
    "    ('log transformed, scaled - pca, 3 components', customer_log_sc_pca_3, channel),\n",
    "    ('log transformed, scaled - no outliers, pca, 2 components', customer_log_sc_outliers_removed_pca_2, channel_log_outliers_removed),\n",
    "    ('log transformed, scaled - no outliers, pca, 3 components', customer_log_sc_outliers_removed_pca_3, channel_log_outliers_removed),\n",
    "]\n",
    "\n",
    "box_cox_transformed_data_with_labels = [\n",
    "    ('box-cox transformed, scaled', customer_box_cox_sc, channel),\n",
    "    ('box-cox transformed, scaled - no outliers', customer_box_cox_sc_outliers_removed, channel_box_cox_outliers_removed),\n",
    "    ('box-cox transformed, scaled - pca, 2 components', customer_box_cox_sc_pca_2, channel),\n",
    "    ('box-cox transformed, scaled - pca, 3 components', customer_box_cox_sc_pca_3, channel),\n",
    "    ('box-cox transformed, scaled - no outliers, pca, 2 components', customer_box_cox_sc_outliers_removed_pca_2, channel_box_cox_outliers_removed),\n",
    "    ('box-cox transformed, scaled - no outliers, pca, 3 components', customer_box_cox_sc_outliers_removed_pca_3, channel_box_cox_outliers_removed),\n",
    "]"
   ]
  },
  {
   "cell_type": "code",
   "execution_count": null,
   "metadata": {},
   "outputs": [],
   "source": [
    "n = 2\n",
    "\n",
    "results_2_accuracy = []\n",
    "\n",
    "for name, data, label in original_data_with_labels:\n",
    "    results_2_accuracy.append({\n",
    "        'name' : name, \n",
    "        'n' : n, \n",
    "        'accuracy' : fit_and_score_predictions(data, label, n)\n",
    "    })\n",
    "\n",
    "for name, data, label in scaled_data_with_labels:\n",
    "    results_2_accuracy.append({\n",
    "        'name' : name, \n",
    "        'n' : n, \n",
    "        'accuracy' : fit_and_score_predictions(data, label, n)\n",
    "    })\n",
    "    \n",
    "for name, data, label in log_transformed_data_with_labels:\n",
    "    results_2_accuracy.append({\n",
    "        'name' : name, \n",
    "        'n' : n, \n",
    "        'accuracy' : fit_and_score_predictions(data, label, n)\n",
    "    })\n",
    "    \n",
    "for name, data, label in box_cox_transformed_data_with_labels:\n",
    "    results_2_accuracy.append({\n",
    "        'name' : name, \n",
    "        'n' : n, \n",
    "        'accuracy' : fit_and_score_predictions(data, label, n)\n",
    "    })\n",
    "\n"
   ]
  },
  {
   "cell_type": "code",
   "execution_count": null,
   "metadata": {},
   "outputs": [],
   "source": [
    "pd.DataFrame(results_2_accuracy).sort_values('accuracy', ascending=False)"
   ]
  },
  {
   "cell_type": "markdown",
   "metadata": {},
   "source": [
    "![](complex_pipe_1.png)\n",
    "\n",
    "![](complex_pipe_2.png)\n",
    "\n",
    "![](complex_pipe_3.png)\n",
    "\n",
    "![](complex_pipe_4.png)\n",
    "\n",
    "![](complex_pipe_5.png)\n"
   ]
  },
  {
   "cell_type": "code",
   "execution_count": null,
   "metadata": {},
   "outputs": [],
   "source": []
  }
 ],
 "metadata": {
  "kernelspec": {
   "display_name": "Python 3",
   "language": "python",
   "name": "python3"
  },
  "language_info": {
   "codemirror_mode": {
    "name": "ipython",
    "version": 3
   },
   "file_extension": ".py",
   "mimetype": "text/x-python",
   "name": "python",
   "nbconvert_exporter": "python",
   "pygments_lexer": "ipython3",
   "version": "3.6.3"
  }
 },
 "nbformat": 4,
 "nbformat_minor": 2
}
