{
 "cells": [
  {
   "cell_type": "markdown",
   "metadata": {},
   "source": [
    "## Deskew the Data"
   ]
  },
  {
   "cell_type": "markdown",
   "metadata": {},
   "source": [
    "We will look at two common approaches to deskewing data:\n",
    "\n",
    "- the log transform\n",
    "- scaling by the Box-Cox test\n",
    "\n",
    "For purposes of comparison, we will keep both transforms."
   ]
  },
  {
   "cell_type": "markdown",
   "metadata": {},
   "source": [
    "We have previously looked at scaling data as a preprocessing step. Note that scaling of data will have no effect on its skewness. "
   ]
  },
  {
   "cell_type": "markdown",
   "metadata": {},
   "source": [
    "Another way we can verify this is via a test of skewness.\n",
    "\n",
    "To perform this test we can use the `scipy.stats.skewtest`.\n",
    "\n",
    "This function tests the null hypothesis that the skewness of the population that the sample was drawn from is the same as that of a corresponding normal distribution. Remember, a low p-value means reject the null hypothesis i.e the data is skewed!\n"
   ]
  },
  {
   "cell_type": "code",
   "execution_count": null,
   "metadata": {},
   "outputs": [],
   "source": [
    "import scipy.stats as st"
   ]
  },
  {
   "cell_type": "code",
   "execution_count": null,
   "metadata": {},
   "outputs": [],
   "source": [
    "import numpy as np\n",
    "import pandas as pd\n",
    "import scipy.stats as stats\n",
    "import seaborn as sns\n",
    "import matplotlib.pyplot as plt\n",
    "\n",
    "%matplotlib inline\n",
    "from IPython.display import display\n",
    "\n",
    "customers = pd.read_csv('Wholesale_customers_data.csv')\n",
    "customers.Region = customers.Region.astype('category')\n",
    "customers.Channel = customers.Channel.astype('category')\n",
    "customer_features = customers.select_dtypes([int])"
   ]
  },
  {
   "cell_type": "code",
   "execution_count": null,
   "metadata": {},
   "outputs": [],
   "source": [
    "from sklearn.preprocessing import StandardScaler"
   ]
  },
  {
   "cell_type": "code",
   "execution_count": null,
   "metadata": {},
   "outputs": [],
   "source": [
    "scaler = StandardScaler()\n",
    "customer_sc = scaler.fit_transform(customer_features)\n",
    "customer_sc_df = pd.DataFrame(customer_sc, columns=customer_features.columns)"
   ]
  },
  {
   "cell_type": "code",
   "execution_count": null,
   "metadata": {},
   "outputs": [],
   "source": [
    "for col in customer_sc_df.columns:\n",
    "    original_col_skewtest = st.skewtest(customer_features[col])\n",
    "    scaled_col_skewtest = st.skewtest(customer_sc_df[col])\n",
    "    print(\"{}\\norig skew test: {} \\nscaled skew test: {}\\n\\n\".format(col, \n",
    "                                                                     original_col_skewtest,\n",
    "                                                                     scaled_col_skewtest))"
   ]
  },
  {
   "cell_type": "markdown",
   "metadata": {},
   "source": [
    "### Deskew by taking the log of the data"
   ]
  },
  {
   "cell_type": "markdown",
   "metadata": {},
   "source": [
    "Many times the skew of data can be easily removed by taking the log of the data. Let's do so here.\n",
    "\n",
    "We will then scale the data after deskewing."
   ]
  },
  {
   "cell_type": "code",
   "execution_count": null,
   "metadata": {},
   "outputs": [],
   "source": [
    "customer_log_df = np.log(1+customer_features)\n",
    "scaler.fit(customer_log_df)\n",
    "customer_log_sc = scaler.transform(customer_log_df)\n",
    "customer_log_sc_df = pd.DataFrame(customer_log_sc, columns=customer_features.columns)"
   ]
  },
  {
   "cell_type": "code",
   "execution_count": null,
   "metadata": {},
   "outputs": [],
   "source": [
    "for col in customer_log_df.columns:\n",
    "    original_col_skewtest = st.skewtest(customer_features[col])\n",
    "    scaled_col_skewtest = st.skewtest(customer_sc_df[col])\n",
    "    original_log_col_skewtest = st.skewtest(customer_log_df[col])\n",
    "    scaled_log_col_skewtest = st.skewtest(customer_log_sc_df[col])\n",
    "    print(\"\"\"{}\n",
    "    orig:       {} \n",
    "    scaled:     {}\n",
    "    orig log:   {}\n",
    "    scaled log: {}\n",
    "    \n",
    "    \"\"\".format(col, \n",
    "               original_col_skewtest,\n",
    "               scaled_col_skewtest, \n",
    "               original_log_col_skewtest,\n",
    "               scaled_log_col_skewtest))"
   ]
  },
  {
   "cell_type": "code",
   "execution_count": null,
   "metadata": {},
   "outputs": [],
   "source": [
    "fig = plt.figure(figsize=(20,6))\n",
    "for i, col in enumerate(customer_sc_df.columns):\n",
    "    fig.add_subplot(231+i)\n",
    "    sns.distplot(customer_sc_df[col], label=col)\n",
    "    plt.axvline(customer_sc_df[col].mean(), c='red')\n",
    "    plt.axvline(customer_sc_df[col].median(), c='black')\n",
    "    plt.legend()"
   ]
  },
  {
   "cell_type": "code",
   "execution_count": null,
   "metadata": {},
   "outputs": [],
   "source": [
    "fig = plt.figure(figsize=(20,6))\n",
    "for i, col in enumerate(customer_log_sc_df.columns):\n",
    "    fig.add_subplot(231+i)\n",
    "    sns.distplot(customer_log_sc_df[col], label=col)\n",
    "    plt.axvline(customer_log_sc_df[col].mean(), c='red')\n",
    "    plt.axvline(customer_log_sc_df[col].median(), c='black')\n",
    "    plt.legend()"
   ]
  },
  {
   "cell_type": "markdown",
   "metadata": {},
   "source": [
    "### Deskew by Box-Cox Test"
   ]
  },
  {
   "cell_type": "markdown",
   "metadata": {},
   "source": [
    "The box cox test works by identifying the optimum power, $\\lambda$ to raise the data where\n",
    "\n",
    "$$\\mathbf{x_i}' = \\frac{\\mathbf{x_i}^\\lambda -1}{\\lambda}$$"
   ]
  },
  {
   "cell_type": "markdown",
   "metadata": {},
   "source": [
    "The implementation in Python is\n",
    "\n",
    "```\n",
    "y = (x**lmbda - 1) / lmbda, for lmbda > 0\n",
    "    log(x),                 for lmbda = 0\n",
    "```\n",
    "\n",
    "`boxcox` requires the input data to be positive."
   ]
  },
  {
   "cell_type": "code",
   "execution_count": null,
   "metadata": {},
   "outputs": [],
   "source": [
    "customer_box_cox_df = pd.DataFrame()\n",
    "for col in customer_features.columns:\n",
    "    box_cox_trans = st.boxcox(customer_features[col])[0]\n",
    "    customer_box_cox_df[col] = pd.Series(box_cox_trans)"
   ]
  },
  {
   "cell_type": "code",
   "execution_count": null,
   "metadata": {},
   "outputs": [],
   "source": [
    "scaler.fit(customer_box_cox_df)\n",
    "customer_box_cox_sc = scaler.transform(customer_box_cox_df)\n",
    "customer_box_cox_sc_df = pd.DataFrame(customer_box_cox_sc, columns=customer_features.columns)"
   ]
  },
  {
   "cell_type": "code",
   "execution_count": null,
   "metadata": {},
   "outputs": [],
   "source": [
    "for col in customer_log_df.columns:\n",
    "    original_col_skewtest = st.skewtest(customer_features[col])\n",
    "    scaled_col_skewtest = st.skewtest(customer_sc_df[col])\n",
    "    original_log_col_skewtest = st.skewtest(customer_log_df[col])\n",
    "    scaled_log_col_skewtest = st.skewtest(customer_log_sc_df[col])\n",
    "    original_box_cox_col_skewtest = st.skewtest(customer_box_cox_df[col])\n",
    "    scaled_box_cox_col_skewtest = st.skewtest(customer_box_cox_sc_df[col])\n",
    "    print(\"\"\"{}\n",
    "    orig:           {} \n",
    "    scaled:         {}\n",
    "    orig log:       {}\n",
    "    scaled log:     {}\n",
    "    orig box-cox:   {}\n",
    "    scaled box-cox: {}\n",
    "    \n",
    "    \"\"\".format(col, \n",
    "               original_col_skewtest,\n",
    "               scaled_col_skewtest, \n",
    "               original_log_col_skewtest,\n",
    "               scaled_log_col_skewtest, \n",
    "               original_box_cox_col_skewtest,\n",
    "               scaled_box_cox_col_skewtest))"
   ]
  },
  {
   "cell_type": "code",
   "execution_count": null,
   "metadata": {
    "scrolled": true
   },
   "outputs": [],
   "source": [
    "fig = plt.figure(figsize=(20,6))\n",
    "for i, col in enumerate(customer_box_cox_sc_df.columns):\n",
    "    fig.add_subplot(231+i)\n",
    "    sns.distplot(customer_box_cox_sc_df[col], label=col)\n",
    "    plt.axvline(customer_box_cox_sc_df[col].mean(), c='red')\n",
    "    plt.axvline(customer_box_cox_sc_df[col].median(), c='black')\n",
    "    plt.legend()"
   ]
  },
  {
   "cell_type": "code",
   "execution_count": null,
   "metadata": {},
   "outputs": [],
   "source": []
  }
 ],
 "metadata": {
  "kernelspec": {
   "display_name": "Python 3",
   "language": "python",
   "name": "python3"
  },
  "language_info": {
   "codemirror_mode": {
    "name": "ipython",
    "version": 3
   },
   "file_extension": ".py",
   "mimetype": "text/x-python",
   "name": "python",
   "nbconvert_exporter": "python",
   "pygments_lexer": "ipython3",
   "version": "3.6.3"
  }
 },
 "nbformat": 4,
 "nbformat_minor": 2
}
