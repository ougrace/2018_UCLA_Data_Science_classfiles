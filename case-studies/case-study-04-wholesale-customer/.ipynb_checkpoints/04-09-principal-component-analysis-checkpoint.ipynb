{
 "cells": [
  {
   "cell_type": "markdown",
   "metadata": {},
   "source": [
    "## Principal Component Analysis"
   ]
  },
  {
   "cell_type": "code",
   "execution_count": null,
   "metadata": {},
   "outputs": [],
   "source": [
    "import numpy as np\n",
    "import pandas as pd\n",
    "import scipy.stats as stats\n",
    "import seaborn as sns\n",
    "import matplotlib.pyplot as plt\n",
    "\n",
    "%matplotlib inline\n",
    "from IPython.display import display\n",
    "\n",
    "from sklearn.preprocessing import StandardScaler\n",
    "import scipy.stats as st\n",
    "\n",
    "customers = pd.read_csv('Wholesale_customers_data.csv')\n",
    "customers.Region = customers.Region.astype('category')\n",
    "customers.Channel = customers.Channel.astype('category')\n",
    "customer_features = customers.select_dtypes([int])\n",
    "\n",
    "scaler = StandardScaler()\n",
    "customer_sc = scaler.fit_transform(customer_features)\n",
    "customer_sc_df = pd.DataFrame(customer_sc, columns=customer_features.columns)\n",
    "\n",
    "customer_log_df = np.log(1+customer_features)\n",
    "scaler.fit(customer_log_df)\n",
    "customer_log_sc = scaler.transform(customer_log_df)\n",
    "customer_log_sc_df = pd.DataFrame(customer_log_sc, columns=customer_features.columns)\n",
    "\n",
    "customer_box_cox_df = pd.DataFrame()\n",
    "for col in customer_features.columns:\n",
    "    box_cox_trans = st.boxcox(customer_features[col])[0]\n",
    "    customer_box_cox_df[col] = pd.Series(box_cox_trans)\n",
    "    \n",
    "scaler.fit(customer_box_cox_df)\n",
    "customer_box_cox_sc = scaler.transform(customer_box_cox_df)\n",
    "customer_box_cox_sc_df = pd.DataFrame(customer_box_cox_sc, columns=customer_features.columns)"
   ]
  },
  {
   "cell_type": "code",
   "execution_count": null,
   "metadata": {},
   "outputs": [],
   "source": [
    "def feature_outliers(dataframe, col, param=1.5):\n",
    "    Q1 = np.percentile(dataframe[col], 25)\n",
    "    Q3 = np.percentile(dataframe[col], 75)\n",
    "    tukey_window = param*(Q3-Q1)\n",
    "    less_than_Q1 = dataframe[col] < Q1 - tukey_window\n",
    "    greater_than_Q3 = dataframe[col] > Q3 + tukey_window\n",
    "    tukey_mask = (less_than_Q1 | greater_than_Q3)\n",
    "    return dataframe[tukey_mask]"
   ]
  },
  {
   "cell_type": "code",
   "execution_count": null,
   "metadata": {},
   "outputs": [],
   "source": [
    "from collections import Counter"
   ]
  },
  {
   "cell_type": "code",
   "execution_count": null,
   "metadata": {},
   "outputs": [],
   "source": [
    "def multiple_outliers(dataframe, count=2):\n",
    "    raw_outliers = []\n",
    "    for col in dataframe:\n",
    "        outlier_df = feature_outliers(dataframe, col)\n",
    "        raw_outliers += list(outlier_df.index)\n",
    "\n",
    "    outlier_count = Counter(raw_outliers)\n",
    "    outliers = [k for k,v in outlier_count.items() if v >= count]\n",
    "    return outliers"
   ]
  },
  {
   "cell_type": "code",
   "execution_count": null,
   "metadata": {},
   "outputs": [],
   "source": [
    "customer_features_outliers_removed = customer_features.drop(multiple_outliers(customer_features))\n",
    "customer_sc_df_outliers_removed = customer_sc_df.drop(multiple_outliers(customer_sc_df))\n",
    "customer_log_sc_df_outliers_removed = customer_log_sc_df.drop(multiple_outliers(customer_log_sc_df))\n",
    "customer_box_cox_sc_df_outliers_removed = customer_box_cox_sc_df.drop(multiple_outliers(customer_box_cox_sc_df))"
   ]
  },
  {
   "cell_type": "code",
   "execution_count": null,
   "metadata": {},
   "outputs": [],
   "source": [
    "(customer_features.shape,\n",
    " customer_sc_df.shape,\n",
    " customer_log_sc_df.shape,\n",
    " customer_box_cox_sc_df.shape,\n",
    " customer_features_outliers_removed.shape,\n",
    " customer_sc_df_outliers_removed.shape,\n",
    " customer_log_sc_df_outliers_removed.shape,\n",
    " customer_box_cox_sc_df_outliers_removed.shape)"
   ]
  },
  {
   "cell_type": "code",
   "execution_count": null,
   "metadata": {},
   "outputs": [],
   "source": [
    "from sklearn.decomposition import PCA"
   ]
  },
  {
   "cell_type": "code",
   "execution_count": null,
   "metadata": {},
   "outputs": [],
   "source": [
    "pca_box_cox = PCA()\n",
    "pca_box_cox.fit(customer_box_cox_sc_df_outliers_removed)\n",
    "\n",
    "principal_component_loadings_box_cox = \\\n",
    " pd.DataFrame(pca_box_cox.components_, \n",
    " columns=customer_box_cox_sc_df_outliers_removed.columns)\n",
    "\n",
    "explained_variance_ratio_box_cox = pca_box_cox.explained_variance_ratio_\n",
    "pca_labels_box_cox = ['PC ' + str(i+1) +' // ' + str(round(ratio,2)) for i, ratio in enumerate(explained_variance_ratio_box_cox)]\n",
    "\n",
    "ax = principal_component_loadings_box_cox.plot(kind='bar', figsize=(20,6), rot=0)\n",
    "ax.set_xticklabels(pca_labels_box_cox);"
   ]
  },
  {
   "cell_type": "code",
   "execution_count": null,
   "metadata": {},
   "outputs": [],
   "source": [
    "pca_log = PCA()\n",
    "pca_log.fit(customer_log_sc_df_outliers_removed)"
   ]
  },
  {
   "cell_type": "code",
   "execution_count": null,
   "metadata": {},
   "outputs": [],
   "source": [
    "principal_component_loadings_log = pd.DataFrame(pca_log.components_, columns=customer_log_sc_df_outliers_removed.columns)"
   ]
  },
  {
   "cell_type": "code",
   "execution_count": null,
   "metadata": {},
   "outputs": [],
   "source": [
    "explained_variance_ratio_log = pca_log.explained_variance_ratio_\n",
    "pca_labels_log = ['PC ' + str(i+1) +' // ' + str(round(ratio,2)) for i, ratio in enumerate(explained_variance_ratio_log)]"
   ]
  },
  {
   "cell_type": "code",
   "execution_count": null,
   "metadata": {
    "scrolled": true
   },
   "outputs": [],
   "source": [
    "ax = principal_component_loadings_log.plot(kind='bar', figsize=(20,6), rot=0)\n",
    "ax.set_xticklabels(pca_labels_log);"
   ]
  },
  {
   "cell_type": "code",
   "execution_count": null,
   "metadata": {},
   "outputs": [],
   "source": [
    "pca_orig = PCA()\n",
    "pca_orig.fit(customer_features_outliers_removed)\n",
    "pca_scaled = PCA()\n",
    "pca_scaled.fit(customer_sc_df_outliers_removed)"
   ]
  },
  {
   "cell_type": "code",
   "execution_count": null,
   "metadata": {},
   "outputs": [],
   "source": [
    "principal_component_loadings_orig = pd.DataFrame(pca_orig.components_, columns=customer_log_sc_df_outliers_removed.columns)\n",
    "principal_component_loadings_scaled = pd.DataFrame(pca_scaled.components_, columns=customer_log_sc_df_outliers_removed.columns)"
   ]
  },
  {
   "cell_type": "code",
   "execution_count": null,
   "metadata": {},
   "outputs": [],
   "source": [
    "explained_variance_ratio_orig = pca_orig.explained_variance_ratio_\n",
    "explained_variance_ratio_scaled = pca_scaled.explained_variance_ratio_\n",
    "pca_labels_orig = ['PC ' + str(i+1) +' // ' + str(round(ratio,2)) for i, ratio in enumerate(explained_variance_ratio_orig)]\n",
    "pca_labels_scaled = ['PC ' + str(i+1) +' // ' + str(round(ratio,2)) for i, ratio in enumerate(explained_variance_ratio_scaled)]"
   ]
  },
  {
   "cell_type": "code",
   "execution_count": null,
   "metadata": {
    "scrolled": false
   },
   "outputs": [],
   "source": [
    "_, ax = plt.subplots(4,1,figsize=(20,20))\n",
    "principal_component_loadings_box_cox.plot(kind='bar', rot=0, ax=ax[0])\n",
    "ax[0].set_xticklabels(pca_labels_box_cox)\n",
    "principal_component_loadings_log.plot(kind='bar', rot=0, ax=ax[1])\n",
    "ax[1].set_xticklabels(pca_labels_log)\n",
    "principal_component_loadings_scaled.plot(kind='bar', rot=0, ax=ax[2])\n",
    "ax[2].set_xticklabels(pca_labels_scaled)\n",
    "principal_component_loadings_orig.plot(kind='bar', rot=0, ax=ax[3])\n",
    "ax[3].set_xticklabels(pca_labels_orig);"
   ]
  },
  {
   "cell_type": "markdown",
   "metadata": {},
   "source": [
    "#### Scree Plot"
   ]
  },
  {
   "cell_type": "markdown",
   "metadata": {},
   "source": [
    "Look for \"the bend\". This will tell you how many components to keep."
   ]
  },
  {
   "cell_type": "code",
   "execution_count": null,
   "metadata": {},
   "outputs": [],
   "source": [
    "plt.plot(pca_box_cox.explained_variance_ratio_)"
   ]
  },
  {
   "cell_type": "code",
   "execution_count": null,
   "metadata": {},
   "outputs": [],
   "source": [
    "pca = PCA(2)\n",
    "pca.fit(customer_box_cox_sc_df_outliers_removed)"
   ]
  },
  {
   "cell_type": "code",
   "execution_count": null,
   "metadata": {},
   "outputs": [],
   "source": [
    "sample = customer_box_cox_sc_df_outliers_removed.sample(5)"
   ]
  },
  {
   "cell_type": "code",
   "execution_count": null,
   "metadata": {},
   "outputs": [],
   "source": [
    "customer_pca_df = pd.DataFrame(pca.transform(customer_box_cox_sc_df), \n",
    "                               columns=['Dim 1', 'Dim 2'],\n",
    "                               index=customer_box_cox_sc_df.index)\n",
    "sample_pca_df = pd.DataFrame(pca.transform(sample), \n",
    "                             columns=['Dim 1', 'Dim 2'],\n",
    "                             index=sample.index)"
   ]
  },
  {
   "cell_type": "code",
   "execution_count": null,
   "metadata": {},
   "outputs": [],
   "source": [
    "fig = plt.figure(figsize=(12,6))\n",
    "fig.add_subplot(121)\n",
    "plt.title(\"Original Data\")\n",
    "sns.heatmap(sample, annot=True, cbar=False, square=True)\n",
    "fig.add_subplot(122)\n",
    "plt.title(\"PCA transformed Data\")\n",
    "sns.heatmap(sample_pca_df, annot=True, cbar=False, square=True)"
   ]
  },
  {
   "cell_type": "code",
   "execution_count": null,
   "metadata": {},
   "outputs": [],
   "source": [
    "sample.plot(kind='bar', figsize=(12,8))\n",
    "plt.title(\"Original Data\")\n",
    "_ = plt.xticks(range(5),['Sample 1','Sample 2','Sample 3', 'Sample 4','Sample 5'])\n",
    "\n",
    "sample_pca_df.plot(kind='bar', figsize=(12,8))\n",
    "plt.title(\"PCA transformed Data\")\n",
    "_ = plt.xticks(range(5),['Sample 1','Sample 2','Sample 3', 'Sample 4','Sample 5'])"
   ]
  },
  {
   "cell_type": "code",
   "execution_count": null,
   "metadata": {},
   "outputs": [],
   "source": []
  }
 ],
 "metadata": {
  "kernelspec": {
   "display_name": "Python 3",
   "language": "python",
   "name": "python3"
  },
  "language_info": {
   "codemirror_mode": {
    "name": "ipython",
    "version": 3
   },
   "file_extension": ".py",
   "mimetype": "text/x-python",
   "name": "python",
   "nbconvert_exporter": "python",
   "pygments_lexer": "ipython3",
   "version": "3.6.3"
  }
 },
 "nbformat": 4,
 "nbformat_minor": 2
}
