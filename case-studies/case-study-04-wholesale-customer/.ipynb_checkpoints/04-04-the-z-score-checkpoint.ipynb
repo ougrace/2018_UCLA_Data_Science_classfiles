{
 "cells": [
  {
   "cell_type": "markdown",
   "metadata": {},
   "source": [
    "## The Z-Score"
   ]
  },
  {
   "cell_type": "code",
   "execution_count": null,
   "metadata": {},
   "outputs": [],
   "source": [
    "import numpy as np\n",
    "import pandas as pd\n",
    "import scipy.stats as stats\n",
    "import seaborn as sns\n",
    "import matplotlib.pyplot as plt\n",
    "\n",
    "%matplotlib inline\n",
    "from IPython.display import display"
   ]
  },
  {
   "cell_type": "code",
   "execution_count": null,
   "metadata": {},
   "outputs": [],
   "source": [
    "customers = pd.read_csv('Wholesale_customers_data.csv')\n",
    "customers.Region = customers.Region.astype('category')\n",
    "customers.Channel = customers.Channel.astype('category')\n",
    "customer_features = customers.select_dtypes([int])\n",
    "\n",
    "display(customers.info())\n",
    "display(customers.describe())"
   ]
  },
  {
   "cell_type": "markdown",
   "metadata": {},
   "source": [
    "<a id='review-statistics-parameters'></a>\n",
    "\n",
    "#### Review: Sample Statistics and Parameters\n",
    "\n",
    "---\n",
    "\n",
    "Recall that we use sample statistics to estimate population parameters. Our goal is to calculate sample statistics and then rely on properties of a random sample (and perhaps additional assumptions) to make inferences that we can generalize to the larger population of interest.\n",
    "\n",
    "Below is a table comparing some example sample statistics and population parameters:\n",
    "\n",
    "Metric  | Statistic  | Parameter \n",
    "-------- | ---------- | -------- \n",
    "mean   | $$\\bar{x} = \\frac{\\sum x}{n}$$ | $$ \\mu = \\frac{\\sum x}{N} $$      \n",
    "standard deviation   | $$ s = \\sqrt{\\frac{\\sum_i (x_i - \\bar{x})^2}{n-1}} $$ | $$ \\sigma = \\sqrt{\\frac{\\sum_i (x_i - \\mu)^2}{N} } $$\n",
    "correlation   | $$ r = \\frac{\\hat{Cov}(X, Y)}{s_X s_Y} $$ | $$ \\rho = \\frac{Cov(X, Y)}{\\sigma_X \\sigma_Y} $$"
   ]
  },
  {
   "cell_type": "markdown",
   "metadata": {},
   "source": [
    "### The Normal Distribution\n",
    "\n",
    "---\n",
    "\n",
    "The normal distribution is arguably the most commonly used distribution in all of statistics. **Normality** is an assumption that underlies many statistical tests and serves as a convenient model for the distribution of many (but not all!) variables.\n",
    "\n",
    "The normal distribution relies on two parameters: \n",
    "- The population mean\n",
    "- The population standard deviation \n",
    "\n",
    "If a variable follows a Normal distribution exactly, its mean, median, and mode will all be equal."
   ]
  },
  {
   "cell_type": "code",
   "execution_count": null,
   "metadata": {},
   "outputs": [],
   "source": [
    "fig = plt.figure(figsize=(20,5))\n",
    "\n",
    "for i in range(1,5):\n",
    "    yy = np.random.normal(size=10**i)\n",
    "    fig.add_subplot(1,4,i)\n",
    "    sns.distplot(yy)"
   ]
  },
  {
   "cell_type": "markdown",
   "metadata": {},
   "source": [
    "<a id='zdist-rule'></a>\n",
    "\n",
    "#### The 68-95-99.7 Rule\n",
    "\n",
    "---\n",
    "\n",
    "It is often beneficial to identify how extreme (or far away from the expected value) a particular observation is within the context of a distribution. \n",
    "\n",
    "It is possible to show that, for a Normal distribution:\n",
    "- 68% of observations from a population will fall within $\\pm 1$ standard deviation of the population mean.\n",
    "- 95% of observations from a population will fall within $\\pm 2$ standard deviations of the population mean.\n",
    "- 99.7% of observations from a population will fall within $\\pm 3$ standard deviations of the population mean."
   ]
  },
  {
   "cell_type": "markdown",
   "metadata": {},
   "source": [
    "**Below is a visual representation of the 68-95-99.7 rule on the Delicatessen distribution:**"
   ]
  },
  {
   "cell_type": "code",
   "execution_count": null,
   "metadata": {},
   "outputs": [],
   "source": [
    "sns.distplot(customers.Delicatessen)\n",
    "plt.axvline(customers.Delicatessen.mean(), color='black', lw=3)\n",
    "plt.axvline(customers.Delicatessen.median(), color='red', lw=3)\n",
    "plt.axvline((customers.Delicatessen.mean() - customers.Delicatessen.std()),\n",
    "            color='black', lw=2, ls=\"dashed\")\n",
    "plt.axvline((customers.Delicatessen.mean() + customers.Delicatessen.std()),\n",
    "            color='black', lw=2, ls=\"dashed\")\n",
    "plt.axvline((customers.Delicatessen.mean() + 2*customers.Delicatessen.std()),\n",
    "            color='black', lw=1, ls=\"dashed\")\n",
    "plt.axvline((customers.Delicatessen.mean() - 2*customers.Delicatessen.std()),\n",
    "            color='black', lw=1, ls=\"dashed\")\n",
    "plt.axvline((customers.Delicatessen.mean() + 3*customers.Delicatessen.std()),\n",
    "            color='black', lw=.5, ls=\"dashed\")\n",
    "plt.axvline((customers.Delicatessen.mean() - 3*customers.Delicatessen.std()),\n",
    "            color='black', lw=.5, ls=\"dashed\")\n",
    "plt.axvline(0)\n",
    "plt.xlim(-5000,20000)"
   ]
  },
  {
   "cell_type": "code",
   "execution_count": null,
   "metadata": {},
   "outputs": [],
   "source": [
    "sns.distplot(np.log(customers.Delicatessen))\n",
    "plt.axvline(np.log(customers.Delicatessen).mean(), color='black', lw=3)\n",
    "plt.axvline(np.log(customers.Delicatessen).median(), color='red', lw=3)\n",
    "plt.axvline((np.log(customers.Delicatessen).mean() - np.log(customers.Delicatessen).std()),\n",
    "            color='black', lw=2, ls=\"dashed\")\n",
    "plt.axvline((np.log(customers.Delicatessen).mean() + np.log(customers.Delicatessen).std()),\n",
    "            color='black', lw=2, ls=\"dashed\")\n",
    "plt.axvline((np.log(customers.Delicatessen).mean() + 2*np.log(customers.Delicatessen).std()),\n",
    "            color='black', lw=1, ls=\"dashed\")\n",
    "plt.axvline((np.log(customers.Delicatessen).mean() - 2*np.log(customers.Delicatessen).std()),\n",
    "            color='black', lw=1, ls=\"dashed\")\n",
    "plt.axvline((np.log(customers.Delicatessen).mean() + 3*np.log(customers.Delicatessen).std()),\n",
    "            color='black', lw=.5, ls=\"dashed\")\n",
    "plt.axvline((np.log(customers.Delicatessen).mean() - 3*np.log(customers.Delicatessen).std()),\n",
    "            color='black', lw=.5, ls=\"dashed\")\n",
    "plt.axvline(0)"
   ]
  },
  {
   "cell_type": "markdown",
   "metadata": {},
   "source": [
    "### Definition: z-score\n",
    "\n",
    "\n",
    "The z-score of an observation quantifies how many standard deviations the observation is away from the population mean:\n",
    "\n",
    "#### $$ z_i = \\frac{x_i - \\text{population mean of x}}{\\text{standard deviation of x}} $$\n"
   ]
  },
  {
   "cell_type": "code",
   "execution_count": null,
   "metadata": {},
   "outputs": [],
   "source": [
    "customer_feature_z_scores = (customer_features -  customer_features.mean())/customer_features.std()"
   ]
  },
  {
   "cell_type": "code",
   "execution_count": null,
   "metadata": {},
   "outputs": [],
   "source": [
    "np.random.seed(42)\n",
    "sample = customer_feature_z_scores.sample(4)\n",
    "sample"
   ]
  },
  {
   "cell_type": "code",
   "execution_count": null,
   "metadata": {},
   "outputs": [],
   "source": [
    "sample.plot(kind='bar', figsize=(20,5))\n",
    "labels = [\"Sample {}\".format(i) for i in sample.index]\n",
    "plt.xticks(range(sample.shape[0]+2),labels);"
   ]
  }
 ],
 "metadata": {
  "kernelspec": {
   "display_name": "Python 3",
   "language": "python",
   "name": "python3"
  },
  "language_info": {
   "codemirror_mode": {
    "name": "ipython",
    "version": 3
   },
   "file_extension": ".py",
   "mimetype": "text/x-python",
   "name": "python",
   "nbconvert_exporter": "python",
   "pygments_lexer": "ipython3",
   "version": "3.6.3"
  }
 },
 "nbformat": 4,
 "nbformat_minor": 2
}
