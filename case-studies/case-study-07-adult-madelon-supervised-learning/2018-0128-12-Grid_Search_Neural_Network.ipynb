{
 "cells": [
  {
   "cell_type": "code",
   "execution_count": 1,
   "metadata": {},
   "outputs": [
    {
     "name": "stdout",
     "output_type": "stream",
     "text": [
      "/Users/Amar/Dropbox/Computer_Science/GATECH-OMSCS/7641_ML/GT_ML_Project_1\n"
     ]
    }
   ],
   "source": [
    "cd .."
   ]
  },
  {
   "cell_type": "code",
   "execution_count": 17,
   "metadata": {
    "collapsed": true
   },
   "outputs": [],
   "source": [
    "from lib.benchmark import run_model, plot_results\n",
    "from lib.benchmark import pipeline_deskew\n",
    "from sklearn.neural_network import MLPClassifier\n",
    "from sklearn.model_selection import GridSearchCV, StratifiedKFold\n",
    "from sklearn.metrics import f1_score, make_scorer\n",
    "from tqdm import tqdm\n",
    "sns.set()"
   ]
  },
  {
   "cell_type": "code",
   "execution_count": 3,
   "metadata": {
    "collapsed": true
   },
   "outputs": [],
   "source": [
    "%run __init__.py"
   ]
  },
  {
   "cell_type": "code",
   "execution_count": 4,
   "metadata": {
    "collapsed": true
   },
   "outputs": [],
   "source": [
    "%run src/load_data.py"
   ]
  },
  {
   "cell_type": "code",
   "execution_count": 5,
   "metadata": {
    "collapsed": true
   },
   "outputs": [],
   "source": [
    "adt_data = data['adult']['train']['engineered']\n",
    "adt_lbls = data['adult']['train']['labels']\n",
    "mad_data = data['madelon']['train']['raw_data']\n",
    "mad_lbls = data['madelon']['train']['labels']"
   ]
  },
  {
   "cell_type": "code",
   "execution_count": 6,
   "metadata": {
    "collapsed": true
   },
   "outputs": [],
   "source": [
    "cls = pipeline_deskew(MLPClassifier)"
   ]
  },
  {
   "cell_type": "code",
   "execution_count": 7,
   "metadata": {},
   "outputs": [
    {
     "data": {
      "text/plain": [
       "{'functiontransformer': FunctionTransformer(accept_sparse=False, func=<ufunc 'log'>, inv_kw_args=None,\n",
       "           inverse_func=None, kw_args=None, pass_y='deprecated',\n",
       "           validate=True),\n",
       " 'minmaxscaler': MinMaxScaler(copy=True, feature_range=(10, 11)),\n",
       " 'mlpclassifier': MLPClassifier(activation='relu', alpha=0.0001, batch_size='auto', beta_1=0.9,\n",
       "        beta_2=0.999, early_stopping=False, epsilon=1e-08,\n",
       "        hidden_layer_sizes=(100,), learning_rate='constant',\n",
       "        learning_rate_init=0.001, max_iter=200, momentum=0.9,\n",
       "        nesterovs_momentum=True, power_t=0.5, random_state=None,\n",
       "        shuffle=True, solver='adam', tol=0.0001, validation_fraction=0.1,\n",
       "        verbose=False, warm_start=False),\n",
       " 'standardscaler': StandardScaler(copy=True, with_mean=True, with_std=True)}"
      ]
     },
     "execution_count": 7,
     "metadata": {},
     "output_type": "execute_result"
    }
   ],
   "source": [
    "cls.named_steps"
   ]
  },
  {
   "cell_type": "code",
   "execution_count": 8,
   "metadata": {
    "collapsed": true
   },
   "outputs": [],
   "source": [
    "param_grid = { \n",
    "    'mlpclassifier__hidden_layer_sizes' : [(64,), (32,), (16,16,), (16,16,16),(16,16,16,16)],\n",
    "    'mlpclassifier__alpha' : np.logspace(-2,2,5)\n",
    "}"
   ]
  },
  {
   "cell_type": "markdown",
   "metadata": {},
   "source": [
    "# Madelon"
   ]
  },
  {
   "cell_type": "code",
   "execution_count": 9,
   "metadata": {
    "collapsed": true
   },
   "outputs": [
    {
     "name": "stdout",
     "output_type": "stream",
     "text": [
      "Fitting 3 folds for each of 25 candidates, totalling 75 fits\n",
      "[CV] mlpclassifier__hidden_layer_sizes=(64,), mlpclassifier__alpha=0.01 \n",
      "[CV] mlpclassifier__hidden_layer_sizes=(64,), mlpclassifier__alpha=0.01 \n",
      "[CV] mlpclassifier__hidden_layer_sizes=(64,), mlpclassifier__alpha=0.01 \n",
      "[CV] mlpclassifier__hidden_layer_sizes=(32,), mlpclassifier__alpha=0.01 \n",
      "[CV]  mlpclassifier__hidden_layer_sizes=(64,), mlpclassifier__alpha=0.01, total=   4.8s\n",
      "[CV]  mlpclassifier__hidden_layer_sizes=(32,), mlpclassifier__alpha=0.01, total=   4.8s\n",
      "[CV] mlpclassifier__hidden_layer_sizes=(32,), mlpclassifier__alpha=0.01 \n",
      "[CV] mlpclassifier__hidden_layer_sizes=(32,), mlpclassifier__alpha=0.01 \n",
      "[CV]  mlpclassifier__hidden_layer_sizes=(64,), mlpclassifier__alpha=0.01, total=   4.9s\n",
      "[CV] mlpclassifier__hidden_layer_sizes=(16, 16), mlpclassifier__alpha=0.01 \n",
      "[CV]  mlpclassifier__hidden_layer_sizes=(64,), mlpclassifier__alpha=0.01, total=   5.1s\n",
      "[CV] mlpclassifier__hidden_layer_sizes=(16, 16), mlpclassifier__alpha=0.01 \n",
      "[CV]  mlpclassifier__hidden_layer_sizes=(16, 16), mlpclassifier__alpha=0.01, total=   3.2s\n",
      "[CV] mlpclassifier__hidden_layer_sizes=(16, 16), mlpclassifier__alpha=0.01 \n",
      "[CV]  mlpclassifier__hidden_layer_sizes=(32,), mlpclassifier__alpha=0.01, total=   4.0s\n",
      "[CV] mlpclassifier__hidden_layer_sizes=(16, 16, 16), mlpclassifier__alpha=0.01 \n",
      "[CV]  mlpclassifier__hidden_layer_sizes=(16, 16), mlpclassifier__alpha=0.01, total=   4.1s\n",
      "[CV] mlpclassifier__hidden_layer_sizes=(16, 16, 16), mlpclassifier__alpha=0.01 \n",
      "[CV]  mlpclassifier__hidden_layer_sizes=(32,), mlpclassifier__alpha=0.01, total=   4.5s\n",
      "[CV] mlpclassifier__hidden_layer_sizes=(16, 16, 16), mlpclassifier__alpha=0.01 \n",
      "[CV]  mlpclassifier__hidden_layer_sizes=(16, 16), mlpclassifier__alpha=0.01, total=   3.6s\n",
      "[CV] mlpclassifier__hidden_layer_sizes=(16, 16, 16, 16), mlpclassifier__alpha=0.01 \n",
      "[CV]  mlpclassifier__hidden_layer_sizes=(16, 16, 16), mlpclassifier__alpha=0.01, total=   2.9s\n",
      "[CV]  mlpclassifier__hidden_layer_sizes=(16, 16, 16), mlpclassifier__alpha=0.01, total=   3.3s\n",
      "[CV] mlpclassifier__hidden_layer_sizes=(16, 16, 16, 16), mlpclassifier__alpha=0.01 \n",
      "[CV] mlpclassifier__hidden_layer_sizes=(16, 16, 16, 16), mlpclassifier__alpha=0.01 \n",
      "[CV]  mlpclassifier__hidden_layer_sizes=(16, 16, 16), mlpclassifier__alpha=0.01, total=   3.2s\n",
      "[CV] mlpclassifier__hidden_layer_sizes=(64,), mlpclassifier__alpha=0.1 \n",
      "[CV]  mlpclassifier__hidden_layer_sizes=(16, 16, 16, 16), mlpclassifier__alpha=0.01, total=   3.1s\n",
      "[CV] mlpclassifier__hidden_layer_sizes=(64,), mlpclassifier__alpha=0.1 \n",
      "[CV]  mlpclassifier__hidden_layer_sizes=(16, 16, 16, 16), mlpclassifier__alpha=0.01, total=   3.3s\n",
      "[CV] mlpclassifier__hidden_layer_sizes=(64,), mlpclassifier__alpha=0.1 \n",
      "[CV]  mlpclassifier__hidden_layer_sizes=(16, 16, 16, 16), mlpclassifier__alpha=0.01, total=   3.4s\n",
      "[CV] mlpclassifier__hidden_layer_sizes=(32,), mlpclassifier__alpha=0.1 \n",
      "[CV]  mlpclassifier__hidden_layer_sizes=(32,), mlpclassifier__alpha=0.1, total=   6.1s\n",
      "[CV] mlpclassifier__hidden_layer_sizes=(32,), mlpclassifier__alpha=0.1 \n",
      "[CV]  mlpclassifier__hidden_layer_sizes=(64,), mlpclassifier__alpha=0.1, total=  10.5s\n",
      "[CV] mlpclassifier__hidden_layer_sizes=(32,), mlpclassifier__alpha=0.1 \n",
      "[CV]  mlpclassifier__hidden_layer_sizes=(64,), mlpclassifier__alpha=0.1, total=  10.8s\n",
      "[CV] mlpclassifier__hidden_layer_sizes=(16, 16), mlpclassifier__alpha=0.1 \n",
      "[CV]  mlpclassifier__hidden_layer_sizes=(64,), mlpclassifier__alpha=0.1, total=  11.0s\n",
      "[CV] mlpclassifier__hidden_layer_sizes=(16, 16), mlpclassifier__alpha=0.1 \n",
      "[CV]  mlpclassifier__hidden_layer_sizes=(32,), mlpclassifier__alpha=0.1, total=   6.2s\n",
      "[CV] mlpclassifier__hidden_layer_sizes=(16, 16), mlpclassifier__alpha=0.1 \n",
      "[CV]  mlpclassifier__hidden_layer_sizes=(32,), mlpclassifier__alpha=0.1, total=   4.9s\n",
      "[CV] mlpclassifier__hidden_layer_sizes=(16, 16, 16), mlpclassifier__alpha=0.1 \n",
      "[CV]  mlpclassifier__hidden_layer_sizes=(16, 16), mlpclassifier__alpha=0.1, total=   3.9s\n",
      "[CV] mlpclassifier__hidden_layer_sizes=(16, 16, 16), mlpclassifier__alpha=0.1 \n",
      "[CV]  mlpclassifier__hidden_layer_sizes=(16, 16), mlpclassifier__alpha=0.1, total=   4.5s\n",
      "[CV] mlpclassifier__hidden_layer_sizes=(16, 16, 16), mlpclassifier__alpha=0.1 \n",
      "[CV]  mlpclassifier__hidden_layer_sizes=(16, 16), mlpclassifier__alpha=0.1, total=   3.8s\n",
      "[CV] mlpclassifier__hidden_layer_sizes=(16, 16, 16, 16), mlpclassifier__alpha=0.1 \n",
      "[CV]  mlpclassifier__hidden_layer_sizes=(16, 16, 16), mlpclassifier__alpha=0.1, total=   4.3s\n",
      "[CV] mlpclassifier__hidden_layer_sizes=(16, 16, 16, 16), mlpclassifier__alpha=0.1 \n",
      "[CV]  mlpclassifier__hidden_layer_sizes=(16, 16, 16), mlpclassifier__alpha=0.1, total=   4.4s\n",
      "[CV] mlpclassifier__hidden_layer_sizes=(16, 16, 16, 16), mlpclassifier__alpha=0.1 \n",
      "[CV]  mlpclassifier__hidden_layer_sizes=(16, 16, 16, 16), mlpclassifier__alpha=0.1, total=   3.3s\n",
      "[CV] mlpclassifier__hidden_layer_sizes=(64,), mlpclassifier__alpha=1.0 \n",
      "[CV]  mlpclassifier__hidden_layer_sizes=(16, 16, 16), mlpclassifier__alpha=0.1, total=   4.8s\n",
      "[CV] mlpclassifier__hidden_layer_sizes=(64,), mlpclassifier__alpha=1.0 \n",
      "[CV]  mlpclassifier__hidden_layer_sizes=(16, 16, 16, 16), mlpclassifier__alpha=0.1, total=   3.5s\n",
      "[CV] mlpclassifier__hidden_layer_sizes=(64,), mlpclassifier__alpha=1.0 \n",
      "[CV]  mlpclassifier__hidden_layer_sizes=(16, 16, 16, 16), mlpclassifier__alpha=0.1, total=   6.6s\n",
      "[CV] mlpclassifier__hidden_layer_sizes=(32,), mlpclassifier__alpha=1.0 \n",
      "[CV]  mlpclassifier__hidden_layer_sizes=(64,), mlpclassifier__alpha=1.0, total=   9.5s\n",
      "[CV] mlpclassifier__hidden_layer_sizes=(32,), mlpclassifier__alpha=1.0 \n",
      "[CV]  mlpclassifier__hidden_layer_sizes=(64,), mlpclassifier__alpha=1.0, total=   9.9s\n",
      "[CV] mlpclassifier__hidden_layer_sizes=(32,), mlpclassifier__alpha=1.0 \n",
      "[CV]  mlpclassifier__hidden_layer_sizes=(64,), mlpclassifier__alpha=1.0, total=  10.0s\n",
      "[CV] mlpclassifier__hidden_layer_sizes=(16, 16), mlpclassifier__alpha=1.0 \n"
     ]
    },
    {
     "name": "stderr",
     "output_type": "stream",
     "text": [
      "[Parallel(n_jobs=-1)]: Done  33 tasks      | elapsed:   46.5s\n"
     ]
    },
    {
     "name": "stdout",
     "output_type": "stream",
     "text": [
      "[CV]  mlpclassifier__hidden_layer_sizes=(32,), mlpclassifier__alpha=1.0, total=   7.2s\n",
      "[CV] mlpclassifier__hidden_layer_sizes=(16, 16), mlpclassifier__alpha=1.0 \n",
      "[CV]  mlpclassifier__hidden_layer_sizes=(32,), mlpclassifier__alpha=1.0, total=   6.4s\n",
      "[CV] mlpclassifier__hidden_layer_sizes=(16, 16), mlpclassifier__alpha=1.0 \n",
      "[CV]  mlpclassifier__hidden_layer_sizes=(32,), mlpclassifier__alpha=1.0, total=   6.3s\n",
      "[CV] mlpclassifier__hidden_layer_sizes=(16, 16, 16), mlpclassifier__alpha=1.0 \n",
      "[CV]  mlpclassifier__hidden_layer_sizes=(16, 16), mlpclassifier__alpha=1.0, total=   7.0s\n",
      "[CV] mlpclassifier__hidden_layer_sizes=(16, 16, 16), mlpclassifier__alpha=1.0 \n",
      "[CV]  mlpclassifier__hidden_layer_sizes=(16, 16), mlpclassifier__alpha=1.0, total=   6.4s\n",
      "[CV] mlpclassifier__hidden_layer_sizes=(16, 16, 16), mlpclassifier__alpha=1.0 \n"
     ]
    },
    {
     "name": "stderr",
     "output_type": "stream",
     "text": [
      "/Users/Amar/miniconda3/lib/python3.5/site-packages/sklearn/neural_network/multilayer_perceptron.py:564: ConvergenceWarning: Stochastic Optimizer: Maximum iterations (200) reached and the optimization hasn't converged yet.\n",
      "  % self.max_iter, ConvergenceWarning)\n"
     ]
    },
    {
     "name": "stdout",
     "output_type": "stream",
     "text": [
      "[CV]  mlpclassifier__hidden_layer_sizes=(16, 16), mlpclassifier__alpha=1.0, total=   7.2s\n",
      "[CV] mlpclassifier__hidden_layer_sizes=(16, 16, 16, 16), mlpclassifier__alpha=1.0 \n",
      "[CV]  mlpclassifier__hidden_layer_sizes=(16, 16, 16), mlpclassifier__alpha=1.0, total=   8.1s\n",
      "[CV] mlpclassifier__hidden_layer_sizes=(16, 16, 16, 16), mlpclassifier__alpha=1.0 \n",
      "[CV]  mlpclassifier__hidden_layer_sizes=(16, 16, 16), mlpclassifier__alpha=1.0, total=   7.9s\n",
      "[CV] mlpclassifier__hidden_layer_sizes=(16, 16, 16, 16), mlpclassifier__alpha=1.0 \n"
     ]
    },
    {
     "name": "stderr",
     "output_type": "stream",
     "text": [
      "/Users/Amar/miniconda3/lib/python3.5/site-packages/sklearn/neural_network/multilayer_perceptron.py:564: ConvergenceWarning: Stochastic Optimizer: Maximum iterations (200) reached and the optimization hasn't converged yet.\n",
      "  % self.max_iter, ConvergenceWarning)\n"
     ]
    },
    {
     "name": "stdout",
     "output_type": "stream",
     "text": [
      "[CV]  mlpclassifier__hidden_layer_sizes=(16, 16, 16), mlpclassifier__alpha=1.0, total=   7.9s\n",
      "[CV] mlpclassifier__hidden_layer_sizes=(64,), mlpclassifier__alpha=10.0 \n",
      "[CV]  mlpclassifier__hidden_layer_sizes=(64,), mlpclassifier__alpha=10.0, total=   3.0s\n",
      "[CV] mlpclassifier__hidden_layer_sizes=(64,), mlpclassifier__alpha=10.0 \n",
      "[CV]  mlpclassifier__hidden_layer_sizes=(16, 16, 16, 16), mlpclassifier__alpha=1.0, total=   8.3s\n",
      "[CV] mlpclassifier__hidden_layer_sizes=(64,), mlpclassifier__alpha=10.0 \n",
      "[CV]  mlpclassifier__hidden_layer_sizes=(16, 16, 16, 16), mlpclassifier__alpha=1.0, total=   7.8s\n",
      "[CV] mlpclassifier__hidden_layer_sizes=(32,), mlpclassifier__alpha=10.0 \n",
      "[CV]  mlpclassifier__hidden_layer_sizes=(64,), mlpclassifier__alpha=10.0, total=   3.7s\n",
      "[CV] mlpclassifier__hidden_layer_sizes=(32,), mlpclassifier__alpha=10.0 \n",
      "[CV]  mlpclassifier__hidden_layer_sizes=(16, 16, 16, 16), mlpclassifier__alpha=1.0, total=   9.1s\n",
      "[CV] mlpclassifier__hidden_layer_sizes=(32,), mlpclassifier__alpha=10.0 \n",
      "[CV]  mlpclassifier__hidden_layer_sizes=(64,), mlpclassifier__alpha=10.0, total=   3.8s\n",
      "[CV] mlpclassifier__hidden_layer_sizes=(16, 16), mlpclassifier__alpha=10.0 \n",
      "[CV]  mlpclassifier__hidden_layer_sizes=(32,), mlpclassifier__alpha=10.0, total=   3.6s\n",
      "[CV] mlpclassifier__hidden_layer_sizes=(16, 16), mlpclassifier__alpha=10.0 \n",
      "[CV]  mlpclassifier__hidden_layer_sizes=(32,), mlpclassifier__alpha=10.0, total=   3.5s\n",
      "[CV] mlpclassifier__hidden_layer_sizes=(16, 16), mlpclassifier__alpha=10.0 \n",
      "[CV]  mlpclassifier__hidden_layer_sizes=(32,), mlpclassifier__alpha=10.0, total=   3.2s\n",
      "[CV] mlpclassifier__hidden_layer_sizes=(16, 16, 16), mlpclassifier__alpha=10.0 \n",
      "[CV]  mlpclassifier__hidden_layer_sizes=(16, 16), mlpclassifier__alpha=10.0, total=   4.6s\n",
      "[CV] mlpclassifier__hidden_layer_sizes=(16, 16, 16), mlpclassifier__alpha=10.0 \n",
      "[CV]  mlpclassifier__hidden_layer_sizes=(16, 16), mlpclassifier__alpha=10.0, total=   3.6s\n",
      "[CV] mlpclassifier__hidden_layer_sizes=(16, 16, 16), mlpclassifier__alpha=10.0 \n",
      "[CV]  mlpclassifier__hidden_layer_sizes=(16, 16), mlpclassifier__alpha=10.0, total=   4.7s\n",
      "[CV] mlpclassifier__hidden_layer_sizes=(16, 16, 16, 16), mlpclassifier__alpha=10.0 \n",
      "[CV]  mlpclassifier__hidden_layer_sizes=(16, 16, 16), mlpclassifier__alpha=10.0, total=   5.8s\n",
      "[CV] mlpclassifier__hidden_layer_sizes=(16, 16, 16, 16), mlpclassifier__alpha=10.0 \n",
      "[CV]  mlpclassifier__hidden_layer_sizes=(16, 16, 16), mlpclassifier__alpha=10.0, total=   5.0s\n",
      "[CV] mlpclassifier__hidden_layer_sizes=(16, 16, 16, 16), mlpclassifier__alpha=10.0 \n",
      "[CV]  mlpclassifier__hidden_layer_sizes=(16, 16, 16), mlpclassifier__alpha=10.0, total=   5.8s\n",
      "[CV] mlpclassifier__hidden_layer_sizes=(64,), mlpclassifier__alpha=100.0 \n",
      "[CV]  mlpclassifier__hidden_layer_sizes=(16, 16, 16, 16), mlpclassifier__alpha=10.0, total=   5.8s\n",
      "[CV] mlpclassifier__hidden_layer_sizes=(64,), mlpclassifier__alpha=100.0 \n",
      "[CV]  mlpclassifier__hidden_layer_sizes=(16, 16, 16, 16), mlpclassifier__alpha=10.0, total=   5.3s\n",
      "[CV] mlpclassifier__hidden_layer_sizes=(64,), mlpclassifier__alpha=100.0 \n",
      "[CV]  mlpclassifier__hidden_layer_sizes=(64,), mlpclassifier__alpha=100.0, total=   3.7s\n",
      "[CV] mlpclassifier__hidden_layer_sizes=(32,), mlpclassifier__alpha=100.0 \n",
      "[CV]  mlpclassifier__hidden_layer_sizes=(64,), mlpclassifier__alpha=100.0, total=   4.1s\n",
      "[CV] mlpclassifier__hidden_layer_sizes=(32,), mlpclassifier__alpha=100.0 \n",
      "[CV]  mlpclassifier__hidden_layer_sizes=(16, 16, 16, 16), mlpclassifier__alpha=10.0, total=   6.4s\n",
      "[CV] mlpclassifier__hidden_layer_sizes=(32,), mlpclassifier__alpha=100.0 \n",
      "[CV]  mlpclassifier__hidden_layer_sizes=(64,), mlpclassifier__alpha=100.0, total=   4.3s\n",
      "[CV] mlpclassifier__hidden_layer_sizes=(16, 16), mlpclassifier__alpha=100.0 \n",
      "[CV]  mlpclassifier__hidden_layer_sizes=(32,), mlpclassifier__alpha=100.0, total=   3.7s\n",
      "[CV] mlpclassifier__hidden_layer_sizes=(16, 16), mlpclassifier__alpha=100.0 \n",
      "[CV]  mlpclassifier__hidden_layer_sizes=(32,), mlpclassifier__alpha=100.0, total=   3.9s\n",
      "[CV] mlpclassifier__hidden_layer_sizes=(16, 16), mlpclassifier__alpha=100.0 \n",
      "[CV]  mlpclassifier__hidden_layer_sizes=(32,), mlpclassifier__alpha=100.0, total=   4.1s\n",
      "[CV] mlpclassifier__hidden_layer_sizes=(16, 16, 16), mlpclassifier__alpha=100.0 \n"
     ]
    },
    {
     "name": "stderr",
     "output_type": "stream",
     "text": [
      "/Users/Amar/miniconda3/lib/python3.5/site-packages/sklearn/metrics/classification.py:1135: UndefinedMetricWarning: F-score is ill-defined and being set to 0.0 due to no predicted samples.\n",
      "  'precision', 'predicted', average, warn_for)\n"
     ]
    },
    {
     "name": "stdout",
     "output_type": "stream",
     "text": [
      "[CV]  mlpclassifier__hidden_layer_sizes=(16, 16), mlpclassifier__alpha=100.0, total=   5.6s\n",
      "[CV] mlpclassifier__hidden_layer_sizes=(16, 16, 16), mlpclassifier__alpha=100.0 \n",
      "[CV]  mlpclassifier__hidden_layer_sizes=(16, 16), mlpclassifier__alpha=100.0, total=   6.1s\n",
      "[CV] mlpclassifier__hidden_layer_sizes=(16, 16, 16), mlpclassifier__alpha=100.0 \n",
      "[CV]  mlpclassifier__hidden_layer_sizes=(16, 16), mlpclassifier__alpha=100.0, total=   5.4s\n",
      "[CV] mlpclassifier__hidden_layer_sizes=(16, 16, 16, 16), mlpclassifier__alpha=100.0 \n"
     ]
    },
    {
     "name": "stderr",
     "output_type": "stream",
     "text": [
      "/Users/Amar/miniconda3/lib/python3.5/site-packages/sklearn/metrics/classification.py:1135: UndefinedMetricWarning: F-score is ill-defined and being set to 0.0 due to no predicted samples.\n",
      "  'precision', 'predicted', average, warn_for)\n"
     ]
    },
    {
     "name": "stdout",
     "output_type": "stream",
     "text": [
      "[CV]  mlpclassifier__hidden_layer_sizes=(16, 16, 16), mlpclassifier__alpha=100.0, total=   6.2s\n",
      "[CV] mlpclassifier__hidden_layer_sizes=(16, 16, 16, 16), mlpclassifier__alpha=100.0 \n"
     ]
    },
    {
     "name": "stderr",
     "output_type": "stream",
     "text": [
      "/Users/Amar/miniconda3/lib/python3.5/site-packages/sklearn/metrics/classification.py:1135: UndefinedMetricWarning: F-score is ill-defined and being set to 0.0 due to no predicted samples.\n",
      "  'precision', 'predicted', average, warn_for)\n"
     ]
    },
    {
     "name": "stdout",
     "output_type": "stream",
     "text": [
      "[CV]  mlpclassifier__hidden_layer_sizes=(16, 16, 16), mlpclassifier__alpha=100.0, total=   5.8s\n",
      "[CV] mlpclassifier__hidden_layer_sizes=(16, 16, 16, 16), mlpclassifier__alpha=100.0 \n"
     ]
    },
    {
     "name": "stderr",
     "output_type": "stream",
     "text": [
      "/Users/Amar/miniconda3/lib/python3.5/site-packages/sklearn/metrics/classification.py:1135: UndefinedMetricWarning: F-score is ill-defined and being set to 0.0 due to no predicted samples.\n",
      "  'precision', 'predicted', average, warn_for)\n"
     ]
    },
    {
     "name": "stdout",
     "output_type": "stream",
     "text": [
      "[CV]  mlpclassifier__hidden_layer_sizes=(16, 16, 16), mlpclassifier__alpha=100.0, total=   6.3s\n"
     ]
    },
    {
     "name": "stderr",
     "output_type": "stream",
     "text": [
      "/Users/Amar/miniconda3/lib/python3.5/site-packages/sklearn/metrics/classification.py:1135: UndefinedMetricWarning: F-score is ill-defined and being set to 0.0 due to no predicted samples.\n",
      "  'precision', 'predicted', average, warn_for)\n"
     ]
    },
    {
     "name": "stdout",
     "output_type": "stream",
     "text": [
      "[CV]  mlpclassifier__hidden_layer_sizes=(16, 16, 16, 16), mlpclassifier__alpha=100.0, total=   7.8s\n",
      "[CV]  mlpclassifier__hidden_layer_sizes=(16, 16, 16, 16), mlpclassifier__alpha=100.0, total=   7.1s\n"
     ]
    },
    {
     "name": "stderr",
     "output_type": "stream",
     "text": [
      "/Users/Amar/miniconda3/lib/python3.5/site-packages/sklearn/metrics/classification.py:1135: UndefinedMetricWarning: F-score is ill-defined and being set to 0.0 due to no predicted samples.\n",
      "  'precision', 'predicted', average, warn_for)\n"
     ]
    },
    {
     "name": "stdout",
     "output_type": "stream",
     "text": [
      "[CV]  mlpclassifier__hidden_layer_sizes=(16, 16, 16, 16), mlpclassifier__alpha=100.0, total=   5.4s\n"
     ]
    },
    {
     "name": "stderr",
     "output_type": "stream",
     "text": [
      "[Parallel(n_jobs=-1)]: Done  75 out of  75 | elapsed:  1.8min finished\n"
     ]
    },
    {
     "data": {
      "text/plain": [
       "GridSearchCV(cv=StratifiedKFold(n_splits=3, random_state=None, shuffle=False),\n",
       "       error_score='raise',\n",
       "       estimator=Pipeline(memory=None,\n",
       "     steps=[('minmaxscaler', MinMaxScaler(copy=True, feature_range=(10, 11))), ('functiontransformer', FunctionTransformer(accept_sparse=False, func=<ufunc 'log'>, inv_kw_args=None,\n",
       "          inverse_func=None, kw_args=None, pass_y='deprecated',\n",
       "          validate=True)), ('standardscaler', StandardScale...=True, solver='adam', tol=0.0001, validation_fraction=0.1,\n",
       "       verbose=False, warm_start=False))]),\n",
       "       fit_params=None, iid=True, n_jobs=-1,\n",
       "       param_grid={'mlpclassifier__hidden_layer_sizes': [(64,), (32,), (16, 16), (16, 16, 16), (16, 16, 16, 16)], 'mlpclassifier__alpha': array([  1.00000e-02,   1.00000e-01,   1.00000e+00,   1.00000e+01,\n",
       "         1.00000e+02])},\n",
       "       pre_dispatch='2*n_jobs', refit=True, return_train_score=True,\n",
       "       scoring='f1', verbose=2)"
      ]
     },
     "execution_count": 9,
     "metadata": {},
     "output_type": "execute_result"
    }
   ],
   "source": [
    "gs_madelon = GridSearchCV(cls, param_grid, n_jobs=-1, scoring='f1', cv=StratifiedKFold(), verbose=2)\n",
    "gs_madelon.fit(mad_data, mad_lbls)"
   ]
  },
  {
   "cell_type": "code",
   "execution_count": 10,
   "metadata": {
    "collapsed": true
   },
   "outputs": [],
   "source": [
    "mad_results = pd.DataFrame(gs_madelon.cv_results_)"
   ]
  },
  {
   "cell_type": "code",
   "execution_count": 11,
   "metadata": {
    "collapsed": true
   },
   "outputs": [],
   "source": [
    "mad_results.to_pickle(\"results/MLP_GS_madelon.p\")"
   ]
  },
  {
   "cell_type": "markdown",
   "metadata": {},
   "source": [
    "# Adult "
   ]
  },
  {
   "cell_type": "code",
   "execution_count": 12,
   "metadata": {
    "collapsed": true
   },
   "outputs": [
    {
     "name": "stdout",
     "output_type": "stream",
     "text": [
      "Fitting 3 folds for each of 25 candidates, totalling 75 fits\n",
      "[CV] mlpclassifier__hidden_layer_sizes=(64,), mlpclassifier__alpha=0.01 \n",
      "[CV] mlpclassifier__hidden_layer_sizes=(64,), mlpclassifier__alpha=0.01 \n",
      "[CV] mlpclassifier__hidden_layer_sizes=(64,), mlpclassifier__alpha=0.01 \n",
      "[CV] mlpclassifier__hidden_layer_sizes=(32,), mlpclassifier__alpha=0.01 \n",
      "[CV]  mlpclassifier__hidden_layer_sizes=(32,), mlpclassifier__alpha=0.01, total=  16.4s\n",
      "[CV] mlpclassifier__hidden_layer_sizes=(32,), mlpclassifier__alpha=0.01 \n",
      "[CV]  mlpclassifier__hidden_layer_sizes=(64,), mlpclassifier__alpha=0.01, total=  21.4s\n",
      "[CV] mlpclassifier__hidden_layer_sizes=(32,), mlpclassifier__alpha=0.01 \n",
      "[CV]  mlpclassifier__hidden_layer_sizes=(64,), mlpclassifier__alpha=0.01, total=  26.2s\n",
      "[CV] mlpclassifier__hidden_layer_sizes=(16, 16), mlpclassifier__alpha=0.01 \n",
      "[CV]  mlpclassifier__hidden_layer_sizes=(64,), mlpclassifier__alpha=0.01, total=  28.4s\n",
      "[CV] mlpclassifier__hidden_layer_sizes=(16, 16), mlpclassifier__alpha=0.01 \n",
      "[CV]  mlpclassifier__hidden_layer_sizes=(32,), mlpclassifier__alpha=0.01, total=  18.1s\n",
      "[CV] mlpclassifier__hidden_layer_sizes=(16, 16), mlpclassifier__alpha=0.01 \n",
      "[CV]  mlpclassifier__hidden_layer_sizes=(32,), mlpclassifier__alpha=0.01, total=  20.2s\n",
      "[CV] mlpclassifier__hidden_layer_sizes=(16, 16, 16), mlpclassifier__alpha=0.01 \n",
      "[CV]  mlpclassifier__hidden_layer_sizes=(16, 16), mlpclassifier__alpha=0.01, total=  22.1s\n",
      "[CV] mlpclassifier__hidden_layer_sizes=(16, 16, 16), mlpclassifier__alpha=0.01 \n",
      "[CV]  mlpclassifier__hidden_layer_sizes=(16, 16), mlpclassifier__alpha=0.01, total=  21.5s\n",
      "[CV] mlpclassifier__hidden_layer_sizes=(16, 16, 16), mlpclassifier__alpha=0.01 \n",
      "[CV]  mlpclassifier__hidden_layer_sizes=(16, 16), mlpclassifier__alpha=0.01, total=  21.0s\n",
      "[CV] mlpclassifier__hidden_layer_sizes=(16, 16, 16, 16), mlpclassifier__alpha=0.01 \n",
      "[CV]  mlpclassifier__hidden_layer_sizes=(16, 16, 16), mlpclassifier__alpha=0.01, total=  25.8s\n",
      "[CV] mlpclassifier__hidden_layer_sizes=(16, 16, 16, 16), mlpclassifier__alpha=0.01 \n",
      "[CV]  mlpclassifier__hidden_layer_sizes=(16, 16, 16), mlpclassifier__alpha=0.01, total=  19.9s\n",
      "[CV] mlpclassifier__hidden_layer_sizes=(16, 16, 16, 16), mlpclassifier__alpha=0.01 \n",
      "[CV]  mlpclassifier__hidden_layer_sizes=(16, 16, 16), mlpclassifier__alpha=0.01, total=  28.0s\n",
      "[CV] mlpclassifier__hidden_layer_sizes=(64,), mlpclassifier__alpha=0.1 \n",
      "[CV]  mlpclassifier__hidden_layer_sizes=(64,), mlpclassifier__alpha=0.1, total=  13.2s\n",
      "[CV] mlpclassifier__hidden_layer_sizes=(64,), mlpclassifier__alpha=0.1 \n",
      "[CV]  mlpclassifier__hidden_layer_sizes=(16, 16, 16, 16), mlpclassifier__alpha=0.01, total=  36.6s\n",
      "[CV] mlpclassifier__hidden_layer_sizes=(64,), mlpclassifier__alpha=0.1 \n",
      "[CV]  mlpclassifier__hidden_layer_sizes=(16, 16, 16, 16), mlpclassifier__alpha=0.01, total=  26.1s\n",
      "[CV] mlpclassifier__hidden_layer_sizes=(32,), mlpclassifier__alpha=0.1 \n",
      "[CV]  mlpclassifier__hidden_layer_sizes=(64,), mlpclassifier__alpha=0.1, total=  12.4s\n",
      "[CV]  mlpclassifier__hidden_layer_sizes=(16, 16, 16, 16), mlpclassifier__alpha=0.01, total=  32.2s\n",
      "[CV] mlpclassifier__hidden_layer_sizes=(32,), mlpclassifier__alpha=0.1 \n",
      "[CV] mlpclassifier__hidden_layer_sizes=(32,), mlpclassifier__alpha=0.1 \n",
      "[CV]  mlpclassifier__hidden_layer_sizes=(64,), mlpclassifier__alpha=0.1, total=  13.6s\n",
      "[CV] mlpclassifier__hidden_layer_sizes=(16, 16), mlpclassifier__alpha=0.1 \n",
      "[CV]  mlpclassifier__hidden_layer_sizes=(32,), mlpclassifier__alpha=0.1, total=  15.7s\n",
      "[CV] mlpclassifier__hidden_layer_sizes=(16, 16), mlpclassifier__alpha=0.1 \n",
      "[CV]  mlpclassifier__hidden_layer_sizes=(32,), mlpclassifier__alpha=0.1, total=  15.1s\n",
      "[CV] mlpclassifier__hidden_layer_sizes=(16, 16), mlpclassifier__alpha=0.1 \n",
      "[CV]  mlpclassifier__hidden_layer_sizes=(32,), mlpclassifier__alpha=0.1, total=  16.1s\n",
      "[CV] mlpclassifier__hidden_layer_sizes=(16, 16, 16), mlpclassifier__alpha=0.1 \n",
      "[CV]  mlpclassifier__hidden_layer_sizes=(16, 16), mlpclassifier__alpha=0.1, total=  15.0s\n",
      "[CV] mlpclassifier__hidden_layer_sizes=(16, 16, 16), mlpclassifier__alpha=0.1 \n",
      "[CV]  mlpclassifier__hidden_layer_sizes=(16, 16), mlpclassifier__alpha=0.1, total=  17.4s\n",
      "[CV] mlpclassifier__hidden_layer_sizes=(16, 16, 16), mlpclassifier__alpha=0.1 \n",
      "[CV]  mlpclassifier__hidden_layer_sizes=(16, 16), mlpclassifier__alpha=0.1, total=  20.0s\n",
      "[CV] mlpclassifier__hidden_layer_sizes=(16, 16, 16, 16), mlpclassifier__alpha=0.1 \n",
      "[CV]  mlpclassifier__hidden_layer_sizes=(16, 16, 16), mlpclassifier__alpha=0.1, total=  24.4s\n",
      "[CV] mlpclassifier__hidden_layer_sizes=(16, 16, 16, 16), mlpclassifier__alpha=0.1 \n",
      "[CV]  mlpclassifier__hidden_layer_sizes=(16, 16, 16), mlpclassifier__alpha=0.1, total=  16.7s\n",
      "[CV] mlpclassifier__hidden_layer_sizes=(16, 16, 16, 16), mlpclassifier__alpha=0.1 \n",
      "[CV]  mlpclassifier__hidden_layer_sizes=(16, 16, 16), mlpclassifier__alpha=0.1, total=  23.5s\n",
      "[CV] mlpclassifier__hidden_layer_sizes=(64,), mlpclassifier__alpha=1.0 \n",
      "[CV]  mlpclassifier__hidden_layer_sizes=(64,), mlpclassifier__alpha=1.0, total=  10.7s\n",
      "[CV] mlpclassifier__hidden_layer_sizes=(64,), mlpclassifier__alpha=1.0 \n",
      "[CV]  mlpclassifier__hidden_layer_sizes=(16, 16, 16, 16), mlpclassifier__alpha=0.1, total=  24.8s\n",
      "[CV] mlpclassifier__hidden_layer_sizes=(64,), mlpclassifier__alpha=1.0 \n",
      "[CV]  mlpclassifier__hidden_layer_sizes=(16, 16, 16, 16), mlpclassifier__alpha=0.1, total=  19.1s\n",
      "[CV] mlpclassifier__hidden_layer_sizes=(32,), mlpclassifier__alpha=1.0 \n",
      "[CV]  mlpclassifier__hidden_layer_sizes=(64,), mlpclassifier__alpha=1.0, total=   8.9s\n",
      "[CV] mlpclassifier__hidden_layer_sizes=(32,), mlpclassifier__alpha=1.0 \n",
      "[CV]  mlpclassifier__hidden_layer_sizes=(16, 16, 16, 16), mlpclassifier__alpha=0.1, total=  22.9s\n",
      "[CV] mlpclassifier__hidden_layer_sizes=(32,), mlpclassifier__alpha=1.0 \n",
      "[CV]  mlpclassifier__hidden_layer_sizes=(32,), mlpclassifier__alpha=1.0, total=   7.7s\n",
      "[CV] mlpclassifier__hidden_layer_sizes=(16, 16), mlpclassifier__alpha=1.0 \n"
     ]
    },
    {
     "name": "stderr",
     "output_type": "stream",
     "text": [
      "[Parallel(n_jobs=-1)]: Done  33 tasks      | elapsed:  2.9min\n"
     ]
    },
    {
     "name": "stdout",
     "output_type": "stream",
     "text": [
      "[CV]  mlpclassifier__hidden_layer_sizes=(64,), mlpclassifier__alpha=1.0, total=   9.5s\n",
      "[CV] mlpclassifier__hidden_layer_sizes=(16, 16), mlpclassifier__alpha=1.0 \n",
      "[CV]  mlpclassifier__hidden_layer_sizes=(32,), mlpclassifier__alpha=1.0, total=   7.7s\n",
      "[CV] mlpclassifier__hidden_layer_sizes=(16, 16), mlpclassifier__alpha=1.0 \n",
      "[CV]  mlpclassifier__hidden_layer_sizes=(32,), mlpclassifier__alpha=1.0, total=   8.4s\n",
      "[CV] mlpclassifier__hidden_layer_sizes=(16, 16, 16), mlpclassifier__alpha=1.0 \n",
      "[CV]  mlpclassifier__hidden_layer_sizes=(16, 16), mlpclassifier__alpha=1.0, total=  11.1s\n",
      "[CV] mlpclassifier__hidden_layer_sizes=(16, 16, 16), mlpclassifier__alpha=1.0 \n",
      "[CV]  mlpclassifier__hidden_layer_sizes=(16, 16), mlpclassifier__alpha=1.0, total=  11.2s\n",
      "[CV]  mlpclassifier__hidden_layer_sizes=(16, 16), mlpclassifier__alpha=1.0, total=  11.5s\n",
      "[CV] mlpclassifier__hidden_layer_sizes=(16, 16, 16), mlpclassifier__alpha=1.0 \n",
      "[CV] mlpclassifier__hidden_layer_sizes=(16, 16, 16, 16), mlpclassifier__alpha=1.0 \n",
      "[CV]  mlpclassifier__hidden_layer_sizes=(16, 16, 16), mlpclassifier__alpha=1.0, total=  15.1s\n",
      "[CV] mlpclassifier__hidden_layer_sizes=(16, 16, 16, 16), mlpclassifier__alpha=1.0 \n",
      "[CV]  mlpclassifier__hidden_layer_sizes=(16, 16, 16), mlpclassifier__alpha=1.0, total=  10.7s\n",
      "[CV] mlpclassifier__hidden_layer_sizes=(16, 16, 16, 16), mlpclassifier__alpha=1.0 \n",
      "[CV]  mlpclassifier__hidden_layer_sizes=(16, 16, 16), mlpclassifier__alpha=1.0, total=  14.2s\n",
      "[CV] mlpclassifier__hidden_layer_sizes=(64,), mlpclassifier__alpha=10.0 \n",
      "[CV]  mlpclassifier__hidden_layer_sizes=(16, 16, 16, 16), mlpclassifier__alpha=1.0, total=  14.7s\n",
      "[CV] mlpclassifier__hidden_layer_sizes=(64,), mlpclassifier__alpha=10.0 \n",
      "[CV]  mlpclassifier__hidden_layer_sizes=(64,), mlpclassifier__alpha=10.0, total=   3.9s\n",
      "[CV] mlpclassifier__hidden_layer_sizes=(64,), mlpclassifier__alpha=10.0 \n",
      "[CV]  mlpclassifier__hidden_layer_sizes=(64,), mlpclassifier__alpha=10.0, total=   6.8s\n",
      "[CV] mlpclassifier__hidden_layer_sizes=(32,), mlpclassifier__alpha=10.0 \n",
      "[CV]  mlpclassifier__hidden_layer_sizes=(16, 16, 16, 16), mlpclassifier__alpha=1.0, total=  16.7s\n",
      "[CV] mlpclassifier__hidden_layer_sizes=(32,), mlpclassifier__alpha=10.0 \n",
      "[CV]  mlpclassifier__hidden_layer_sizes=(64,), mlpclassifier__alpha=10.0, total=   5.4s\n",
      "[CV] mlpclassifier__hidden_layer_sizes=(32,), mlpclassifier__alpha=10.0 \n",
      "[CV]  mlpclassifier__hidden_layer_sizes=(16, 16, 16, 16), mlpclassifier__alpha=1.0, total=  16.3s\n",
      "[CV] mlpclassifier__hidden_layer_sizes=(16, 16), mlpclassifier__alpha=10.0 \n",
      "[CV]  mlpclassifier__hidden_layer_sizes=(32,), mlpclassifier__alpha=10.0, total=   5.2s\n",
      "[CV] mlpclassifier__hidden_layer_sizes=(16, 16), mlpclassifier__alpha=10.0 \n",
      "[CV]  mlpclassifier__hidden_layer_sizes=(32,), mlpclassifier__alpha=10.0, total=   4.7s\n",
      "[CV] mlpclassifier__hidden_layer_sizes=(16, 16), mlpclassifier__alpha=10.0 \n",
      "[CV]  mlpclassifier__hidden_layer_sizes=(32,), mlpclassifier__alpha=10.0, total=   4.8s\n",
      "[CV] mlpclassifier__hidden_layer_sizes=(16, 16, 16), mlpclassifier__alpha=10.0 \n",
      "[CV]  mlpclassifier__hidden_layer_sizes=(16, 16), mlpclassifier__alpha=10.0, total=   7.9s\n",
      "[CV] mlpclassifier__hidden_layer_sizes=(16, 16, 16), mlpclassifier__alpha=10.0 \n",
      "[CV]  mlpclassifier__hidden_layer_sizes=(16, 16), mlpclassifier__alpha=10.0, total=   7.5s\n",
      "[CV] mlpclassifier__hidden_layer_sizes=(16, 16, 16), mlpclassifier__alpha=10.0 \n",
      "[CV]  mlpclassifier__hidden_layer_sizes=(16, 16), mlpclassifier__alpha=10.0, total=  10.6s\n",
      "[CV] mlpclassifier__hidden_layer_sizes=(16, 16, 16, 16), mlpclassifier__alpha=10.0 \n",
      "[CV]  mlpclassifier__hidden_layer_sizes=(16, 16, 16), mlpclassifier__alpha=10.0, total=   7.8s\n",
      "[CV] mlpclassifier__hidden_layer_sizes=(16, 16, 16, 16), mlpclassifier__alpha=10.0 \n",
      "[CV]  mlpclassifier__hidden_layer_sizes=(16, 16, 16), mlpclassifier__alpha=10.0, total=  13.6s\n",
      "[CV] mlpclassifier__hidden_layer_sizes=(16, 16, 16, 16), mlpclassifier__alpha=10.0 \n",
      "[CV]  mlpclassifier__hidden_layer_sizes=(16, 16, 16), mlpclassifier__alpha=10.0, total=  12.1s\n",
      "[CV] mlpclassifier__hidden_layer_sizes=(64,), mlpclassifier__alpha=100.0 \n",
      "[CV]  mlpclassifier__hidden_layer_sizes=(16, 16, 16, 16), mlpclassifier__alpha=10.0, total=  13.4s\n",
      "[CV] mlpclassifier__hidden_layer_sizes=(64,), mlpclassifier__alpha=100.0 \n",
      "[CV]  mlpclassifier__hidden_layer_sizes=(16, 16, 16, 16), mlpclassifier__alpha=10.0, total=  10.5s\n",
      "[CV] mlpclassifier__hidden_layer_sizes=(64,), mlpclassifier__alpha=100.0 \n",
      "[CV]  mlpclassifier__hidden_layer_sizes=(16, 16, 16, 16), mlpclassifier__alpha=10.0, total=  10.9s\n",
      "[CV] mlpclassifier__hidden_layer_sizes=(32,), mlpclassifier__alpha=100.0 \n"
     ]
    },
    {
     "name": "stderr",
     "output_type": "stream",
     "text": [
      "/Users/Amar/miniconda3/lib/python3.5/site-packages/sklearn/metrics/classification.py:1135: UndefinedMetricWarning: F-score is ill-defined and being set to 0.0 due to no predicted samples.\n",
      "  'precision', 'predicted', average, warn_for)\n"
     ]
    },
    {
     "name": "stdout",
     "output_type": "stream",
     "text": [
      "[CV]  mlpclassifier__hidden_layer_sizes=(64,), mlpclassifier__alpha=100.0, total=   9.7s\n",
      "[CV] mlpclassifier__hidden_layer_sizes=(32,), mlpclassifier__alpha=100.0 \n"
     ]
    },
    {
     "name": "stderr",
     "output_type": "stream",
     "text": [
      "/Users/Amar/miniconda3/lib/python3.5/site-packages/sklearn/metrics/classification.py:1135: UndefinedMetricWarning: F-score is ill-defined and being set to 0.0 due to no predicted samples.\n",
      "  'precision', 'predicted', average, warn_for)\n"
     ]
    },
    {
     "name": "stdout",
     "output_type": "stream",
     "text": [
      "[CV]  mlpclassifier__hidden_layer_sizes=(64,), mlpclassifier__alpha=100.0, total=   8.3s\n",
      "[CV] mlpclassifier__hidden_layer_sizes=(32,), mlpclassifier__alpha=100.0 \n"
     ]
    },
    {
     "name": "stderr",
     "output_type": "stream",
     "text": [
      "/Users/Amar/miniconda3/lib/python3.5/site-packages/sklearn/metrics/classification.py:1135: UndefinedMetricWarning: F-score is ill-defined and being set to 0.0 due to no predicted samples.\n",
      "  'precision', 'predicted', average, warn_for)\n"
     ]
    },
    {
     "name": "stdout",
     "output_type": "stream",
     "text": [
      "[CV]  mlpclassifier__hidden_layer_sizes=(32,), mlpclassifier__alpha=100.0, total=   5.5s\n",
      "[CV] mlpclassifier__hidden_layer_sizes=(16, 16), mlpclassifier__alpha=100.0 \n"
     ]
    },
    {
     "name": "stderr",
     "output_type": "stream",
     "text": [
      "/Users/Amar/miniconda3/lib/python3.5/site-packages/sklearn/metrics/classification.py:1135: UndefinedMetricWarning: F-score is ill-defined and being set to 0.0 due to no predicted samples.\n",
      "  'precision', 'predicted', average, warn_for)\n"
     ]
    },
    {
     "name": "stdout",
     "output_type": "stream",
     "text": [
      "[CV]  mlpclassifier__hidden_layer_sizes=(64,), mlpclassifier__alpha=100.0, total=   9.1s\n",
      "[CV] mlpclassifier__hidden_layer_sizes=(16, 16), mlpclassifier__alpha=100.0 \n"
     ]
    },
    {
     "name": "stderr",
     "output_type": "stream",
     "text": [
      "/Users/Amar/miniconda3/lib/python3.5/site-packages/sklearn/metrics/classification.py:1135: UndefinedMetricWarning: F-score is ill-defined and being set to 0.0 due to no predicted samples.\n",
      "  'precision', 'predicted', average, warn_for)\n"
     ]
    },
    {
     "name": "stdout",
     "output_type": "stream",
     "text": [
      "[CV]  mlpclassifier__hidden_layer_sizes=(32,), mlpclassifier__alpha=100.0, total=   9.3s\n",
      "[CV] mlpclassifier__hidden_layer_sizes=(16, 16), mlpclassifier__alpha=100.0 \n"
     ]
    },
    {
     "name": "stderr",
     "output_type": "stream",
     "text": [
      "/Users/Amar/miniconda3/lib/python3.5/site-packages/sklearn/metrics/classification.py:1135: UndefinedMetricWarning: F-score is ill-defined and being set to 0.0 due to no predicted samples.\n",
      "  'precision', 'predicted', average, warn_for)\n"
     ]
    },
    {
     "name": "stdout",
     "output_type": "stream",
     "text": [
      "[CV]  mlpclassifier__hidden_layer_sizes=(32,), mlpclassifier__alpha=100.0, total=   9.0s\n",
      "[CV] mlpclassifier__hidden_layer_sizes=(16, 16, 16), mlpclassifier__alpha=100.0 \n"
     ]
    },
    {
     "name": "stderr",
     "output_type": "stream",
     "text": [
      "/Users/Amar/miniconda3/lib/python3.5/site-packages/sklearn/metrics/classification.py:1135: UndefinedMetricWarning: F-score is ill-defined and being set to 0.0 due to no predicted samples.\n",
      "  'precision', 'predicted', average, warn_for)\n"
     ]
    },
    {
     "name": "stdout",
     "output_type": "stream",
     "text": [
      "[CV]  mlpclassifier__hidden_layer_sizes=(16, 16), mlpclassifier__alpha=100.0, total=   5.1s\n",
      "[CV] mlpclassifier__hidden_layer_sizes=(16, 16, 16), mlpclassifier__alpha=100.0 \n"
     ]
    },
    {
     "name": "stderr",
     "output_type": "stream",
     "text": [
      "/Users/Amar/miniconda3/lib/python3.5/site-packages/sklearn/metrics/classification.py:1135: UndefinedMetricWarning: F-score is ill-defined and being set to 0.0 due to no predicted samples.\n",
      "  'precision', 'predicted', average, warn_for)\n"
     ]
    },
    {
     "name": "stdout",
     "output_type": "stream",
     "text": [
      "[CV]  mlpclassifier__hidden_layer_sizes=(16, 16), mlpclassifier__alpha=100.0, total=  12.5s\n",
      "[CV] mlpclassifier__hidden_layer_sizes=(16, 16, 16), mlpclassifier__alpha=100.0 \n"
     ]
    },
    {
     "name": "stderr",
     "output_type": "stream",
     "text": [
      "/Users/Amar/miniconda3/lib/python3.5/site-packages/sklearn/metrics/classification.py:1135: UndefinedMetricWarning: F-score is ill-defined and being set to 0.0 due to no predicted samples.\n",
      "  'precision', 'predicted', average, warn_for)\n"
     ]
    },
    {
     "name": "stdout",
     "output_type": "stream",
     "text": [
      "[CV]  mlpclassifier__hidden_layer_sizes=(16, 16), mlpclassifier__alpha=100.0, total=   9.5s\n",
      "[CV] mlpclassifier__hidden_layer_sizes=(16, 16, 16, 16), mlpclassifier__alpha=100.0 \n"
     ]
    },
    {
     "name": "stderr",
     "output_type": "stream",
     "text": [
      "/Users/Amar/miniconda3/lib/python3.5/site-packages/sklearn/metrics/classification.py:1135: UndefinedMetricWarning: F-score is ill-defined and being set to 0.0 due to no predicted samples.\n",
      "  'precision', 'predicted', average, warn_for)\n"
     ]
    },
    {
     "name": "stdout",
     "output_type": "stream",
     "text": [
      "[CV]  mlpclassifier__hidden_layer_sizes=(16, 16, 16), mlpclassifier__alpha=100.0, total=  11.1s\n",
      "[CV] mlpclassifier__hidden_layer_sizes=(16, 16, 16, 16), mlpclassifier__alpha=100.0 \n"
     ]
    },
    {
     "name": "stderr",
     "output_type": "stream",
     "text": [
      "/Users/Amar/miniconda3/lib/python3.5/site-packages/sklearn/metrics/classification.py:1135: UndefinedMetricWarning: F-score is ill-defined and being set to 0.0 due to no predicted samples.\n",
      "  'precision', 'predicted', average, warn_for)\n"
     ]
    },
    {
     "name": "stdout",
     "output_type": "stream",
     "text": [
      "[CV]  mlpclassifier__hidden_layer_sizes=(16, 16, 16, 16), mlpclassifier__alpha=100.0, total=   7.3s\n",
      "[CV] mlpclassifier__hidden_layer_sizes=(16, 16, 16, 16), mlpclassifier__alpha=100.0 \n"
     ]
    },
    {
     "name": "stderr",
     "output_type": "stream",
     "text": [
      "/Users/Amar/miniconda3/lib/python3.5/site-packages/sklearn/metrics/classification.py:1135: UndefinedMetricWarning: F-score is ill-defined and being set to 0.0 due to no predicted samples.\n",
      "  'precision', 'predicted', average, warn_for)\n"
     ]
    },
    {
     "name": "stdout",
     "output_type": "stream",
     "text": [
      "[CV]  mlpclassifier__hidden_layer_sizes=(16, 16, 16), mlpclassifier__alpha=100.0, total=   9.7s\n"
     ]
    },
    {
     "name": "stderr",
     "output_type": "stream",
     "text": [
      "/Users/Amar/miniconda3/lib/python3.5/site-packages/sklearn/metrics/classification.py:1135: UndefinedMetricWarning: F-score is ill-defined and being set to 0.0 due to no predicted samples.\n",
      "  'precision', 'predicted', average, warn_for)\n"
     ]
    },
    {
     "name": "stdout",
     "output_type": "stream",
     "text": [
      "[CV]  mlpclassifier__hidden_layer_sizes=(16, 16, 16), mlpclassifier__alpha=100.0, total=  11.2s\n"
     ]
    },
    {
     "name": "stderr",
     "output_type": "stream",
     "text": [
      "/Users/Amar/miniconda3/lib/python3.5/site-packages/sklearn/metrics/classification.py:1135: UndefinedMetricWarning: F-score is ill-defined and being set to 0.0 due to no predicted samples.\n",
      "  'precision', 'predicted', average, warn_for)\n",
      "/Users/Amar/miniconda3/lib/python3.5/site-packages/sklearn/metrics/classification.py:1135: UndefinedMetricWarning: F-score is ill-defined and being set to 0.0 due to no predicted samples.\n",
      "  'precision', 'predicted', average, warn_for)\n"
     ]
    },
    {
     "name": "stdout",
     "output_type": "stream",
     "text": [
      "[CV]  mlpclassifier__hidden_layer_sizes=(16, 16, 16, 16), mlpclassifier__alpha=100.0, total=   6.0s\n",
      "[CV]  mlpclassifier__hidden_layer_sizes=(16, 16, 16, 16), mlpclassifier__alpha=100.0, total=   7.7s\n"
     ]
    },
    {
     "name": "stderr",
     "output_type": "stream",
     "text": [
      "[Parallel(n_jobs=-1)]: Done  75 out of  75 | elapsed:  4.5min finished\n"
     ]
    },
    {
     "data": {
      "text/plain": [
       "GridSearchCV(cv=StratifiedKFold(n_splits=3, random_state=None, shuffle=False),\n",
       "       error_score='raise',\n",
       "       estimator=Pipeline(memory=None,\n",
       "     steps=[('minmaxscaler', MinMaxScaler(copy=True, feature_range=(10, 11))), ('functiontransformer', FunctionTransformer(accept_sparse=False, func=<ufunc 'log'>, inv_kw_args=None,\n",
       "          inverse_func=None, kw_args=None, pass_y='deprecated',\n",
       "          validate=True)), ('standardscaler', StandardScale...=True, solver='adam', tol=0.0001, validation_fraction=0.1,\n",
       "       verbose=False, warm_start=False))]),\n",
       "       fit_params=None, iid=True, n_jobs=-1,\n",
       "       param_grid={'mlpclassifier__hidden_layer_sizes': [(64,), (32,), (16, 16), (16, 16, 16), (16, 16, 16, 16)], 'mlpclassifier__alpha': array([  1.00000e-02,   1.00000e-01,   1.00000e+00,   1.00000e+01,\n",
       "         1.00000e+02])},\n",
       "       pre_dispatch='2*n_jobs', refit=True, return_train_score=True,\n",
       "       scoring='f1', verbose=2)"
      ]
     },
     "execution_count": 12,
     "metadata": {},
     "output_type": "execute_result"
    }
   ],
   "source": [
    "gs_adult = GridSearchCV(cls, param_grid, n_jobs=-1, scoring='f1', cv=StratifiedKFold(), verbose=2)\n",
    "gs_adult.fit(adt_data, adt_lbls)"
   ]
  },
  {
   "cell_type": "code",
   "execution_count": 13,
   "metadata": {
    "collapsed": true
   },
   "outputs": [],
   "source": [
    "adult_results = pd.DataFrame(gs_adult.cv_results_)\n",
    "adult_results.to_pickle(\"results/MLP_GS_adult.p\")"
   ]
  },
  {
   "cell_type": "code",
   "execution_count": 1,
   "metadata": {},
   "outputs": [
    {
     "ename": "NameError",
     "evalue": "name 'plt' is not defined",
     "output_type": "error",
     "traceback": [
      "\u001b[0;31m---------------------------------------------------------------------------\u001b[0m",
      "\u001b[0;31mNameError\u001b[0m                                 Traceback (most recent call last)",
      "\u001b[0;32m<ipython-input-1-195a559db0bd>\u001b[0m in \u001b[0;36m<module>\u001b[0;34m()\u001b[0m\n\u001b[0;32m----> 1\u001b[0;31m \u001b[0mfig\u001b[0m \u001b[0;34m=\u001b[0m \u001b[0mplt\u001b[0m\u001b[0;34m.\u001b[0m\u001b[0mfigure\u001b[0m\u001b[0;34m(\u001b[0m\u001b[0mfigsize\u001b[0m\u001b[0;34m=\u001b[0m\u001b[0;34m(\u001b[0m\u001b[0;36m20\u001b[0m\u001b[0;34m,\u001b[0m\u001b[0;36m5\u001b[0m\u001b[0;34m)\u001b[0m\u001b[0;34m)\u001b[0m\u001b[0;34m\u001b[0m\u001b[0m\n\u001b[0m\u001b[1;32m      2\u001b[0m \u001b[0;34m\u001b[0m\u001b[0m\n\u001b[1;32m      3\u001b[0m \u001b[0mfig\u001b[0m\u001b[0;34m.\u001b[0m\u001b[0madd_subplot\u001b[0m\u001b[0;34m(\u001b[0m\u001b[0;36m1\u001b[0m\u001b[0;34m,\u001b[0m\u001b[0;36m2\u001b[0m\u001b[0;34m,\u001b[0m\u001b[0;36m1\u001b[0m\u001b[0;34m)\u001b[0m\u001b[0;34m\u001b[0m\u001b[0m\n\u001b[1;32m      4\u001b[0m \u001b[0mnn_1_mask\u001b[0m \u001b[0;34m=\u001b[0m \u001b[0mmad_results\u001b[0m\u001b[0;34m[\u001b[0m\u001b[0;34m'param_mlpclassifier__hidden_layer_sizes'\u001b[0m\u001b[0;34m]\u001b[0m\u001b[0;34m.\u001b[0m\u001b[0mastype\u001b[0m\u001b[0;34m(\u001b[0m\u001b[0mstr\u001b[0m\u001b[0;34m)\u001b[0m \u001b[0;34m==\u001b[0m \u001b[0;34m'(64,)'\u001b[0m\u001b[0;34m\u001b[0m\u001b[0m\n\u001b[1;32m      5\u001b[0m \u001b[0mnn_2_mask\u001b[0m \u001b[0;34m=\u001b[0m \u001b[0mmad_results\u001b[0m\u001b[0;34m[\u001b[0m\u001b[0;34m'param_mlpclassifier__hidden_layer_sizes'\u001b[0m\u001b[0;34m]\u001b[0m\u001b[0;34m.\u001b[0m\u001b[0mastype\u001b[0m\u001b[0;34m(\u001b[0m\u001b[0mstr\u001b[0m\u001b[0;34m)\u001b[0m \u001b[0;34m==\u001b[0m \u001b[0;34m'(32,)'\u001b[0m\u001b[0;34m\u001b[0m\u001b[0m\n",
      "\u001b[0;31mNameError\u001b[0m: name 'plt' is not defined"
     ]
    }
   ],
   "source": [
    "fig = plt.figure(figsize=(20,5))\n",
    "\n",
    "fig.add_subplot(1,2,1)\n",
    "nn_1_mask = mad_results['param_mlpclassifier__hidden_layer_sizes'].astype(str) == '(64,)'\n",
    "nn_2_mask = mad_results['param_mlpclassifier__hidden_layer_sizes'].astype(str) == '(32,)'\n",
    "nn_3_mask = mad_results['param_mlpclassifier__hidden_layer_sizes'].astype(str) == '(16, 16)'\n",
    "nn_4_mask = mad_results['param_mlpclassifier__hidden_layer_sizes'].astype(str) == '(16, 16, 16)'\n",
    "nn_5_mask = mad_results['param_mlpclassifier__hidden_layer_sizes'].astype(str) == '(16, 16, 16, 16)'\n",
    "\n",
    "plt.plot(mad_results[nn_1_mask]['param_mlpclassifier__alpha'],\n",
    "         mad_results[nn_1_mask]['mean_test_score'], label=\"64\")\n",
    "plt.plot(mad_results[nn_2_mask]['param_mlpclassifier__alpha'],\n",
    "         mad_results[nn_2_mask]['mean_test_score'], label=\"32\")\n",
    "plt.plot(mad_results[nn_3_mask]['param_mlpclassifier__alpha'],\n",
    "         mad_results[nn_3_mask]['mean_test_score'], label=\"16x2\")\n",
    "plt.plot(mad_results[nn_4_mask]['param_mlpclassifier__alpha'],\n",
    "         mad_results[nn_4_mask]['mean_test_score'], label=\"16x3\")\n",
    "plt.plot(mad_results[nn_5_mask]['param_mlpclassifier__alpha'],\n",
    "         mad_results[nn_5_mask]['mean_test_score'], label=\"16x4\")\n",
    "\n",
    "plt.legend()\n",
    "plt.xscale('log')\n",
    "plt.ylim(0,0.85)\n",
    "plt.title(\"Madelon\")\n",
    "\n",
    "\n",
    "fig.add_subplot(1,2,2)\n",
    "\n",
    "nn_1_mask = adult_results['param_mlpclassifier__hidden_layer_sizes'].astype(str) == '(64,)'\n",
    "nn_2_mask = adult_results['param_mlpclassifier__hidden_layer_sizes'].astype(str) == '(32,)'\n",
    "nn_3_mask = adult_results['param_mlpclassifier__hidden_layer_sizes'].astype(str) == '(16, 16)'\n",
    "nn_4_mask = adult_results['param_mlpclassifier__hidden_layer_sizes'].astype(str) == '(16, 16, 16)'\n",
    "nn_5_mask = adult_results['param_mlpclassifier__hidden_layer_sizes'].astype(str) == '(16, 16, 16, 16)'\n",
    "\n",
    "plt.plot(adult_results[nn_1_mask]['param_mlpclassifier__alpha'],\n",
    "         adult_results[nn_1_mask]['mean_test_score'], label=\"64\")\n",
    "plt.plot(adult_results[nn_2_mask]['param_mlpclassifier__alpha'],\n",
    "         adult_results[nn_2_mask]['mean_test_score'], label=\"32\")\n",
    "plt.plot(adult_results[nn_3_mask]['param_mlpclassifier__alpha'],\n",
    "         adult_results[nn_3_mask]['mean_test_score'], label=\"16x2\")\n",
    "plt.plot(adult_results[nn_4_mask]['param_mlpclassifier__alpha'],\n",
    "         adult_results[nn_4_mask]['mean_test_score'], label=\"16x3\")\n",
    "plt.plot(adult_results[nn_5_mask]['param_mlpclassifier__alpha'],\n",
    "         adult_results[nn_5_mask]['mean_test_score'], label=\"16x4\")\n",
    "\n",
    "plt.legend()\n",
    "plt.xscale('log')\n",
    "plt.ylim(0.15,0.85)\n",
    "plt.title(\"Adult\")\n"
   ]
  },
  {
   "cell_type": "code",
   "execution_count": 21,
   "metadata": {},
   "outputs": [
    {
     "data": {
      "text/plain": [
       "{'mlpclassifier__alpha': 10.0, 'mlpclassifier__hidden_layer_sizes': (16, 16)}"
      ]
     },
     "execution_count": 21,
     "metadata": {},
     "output_type": "execute_result"
    }
   ],
   "source": [
    "gs_madelon.best_params_"
   ]
  },
  {
   "cell_type": "code",
   "execution_count": 20,
   "metadata": {},
   "outputs": [
    {
     "data": {
      "text/plain": [
       "{'mlpclassifier__alpha': 1.0,\n",
       " 'mlpclassifier__hidden_layer_sizes': (16, 16, 16, 16)}"
      ]
     },
     "execution_count": 20,
     "metadata": {},
     "output_type": "execute_result"
    }
   ],
   "source": [
    "gs_adult.best_params_"
   ]
  },
  {
   "cell_type": "code",
   "execution_count": 51,
   "metadata": {
    "collapsed": true
   },
   "outputs": [],
   "source": [
    "mad_results = pd.read_pickle(\"results/MLP_GS_madelon.p\")\n",
    "adult_results = pd.read_pickle(\"results/MLP_GS_adult.p\")"
   ]
  },
  {
   "cell_type": "code",
   "execution_count": 52,
   "metadata": {},
   "outputs": [
    {
     "data": {
      "text/plain": [
       "Text(0.5,1,'Adult')"
      ]
     },
     "execution_count": 52,
     "metadata": {},
     "output_type": "execute_result"
    },
    {
     "data": {
      "image/png": "[encoded data removed]",
      "text/plain": [
       "<matplotlib.figure.Figure at 0x117df4b38>"
      ]
     },
     "metadata": {},
     "output_type": "display_data"
    }
   ],
   "source": [
    "fig = plt.figure(figsize=(20,5))\n",
    "fig.add_subplot(1,2,1)\n",
    "\n",
    "plt.plot(mad_results[nn_3_mask]['param_mlpclassifier__alpha'],\n",
    "         mad_results[nn_3_mask]['mean_test_score'], label=\"test\")\n",
    "plt.plot(mad_results[nn_3_mask]['param_mlpclassifier__alpha'],\n",
    "         mad_results[nn_3_mask]['mean_train_score'], label=\"train\")\n",
    "\n",
    "plt.legend()\n",
    "plt.xscale('log')\n",
    "plt.title(\"Madelon\")\n",
    "\n",
    "\n",
    "fig.add_subplot(1,2,2)\n",
    "plt.plot(adult_results[nn_5_mask]['param_mlpclassifier__alpha'],\n",
    "         adult_results[nn_5_mask]['mean_test_score'], label=\"test\")\n",
    "plt.plot(adult_results[nn_5_mask]['param_mlpclassifier__alpha'],\n",
    "         adult_results[nn_5_mask]['mean_train_score'], label=\"train\")\n",
    "\n",
    "plt.legend()\n",
    "plt.xscale('log')\n",
    "plt.title(\"Adult\")"
   ]
  },
  {
   "cell_type": "markdown",
   "metadata": {},
   "source": [
    "# These graphs are actual REVERSE complexity \n",
    "because as we increase alpha we increase the regularization, which means that they will be more biased. Less Variance.  We should flip the X axis to follow convention."
   ]
  },
  {
   "cell_type": "code",
   "execution_count": 24,
   "metadata": {},
   "outputs": [
    {
     "data": {
      "text/plain": [
       "{'functiontransformer': FunctionTransformer(accept_sparse=False, func=<ufunc 'log'>, inv_kw_args=None,\n",
       "           inverse_func=None, kw_args=None, pass_y='deprecated',\n",
       "           validate=True),\n",
       " 'minmaxscaler': MinMaxScaler(copy=True, feature_range=(10, 11)),\n",
       " 'mlpclassifier': MLPClassifier(activation='relu', alpha=0.0001, batch_size='auto', beta_1=0.9,\n",
       "        beta_2=0.999, early_stopping=False, epsilon=1e-08,\n",
       "        hidden_layer_sizes=(100,), learning_rate='constant',\n",
       "        learning_rate_init=0.001, max_iter=200, momentum=0.9,\n",
       "        nesterovs_momentum=True, power_t=0.5, random_state=None,\n",
       "        shuffle=True, solver='adam', tol=0.0001, validation_fraction=0.1,\n",
       "        verbose=False, warm_start=False),\n",
       " 'standardscaler': StandardScaler(copy=True, with_mean=True, with_std=True)}"
      ]
     },
     "execution_count": 24,
     "metadata": {},
     "output_type": "execute_result"
    }
   ],
   "source": [
    "cls.named_steps"
   ]
  },
  {
   "cell_type": "code",
   "execution_count": 25,
   "metadata": {},
   "outputs": [
    {
     "data": {
      "text/plain": [
       "range(0, 500)"
      ]
     },
     "execution_count": 25,
     "metadata": {},
     "output_type": "execute_result"
    }
   ],
   "source": [
    "range(0,500)"
   ]
  },
  {
   "cell_type": "code",
   "execution_count": 31,
   "metadata": {
    "collapsed": true
   },
   "outputs": [],
   "source": [
    "param_grid = { \n",
    "    'mlpclassifier__hidden_layer_sizes' : [(16,16,)],\n",
    "    'mlpclassifier__max_iter' : list(range(1,501))\n",
    "}"
   ]
  },
  {
   "cell_type": "code",
   "execution_count": 34,
   "metadata": {
    "collapsed": true
   },
   "outputs": [],
   "source": [
    "from sklearn.model_selection import StratifiedShuffleSplit\n",
    "import warnings\n",
    "warnings.filterwarnings(\"ignore\")"
   ]
  },
  {
   "cell_type": "code",
   "execution_count": 35,
   "metadata": {},
   "outputs": [
    {
     "name": "stdout",
     "output_type": "stream",
     "text": [
      "Fitting 1 folds for each of 500 candidates, totalling 500 fits\n"
     ]
    },
    {
     "name": "stderr",
     "output_type": "stream",
     "text": [
      "[Parallel(n_jobs=-1)]: Done  42 tasks      | elapsed:   10.4s\n",
      "[Parallel(n_jobs=-1)]: Done 192 tasks      | elapsed:  2.2min\n",
      "[Parallel(n_jobs=-1)]: Done 442 tasks      | elapsed:  5.7min\n",
      "[Parallel(n_jobs=-1)]: Done 500 out of 500 | elapsed:  6.4min finished\n"
     ]
    },
    {
     "data": {
      "text/plain": [
       "GridSearchCV(cv=StratifiedShuffleSplit(n_splits=1, random_state=None, test_size=0.2,\n",
       "            train_size=None),\n",
       "       error_score='raise',\n",
       "       estimator=Pipeline(memory=None,\n",
       "     steps=[('minmaxscaler', MinMaxScaler(copy=True, feature_range=(10, 11))), ('functiontransformer', FunctionTransformer(accept_sparse=False, func=<ufunc 'log'>, inv_kw_args=None,\n",
       "          inverse_func=None, kw_args=None, pass_y='deprecated',\n",
       "          validate=True)), ('standardscaler', StandardScale...=True, solver='adam', tol=0.0001, validation_fraction=0.1,\n",
       "       verbose=False, warm_start=False))]),\n",
       "       fit_params=None, iid=True, n_jobs=-1,\n",
       "       param_grid={'mlpclassifier__hidden_layer_sizes': [(16, 16)], 'mlpclassifier__max_iter': [1, 2, 3, 4, 5, 6, 7, 8, 9, 10, 11, 12, 13, 14, 15, 16, 17, 18, 19, 20, 21, 22, 23, 24, 25, 26, 27, 28, 29, 30, 31, 32, 33, 34, 35, 36, 37, 38, 39, 40, 41, 42, 43, 44, 45, 46, 47, 48, 49, 50, 51, 52, 53, 54, 55, ...481, 482, 483, 484, 485, 486, 487, 488, 489, 490, 491, 492, 493, 494, 495, 496, 497, 498, 499, 500]},\n",
       "       pre_dispatch='2*n_jobs', refit=True, return_train_score=True,\n",
       "       scoring='f1', verbose=1)"
      ]
     },
     "execution_count": 35,
     "metadata": {},
     "output_type": "execute_result"
    }
   ],
   "source": [
    "gs_madelon = GridSearchCV(cls, param_grid, n_jobs=-1, scoring='f1', cv=StratifiedShuffleSplit(n_splits=1, test_size = .2), verbose=1)\n",
    "gs_madelon.fit(mad_data, mad_lbls)"
   ]
  },
  {
   "cell_type": "code",
   "execution_count": 36,
   "metadata": {},
   "outputs": [
    {
     "data": {
      "text/plain": [
       "{'mlpclassifier__hidden_layer_sizes': (16, 16), 'mlpclassifier__max_iter': 6}"
      ]
     },
     "execution_count": 36,
     "metadata": {},
     "output_type": "execute_result"
    }
   ],
   "source": [
    "gs_madelon.best_params_"
   ]
  },
  {
   "cell_type": "code",
   "execution_count": 37,
   "metadata": {},
   "outputs": [
    {
     "data": {
      "text/plain": [
       "0.63063063063063063"
      ]
     },
     "execution_count": 37,
     "metadata": {},
     "output_type": "execute_result"
    }
   ],
   "source": [
    "gs_madelon.best_score_"
   ]
  },
  {
   "cell_type": "code",
   "execution_count": 38,
   "metadata": {
    "collapsed": true
   },
   "outputs": [],
   "source": [
    "mad_results = pd.DataFrame(gs_madelon.cv_results_)\n",
    "mad_results.to_pickle(\"results/MLP_500iter_GS_madelon.p\")"
   ]
  },
  {
   "cell_type": "code",
   "execution_count": null,
   "metadata": {
    "collapsed": true
   },
   "outputs": [],
   "source": [
    "# You need to load back that pickle, your gs_madelon is screwed."
   ]
  },
  {
   "cell_type": "code",
   "execution_count": 41,
   "metadata": {
    "collapsed": true
   },
   "outputs": [],
   "source": [
    "mad_results = pd.read_pickle(\"results/MLP_500iter_GS_madelon.p\")"
   ]
  },
  {
   "cell_type": "code",
   "execution_count": 40,
   "metadata": {
    "scrolled": true
   },
   "outputs": [
    {
     "name": "stdout",
     "output_type": "stream",
     "text": [
      "Fitting 1 folds for each of 500 candidates, totalling 500 fits\n"
     ]
    },
    {
     "name": "stderr",
     "output_type": "stream",
     "text": [
      "[Parallel(n_jobs=-1)]: Done  42 tasks      | elapsed:   54.6s\n",
      "[Parallel(n_jobs=-1)]: Done 192 tasks      | elapsed: 10.9min\n",
      "[Parallel(n_jobs=-1)]: Done 442 tasks      | elapsed: 30.4min\n",
      "[Parallel(n_jobs=-1)]: Done 500 out of 500 | elapsed: 34.4min finished\n"
     ]
    },
    {
     "data": {
      "text/plain": [
       "GridSearchCV(cv=StratifiedShuffleSplit(n_splits=1, random_state=None, test_size=0.2,\n",
       "            train_size=None),\n",
       "       error_score='raise',\n",
       "       estimator=Pipeline(memory=None,\n",
       "     steps=[('minmaxscaler', MinMaxScaler(copy=True, feature_range=(10, 11))), ('functiontransformer', FunctionTransformer(accept_sparse=False, func=<ufunc 'log'>, inv_kw_args=None,\n",
       "          inverse_func=None, kw_args=None, pass_y='deprecated',\n",
       "          validate=True)), ('standardscaler', StandardScale...=True, solver='adam', tol=0.0001, validation_fraction=0.1,\n",
       "       verbose=False, warm_start=False))]),\n",
       "       fit_params=None, iid=True, n_jobs=-1,\n",
       "       param_grid={'mlpclassifier__hidden_layer_sizes': [(16, 16)], 'mlpclassifier__max_iter': [1, 2, 3, 4, 5, 6, 7, 8, 9, 10, 11, 12, 13, 14, 15, 16, 17, 18, 19, 20, 21, 22, 23, 24, 25, 26, 27, 28, 29, 30, 31, 32, 33, 34, 35, 36, 37, 38, 39, 40, 41, 42, 43, 44, 45, 46, 47, 48, 49, 50, 51, 52, 53, 54, 55, ...481, 482, 483, 484, 485, 486, 487, 488, 489, 490, 491, 492, 493, 494, 495, 496, 497, 498, 499, 500]},\n",
       "       pre_dispatch='2*n_jobs', refit=True, return_train_score=True,\n",
       "       scoring='f1', verbose=1)"
      ]
     },
     "execution_count": 40,
     "metadata": {},
     "output_type": "execute_result"
    }
   ],
   "source": [
    "gs_adult = GridSearchCV(cls, param_grid, n_jobs=-1, scoring='f1', cv=StratifiedShuffleSplit(n_splits=1, test_size = .2), verbose=1)\n",
    "gs_adult.fit(adt_data, adt_lbls)"
   ]
  },
  {
   "cell_type": "code",
   "execution_count": 42,
   "metadata": {},
   "outputs": [
    {
     "name": "stdout",
     "output_type": "stream",
     "text": [
      "{'mlpclassifier__hidden_layer_sizes': (16, 16), 'mlpclassifier__max_iter': 453}\n",
      "0.684188569045\n"
     ]
    }
   ],
   "source": [
    "print(gs_adult.best_params_)\n",
    "print(gs_adult.best_score_)"
   ]
  },
  {
   "cell_type": "code",
   "execution_count": 43,
   "metadata": {
    "collapsed": true
   },
   "outputs": [],
   "source": [
    "adult_results = pd.DataFrame(gs_adult.cv_results_)\n",
    "adult_results.to_pickle(\"results/MLP_500iter_GS_adult.p\")"
   ]
  },
  {
   "cell_type": "code",
   "execution_count": 48,
   "metadata": {},
   "outputs": [
    {
     "data": {
      "text/plain": [
       "Text(0.5,1,'Adult')"
      ]
     },
     "execution_count": 48,
     "metadata": {},
     "output_type": "execute_result"
    },
    {
     "data": {
      "image/png": "[encoded data removed]",
      "text/plain": [
       "<matplotlib.figure.Figure at 0x113902940>"
      ]
     },
     "metadata": {},
     "output_type": "display_data"
    }
   ],
   "source": [
    "fig = plt.figure(figsize=(20,5))\n",
    "fig.add_subplot(1,2,1)\n",
    "\n",
    "plt.plot(mad_results['param_mlpclassifier__max_iter'],\n",
    "         mad_results['mean_test_score'], label=\"test\")\n",
    "plt.plot(mad_results['param_mlpclassifier__max_iter'],\n",
    "         mad_results['mean_train_score'], label=\"train\")\n",
    "plt.legend()\n",
    "\n",
    "plt.title(\"Madelon\")\n",
    "\n",
    "\n",
    "fig.add_subplot(1,2,2)\n",
    "plt.plot(adult_results['param_mlpclassifier__max_iter'],\n",
    "         adult_results['mean_test_score'], label=\"test\")\n",
    "plt.plot(adult_results['param_mlpclassifier__max_iter'],\n",
    "         adult_results['mean_train_score'], label=\"train\")\n",
    "\n",
    "plt.legend()\n",
    "plt.title(\"Adult\")"
   ]
  },
  {
   "cell_type": "code",
   "execution_count": 49,
   "metadata": {},
   "outputs": [
    {
     "data": {
      "text/plain": [
       "Text(0.5,1,'Adult')"
      ]
     },
     "execution_count": 49,
     "metadata": {},
     "output_type": "execute_result"
    },
    {
     "data": {
      "image/png": "[encoded data removed]",
      "text/plain": [
       "<matplotlib.figure.Figure at 0x11396c668>"
      ]
     },
     "metadata": {},
     "output_type": "display_data"
    }
   ],
   "source": [
    "fig = plt.figure(figsize=(20,5))\n",
    "fig.add_subplot(1,2,1)\n",
    "\n",
    "plt.plot(mad_results['param_mlpclassifier__max_iter'],\n",
    "         mad_results['mean_test_score'], label=\"test\")\n",
    "plt.plot(mad_results['param_mlpclassifier__max_iter'],\n",
    "         mad_results['mean_train_score'], label=\"train\")\n",
    "plt.xlim(0,10)\n",
    "plt.legend()\n",
    "\n",
    "plt.title(\"Madelon\")\n",
    "\n",
    "\n",
    "fig.add_subplot(1,2,2)\n",
    "plt.plot(adult_results['param_mlpclassifier__max_iter'],\n",
    "         adult_results['mean_test_score'], label=\"test\")\n",
    "plt.plot(adult_results['param_mlpclassifier__max_iter'],\n",
    "         adult_results['mean_train_score'], label=\"train\")\n",
    "\n",
    "plt.legend()\n",
    "plt.xlim(0,20)\n",
    "plt.title(\"Adult\")"
   ]
  },
  {
   "cell_type": "code",
   "execution_count": null,
   "metadata": {
    "collapsed": true
   },
   "outputs": [],
   "source": []
  }
 ],
 "metadata": {
  "kernelspec": {
   "display_name": "Python 3",
   "language": "python",
   "name": "python3"
  },
  "language_info": {
   "codemirror_mode": {
    "name": "ipython",
    "version": 3
   },
   "file_extension": ".py",
   "mimetype": "text/x-python",
   "name": "python",
   "nbconvert_exporter": "python",
   "pygments_lexer": "ipython3",
   "version": "3.5.2"
  }
 },
 "nbformat": 4,
 "nbformat_minor": 2
}
