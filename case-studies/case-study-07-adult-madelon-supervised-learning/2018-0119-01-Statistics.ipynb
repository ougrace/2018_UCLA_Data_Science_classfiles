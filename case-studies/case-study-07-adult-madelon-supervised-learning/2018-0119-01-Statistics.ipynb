{
 "cells": [
  {
   "cell_type": "code",
   "execution_count": 1,
   "metadata": {},
   "outputs": [
    {
     "name": "stdout",
     "output_type": "stream",
     "text": [
      "/home/jovyan/gt_ml_project_1\n"
     ]
    }
   ],
   "source": [
    "cd .."
   ]
  },
  {
   "cell_type": "code",
   "execution_count": 2,
   "metadata": {},
   "outputs": [],
   "source": [
    "%run __init__.py"
   ]
  },
  {
   "cell_type": "code",
   "execution_count": 4,
   "metadata": {},
   "outputs": [],
   "source": [
    "adult_train_data = pd.read_pickle('data/adult_train_data.p')\n",
    "adult_train_labels = pd.read_pickle('data/adult_train_labels.p')\n",
    "madelon_train_data = pd.read_pickle('data/madelon_train_data.p')\n",
    "madelon_train_labels = pd.read_pickle('data/madelon_train_labels.p')"
   ]
  },
  {
   "cell_type": "markdown",
   "metadata": {},
   "source": [
    "# Adult"
   ]
  },
  {
   "cell_type": "code",
   "execution_count": 13,
   "metadata": {},
   "outputs": [
    {
     "data": {
      "text/plain": [
       "(['age',\n",
       "  'fnlwgt',\n",
       "  'education-num',\n",
       "  'capital-gain',\n",
       "  'capital-loss',\n",
       "  'hours-per-week'],\n",
       " ['workclass',\n",
       "  'education',\n",
       "  'marital-status',\n",
       "  'occupation',\n",
       "  'relationship',\n",
       "  'race',\n",
       "  'sex',\n",
       "  'native-country'])"
      ]
     },
     "execution_count": 13,
     "metadata": {},
     "output_type": "execute_result"
    }
   ],
   "source": [
    "adult_dtypes = adult_train_data.dtypes\n",
    "adult_numeric_features = list(adult_dtypes[adult_dtypes==int].index)\n",
    "adult_categorical_features = list(adult_dtypes[adult_dtypes == 'category'].index)\n",
    "adult_numeric_features, adult_categorical_features\n"
   ]
  },
  {
   "cell_type": "markdown",
   "metadata": {},
   "source": [
    "### Summary Statistics for Numerical Features"
   ]
  },
  {
   "cell_type": "code",
   "execution_count": null,
   "metadata": {
    "collapsed": true
   },
   "outputs": [],
   "source": []
  },
  {
   "cell_type": "code",
   "execution_count": 14,
   "metadata": {
    "scrolled": true
   },
   "outputs": [
    {
     "data": {
      "text/html": [
       "<div>\n",
       "<style>\n",
       "    .dataframe thead tr:only-child th {\n",
       "        text-align: right;\n",
       "    }\n",
       "\n",
       "    .dataframe thead th {\n",
       "        text-align: left;\n",
       "    }\n",
       "\n",
       "    .dataframe tbody tr th {\n",
       "        vertical-align: top;\n",
       "    }\n",
       "</style>\n",
       "<table border=\"1\" class=\"dataframe\">\n",
       "  <thead>\n",
       "    <tr style=\"text-align: right;\">\n",
       "      <th></th>\n",
       "      <th>mean</th>\n",
       "      <th>std</th>\n",
       "      <th>min</th>\n",
       "      <th>max</th>\n",
       "      <th>skew</th>\n",
       "    </tr>\n",
       "  </thead>\n",
       "  <tbody>\n",
       "    <tr>\n",
       "      <th>age</th>\n",
       "      <td>38.569702</td>\n",
       "      <td>13.617063</td>\n",
       "      <td>17.0</td>\n",
       "      <td>90.0</td>\n",
       "      <td>0.560017</td>\n",
       "    </tr>\n",
       "    <tr>\n",
       "      <th>fnlwgt</th>\n",
       "      <td>190222.131507</td>\n",
       "      <td>105715.813304</td>\n",
       "      <td>13769.0</td>\n",
       "      <td>1484705.0</td>\n",
       "      <td>1.471826</td>\n",
       "    </tr>\n",
       "    <tr>\n",
       "      <th>education-num</th>\n",
       "      <td>10.078138</td>\n",
       "      <td>2.586963</td>\n",
       "      <td>1.0</td>\n",
       "      <td>16.0</td>\n",
       "      <td>-0.328824</td>\n",
       "    </tr>\n",
       "    <tr>\n",
       "      <th>capital-gain</th>\n",
       "      <td>1038.676878</td>\n",
       "      <td>7131.690393</td>\n",
       "      <td>0.0</td>\n",
       "      <td>99999.0</td>\n",
       "      <td>12.288018</td>\n",
       "    </tr>\n",
       "    <tr>\n",
       "      <th>capital-loss</th>\n",
       "      <td>87.143672</td>\n",
       "      <td>403.316592</td>\n",
       "      <td>0.0</td>\n",
       "      <td>4356.0</td>\n",
       "      <td>4.628847</td>\n",
       "    </tr>\n",
       "    <tr>\n",
       "      <th>hours-per-week</th>\n",
       "      <td>40.468629</td>\n",
       "      <td>12.397220</td>\n",
       "      <td>1.0</td>\n",
       "      <td>99.0</td>\n",
       "      <td>0.253956</td>\n",
       "    </tr>\n",
       "  </tbody>\n",
       "</table>\n",
       "</div>"
      ],
      "text/plain": [
       "                         mean            std      min        max       skew\n",
       "age                 38.569702      13.617063     17.0       90.0   0.560017\n",
       "fnlwgt          190222.131507  105715.813304  13769.0  1484705.0   1.471826\n",
       "education-num       10.078138       2.586963      1.0       16.0  -0.328824\n",
       "capital-gain      1038.676878    7131.690393      0.0    99999.0  12.288018\n",
       "capital-loss        87.143672     403.316592      0.0     4356.0   4.628847\n",
       "hours-per-week      40.468629      12.397220      1.0       99.0   0.253956"
      ]
     },
     "execution_count": 14,
     "metadata": {},
     "output_type": "execute_result"
    }
   ],
   "source": [
    "skew_values = list()\n",
    "adult_train_stats = adult_train_data.describe().T\n",
    "for num_col in adult_train_stats.index:\n",
    "    num_col_skew = stats.skew(adult_train_data[num_col])\n",
    "    skew_values.append(num_col_skew)\n",
    "adult_train_stats['skew'] = skew_values\n",
    "adult_train_stats.drop(['count','25%','50%','75%'],axis=1)"
   ]
  },
  {
   "cell_type": "markdown",
   "metadata": {},
   "source": [
    "### Distribution Plots for Numerical Features"
   ]
  },
  {
   "cell_type": "code",
   "execution_count": 15,
   "metadata": {},
   "outputs": [
    {
     "data": {
      "image/png": "[encoded data removed]",
      "text/plain": [
       "<matplotlib.figure.Figure at 0x110c2d278>"
      ]
     },
     "metadata": {},
     "output_type": "display_data"
    }
   ],
   "source": [
    "fig = plt.figure(figsize=(20,8))\n",
    "\n",
    "for i, num_col in enumerate(adult_numeric_features):\n",
    "    fig.add_subplot(2,3,1+i)\n",
    "    sns.distplot(adult_train_data[num_col])\n",
    "    \n",
    "    mean_value = adult_train_data[num_col].mean()\n",
    "    plt.axvline(mean_value, c='red')\n",
    "    \n",
    "    median_value = adult_train_data[num_col].median()\n",
    "    plt.axvline(median_value, c='black')"
   ]
  },
  {
   "cell_type": "markdown",
   "metadata": {},
   "source": [
    "This is showing that the value `99999` is not just an outlier."
   ]
  },
  {
   "cell_type": "code",
   "execution_count": 16,
   "metadata": {},
   "outputs": [
    {
     "data": {
      "text/plain": [
       "113"
      ]
     },
     "execution_count": 16,
     "metadata": {},
     "output_type": "execute_result"
    }
   ],
   "source": [
    "high_value_count = (adult_train_data['capital-gain'] == 99999).sum()\n",
    "high_value_count"
   ]
  },
  {
   "cell_type": "code",
   "execution_count": 17,
   "metadata": {
    "collapsed": true
   },
   "outputs": [],
   "source": [
    "n_adult_train = adult_train_data.count().max()"
   ]
  },
  {
   "cell_type": "code",
   "execution_count": 18,
   "metadata": {},
   "outputs": [
    {
     "data": {
      "text/plain": [
       "0.0045071995532687172"
      ]
     },
     "execution_count": 18,
     "metadata": {},
     "output_type": "execute_result"
    }
   ],
   "source": [
    "high_value_count/n_adult_train"
   ]
  },
  {
   "cell_type": "markdown",
   "metadata": {},
   "source": [
    "#### Correlation Between Capital Gain Outlier and Target\n",
    "\n",
    "Every instance that has this high value is the same class meaning that this value is very important for classification."
   ]
  },
  {
   "cell_type": "code",
   "execution_count": 19,
   "metadata": {},
   "outputs": [
    {
     "data": {
      "text/plain": [
       "113"
      ]
     },
     "execution_count": 19,
     "metadata": {},
     "output_type": "execute_result"
    }
   ],
   "source": [
    "adult_train_labels[adult_train_data['capital-gain'] == 99999].sum()"
   ]
  },
  {
   "cell_type": "markdown",
   "metadata": {},
   "source": [
    "### Correlations"
   ]
  },
  {
   "cell_type": "code",
   "execution_count": 20,
   "metadata": {
    "collapsed": true
   },
   "outputs": [],
   "source": [
    "adult_train_numeric_corr = adult_train_data[adult_numeric_features].corr()"
   ]
  },
  {
   "cell_type": "code",
   "execution_count": 21,
   "metadata": {},
   "outputs": [
    {
     "data": {
      "text/plain": [
       "<matplotlib.axes._subplots.AxesSubplot at 0x110a837b8>"
      ]
     },
     "execution_count": 21,
     "metadata": {},
     "output_type": "execute_result"
    },
    {
     "data": {
      "image/png": "[encoded data removed]",
      "text/plain": [
       "<matplotlib.figure.Figure at 0x1112dc6d8>"
      ]
     },
     "metadata": {},
     "output_type": "display_data"
    }
   ],
   "source": [
    "mask = np.zeros_like(adult_train_numeric_corr, dtype=np.bool)\n",
    "mask[np.triu_indices_from(mask)] = True\n",
    "sns.heatmap(adult_train_numeric_corr, mask=mask)"
   ]
  },
  {
   "cell_type": "code",
   "execution_count": 6,
   "metadata": {},
   "outputs": [
    {
     "data": {
      "text/plain": [
       "<matplotlib.legend.Legend at 0x7fcc95e012e8>"
      ]
     },
     "execution_count": 6,
     "metadata": {},
     "output_type": "execute_result"
    },
    {
     "data": {
      "image/png": "[encoded data removed]",
      "text/plain": [
       "<matplotlib.figure.Figure at 0x7fcc9a5b5940>"
      ]
     },
     "metadata": {},
     "output_type": "display_data"
    }
   ],
   "source": [
    "greater_than_50k = adult_train_labels == 1\n",
    "less_than_50k = adult_train_labels == 0\n",
    "fig = plt.figure(figsize=(16,4))\n",
    "fig.add_subplot(1,2,1)\n",
    "sns.distplot(adult_train_data['fnlwgt'][greater_than_50k], label='greater than 50k')\n",
    "sns.distplot(adult_train_data['fnlwgt'][less_than_50k], label='less than 50k')\n",
    "plt.legend()\n",
    "fig.add_subplot(1,2,2)\n",
    "sns.distplot(adult_train_data['age'][greater_than_50k], label='greater than 50k')\n",
    "sns.distplot(adult_train_data['age'][less_than_50k], label='less than 50k')\n",
    "plt.legend()"
   ]
  },
  {
   "cell_type": "markdown",
   "metadata": {},
   "source": [
    "##### Based on this we will drop this feature."
   ]
  },
  {
   "cell_type": "markdown",
   "metadata": {},
   "source": [
    "## Categorical Features"
   ]
  },
  {
   "cell_type": "code",
   "execution_count": null,
   "metadata": {
    "collapsed": true
   },
   "outputs": [],
   "source": [
    "adult_train_with_label = adult_train_data.copy()\n",
    "adult_train_with_label['label'] = adult_train_labels"
   ]
  },
  {
   "cell_type": "code",
   "execution_count": null,
   "metadata": {},
   "outputs": [],
   "source": [
    "ct = pd.crosstab(index = adult_train_with_label['workclass'], columns=adult_train_with_label['label'])\n",
    "ct.columns = ['<=$50k','>$50K']\n",
    "ct"
   ]
  },
  {
   "cell_type": "markdown",
   "metadata": {},
   "source": [
    "#### `workclass` subplot"
   ]
  },
  {
   "cell_type": "code",
   "execution_count": null,
   "metadata": {
    "scrolled": true
   },
   "outputs": [],
   "source": [
    "fig = plt.figure(figsize=(20,6))\n",
    "sns.countplot('workclass', hue='label', data=adult_train_with_label)"
   ]
  },
  {
   "cell_type": "markdown",
   "metadata": {},
   "source": [
    "#### `education` subplot"
   ]
  },
  {
   "cell_type": "code",
   "execution_count": null,
   "metadata": {},
   "outputs": [],
   "source": [
    "fig = plt.figure(figsize=(20,6))\n",
    "sns.countplot('education', hue='label', data=adult_train_with_label)"
   ]
  },
  {
   "cell_type": "code",
   "execution_count": null,
   "metadata": {},
   "outputs": [],
   "source": [
    "fig = plt.figure(figsize=(20,6))\n",
    "sns.countplot('marital-status', hue='label', data=adult_train_with_label)"
   ]
  },
  {
   "cell_type": "code",
   "execution_count": null,
   "metadata": {},
   "outputs": [],
   "source": [
    "fig = plt.figure(figsize=(20,6))\n",
    "sns.countplot('occupation', hue='label', data=adult_train_with_label)"
   ]
  },
  {
   "cell_type": "code",
   "execution_count": null,
   "metadata": {},
   "outputs": [],
   "source": [
    "fig = plt.figure(figsize=(20,6))\n",
    "sns.countplot('relationship', hue='label', data=adult_train_with_label)"
   ]
  },
  {
   "cell_type": "code",
   "execution_count": null,
   "metadata": {},
   "outputs": [],
   "source": [
    "fig = plt.figure(figsize=(20,6))\n",
    "sns.countplot('race', hue='label', data=adult_train_with_label)"
   ]
  },
  {
   "cell_type": "code",
   "execution_count": null,
   "metadata": {},
   "outputs": [],
   "source": [
    "fig = plt.figure(figsize=(20,6))\n",
    "sns.countplot('sex', hue='label', data=adult_train_with_label)"
   ]
  },
  {
   "cell_type": "code",
   "execution_count": null,
   "metadata": {},
   "outputs": [],
   "source": [
    "fig = plt.figure(figsize=(20,6))\n",
    "sns.countplot('native-country', hue='label', data=adult_train_with_label)\n",
    "plt.xticks(rotation=45, ha='right');"
   ]
  },
  {
   "cell_type": "code",
   "execution_count": null,
   "metadata": {},
   "outputs": [],
   "source": [
    "fig = plt.figure(figsize=(20,6))\n",
    "sns.countplot('native-country', hue='label', data=adult_train_with_label)\n",
    "plt.xticks(rotation=45, ha='right');\n",
    "plt.ylim(0,150)"
   ]
  },
  {
   "cell_type": "markdown",
   "metadata": {},
   "source": [
    "# Madelon"
   ]
  },
  {
   "cell_type": "code",
   "execution_count": 24,
   "metadata": {},
   "outputs": [
    {
     "data": {
      "text/plain": [
       "(500, 0)"
      ]
     },
     "execution_count": 24,
     "metadata": {},
     "output_type": "execute_result"
    }
   ],
   "source": [
    "madelon_dtypes = madelon_train_data.dtypes\n",
    "madelon_numeric_features = list(madelon_dtypes[madelon_dtypes==int].index)\n",
    "madelon_categorical_features = list(madelon_dtypes[madelon_dtypes == 'category'].index)\n",
    "len(madelon_numeric_features), len(madelon_categorical_features)"
   ]
  },
  {
   "cell_type": "markdown",
   "metadata": {},
   "source": [
    "### Summary Statistics for Numerical Features"
   ]
  },
  {
   "cell_type": "code",
   "execution_count": 25,
   "metadata": {
    "collapsed": true
   },
   "outputs": [],
   "source": [
    "skew_values = list()\n",
    "madelon_train_stats = madelon_train_data.describe().T\n",
    "for num_col in madelon_train_stats.index:\n",
    "    num_col_skew = stats.skew(madelon_train_data[num_col])\n",
    "    skew_values.append(num_col_skew)\n",
    "madelon_train_stats['skew'] = skew_values\n",
    "madelon_train_stats = madelon_train_stats.drop(['count','25%','50%','75%'],axis=1)\n"
   ]
  },
  {
   "cell_type": "code",
   "execution_count": 26,
   "metadata": {},
   "outputs": [
    {
     "data": {
      "text/html": [
       "<div>\n",
       "<style>\n",
       "    .dataframe thead tr:only-child th {\n",
       "        text-align: right;\n",
       "    }\n",
       "\n",
       "    .dataframe thead th {\n",
       "        text-align: left;\n",
       "    }\n",
       "\n",
       "    .dataframe tbody tr th {\n",
       "        vertical-align: top;\n",
       "    }\n",
       "</style>\n",
       "<table border=\"1\" class=\"dataframe\">\n",
       "  <thead>\n",
       "    <tr style=\"text-align: right;\">\n",
       "      <th></th>\n",
       "      <th>mean</th>\n",
       "      <th>std</th>\n",
       "      <th>min</th>\n",
       "      <th>max</th>\n",
       "      <th>skew</th>\n",
       "    </tr>\n",
       "  </thead>\n",
       "  <tbody>\n",
       "    <tr>\n",
       "      <th>56</th>\n",
       "      <td>479.6940</td>\n",
       "      <td>41.616780</td>\n",
       "      <td>288.0</td>\n",
       "      <td>644.0</td>\n",
       "      <td>0.043453</td>\n",
       "    </tr>\n",
       "    <tr>\n",
       "      <th>64</th>\n",
       "      <td>497.9675</td>\n",
       "      <td>89.391095</td>\n",
       "      <td>214.0</td>\n",
       "      <td>768.0</td>\n",
       "      <td>-0.035671</td>\n",
       "    </tr>\n",
       "    <tr>\n",
       "      <th>105</th>\n",
       "      <td>502.0880</td>\n",
       "      <td>134.554564</td>\n",
       "      <td>0.0</td>\n",
       "      <td>999.0</td>\n",
       "      <td>-0.026163</td>\n",
       "    </tr>\n",
       "    <tr>\n",
       "      <th>153</th>\n",
       "      <td>501.8990</td>\n",
       "      <td>98.149490</td>\n",
       "      <td>182.0</td>\n",
       "      <td>814.0</td>\n",
       "      <td>0.016018</td>\n",
       "    </tr>\n",
       "    <tr>\n",
       "      <th>336</th>\n",
       "      <td>480.8740</td>\n",
       "      <td>104.541100</td>\n",
       "      <td>180.0</td>\n",
       "      <td>828.0</td>\n",
       "      <td>-0.019437</td>\n",
       "    </tr>\n",
       "    <tr>\n",
       "      <th>338</th>\n",
       "      <td>500.4720</td>\n",
       "      <td>96.954852</td>\n",
       "      <td>207.0</td>\n",
       "      <td>829.0</td>\n",
       "      <td>0.093502</td>\n",
       "    </tr>\n",
       "    <tr>\n",
       "      <th>362</th>\n",
       "      <td>477.6885</td>\n",
       "      <td>41.921011</td>\n",
       "      <td>293.0</td>\n",
       "      <td>638.0</td>\n",
       "      <td>-0.074904</td>\n",
       "    </tr>\n",
       "    <tr>\n",
       "      <th>433</th>\n",
       "      <td>498.7270</td>\n",
       "      <td>69.033610</td>\n",
       "      <td>263.0</td>\n",
       "      <td>719.0</td>\n",
       "      <td>0.011009</td>\n",
       "    </tr>\n",
       "    <tr>\n",
       "      <th>442</th>\n",
       "      <td>495.7895</td>\n",
       "      <td>97.286389</td>\n",
       "      <td>207.0</td>\n",
       "      <td>794.0</td>\n",
       "      <td>-0.057872</td>\n",
       "    </tr>\n",
       "    <tr>\n",
       "      <th>453</th>\n",
       "      <td>481.4260</td>\n",
       "      <td>113.467290</td>\n",
       "      <td>84.0</td>\n",
       "      <td>807.0</td>\n",
       "      <td>-0.127095</td>\n",
       "    </tr>\n",
       "    <tr>\n",
       "      <th>455</th>\n",
       "      <td>501.8170</td>\n",
       "      <td>78.139653</td>\n",
       "      <td>265.0</td>\n",
       "      <td>735.0</td>\n",
       "      <td>-0.011242</td>\n",
       "    </tr>\n",
       "    <tr>\n",
       "      <th>475</th>\n",
       "      <td>486.3710</td>\n",
       "      <td>74.518547</td>\n",
       "      <td>276.0</td>\n",
       "      <td>680.0</td>\n",
       "      <td>0.003139</td>\n",
       "    </tr>\n",
       "    <tr>\n",
       "      <th>493</th>\n",
       "      <td>496.5655</td>\n",
       "      <td>127.635442</td>\n",
       "      <td>130.0</td>\n",
       "      <td>920.0</td>\n",
       "      <td>-0.080316</td>\n",
       "    </tr>\n",
       "  </tbody>\n",
       "</table>\n",
       "</div>"
      ],
      "text/plain": [
       "         mean         std    min    max      skew\n",
       "56   479.6940   41.616780  288.0  644.0  0.043453\n",
       "64   497.9675   89.391095  214.0  768.0 -0.035671\n",
       "105  502.0880  134.554564    0.0  999.0 -0.026163\n",
       "153  501.8990   98.149490  182.0  814.0  0.016018\n",
       "336  480.8740  104.541100  180.0  828.0 -0.019437\n",
       "338  500.4720   96.954852  207.0  829.0  0.093502\n",
       "362  477.6885   41.921011  293.0  638.0 -0.074904\n",
       "433  498.7270   69.033610  263.0  719.0  0.011009\n",
       "442  495.7895   97.286389  207.0  794.0 -0.057872\n",
       "453  481.4260  113.467290   84.0  807.0 -0.127095\n",
       "455  501.8170   78.139653  265.0  735.0 -0.011242\n",
       "475  486.3710   74.518547  276.0  680.0  0.003139\n",
       "493  496.5655  127.635442  130.0  920.0 -0.080316"
      ]
     },
     "execution_count": 26,
     "metadata": {},
     "output_type": "execute_result"
    }
   ],
   "source": [
    "madelon_train_stats[madelon_train_stats['min'] < 300]"
   ]
  },
  {
   "cell_type": "code",
   "execution_count": null,
   "metadata": {},
   "outputs": [],
   "source": [
    "fig = plt.figure(figsize=(15,4))\n",
    "fig.add_subplot(1,4,1)\n",
    "sns.boxplot(madelon_train_stats['mean'])\n",
    "fig.add_subplot(1,4,2)\n",
    "sns.boxplot(madelon_train_stats['std'])\n",
    "fig.add_subplot(1,4,3)\n",
    "sns.boxplot(madelon_train_stats['min'])\n",
    "fig.add_subplot(1,4,4)\n",
    "sns.boxplot(madelon_train_stats['max'])\n"
   ]
  },
  {
   "cell_type": "markdown",
   "metadata": {},
   "source": [
    "### Distribution Plots for Numerical Features"
   ]
  },
  {
   "cell_type": "code",
   "execution_count": null,
   "metadata": {},
   "outputs": [],
   "source": [
    "fig = plt.figure(figsize=(20,20))\n",
    "\n",
    "for num_col in madelon_numeric_features[:10]:\n",
    "    sns.distplot(madelon_train_data[num_col])\n",
    "    \n",
    "plt.ylim(0, 0.2)"
   ]
  },
  {
   "cell_type": "markdown",
   "metadata": {},
   "source": [
    "### Correlations"
   ]
  },
  {
   "cell_type": "code",
   "execution_count": null,
   "metadata": {
    "collapsed": true
   },
   "outputs": [],
   "source": [
    "madelon_train_numeric_corr = madelon_train_data[madelon_numeric_features].corr()"
   ]
  },
  {
   "cell_type": "code",
   "execution_count": null,
   "metadata": {},
   "outputs": [],
   "source": [
    "mask = np.zeros_like(madelon_train_numeric_corr, dtype=np.bool)\n",
    "mask[np.triu_indices_from(mask)] = True\n",
    "sns.heatmap(madelon_train_numeric_corr, mask=mask)"
   ]
  },
  {
   "cell_type": "code",
   "execution_count": null,
   "metadata": {
    "collapsed": true
   },
   "outputs": [],
   "source": []
  }
 ],
 "metadata": {
  "kernelspec": {
   "display_name": "Python 3",
   "language": "python",
   "name": "python3"
  },
  "language_info": {
   "codemirror_mode": {
    "name": "ipython",
    "version": 3
   },
   "file_extension": ".py",
   "mimetype": "text/x-python",
   "name": "python",
   "nbconvert_exporter": "python",
   "pygments_lexer": "ipython3",
   "version": "3.5.2"
  }
 },
 "nbformat": 4,
 "nbformat_minor": 2
}
