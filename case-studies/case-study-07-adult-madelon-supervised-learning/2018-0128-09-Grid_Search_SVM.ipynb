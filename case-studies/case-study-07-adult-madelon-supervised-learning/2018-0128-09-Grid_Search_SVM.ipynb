{
 "cells": [
  {
   "cell_type": "code",
   "execution_count": 1,
   "metadata": {},
   "outputs": [
    {
     "name": "stdout",
     "output_type": "stream",
     "text": [
      "/Users/Amar/Dropbox/Computer_Science/GATECH-OMSCS/7641_ML/GT_ML_Project_1\n"
     ]
    }
   ],
   "source": [
    "cd .."
   ]
  },
  {
   "cell_type": "code",
   "execution_count": 2,
   "metadata": {
    "collapsed": true
   },
   "outputs": [],
   "source": [
    "%run __init__.py"
   ]
  },
  {
   "cell_type": "code",
   "execution_count": 3,
   "metadata": {
    "collapsed": true
   },
   "outputs": [],
   "source": [
    "%run src/load_data.py"
   ]
  },
  {
   "cell_type": "code",
   "execution_count": 5,
   "metadata": {
    "collapsed": true
   },
   "outputs": [],
   "source": [
    "from lib.benchmark import run_model, plot_results\n",
    "from lib.benchmark import pipeline_basic, pipeline_scale, pipeline_deskew\n",
    "from sklearn.svm import SVC\n",
    "from sklearn.model_selection import GridSearchCV, StratifiedKFold\n",
    "from sklearn.metrics import f1_score, make_scorer\n",
    "from tqdm import tqdm\n",
    "sns.set()"
   ]
  },
  {
   "cell_type": "code",
   "execution_count": 6,
   "metadata": {
    "collapsed": true
   },
   "outputs": [],
   "source": [
    "adt_data = data['adult']['train']['engineered']\n",
    "adt_lbls = data['adult']['train']['labels']\n",
    "mad_data = data['madelon']['train']['raw_data']\n",
    "mad_lbls = data['madelon']['train']['labels']"
   ]
  },
  {
   "cell_type": "code",
   "execution_count": 7,
   "metadata": {
    "collapsed": true
   },
   "outputs": [],
   "source": [
    "cls = pipeline_deskew(SVC)"
   ]
  },
  {
   "cell_type": "markdown",
   "metadata": {},
   "source": [
    "# Madelon"
   ]
  },
  {
   "cell_type": "code",
   "execution_count": 12,
   "metadata": {
    "collapsed": true
   },
   "outputs": [
    {
     "name": "stdout",
     "output_type": "stream",
     "text": [
      "Fitting 3 folds for each of 12 candidates, totalling 36 fits\n",
      "[CV] svc__kernel=linear, svc__C=0.01 .................................\n",
      "[CV] svc__kernel=linear, svc__C=0.01 .................................\n",
      "[CV] svc__kernel=linear, svc__C=0.01 .................................\n",
      "[CV] svc__kernel=poly, svc__C=0.01 ...................................\n",
      "[CV] .................. svc__kernel=linear, svc__C=0.01, total=   2.3s\n",
      "[CV] .................. svc__kernel=linear, svc__C=0.01, total=   2.4s\n",
      "[CV] svc__kernel=poly, svc__C=0.01 ...................................\n",
      "[CV] svc__kernel=poly, svc__C=0.01 ...................................\n",
      "[CV] .................. svc__kernel=linear, svc__C=0.01, total=   2.5s\n",
      "[CV] svc__kernel=rbf, svc__C=0.01 ....................................\n",
      "[CV] .................... svc__kernel=poly, svc__C=0.01, total=   2.7s\n",
      "[CV] svc__kernel=rbf, svc__C=0.01 ....................................\n",
      "[CV] .................... svc__kernel=poly, svc__C=0.01, total=   2.9s\n",
      "[CV] svc__kernel=rbf, svc__C=0.01 ....................................\n",
      "[CV] .................... svc__kernel=poly, svc__C=0.01, total=   2.9s\n",
      "[CV] svc__kernel=linear, svc__C=0.1 ..................................\n",
      "[CV] ..................... svc__kernel=rbf, svc__C=0.01, total=   3.0s\n",
      "[CV] svc__kernel=linear, svc__C=0.1 ..................................\n",
      "[CV] ..................... svc__kernel=rbf, svc__C=0.01, total=   3.2s\n",
      "[CV] svc__kernel=linear, svc__C=0.1 ..................................\n",
      "[CV] ..................... svc__kernel=rbf, svc__C=0.01, total=   3.0s\n",
      "[CV] svc__kernel=poly, svc__C=0.1 ....................................\n",
      "[CV] ................... svc__kernel=linear, svc__C=0.1, total=   4.2s\n",
      "[CV] svc__kernel=poly, svc__C=0.1 ....................................\n",
      "[CV] ................... svc__kernel=linear, svc__C=0.1, total=   4.9s\n",
      "[CV] svc__kernel=poly, svc__C=0.1 ....................................\n",
      "[CV] ................... svc__kernel=linear, svc__C=0.1, total=   6.8s\n",
      "[CV] svc__kernel=rbf, svc__C=0.1 .....................................\n",
      "[CV] ..................... svc__kernel=poly, svc__C=0.1, total=   3.2s\n",
      "[CV] svc__kernel=rbf, svc__C=0.1 .....................................\n",
      "[CV] ..................... svc__kernel=poly, svc__C=0.1, total=   3.1s\n",
      "[CV] svc__kernel=rbf, svc__C=0.1 .....................................\n",
      "[CV] ..................... svc__kernel=poly, svc__C=0.1, total=   3.3s\n",
      "[CV] svc__kernel=linear, svc__C=1.0 ..................................\n",
      "[CV] ...................... svc__kernel=rbf, svc__C=0.1, total=   3.2s\n",
      "[CV] svc__kernel=linear, svc__C=1.0 ..................................\n",
      "[CV] ...................... svc__kernel=rbf, svc__C=0.1, total=   3.1s\n",
      "[CV] svc__kernel=linear, svc__C=1.0 ..................................\n",
      "[CV] ...................... svc__kernel=rbf, svc__C=0.1, total=   3.1s\n",
      "[CV] svc__kernel=poly, svc__C=1.0 ....................................\n",
      "[CV] ..................... svc__kernel=poly, svc__C=1.0, total=   2.8s\n",
      "[CV] svc__kernel=poly, svc__C=1.0 ....................................\n",
      "[CV] ..................... svc__kernel=poly, svc__C=1.0, total=   2.4s\n",
      "[CV] svc__kernel=poly, svc__C=1.0 ....................................\n",
      "[CV] ..................... svc__kernel=poly, svc__C=1.0, total=   2.1s\n",
      "[CV] svc__kernel=rbf, svc__C=1.0 .....................................\n",
      "[CV] ...................... svc__kernel=rbf, svc__C=1.0, total=   2.3s\n",
      "[CV] svc__kernel=rbf, svc__C=1.0 .....................................\n",
      "[CV] ...................... svc__kernel=rbf, svc__C=1.0, total=   2.4s\n",
      "[CV] svc__kernel=rbf, svc__C=1.0 .....................................\n",
      "[CV] ...................... svc__kernel=rbf, svc__C=1.0, total=   2.8s\n",
      "[CV] svc__kernel=linear, svc__C=5.0 ..................................\n",
      "[CV] ................... svc__kernel=linear, svc__C=1.0, total=  50.0s\n",
      "[CV] svc__kernel=linear, svc__C=5.0 ..................................\n",
      "[CV] ................... svc__kernel=linear, svc__C=1.0, total=  48.7s\n",
      "[CV] svc__kernel=linear, svc__C=5.0 ..................................\n",
      "[CV] ................... svc__kernel=linear, svc__C=1.0, total=  52.5s\n",
      "[CV] svc__kernel=poly, svc__C=5.0 ....................................\n",
      "[CV] ..................... svc__kernel=poly, svc__C=5.0, total=   2.3s\n",
      "[CV] svc__kernel=poly, svc__C=5.0 ....................................\n",
      "[CV] ..................... svc__kernel=poly, svc__C=5.0, total=   2.1s\n",
      "[CV] svc__kernel=poly, svc__C=5.0 ....................................\n",
      "[CV] ..................... svc__kernel=poly, svc__C=5.0, total=   2.1s\n",
      "[CV] svc__kernel=rbf, svc__C=5.0 .....................................\n",
      "[CV] ...................... svc__kernel=rbf, svc__C=5.0, total=   2.4s\n",
      "[CV] svc__kernel=rbf, svc__C=5.0 .....................................\n",
      "[CV] ...................... svc__kernel=rbf, svc__C=5.0, total=   2.4s\n",
      "[CV] svc__kernel=rbf, svc__C=5.0 .....................................\n",
      "[CV] ...................... svc__kernel=rbf, svc__C=5.0, total=   2.4s\n",
      "[CV] ................... svc__kernel=linear, svc__C=5.0, total= 2.5min\n",
      "[CV] ................... svc__kernel=linear, svc__C=5.0, total= 2.7min\n",
      "[CV] ................... svc__kernel=linear, svc__C=5.0, total= 3.6min\n"
     ]
    },
    {
     "name": "stderr",
     "output_type": "stream",
     "text": [
      "[Parallel(n_jobs=-1)]: Done  36 out of  36 | elapsed:  4.8min finished\n"
     ]
    }
   ],
   "source": [
    "param_grid = {\n",
    "    'svc__kernel' : ['linear','poly', 'rbf'],\n",
    "    'svc__C' : [0.01,0.1,1.0,5.0]\n",
    "}\n",
    "\n",
    "gs_madelon = GridSearchCV(cls, param_grid,cv = StratifiedKFold(),verbose = 2, n_jobs=-1, scoring='f1')\n",
    "gs_madelon.fit(mad_data, mad_lbls);"
   ]
  },
  {
   "cell_type": "code",
   "execution_count": 14,
   "metadata": {},
   "outputs": [
    {
     "name": "stdout",
     "output_type": "stream",
     "text": [
      "{'svc__kernel': 'poly', 'svc__C': 0.01}\n",
      "(12, 18)\n"
     ]
    },
    {
     "data": {
      "text/plain": [
       "Index(['mean_fit_time', 'mean_score_time', 'mean_test_score',\n",
       "       'mean_train_score', 'param_svc__C', 'param_svc__kernel', 'params',\n",
       "       'rank_test_score', 'split0_test_score', 'split0_train_score',\n",
       "       'split1_test_score', 'split1_train_score', 'split2_test_score',\n",
       "       'split2_train_score', 'std_fit_time', 'std_score_time',\n",
       "       'std_test_score', 'std_train_score'],\n",
       "      dtype='object')"
      ]
     },
     "execution_count": 14,
     "metadata": {},
     "output_type": "execute_result"
    }
   ],
   "source": [
    "print(gs_madelon.best_params_)\n",
    "mad_res = pd.DataFrame(gs_madelon.cv_results_)\n",
    "print(mad_res.shape)\n",
    "mad_res.columns"
   ]
  },
  {
   "cell_type": "markdown",
   "metadata": {},
   "source": [
    "# Adult "
   ]
  },
  {
   "cell_type": "code",
   "execution_count": 13,
   "metadata": {},
   "outputs": [
    {
     "name": "stdout",
     "output_type": "stream",
     "text": [
      "Fitting 3 folds for each of 12 candidates, totalling 36 fits\n"
     ]
    },
    {
     "name": "stderr",
     "output_type": "stream",
     "text": [
      "[Parallel(n_jobs=-1)]: Done  36 out of  36 | elapsed: 13.3min finished\n"
     ]
    },
    {
     "data": {
      "text/plain": [
       "GridSearchCV(cv=StratifiedKFold(n_splits=3, random_state=None, shuffle=False),\n",
       "       error_score='raise',\n",
       "       estimator=Pipeline(memory=None,\n",
       "     steps=[('minmaxscaler', MinMaxScaler(copy=True, feature_range=(10, 11))), ('functiontransformer', FunctionTransformer(accept_sparse=False, func=<ufunc 'log'>, inv_kw_args=None,\n",
       "          inverse_func=None, kw_args=None, pass_y='deprecated',\n",
       "          validate=True)), ('standardscaler', StandardScale...,\n",
       "  max_iter=-1, probability=False, random_state=None, shrinking=True,\n",
       "  tol=0.001, verbose=False))]),\n",
       "       fit_params=None, iid=True, n_jobs=-1,\n",
       "       param_grid={'svc__kernel': ['linear', 'poly', 'rbf'], 'svc__C': [0.01, 0.1, 1.0, 5.0]},\n",
       "       pre_dispatch='2*n_jobs', refit=True, return_train_score=True,\n",
       "       scoring='f1', verbose=1)"
      ]
     },
     "execution_count": 13,
     "metadata": {},
     "output_type": "execute_result"
    }
   ],
   "source": [
    "gs_adult = GridSearchCV(cls, param_grid, n_jobs=-1,cv = StratifiedKFold(), scoring='f1', verbose = 1)\n",
    "gs_adult.fit(adt_data, adt_lbls)"
   ]
  },
  {
   "cell_type": "code",
   "execution_count": 15,
   "metadata": {},
   "outputs": [
    {
     "name": "stdout",
     "output_type": "stream",
     "text": [
      "{'svc__kernel': 'linear', 'svc__C': 1.0}\n",
      "(12, 18)\n"
     ]
    },
    {
     "data": {
      "text/plain": [
       "Index(['mean_fit_time', 'mean_score_time', 'mean_test_score',\n",
       "       'mean_train_score', 'param_svc__C', 'param_svc__kernel', 'params',\n",
       "       'rank_test_score', 'split0_test_score', 'split0_train_score',\n",
       "       'split1_test_score', 'split1_train_score', 'split2_test_score',\n",
       "       'split2_train_score', 'std_fit_time', 'std_score_time',\n",
       "       'std_test_score', 'std_train_score'],\n",
       "      dtype='object')"
      ]
     },
     "execution_count": 15,
     "metadata": {},
     "output_type": "execute_result"
    }
   ],
   "source": [
    "print(gs_adult.best_params_)\n",
    "adl_res = pd.DataFrame(gs_adult.cv_results_)\n",
    "print(adl_res.shape)\n",
    "adl_res.columns"
   ]
  },
  {
   "cell_type": "markdown",
   "metadata": {},
   "source": [
    "# Plotting"
   ]
  },
  {
   "cell_type": "code",
   "execution_count": 16,
   "metadata": {},
   "outputs": [
    {
     "data": {
      "text/plain": [
       "(0, 0.85)"
      ]
     },
     "execution_count": 16,
     "metadata": {},
     "output_type": "execute_result"
    },
    {
     "data": {
      "image/png": "[encoded data removed]",
      "text/plain": [
       "<matplotlib.figure.Figure at 0x1119000b8>"
      ]
     },
     "metadata": {},
     "output_type": "display_data"
    }
   ],
   "source": [
    "fig = plt.figure(figsize=(20,5))\n",
    "fig.add_subplot(1,2,1)\n",
    "dt_results = pd.DataFrame(gs_adult.cv_results_)\n",
    "plt.plot(mad_res[mad_res['param_svc__kernel'] == 'linear']['param_svc__C'],\n",
    "         mad_res[mad_res['param_svc__kernel'] == 'linear']['mean_test_score'], label=\"linear\")\n",
    "plt.plot(mad_res[mad_res['param_svc__kernel'] == 'poly']['param_svc__C'],\n",
    "         mad_res[mad_res['param_svc__kernel'] == 'poly']['mean_test_score'], label=\"poly\")\n",
    "plt.plot(mad_res[mad_res['param_svc__kernel'] == 'rbf']['param_svc__C'],\n",
    "         mad_res[mad_res['param_svc__kernel'] == 'rbf']['mean_test_score'], label=\"rbf\")\n",
    "plt.legend(title = 'kernels')\n",
    "plt.title(\"Madelon\")\n",
    "plt.xscale('log')\n",
    "plt.ylim(0.25,0.85)\n",
    "\n",
    "fig.add_subplot(1,2,2)\n",
    "dt_results = pd.DataFrame(gs_madelon.cv_results_)\n",
    "plt.plot(adl_res[adl_res['param_svc__kernel'] == 'linear']['param_svc__C'],\n",
    "         adl_res[adl_res['param_svc__kernel'] == 'linear']['mean_test_score'], label=\"linear\")\n",
    "plt.plot(adl_res[adl_res['param_svc__kernel'] == 'poly']['param_svc__C'],\n",
    "         adl_res[adl_res['param_svc__kernel'] == 'poly']['mean_test_score'], label=\"poly\")\n",
    "plt.plot(adl_res[adl_res['param_svc__kernel'] == 'rbf']['param_svc__C'],\n",
    "         adl_res[adl_res['param_svc__kernel'] == 'rbf']['mean_test_score'], label=\"rbf\")\n",
    "plt.legend(title = \"kernels\")\n",
    "plt.title('Adult')\n",
    "plt.xscale('log')\n",
    "plt.ylim(0,0.85)"
   ]
  },
  {
   "cell_type": "code",
   "execution_count": 18,
   "metadata": {
    "collapsed": true
   },
   "outputs": [],
   "source": [
    "mad_res.to_pickle(\"results/SVM_GS_madelon.p\")\n",
    "adl_res.to_pickle(\"results/SVM_GS_adult.p\")"
   ]
  },
  {
   "cell_type": "code",
   "execution_count": 21,
   "metadata": {},
   "outputs": [
    {
     "data": {
      "text/plain": [
       "Text(0.5,1,'Adult')"
      ]
     },
     "execution_count": 21,
     "metadata": {},
     "output_type": "execute_result"
    },
    {
     "data": {
      "image/png": "[encoded data removed]",
      "text/plain": [
       "<matplotlib.figure.Figure at 0x110564c88>"
      ]
     },
     "metadata": {},
     "output_type": "display_data"
    }
   ],
   "source": [
    "fig = plt.figure(figsize=(20,5))\n",
    "fig.add_subplot(1,2,1)\n",
    "plt.plot(mad_res[(mad_res['param_svc__kernel'] == 'poly')]['param_svc__C'],\n",
    "         mad_res[(mad_res['param_svc__kernel'] == 'poly')]['mean_test_score'], label = \"Test\")\n",
    "plt.plot(mad_res[(mad_res['param_svc__kernel'] == 'poly')]['param_svc__C'],\n",
    "         mad_res[(mad_res['param_svc__kernel'] == 'poly')]['mean_train_score'], label = \"Train\")\n",
    "plt.legend()\n",
    "plt.xscale('log')\n",
    "plt.title(\"Madelon\")\n",
    "\n",
    "\n",
    "fig.add_subplot(1,2,2)\n",
    "plt.plot(adl_res[adl_res['param_svc__kernel'] == 'linear']['param_svc__C'],\n",
    "         adl_res[adl_res['param_svc__kernel'] == 'linear']['mean_test_score'], label = \"Test\")\n",
    "plt.plot(adl_res[adl_res['param_svc__kernel'] == 'linear']['param_svc__C'],\n",
    "         adl_res[adl_res['param_svc__kernel'] == 'linear']['mean_train_score'], label = \"Train\")\n",
    "plt.legend()\n",
    "plt.xscale('log')\n",
    "plt.title(\"Adult\")"
   ]
  },
  {
   "cell_type": "code",
   "execution_count": null,
   "metadata": {
    "collapsed": true
   },
   "outputs": [],
   "source": []
  }
 ],
 "metadata": {
  "kernelspec": {
   "display_name": "Python 3",
   "language": "python",
   "name": "python3"
  },
  "language_info": {
   "codemirror_mode": {
    "name": "ipython",
    "version": 3
   },
   "file_extension": ".py",
   "mimetype": "text/x-python",
   "name": "python",
   "nbconvert_exporter": "python",
   "pygments_lexer": "ipython3",
   "version": "3.5.2"
  }
 },
 "nbformat": 4,
 "nbformat_minor": 2
}
