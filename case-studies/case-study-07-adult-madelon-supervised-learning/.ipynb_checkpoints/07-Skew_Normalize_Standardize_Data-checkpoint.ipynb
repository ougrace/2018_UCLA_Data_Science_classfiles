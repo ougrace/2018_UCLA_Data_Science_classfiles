{
 "cells": [
  {
   "cell_type": "code",
   "execution_count": 1,
   "metadata": {},
   "outputs": [
    {
     "name": "stdout",
     "output_type": "stream",
     "text": [
      "/home/jovyan/adult_classification_3rd_session\n"
     ]
    }
   ],
   "source": [
    "cd .."
   ]
  },
  {
   "cell_type": "code",
   "execution_count": 2,
   "metadata": {},
   "outputs": [],
   "source": [
    "%run __init__.py"
   ]
  },
  {
   "cell_type": "code",
   "execution_count": 3,
   "metadata": {},
   "outputs": [],
   "source": [
    "adult_train_df = pd.read_pickle('data/adult_train.p')"
   ]
  },
  {
   "cell_type": "code",
   "execution_count": 4,
   "metadata": {},
   "outputs": [],
   "source": [
    "from sklearn.linear_model import LogisticRegression\n",
    "from sklearn.neighbors import KNeighborsClassifier\n",
    "from sklearn.tree import DecisionTreeClassifier\n",
    "from sklearn.svm import SVC\n",
    "from sklearn.preprocessing import StandardScaler"
   ]
  },
  {
   "cell_type": "code",
   "execution_count": 5,
   "metadata": {},
   "outputs": [],
   "source": [
    "from sklearn.model_selection import train_test_split"
   ]
  },
  {
   "cell_type": "code",
   "execution_count": 6,
   "metadata": {},
   "outputs": [],
   "source": [
    "def run_benchmark(model, model_name, feature_set, target_set):\n",
    "    X_train, X_test, y_train, y_test = train_test_split(feature_set, target_set)\n",
    "    model.fit(X_train, y_train)\n",
    "    return {'train_score' : model.score(X_train, y_train), \n",
    "            'test_score' : model.score(X_test, y_test),\n",
    "            'model_name' : model_name }"
   ]
  },
  {
   "cell_type": "code",
   "execution_count": 11,
   "metadata": {},
   "outputs": [],
   "source": [
    "target = adult_train_df['target_ >50K']\n",
    "feature_df = adult_train_df.drop('target_ >50K', axis=1)"
   ]
  },
  {
   "cell_type": "markdown",
   "metadata": {},
   "source": [
    "### Make copies of the `adult_train_df`"
   ]
  },
  {
   "cell_type": "markdown",
   "metadata": {},
   "source": [
    "Should we standardize the dummies? Let's look at both."
   ]
  },
  {
   "cell_type": "code",
   "execution_count": 13,
   "metadata": {},
   "outputs": [],
   "source": [
    "adult_train_standardize_all_df = feature_df.copy()\n",
    "adult_train_standardize_num_df = feature_df.copy()"
   ]
  },
  {
   "cell_type": "markdown",
   "metadata": {},
   "source": [
    "### Standardize All Features\n",
    "\n",
    "    StandardScaler().fit_transform()"
   ]
  },
  {
   "cell_type": "code",
   "execution_count": 14,
   "metadata": {},
   "outputs": [],
   "source": [
    "adult_train_standardize_all = (StandardScaler()\n",
    "                               .fit_transform(adult_train_standardize_all_df))\n",
    "adult_train_standardize_all_df = pd.DataFrame(adult_train_standardize_all,\n",
    "                                              columns=adult_train_standardize_all_df.columns)"
   ]
  },
  {
   "cell_type": "code",
   "execution_count": 15,
   "metadata": {},
   "outputs": [
    {
     "data": {
      "text/html": [
       "<div>\n",
       "<table border=\"1\" class=\"dataframe\">\n",
       "  <thead>\n",
       "    <tr style=\"text-align: right;\">\n",
       "      <th></th>\n",
       "      <th>age</th>\n",
       "      <th>fnlwgt</th>\n",
       "      <th>capital-gain</th>\n",
       "      <th>capital-loss</th>\n",
       "      <th>hours-per-week</th>\n",
       "      <th>capital-net</th>\n",
       "      <th>has_capital_gain_filter_7500</th>\n",
       "      <th>has_capital_net_filter_7500</th>\n",
       "      <th>workclass_ Local-gov</th>\n",
       "      <th>workclass_ Private</th>\n",
       "      <th>...</th>\n",
       "      <th>native-country_ Portugal</th>\n",
       "      <th>native-country_ Puerto-Rico</th>\n",
       "      <th>native-country_ Scotland</th>\n",
       "      <th>native-country_ South</th>\n",
       "      <th>native-country_ Taiwan</th>\n",
       "      <th>native-country_ Thailand</th>\n",
       "      <th>native-country_ Trinadad&amp;Tobago</th>\n",
       "      <th>native-country_ United-States</th>\n",
       "      <th>native-country_ Vietnam</th>\n",
       "      <th>native-country_ Yugoslavia</th>\n",
       "    </tr>\n",
       "  </thead>\n",
       "  <tbody>\n",
       "    <tr>\n",
       "      <th>0</th>\n",
       "      <td>0.042796</td>\n",
       "      <td>-1.062722</td>\n",
       "      <td>0.146092</td>\n",
       "      <td>-0.218586</td>\n",
       "      <td>-0.077734</td>\n",
       "      <td>0.157514</td>\n",
       "      <td>-0.19243</td>\n",
       "      <td>-0.19243</td>\n",
       "      <td>-0.271241</td>\n",
       "      <td>-1.682144</td>\n",
       "      <td>...</td>\n",
       "      <td>-0.033593</td>\n",
       "      <td>-0.060224</td>\n",
       "      <td>-0.019101</td>\n",
       "      <td>-0.048575</td>\n",
       "      <td>-0.037342</td>\n",
       "      <td>-0.023747</td>\n",
       "      <td>-0.024436</td>\n",
       "      <td>0.310871</td>\n",
       "      <td>-0.046113</td>\n",
       "      <td>-0.023038</td>\n",
       "    </tr>\n",
       "    <tr>\n",
       "      <th>1</th>\n",
       "      <td>0.880288</td>\n",
       "      <td>-1.007871</td>\n",
       "      <td>-0.147445</td>\n",
       "      <td>-0.218586</td>\n",
       "      <td>-2.331531</td>\n",
       "      <td>-0.135074</td>\n",
       "      <td>-0.19243</td>\n",
       "      <td>-0.19243</td>\n",
       "      <td>-0.271241</td>\n",
       "      <td>-1.682144</td>\n",
       "      <td>...</td>\n",
       "      <td>-0.033593</td>\n",
       "      <td>-0.060224</td>\n",
       "      <td>-0.019101</td>\n",
       "      <td>-0.048575</td>\n",
       "      <td>-0.037342</td>\n",
       "      <td>-0.023747</td>\n",
       "      <td>-0.024436</td>\n",
       "      <td>0.310871</td>\n",
       "      <td>-0.046113</td>\n",
       "      <td>-0.023038</td>\n",
       "    </tr>\n",
       "    <tr>\n",
       "      <th>2</th>\n",
       "      <td>-0.033340</td>\n",
       "      <td>0.244693</td>\n",
       "      <td>-0.147445</td>\n",
       "      <td>-0.218586</td>\n",
       "      <td>-0.077734</td>\n",
       "      <td>-0.135074</td>\n",
       "      <td>-0.19243</td>\n",
       "      <td>-0.19243</td>\n",
       "      <td>-0.271241</td>\n",
       "      <td>0.594479</td>\n",
       "      <td>...</td>\n",
       "      <td>-0.033593</td>\n",
       "      <td>-0.060224</td>\n",
       "      <td>-0.019101</td>\n",
       "      <td>-0.048575</td>\n",
       "      <td>-0.037342</td>\n",
       "      <td>-0.023747</td>\n",
       "      <td>-0.024436</td>\n",
       "      <td>0.310871</td>\n",
       "      <td>-0.046113</td>\n",
       "      <td>-0.023038</td>\n",
       "    </tr>\n",
       "    <tr>\n",
       "      <th>3</th>\n",
       "      <td>1.108695</td>\n",
       "      <td>0.425240</td>\n",
       "      <td>-0.147445</td>\n",
       "      <td>-0.218586</td>\n",
       "      <td>-0.077734</td>\n",
       "      <td>-0.135074</td>\n",
       "      <td>-0.19243</td>\n",
       "      <td>-0.19243</td>\n",
       "      <td>-0.271241</td>\n",
       "      <td>0.594479</td>\n",
       "      <td>...</td>\n",
       "      <td>-0.033593</td>\n",
       "      <td>-0.060224</td>\n",
       "      <td>-0.019101</td>\n",
       "      <td>-0.048575</td>\n",
       "      <td>-0.037342</td>\n",
       "      <td>-0.023747</td>\n",
       "      <td>-0.024436</td>\n",
       "      <td>0.310871</td>\n",
       "      <td>-0.046113</td>\n",
       "      <td>-0.023038</td>\n",
       "    </tr>\n",
       "    <tr>\n",
       "      <th>4</th>\n",
       "      <td>-0.794697</td>\n",
       "      <td>1.406658</td>\n",
       "      <td>-0.147445</td>\n",
       "      <td>-0.218586</td>\n",
       "      <td>-0.077734</td>\n",
       "      <td>-0.135074</td>\n",
       "      <td>-0.19243</td>\n",
       "      <td>-0.19243</td>\n",
       "      <td>-0.271241</td>\n",
       "      <td>0.594479</td>\n",
       "      <td>...</td>\n",
       "      <td>-0.033593</td>\n",
       "      <td>-0.060224</td>\n",
       "      <td>-0.019101</td>\n",
       "      <td>-0.048575</td>\n",
       "      <td>-0.037342</td>\n",
       "      <td>-0.023747</td>\n",
       "      <td>-0.024436</td>\n",
       "      <td>-3.216773</td>\n",
       "      <td>-0.046113</td>\n",
       "      <td>-0.023038</td>\n",
       "    </tr>\n",
       "  </tbody>\n",
       "</table>\n",
       "<p>5 rows × 98 columns</p>\n",
       "</div>"
      ],
      "text/plain": [
       "        age    fnlwgt  capital-gain  capital-loss  hours-per-week  \\\n",
       "0  0.042796 -1.062722      0.146092     -0.218586       -0.077734   \n",
       "1  0.880288 -1.007871     -0.147445     -0.218586       -2.331531   \n",
       "2 -0.033340  0.244693     -0.147445     -0.218586       -0.077734   \n",
       "3  1.108695  0.425240     -0.147445     -0.218586       -0.077734   \n",
       "4 -0.794697  1.406658     -0.147445     -0.218586       -0.077734   \n",
       "\n",
       "   capital-net  has_capital_gain_filter_7500  has_capital_net_filter_7500  \\\n",
       "0     0.157514                      -0.19243                     -0.19243   \n",
       "1    -0.135074                      -0.19243                     -0.19243   \n",
       "2    -0.135074                      -0.19243                     -0.19243   \n",
       "3    -0.135074                      -0.19243                     -0.19243   \n",
       "4    -0.135074                      -0.19243                     -0.19243   \n",
       "\n",
       "   workclass_ Local-gov  workclass_ Private             ...              \\\n",
       "0             -0.271241           -1.682144             ...               \n",
       "1             -0.271241           -1.682144             ...               \n",
       "2             -0.271241            0.594479             ...               \n",
       "3             -0.271241            0.594479             ...               \n",
       "4             -0.271241            0.594479             ...               \n",
       "\n",
       "   native-country_ Portugal  native-country_ Puerto-Rico  \\\n",
       "0                 -0.033593                    -0.060224   \n",
       "1                 -0.033593                    -0.060224   \n",
       "2                 -0.033593                    -0.060224   \n",
       "3                 -0.033593                    -0.060224   \n",
       "4                 -0.033593                    -0.060224   \n",
       "\n",
       "   native-country_ Scotland  native-country_ South  native-country_ Taiwan  \\\n",
       "0                 -0.019101              -0.048575               -0.037342   \n",
       "1                 -0.019101              -0.048575               -0.037342   \n",
       "2                 -0.019101              -0.048575               -0.037342   \n",
       "3                 -0.019101              -0.048575               -0.037342   \n",
       "4                 -0.019101              -0.048575               -0.037342   \n",
       "\n",
       "   native-country_ Thailand  native-country_ Trinadad&Tobago  \\\n",
       "0                 -0.023747                        -0.024436   \n",
       "1                 -0.023747                        -0.024436   \n",
       "2                 -0.023747                        -0.024436   \n",
       "3                 -0.023747                        -0.024436   \n",
       "4                 -0.023747                        -0.024436   \n",
       "\n",
       "   native-country_ United-States  native-country_ Vietnam  \\\n",
       "0                       0.310871                -0.046113   \n",
       "1                       0.310871                -0.046113   \n",
       "2                       0.310871                -0.046113   \n",
       "3                       0.310871                -0.046113   \n",
       "4                      -3.216773                -0.046113   \n",
       "\n",
       "   native-country_ Yugoslavia  \n",
       "0                   -0.023038  \n",
       "1                   -0.023038  \n",
       "2                   -0.023038  \n",
       "3                   -0.023038  \n",
       "4                   -0.023038  \n",
       "\n",
       "[5 rows x 98 columns]"
      ]
     },
     "execution_count": 15,
     "metadata": {},
     "output_type": "execute_result"
    }
   ],
   "source": [
    "adult_train_standardize_all_df.head()"
   ]
  },
  {
   "cell_type": "markdown",
   "metadata": {},
   "source": [
    "### Standardize Numerical Features"
   ]
  },
  {
   "cell_type": "code",
   "execution_count": 16,
   "metadata": {},
   "outputs": [
    {
     "data": {
      "text/html": [
       "<div>\n",
       "<table border=\"1\" class=\"dataframe\">\n",
       "  <thead>\n",
       "    <tr style=\"text-align: right;\">\n",
       "      <th></th>\n",
       "      <th>age</th>\n",
       "      <th>fnlwgt</th>\n",
       "      <th>capital-gain</th>\n",
       "      <th>capital-loss</th>\n",
       "      <th>hours-per-week</th>\n",
       "      <th>capital-net</th>\n",
       "    </tr>\n",
       "  </thead>\n",
       "  <tbody>\n",
       "    <tr>\n",
       "      <th>0</th>\n",
       "      <td>39</td>\n",
       "      <td>77516</td>\n",
       "      <td>2174</td>\n",
       "      <td>0</td>\n",
       "      <td>40</td>\n",
       "      <td>2174</td>\n",
       "    </tr>\n",
       "    <tr>\n",
       "      <th>1</th>\n",
       "      <td>50</td>\n",
       "      <td>83311</td>\n",
       "      <td>0</td>\n",
       "      <td>0</td>\n",
       "      <td>13</td>\n",
       "      <td>0</td>\n",
       "    </tr>\n",
       "    <tr>\n",
       "      <th>2</th>\n",
       "      <td>38</td>\n",
       "      <td>215646</td>\n",
       "      <td>0</td>\n",
       "      <td>0</td>\n",
       "      <td>40</td>\n",
       "      <td>0</td>\n",
       "    </tr>\n",
       "    <tr>\n",
       "      <th>3</th>\n",
       "      <td>53</td>\n",
       "      <td>234721</td>\n",
       "      <td>0</td>\n",
       "      <td>0</td>\n",
       "      <td>40</td>\n",
       "      <td>0</td>\n",
       "    </tr>\n",
       "    <tr>\n",
       "      <th>4</th>\n",
       "      <td>28</td>\n",
       "      <td>338409</td>\n",
       "      <td>0</td>\n",
       "      <td>0</td>\n",
       "      <td>40</td>\n",
       "      <td>0</td>\n",
       "    </tr>\n",
       "  </tbody>\n",
       "</table>\n",
       "</div>"
      ],
      "text/plain": [
       "   age  fnlwgt  capital-gain  capital-loss  hours-per-week  capital-net\n",
       "0   39   77516          2174             0              40         2174\n",
       "1   50   83311             0             0              13            0\n",
       "2   38  215646             0             0              40            0\n",
       "3   53  234721             0             0              40            0\n",
       "4   28  338409             0             0              40            0"
      ]
     },
     "execution_count": 16,
     "metadata": {},
     "output_type": "execute_result"
    }
   ],
   "source": [
    "adult_train_num_df = (adult_train_standardize_num_df\n",
    "                      .select_dtypes(['int64']))\n",
    "adult_train_num_df.head()"
   ]
  },
  {
   "cell_type": "markdown",
   "metadata": {},
   "source": [
    "### Standardize the Numerical Features"
   ]
  },
  {
   "cell_type": "code",
   "execution_count": 17,
   "metadata": {},
   "outputs": [],
   "source": [
    "adult_train_num = (StandardScaler()\n",
    "                   .fit_transform(adult_train_num_df))"
   ]
  },
  {
   "cell_type": "code",
   "execution_count": 18,
   "metadata": {},
   "outputs": [
    {
     "data": {
      "text/html": [
       "<div>\n",
       "<table border=\"1\" class=\"dataframe\">\n",
       "  <thead>\n",
       "    <tr style=\"text-align: right;\">\n",
       "      <th></th>\n",
       "      <th>age</th>\n",
       "      <th>fnlwgt</th>\n",
       "      <th>capital-gain</th>\n",
       "      <th>capital-loss</th>\n",
       "      <th>hours-per-week</th>\n",
       "      <th>capital-net</th>\n",
       "    </tr>\n",
       "  </thead>\n",
       "  <tbody>\n",
       "    <tr>\n",
       "      <th>0</th>\n",
       "      <td>0.042796</td>\n",
       "      <td>-1.062722</td>\n",
       "      <td>0.146092</td>\n",
       "      <td>-0.218586</td>\n",
       "      <td>-0.077734</td>\n",
       "      <td>0.157514</td>\n",
       "    </tr>\n",
       "    <tr>\n",
       "      <th>1</th>\n",
       "      <td>0.880288</td>\n",
       "      <td>-1.007871</td>\n",
       "      <td>-0.147445</td>\n",
       "      <td>-0.218586</td>\n",
       "      <td>-2.331531</td>\n",
       "      <td>-0.135074</td>\n",
       "    </tr>\n",
       "    <tr>\n",
       "      <th>2</th>\n",
       "      <td>-0.033340</td>\n",
       "      <td>0.244693</td>\n",
       "      <td>-0.147445</td>\n",
       "      <td>-0.218586</td>\n",
       "      <td>-0.077734</td>\n",
       "      <td>-0.135074</td>\n",
       "    </tr>\n",
       "    <tr>\n",
       "      <th>3</th>\n",
       "      <td>1.108695</td>\n",
       "      <td>0.425240</td>\n",
       "      <td>-0.147445</td>\n",
       "      <td>-0.218586</td>\n",
       "      <td>-0.077734</td>\n",
       "      <td>-0.135074</td>\n",
       "    </tr>\n",
       "    <tr>\n",
       "      <th>4</th>\n",
       "      <td>-0.794697</td>\n",
       "      <td>1.406658</td>\n",
       "      <td>-0.147445</td>\n",
       "      <td>-0.218586</td>\n",
       "      <td>-0.077734</td>\n",
       "      <td>-0.135074</td>\n",
       "    </tr>\n",
       "  </tbody>\n",
       "</table>\n",
       "</div>"
      ],
      "text/plain": [
       "        age    fnlwgt  capital-gain  capital-loss  hours-per-week  capital-net\n",
       "0  0.042796 -1.062722      0.146092     -0.218586       -0.077734     0.157514\n",
       "1  0.880288 -1.007871     -0.147445     -0.218586       -2.331531    -0.135074\n",
       "2 -0.033340  0.244693     -0.147445     -0.218586       -0.077734    -0.135074\n",
       "3  1.108695  0.425240     -0.147445     -0.218586       -0.077734    -0.135074\n",
       "4 -0.794697  1.406658     -0.147445     -0.218586       -0.077734    -0.135074"
      ]
     },
     "execution_count": 18,
     "metadata": {},
     "output_type": "execute_result"
    }
   ],
   "source": [
    "adult_train_num_df = pd.DataFrame(adult_train_num,\n",
    "                                  columns=adult_train_num_df.columns)\n",
    "adult_train_num_df.head()"
   ]
  },
  {
   "cell_type": "markdown",
   "metadata": {},
   "source": [
    "### Reassign the Standardized Numerical Features to Output Dataframe"
   ]
  },
  {
   "cell_type": "code",
   "execution_count": 19,
   "metadata": {},
   "outputs": [],
   "source": [
    "for column in adult_train_num_df.columns:\n",
    "    adult_train_standardize_num_df[column] = adult_train_num_df[column]"
   ]
  },
  {
   "cell_type": "code",
   "execution_count": 20,
   "metadata": {},
   "outputs": [
    {
     "data": {
      "text/html": [
       "<div>\n",
       "<table border=\"1\" class=\"dataframe\">\n",
       "  <thead>\n",
       "    <tr style=\"text-align: right;\">\n",
       "      <th></th>\n",
       "      <th>age</th>\n",
       "      <th>fnlwgt</th>\n",
       "      <th>capital-gain</th>\n",
       "      <th>capital-loss</th>\n",
       "      <th>hours-per-week</th>\n",
       "      <th>capital-net</th>\n",
       "      <th>has_capital_gain_filter_7500</th>\n",
       "      <th>has_capital_net_filter_7500</th>\n",
       "      <th>workclass_ Local-gov</th>\n",
       "      <th>workclass_ Private</th>\n",
       "      <th>...</th>\n",
       "      <th>native-country_ Portugal</th>\n",
       "      <th>native-country_ Puerto-Rico</th>\n",
       "      <th>native-country_ Scotland</th>\n",
       "      <th>native-country_ South</th>\n",
       "      <th>native-country_ Taiwan</th>\n",
       "      <th>native-country_ Thailand</th>\n",
       "      <th>native-country_ Trinadad&amp;Tobago</th>\n",
       "      <th>native-country_ United-States</th>\n",
       "      <th>native-country_ Vietnam</th>\n",
       "      <th>native-country_ Yugoslavia</th>\n",
       "    </tr>\n",
       "  </thead>\n",
       "  <tbody>\n",
       "    <tr>\n",
       "      <th>0</th>\n",
       "      <td>0.042796</td>\n",
       "      <td>-1.062722</td>\n",
       "      <td>0.146092</td>\n",
       "      <td>-0.218586</td>\n",
       "      <td>-0.077734</td>\n",
       "      <td>0.157514</td>\n",
       "      <td>False</td>\n",
       "      <td>False</td>\n",
       "      <td>0</td>\n",
       "      <td>0</td>\n",
       "      <td>...</td>\n",
       "      <td>0</td>\n",
       "      <td>0</td>\n",
       "      <td>0</td>\n",
       "      <td>0</td>\n",
       "      <td>0</td>\n",
       "      <td>0</td>\n",
       "      <td>0</td>\n",
       "      <td>1</td>\n",
       "      <td>0</td>\n",
       "      <td>0</td>\n",
       "    </tr>\n",
       "    <tr>\n",
       "      <th>1</th>\n",
       "      <td>0.880288</td>\n",
       "      <td>-1.007871</td>\n",
       "      <td>-0.147445</td>\n",
       "      <td>-0.218586</td>\n",
       "      <td>-2.331531</td>\n",
       "      <td>-0.135074</td>\n",
       "      <td>False</td>\n",
       "      <td>False</td>\n",
       "      <td>0</td>\n",
       "      <td>0</td>\n",
       "      <td>...</td>\n",
       "      <td>0</td>\n",
       "      <td>0</td>\n",
       "      <td>0</td>\n",
       "      <td>0</td>\n",
       "      <td>0</td>\n",
       "      <td>0</td>\n",
       "      <td>0</td>\n",
       "      <td>1</td>\n",
       "      <td>0</td>\n",
       "      <td>0</td>\n",
       "    </tr>\n",
       "    <tr>\n",
       "      <th>2</th>\n",
       "      <td>-0.033340</td>\n",
       "      <td>0.244693</td>\n",
       "      <td>-0.147445</td>\n",
       "      <td>-0.218586</td>\n",
       "      <td>-0.077734</td>\n",
       "      <td>-0.135074</td>\n",
       "      <td>False</td>\n",
       "      <td>False</td>\n",
       "      <td>0</td>\n",
       "      <td>1</td>\n",
       "      <td>...</td>\n",
       "      <td>0</td>\n",
       "      <td>0</td>\n",
       "      <td>0</td>\n",
       "      <td>0</td>\n",
       "      <td>0</td>\n",
       "      <td>0</td>\n",
       "      <td>0</td>\n",
       "      <td>1</td>\n",
       "      <td>0</td>\n",
       "      <td>0</td>\n",
       "    </tr>\n",
       "    <tr>\n",
       "      <th>3</th>\n",
       "      <td>1.108695</td>\n",
       "      <td>0.425240</td>\n",
       "      <td>-0.147445</td>\n",
       "      <td>-0.218586</td>\n",
       "      <td>-0.077734</td>\n",
       "      <td>-0.135074</td>\n",
       "      <td>False</td>\n",
       "      <td>False</td>\n",
       "      <td>0</td>\n",
       "      <td>1</td>\n",
       "      <td>...</td>\n",
       "      <td>0</td>\n",
       "      <td>0</td>\n",
       "      <td>0</td>\n",
       "      <td>0</td>\n",
       "      <td>0</td>\n",
       "      <td>0</td>\n",
       "      <td>0</td>\n",
       "      <td>1</td>\n",
       "      <td>0</td>\n",
       "      <td>0</td>\n",
       "    </tr>\n",
       "    <tr>\n",
       "      <th>4</th>\n",
       "      <td>-0.794697</td>\n",
       "      <td>1.406658</td>\n",
       "      <td>-0.147445</td>\n",
       "      <td>-0.218586</td>\n",
       "      <td>-0.077734</td>\n",
       "      <td>-0.135074</td>\n",
       "      <td>False</td>\n",
       "      <td>False</td>\n",
       "      <td>0</td>\n",
       "      <td>1</td>\n",
       "      <td>...</td>\n",
       "      <td>0</td>\n",
       "      <td>0</td>\n",
       "      <td>0</td>\n",
       "      <td>0</td>\n",
       "      <td>0</td>\n",
       "      <td>0</td>\n",
       "      <td>0</td>\n",
       "      <td>0</td>\n",
       "      <td>0</td>\n",
       "      <td>0</td>\n",
       "    </tr>\n",
       "  </tbody>\n",
       "</table>\n",
       "<p>5 rows × 98 columns</p>\n",
       "</div>"
      ],
      "text/plain": [
       "        age    fnlwgt  capital-gain  capital-loss  hours-per-week  \\\n",
       "0  0.042796 -1.062722      0.146092     -0.218586       -0.077734   \n",
       "1  0.880288 -1.007871     -0.147445     -0.218586       -2.331531   \n",
       "2 -0.033340  0.244693     -0.147445     -0.218586       -0.077734   \n",
       "3  1.108695  0.425240     -0.147445     -0.218586       -0.077734   \n",
       "4 -0.794697  1.406658     -0.147445     -0.218586       -0.077734   \n",
       "\n",
       "   capital-net has_capital_gain_filter_7500 has_capital_net_filter_7500  \\\n",
       "0     0.157514                        False                       False   \n",
       "1    -0.135074                        False                       False   \n",
       "2    -0.135074                        False                       False   \n",
       "3    -0.135074                        False                       False   \n",
       "4    -0.135074                        False                       False   \n",
       "\n",
       "   workclass_ Local-gov  workclass_ Private             ...              \\\n",
       "0                     0                   0             ...               \n",
       "1                     0                   0             ...               \n",
       "2                     0                   1             ...               \n",
       "3                     0                   1             ...               \n",
       "4                     0                   1             ...               \n",
       "\n",
       "   native-country_ Portugal  native-country_ Puerto-Rico  \\\n",
       "0                         0                            0   \n",
       "1                         0                            0   \n",
       "2                         0                            0   \n",
       "3                         0                            0   \n",
       "4                         0                            0   \n",
       "\n",
       "   native-country_ Scotland  native-country_ South  native-country_ Taiwan  \\\n",
       "0                         0                      0                       0   \n",
       "1                         0                      0                       0   \n",
       "2                         0                      0                       0   \n",
       "3                         0                      0                       0   \n",
       "4                         0                      0                       0   \n",
       "\n",
       "   native-country_ Thailand  native-country_ Trinadad&Tobago  \\\n",
       "0                         0                                0   \n",
       "1                         0                                0   \n",
       "2                         0                                0   \n",
       "3                         0                                0   \n",
       "4                         0                                0   \n",
       "\n",
       "   native-country_ United-States  native-country_ Vietnam  \\\n",
       "0                              1                        0   \n",
       "1                              1                        0   \n",
       "2                              1                        0   \n",
       "3                              1                        0   \n",
       "4                              0                        0   \n",
       "\n",
       "   native-country_ Yugoslavia  \n",
       "0                           0  \n",
       "1                           0  \n",
       "2                           0  \n",
       "3                           0  \n",
       "4                           0  \n",
       "\n",
       "[5 rows x 98 columns]"
      ]
     },
     "execution_count": 20,
     "metadata": {},
     "output_type": "execute_result"
    }
   ],
   "source": [
    "adult_train_standardize_num_df.head()"
   ]
  },
  {
   "cell_type": "markdown",
   "metadata": {},
   "source": [
    "## Benchmark the Standardization"
   ]
  },
  {
   "cell_type": "markdown",
   "metadata": {},
   "source": [
    "### Logistic Regression"
   ]
  },
  {
   "cell_type": "code",
   "execution_count": 23,
   "metadata": {},
   "outputs": [
    {
     "data": {
      "text/plain": [
       "(30162, 98)"
      ]
     },
     "execution_count": 23,
     "metadata": {},
     "output_type": "execute_result"
    }
   ],
   "source": [
    "adult_train_standardize_num_df.shape\n"
   ]
  },
  {
   "cell_type": "code",
   "execution_count": 25,
   "metadata": {
    "scrolled": true
   },
   "outputs": [
    {
     "data": {
      "text/plain": [
       "{'model_name': 'logistic regression',\n",
       " 'test_score': 0.84750033152101845,\n",
       " 'train_score': 0.85226117324609874}"
      ]
     },
     "execution_count": 25,
     "metadata": {},
     "output_type": "execute_result"
    }
   ],
   "source": [
    "log_reg_all_output"
   ]
  },
  {
   "cell_type": "code",
   "execution_count": 29,
   "metadata": {},
   "outputs": [],
   "source": [
    "log_reg_output = run_benchmark(LogisticRegression(), \n",
    "                                   'logistic regression',\n",
    "                                   adult_train_standardize_all_df, \n",
    "                                   target)"
   ]
  },
  {
   "cell_type": "markdown",
   "metadata": {},
   "source": [
    "### K Neighbors Classifier"
   ]
  },
  {
   "cell_type": "code",
   "execution_count": 27,
   "metadata": {},
   "outputs": [],
   "source": [
    "knn_output = run_benchmark(KNeighborsClassifier(), \n",
    "                           'kneighbors',\n",
    "                           adult_train_standardize_all_df, \n",
    "                           target)"
   ]
  },
  {
   "cell_type": "markdown",
   "metadata": {},
   "source": [
    "### Decision Tree"
   ]
  },
  {
   "cell_type": "code",
   "execution_count": 28,
   "metadata": {},
   "outputs": [],
   "source": [
    "dtree_output = run_benchmark(DecisionTreeClassifier(), \n",
    "                             'decision tree',\n",
    "                             adult_train_standardize_all_df, \n",
    "                             target)"
   ]
  },
  {
   "cell_type": "code",
   "execution_count": 12,
   "metadata": {
    "scrolled": true
   },
   "outputs": [
    {
     "data": {
      "text/html": [
       "<div>\n",
       "<table border=\"1\" class=\"dataframe\">\n",
       "  <thead>\n",
       "    <tr style=\"text-align: right;\">\n",
       "      <th></th>\n",
       "      <th>model_name</th>\n",
       "      <th>test_score</th>\n",
       "      <th>train_score</th>\n",
       "    </tr>\n",
       "  </thead>\n",
       "  <tbody>\n",
       "    <tr>\n",
       "      <th>0</th>\n",
       "      <td>logistic regression</td>\n",
       "      <td>0.785837</td>\n",
       "      <td>0.792936</td>\n",
       "    </tr>\n",
       "    <tr>\n",
       "      <th>1</th>\n",
       "      <td>kneighbors</td>\n",
       "      <td>0.769527</td>\n",
       "      <td>0.828036</td>\n",
       "    </tr>\n",
       "    <tr>\n",
       "      <th>2</th>\n",
       "      <td>decision tree</td>\n",
       "      <td>0.805198</td>\n",
       "      <td>1.000000</td>\n",
       "    </tr>\n",
       "  </tbody>\n",
       "</table>\n",
       "</div>"
      ],
      "text/plain": [
       "            model_name  test_score  train_score\n",
       "0  logistic regression    0.785837     0.792936\n",
       "1           kneighbors    0.769527     0.828036\n",
       "2        decision tree    0.805198     1.000000"
      ]
     },
     "execution_count": 12,
     "metadata": {},
     "output_type": "execute_result"
    }
   ],
   "source": [
    "output = [\n",
    "    log_reg_output,\n",
    "    knn_output,\n",
    "    dtree_output\n",
    "]\n",
    "pd.DataFrame(output)"
   ]
  },
  {
   "cell_type": "code",
   "execution_count": null,
   "metadata": {},
   "outputs": [],
   "source": []
  }
 ],
 "metadata": {
  "kernelspec": {
   "display_name": "Python 3",
   "language": "python",
   "name": "python3"
  },
  "language_info": {
   "codemirror_mode": {
    "name": "ipython",
    "version": 3
   },
   "file_extension": ".py",
   "mimetype": "text/x-python",
   "name": "python",
   "nbconvert_exporter": "python",
   "pygments_lexer": "ipython3",
   "version": "3.6.3"
  }
 },
 "nbformat": 4,
 "nbformat_minor": 2
}
