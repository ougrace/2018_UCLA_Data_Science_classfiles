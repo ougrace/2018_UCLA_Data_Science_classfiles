{
 "cells": [
  {
   "cell_type": "code",
   "execution_count": 1,
   "metadata": {},
   "outputs": [
    {
     "name": "stdout",
     "output_type": "stream",
     "text": [
      "/home/jovyan/gt_ml_project_1\n"
     ]
    }
   ],
   "source": [
    "cd .."
   ]
  },
  {
   "cell_type": "code",
   "execution_count": 2,
   "metadata": {},
   "outputs": [],
   "source": [
    "%run __init__.py"
   ]
  },
  {
   "cell_type": "code",
   "execution_count": 3,
   "metadata": {},
   "outputs": [],
   "source": [
    "%run src/load_data.py"
   ]
  },
  {
   "cell_type": "code",
   "execution_count": 4,
   "metadata": {},
   "outputs": [],
   "source": [
    "from sklearn.neighbors import KNeighborsClassifier\n",
    "from sklearn.tree import DecisionTreeClassifier\n",
    "from sklearn.neural_network import MLPClassifier\n",
    "from sklearn.ensemble import AdaBoostClassifier\n",
    "from sklearn.svm import SVC"
   ]
  },
  {
   "cell_type": "code",
   "execution_count": 5,
   "metadata": {},
   "outputs": [],
   "source": [
    "from lib.benchmark import run_model, plot_results\n",
    "from lib.benchmark import pipeline_basic\n",
    "from sklearn.model_selection import GridSearchCV, StratifiedKFold\n",
    "import seaborn as sns\n",
    "from tqdm import tqdm\n",
    "from sklearn.metrics import f1_score\n",
    "\n",
    "sns.set()"
   ]
  },
  {
   "cell_type": "code",
   "execution_count": 6,
   "metadata": {},
   "outputs": [],
   "source": [
    "adt_data = data['adult']['train']['engineered']\n",
    "adt_lbls = data['adult']['train']['labels']\n",
    "mad_data = data['madelon']['train']['raw_data']\n",
    "mad_lbls = data['madelon']['train']['labels']"
   ]
  },
  {
   "cell_type": "code",
   "execution_count": 7,
   "metadata": {},
   "outputs": [],
   "source": [
    "adt_test_data = data['adult']['test']['engineered']\n",
    "adt_test_labels = data['adult']['test']['labels']\n",
    "mad_test_data = data['madelon']['test']['raw_data']\n",
    "mad_test_labels = data['madelon']['test']['labels']"
   ]
  },
  {
   "cell_type": "code",
   "execution_count": 9,
   "metadata": {},
   "outputs": [],
   "source": [
    "results = {}\n"
   ]
  },
  {
   "cell_type": "code",
   "execution_count": 10,
   "metadata": {},
   "outputs": [],
   "source": [
    "# fit with regular data, no scaling\n",
    "knn_mad_clf = KNeighborsClassifier(n_neighbors=10, weights = 'distance', p=2)  \n",
    "knn_adult_clf = KNeighborsClassifier(n_neighbors=25, weights = 'distance', p=1)\n",
    "\n",
    "knn_mad_clf.fit(mad_data, mad_lbls)\n",
    "knn_mad_preds = knn_mad_clf.predict(mad_test_data)\n",
    "\n",
    "knn_adult_clf.fit(adt_data, adt_lbls)\n",
    "knn_adult_preds = knn_adult_clf.predict(adt_test_data)\n",
    "\n",
    "results['knn_mad_f1'] = f1_score(mad_test_labels, knn_mad_preds)\n",
    "results['knn_adult_f1'] = f1_score(adt_test_labels, knn_adult_preds) "
   ]
  },
  {
   "cell_type": "code",
   "execution_count": null,
   "metadata": {},
   "outputs": [
    {
     "data": {
      "text/plain": [
       "{'knn_adult_f1': 0.66983091070898837, 'knn_mad_f1': 0.71024734982332149}"
      ]
     },
     "execution_count": 11,
     "metadata": {},
     "output_type": "execute_result"
    }
   ],
   "source": [
    "results"
   ]
  },
  {
   "cell_type": "code",
   "execution_count": null,
   "metadata": {},
   "outputs": [],
   "source": [
    "svm_mad_clf = SVC(C=0.1, kernel='poly')\n",
    "svm_adult_clf = SVC(C=0.1, kernel='linear')\n",
    "\n",
    "scaler_mad = StandardScaler()\n",
    "scaler_adt = StandardScaler()\n",
    "\n",
    "scaled_mad_data = scaler_mad.fit_transform(mad_data)\n",
    "scaled_adt_data = scaler_adt.fit_transform(adt_data)\n",
    "scaled_mad_test_data = scaler_mad.transform(mad_test_data)\n",
    "scaled_adt_test_data = scaler_adt.transform(adt_test_data)\n",
    "\n",
    "svm_mad_clf.fit(scaled_mad_data, mad_lbls)\n",
    "svm_mad_preds = svm_mad_clf.predict(scaled_mad_test_data)\n",
    "results['svm_mad_f1'] = f1_score(mad_test_labels, svm_mad_preds)\n",
    "\n",
    "\n",
    "svm_adult_clf.fit(scaled_adt_data, adt_lbls)\n",
    "svm_adult_preds = svm_adult_clf.predict(scaled_adt_data)\n",
    "results['svm_adult_f1'] = f1_score(adt_lbls, svm_adult_preds)"
   ]
  },
  {
   "cell_type": "code",
   "execution_count": null,
   "metadata": {},
   "outputs": [],
   "source": [
    "results"
   ]
  },
  {
   "cell_type": "code",
   "execution_count": null,
   "metadata": {},
   "outputs": [],
   "source": [
    "dt_mad_clf = DecisionTreeClassifier(max_depth=5)\n",
    "dt_adult_clf = DecisionTreeClassifier(max_depth=10)\n",
    "\n",
    "dt_mad_clf.fit(mad_data, mad_lbls)\n",
    "dt_mad_preds = dt_mad_clf.predict(mad_test_data)\n",
    "\n",
    "dt_adult_clf.fit(adt_data, adt_lbls)\n",
    "dt_adult_preds = dt_adult_clf.predict(adt_test_data)\n",
    "\n",
    "results['dt_mad_f1'] = f1_score(mad_test_labels, dt_mad_preds)\n",
    "results['dt_adult_f1'] = f1_score(adt_test_labels, dt_adult_preds) "
   ]
  },
  {
   "cell_type": "code",
   "execution_count": null,
   "metadata": {},
   "outputs": [],
   "source": [
    "results"
   ]
  },
  {
   "cell_type": "code",
   "execution_count": null,
   "metadata": {},
   "outputs": [],
   "source": [
    "adaboost_mad_clf = AdaBoostClassifier(n_estimators=25, learning_rate=0.01)\n",
    "adaboost_adult_clf = AdaBoostClassifier(n_estimators=25, learning_rate=1.0)\n",
    "\n",
    "\n",
    "adaboost_mad_clf.fit(mad_data, mad_lbls)\n",
    "adaboost_mad_preds = adaboost_mad_clf.predict(mad_test_data)\n",
    "\n",
    "adaboost_adult_clf.fit(adt_data, adt_lbls)\n",
    "adaboost_adult_preds = adaboost_adult_clf.predict(adt_test_data)\n",
    "\n",
    "results['adaboost_mad_f1'] = f1_score(mad_test_labels, adaboost_mad_preds)\n",
    "results['adaboost_adult_f1'] = f1_score(adt_test_labels, adaboost_adult_preds) "
   ]
  },
  {
   "cell_type": "code",
   "execution_count": null,
   "metadata": {},
   "outputs": [],
   "source": [
    "results"
   ]
  },
  {
   "cell_type": "code",
   "execution_count": null,
   "metadata": {},
   "outputs": [],
   "source": [
    "mlp_mad_clf = MLPClassifier()\n",
    "mlp_adult_clf = MLPClassifier()\n",
    "\n",
    "mlp_mad_clf.fit(scaled_mad_data, mad_lbls)\n",
    "mlp_mad_preds = mlp_mad_clf.predict(scaled_mad_test_data)\n",
    "\n",
    "mlp_adult_clf.fit(scaled_adt_data, adt_lbls)\n",
    "mlp_adult_preds = mlp_adult_clf.predict(scaled_adt_test_data)\n",
    "\n",
    "results['mlp_mad_f1'] = f1_score(mad_test_labels, mlp_mad_preds)\n",
    "results['mlp_adult_f1'] = f1_score(adult_test_labels, mlp_adult_preds)"
   ]
  },
  {
   "cell_type": "code",
   "execution_count": null,
   "metadata": {},
   "outputs": [],
   "source": [
    "results"
   ]
  },
  {
   "cell_type": "code",
   "execution_count": null,
   "metadata": {},
   "outputs": [],
   "source": [
    "final_results = pd.Series(results)\n",
    "final_results.to_csv(\"results/final_results.csv\")"
   ]
  },
  {
   "cell_type": "code",
   "execution_count": null,
   "metadata": {},
   "outputs": [],
   "source": [
    "ls"
   ]
  },
  {
   "cell_type": "code",
   "execution_count": 40,
   "metadata": {},
   "outputs": [
    {
     "name": "stdout",
     "output_type": "stream",
     "text": [
      "adaboost_adult_f1    0.671546\n",
      "adaboost_mad_f1      0.630745\n",
      "dt_adult_f1          0.666875\n",
      "dt_mad_f1            0.803828\n",
      "knn_adult_f1         0.669831\n",
      "knn_mad_f1           0.710247\n",
      "mlp_adult_f1         0.639294\n",
      "mlp_mad_f1           0.585526\n",
      "svm_adult_f1         0.650742\n",
      "svm_mad_f1           0.666667\n",
      "dtype: float64\n"
     ]
    }
   ],
   "source": [
    "print(final_results)"
   ]
  },
  {
   "cell_type": "code",
   "execution_count": null,
   "metadata": {
    "collapsed": true
   },
   "outputs": [],
   "source": []
  }
 ],
 "metadata": {
  "kernelspec": {
   "display_name": "Python 3",
   "language": "python",
   "name": "python3"
  },
  "language_info": {
   "codemirror_mode": {
    "name": "ipython",
    "version": 3
   },
   "file_extension": ".py",
   "mimetype": "text/x-python",
   "name": "python",
   "nbconvert_exporter": "python",
   "pygments_lexer": "ipython3",
   "version": "3.6.3"
  }
 },
 "nbformat": 4,
 "nbformat_minor": 2
}
