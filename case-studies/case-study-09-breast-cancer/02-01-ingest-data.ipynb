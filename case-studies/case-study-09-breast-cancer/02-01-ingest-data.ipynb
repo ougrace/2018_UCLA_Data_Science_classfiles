{
 "cells": [
  {
   "cell_type": "markdown",
   "metadata": {},
   "source": [
    "# Ingest Data"
   ]
  },
  {
   "cell_type": "code",
   "execution_count": null,
   "metadata": {},
   "outputs": [],
   "source": [
    "import matplotlib.pyplot as plt\n",
    "from patsy import dmatrices\n",
    "import numpy as np\n",
    "import pandas as pd\n",
    "import seaborn as sns\n",
    "\n",
    "%matplotlib inline"
   ]
  },
  {
   "cell_type": "markdown",
   "metadata": {},
   "source": [
    "![](https://www.evernote.com/l/AAHnO3y39xlDerYJwOvrQdUoTxXpGB2dlAcB/image.png)\n",
    "\n",
    "       #  Attribute                     Domain\n",
    "       -- -----------------------------------------\n",
    "       1. Sample code number            id number\n",
    "       2. Clump Thickness               1 - 10\n",
    "       3. Uniformity of Cell Size       1 - 10\n",
    "       4. Uniformity of Cell Shape      1 - 10\n",
    "       5. Marginal Adhesion             1 - 10\n",
    "       6. Single Epithelial Cell Size   1 - 10\n",
    "       7. Bare Nuclei                   1 - 10\n",
    "       8. Bland Chromatin               1 - 10\n",
    "       9. Normal Nucleoli               1 - 10\n",
    "      10. Mitoses                       1 - 10\n",
    "      11. Class:                        (2 for benign, 4 for malignant)"
   ]
  },
  {
   "cell_type": "markdown",
   "metadata": {},
   "source": [
    "We will be working with the unformatted data. "
   ]
  },
  {
   "cell_type": "markdown",
   "metadata": {},
   "source": [
    "## Unformatted Data\n",
    "\n",
    "```\n",
    "Olvi Mangasarian provided the original database in a different format\n",
    "than the one under breast-cancer-wisconsin.data, which contains only\n",
    "the complete set of data that was available on 15 July 1992.  In\n",
    "particular, data was separated into groups, each preceeded by some\n",
    "documentation.  I've kept this information here in case you needed\n",
    "more details.\n",
    "\n",
    "--------------------------------CUT--------------------------------------------\n",
    "#####  Group 1 : 367 points: 200B 167M (January 1989)\n",
    "#####  Revised Jan 10, 1991: Replaced zero bare nuclei in 1080185 & 1187805 \n",
    "#####  Revised Nov 22,1991: Removed 765878,4,5,9,7,10,10,10,3,8,1 no record\n",
    "#####                     : Removed 484201,2,7,8,8,4,3,10,3,4,1 zero epithelial \n",
    "#####\t\t\t  : Changed 0 to 1 in field 6 of sample 1219406\n",
    "#####\t\t\t  : Changed 0 to 1 in field 8 of following sample:\n",
    "#####\t\t\t  : 1182404,2,3,1,1,1,2,0,1,1,1\n",
    "\n",
    "1000025,2,5,1,1,1,2,1,3,1,1\n",
    "1002945,2,5,4,4,5,7,10,3,2,1\n",
    "1015425,2,3,1,1,1,2,2,3,1,1\n",
    "1016277,2,6,8,8,1,3,4,3,7,1\n",
    "1017023,2,4,1,1,3,2,1,3,1,1\n",
    "1017122,4,8,10,10,8,7,10,9,7,1\n",
    "...\n",
    "\n",
    "##### Group 2 : 70 points: 57B 13M (October 1989)\n",
    "\n",
    "160296,4,5,8,8,10,5,10,8,10,3\n",
    "342245,2,1,1,3,1,2,1,1,1,1\n",
    "428598,2,1,1,3,1,1,1,2,1,1\n",
    "492561,2,4,3,2,1,3,1,2,1,1\n",
    "493452,2,1,1,3,1,2,1,1,1,1\n",
    "493452,2,4,1,2,1,2,1,2,1,1\n",
    "521441,2,5,1,1,2,2,1,2,1,1\n",
    "...\n",
    "\n",
    "##### Current Total 698 points\n",
    "##### End\n",
    "```"
   ]
  },
  {
   "cell_type": "code",
   "execution_count": null,
   "metadata": {},
   "outputs": [],
   "source": [
    "URL = 'https://archive.ics.uci.edu/ml/machine-learning-databases/breast-cancer-wisconsin/unformatted-data'"
   ]
  },
  {
   "cell_type": "markdown",
   "metadata": {},
   "source": [
    "We store the url of the file as a string. "
   ]
  },
  {
   "cell_type": "code",
   "execution_count": null,
   "metadata": {},
   "outputs": [],
   "source": [
    "URL"
   ]
  },
  {
   "cell_type": "markdown",
   "metadata": {},
   "source": [
    "Because the file is unformatted, it can not be read in simply using the `pd.read_csv()` function. "
   ]
  },
  {
   "cell_type": "code",
   "execution_count": null,
   "metadata": {},
   "outputs": [],
   "source": [
    "try:\n",
    "    pd.read_csv(URL)\n",
    "except pd.errors.ParserError as e:\n",
    "    print(\"ParserError: \" + str(e))"
   ]
  },
  {
   "cell_type": "markdown",
   "metadata": {},
   "source": [
    "This is not uncommon in data science, where we must prepare the data ourselves prior to analysis."
   ]
  },
  {
   "cell_type": "code",
   "execution_count": null,
   "metadata": {},
   "outputs": [],
   "source": [
    "from urllib.request import urlopen"
   ]
  },
  {
   "cell_type": "code",
   "execution_count": null,
   "metadata": {},
   "outputs": [],
   "source": [
    "data = urlopen(URL)"
   ]
  },
  {
   "cell_type": "code",
   "execution_count": null,
   "metadata": {},
   "outputs": [],
   "source": [
    "type(data)"
   ]
  },
  {
   "cell_type": "code",
   "execution_count": null,
   "metadata": {},
   "outputs": [],
   "source": [
    "data.status"
   ]
  },
  {
   "cell_type": "code",
   "execution_count": null,
   "metadata": {},
   "outputs": [],
   "source": [
    "line = data.readline()\n",
    "line"
   ]
  },
  {
   "cell_type": "code",
   "execution_count": null,
   "metadata": {},
   "outputs": [],
   "source": [
    "type(line)"
   ]
  },
  {
   "cell_type": "code",
   "execution_count": null,
   "metadata": {},
   "outputs": [],
   "source": [
    "line = data.readline().decode()\n",
    "line"
   ]
  },
  {
   "cell_type": "code",
   "execution_count": null,
   "metadata": {},
   "outputs": [],
   "source": [
    "type(line)"
   ]
  },
  {
   "cell_type": "code",
   "execution_count": null,
   "metadata": {},
   "outputs": [],
   "source": [
    "def read_string(data):\n",
    "    return data.readline().decode()"
   ]
  },
  {
   "cell_type": "code",
   "execution_count": null,
   "metadata": {},
   "outputs": [],
   "source": [
    "data = urlopen(URL)\n",
    "line = read_string(data)\n",
    "count = 0\n",
    "while line:\n",
    "    count += 1\n",
    "    line = read_string(data)"
   ]
  },
  {
   "cell_type": "code",
   "execution_count": null,
   "metadata": {},
   "outputs": [],
   "source": [
    "count"
   ]
  },
  {
   "cell_type": "code",
   "execution_count": null,
   "metadata": {},
   "outputs": [],
   "source": [
    "my_string = 'Hello my name is'"
   ]
  },
  {
   "cell_type": "code",
   "execution_count": null,
   "metadata": {},
   "outputs": [],
   "source": [
    "\"my\" in my_string"
   ]
  },
  {
   "cell_type": "code",
   "execution_count": null,
   "metadata": {},
   "outputs": [],
   "source": [
    "header = True\n",
    "data = urlopen(URL)\n",
    "line = read_string(data)\n",
    "count = 0\n",
    "while line:\n",
    "    line = read_string(data)\n",
    "    if header == True:\n",
    "        if '#####' in line:\n",
    "            header = False\n",
    "    else:\n",
    "        count += 1\n",
    "count "
   ]
  },
  {
   "cell_type": "code",
   "execution_count": null,
   "metadata": {},
   "outputs": [],
   "source": [
    "data = urlopen(URL)\n",
    "groups = []\n",
    "tmp = []\n",
    "line = read_string(data)\n",
    "while line:\n",
    "\n",
    "    if 'Group' in line:\n",
    "        groups.append(tmp)\n",
    "        tmp = []\n",
    "\n",
    "    tmp.append(line)\n",
    "    line = read_string(data)\n",
    "groups.append(tmp)    "
   ]
  },
  {
   "cell_type": "code",
   "execution_count": null,
   "metadata": {},
   "outputs": [],
   "source": [
    "groups[0]"
   ]
  },
  {
   "cell_type": "code",
   "execution_count": null,
   "metadata": {},
   "outputs": [],
   "source": [
    "groups[-1][:10]"
   ]
  },
  {
   "cell_type": "code",
   "execution_count": null,
   "metadata": {},
   "outputs": [],
   "source": [
    "groups[0].remove('\\n')"
   ]
  },
  {
   "cell_type": "code",
   "execution_count": null,
   "metadata": {},
   "outputs": [],
   "source": [
    "groups[0]"
   ]
  },
  {
   "cell_type": "code",
   "execution_count": null,
   "metadata": {},
   "outputs": [],
   "source": [
    "header = True\n",
    "count = 0\n",
    "data = urlopen(URL)\n",
    "groups = []\n",
    "tmp = []\n",
    "line = read_string(data)\n",
    "while line:\n",
    "    if 'Group' in line:\n",
    "        groups.append(tmp)\n",
    "        tmp = []\n",
    "    if line != '\\n':\n",
    "        tmp.append(line)\n",
    "    line = read_string(data)\n",
    "groups.append(tmp)     "
   ]
  },
  {
   "cell_type": "markdown",
   "metadata": {},
   "source": [
    "### Local Processing"
   ]
  },
  {
   "cell_type": "code",
   "execution_count": null,
   "metadata": {},
   "outputs": [],
   "source": [
    "for group in groups:\n",
    "    for line in group:\n",
    "        if '#####' in line: \n",
    "            print(line)"
   ]
  },
  {
   "cell_type": "code",
   "execution_count": null,
   "metadata": {},
   "outputs": [],
   "source": [
    "groups = [\n",
    "    [line for line in group if '#####' not in line]\n",
    "    for group in groups\n",
    "]"
   ]
  },
  {
   "cell_type": "code",
   "execution_count": null,
   "metadata": {},
   "outputs": [],
   "source": [
    "groups[1][:10]"
   ]
  },
  {
   "cell_type": "code",
   "execution_count": null,
   "metadata": {},
   "outputs": [],
   "source": [
    "'1033078,2,4,2,1,1,2,1,2,1,1\\n'.split(',')"
   ]
  },
  {
   "cell_type": "code",
   "execution_count": null,
   "metadata": {},
   "outputs": [],
   "source": [
    "group_1 = groups[1]"
   ]
  },
  {
   "cell_type": "code",
   "execution_count": null,
   "metadata": {},
   "outputs": [],
   "source": [
    "group_1[:5]"
   ]
  },
  {
   "cell_type": "code",
   "execution_count": null,
   "metadata": {},
   "outputs": [],
   "source": [
    "group_1 = [line.split(',') for line in group_1]"
   ]
  },
  {
   "cell_type": "code",
   "execution_count": null,
   "metadata": {},
   "outputs": [],
   "source": [
    "group_1[:5]"
   ]
  },
  {
   "cell_type": "code",
   "execution_count": null,
   "metadata": {},
   "outputs": [],
   "source": [
    "group_1 = groups[1]"
   ]
  },
  {
   "cell_type": "code",
   "execution_count": null,
   "metadata": {},
   "outputs": [],
   "source": [
    "group_1 = [(line.replace('\\n','').split(',')) for line in group_1]"
   ]
  },
  {
   "cell_type": "code",
   "execution_count": null,
   "metadata": {},
   "outputs": [],
   "source": [
    "group_1 = groups[1]\n",
    "group_1 = [line.replace('\\n','') for line in group_1]\n",
    "group_1 = [line.split(',') for line in group_1]"
   ]
  },
  {
   "cell_type": "code",
   "execution_count": null,
   "metadata": {},
   "outputs": [],
   "source": [
    "group_1 = groups[1]\n",
    "temp = []\n",
    "for line in group_1:\n",
    "    temp.append(line.replace('\\n','').split(','))\n",
    "group_1 = temp"
   ]
  },
  {
   "cell_type": "code",
   "execution_count": null,
   "metadata": {},
   "outputs": [],
   "source": [
    "group_1 = groups[1]\n",
    "temp = []\n",
    "for line in group_1:\n",
    "    line = line.replace('\\n','')\n",
    "    temp.append(line.split(','))\n",
    "group_1 = temp"
   ]
  },
  {
   "cell_type": "code",
   "execution_count": null,
   "metadata": {},
   "outputs": [],
   "source": [
    "group_1[:5]"
   ]
  },
  {
   "cell_type": "code",
   "execution_count": null,
   "metadata": {},
   "outputs": [],
   "source": [
    "group_1 = groups[1]\n",
    "group_1 = [(line.replace('\\n','')\n",
    "                .split(',')) for line in group_1]\n",
    "group_1 = [[int(value) for value in line] for line in group_1]"
   ]
  },
  {
   "cell_type": "code",
   "execution_count": null,
   "metadata": {},
   "outputs": [],
   "source": [
    "group_1[:5]"
   ]
  },
  {
   "cell_type": "code",
   "execution_count": null,
   "metadata": {},
   "outputs": [],
   "source": [
    "group_1 = groups[1]\n",
    "group_1 = [(line.replace('\\n','')\n",
    "                .split(',')) for line in group_1]\n",
    "group_1 = np.array(group_1, dtype=int)"
   ]
  },
  {
   "cell_type": "code",
   "execution_count": null,
   "metadata": {},
   "outputs": [],
   "source": [
    "group_1[:5]"
   ]
  },
  {
   "cell_type": "code",
   "execution_count": null,
   "metadata": {},
   "outputs": [],
   "source": [
    "group_1 = groups[1]\n",
    "group_1 = [(line.replace('\\n','')\n",
    "                .split(',')) for line in group_1]\n",
    "\n",
    "group_1 = np.array(group_1, dtype=int)\n",
    "group_1_df = pd.DataFrame(group_1)"
   ]
  },
  {
   "cell_type": "code",
   "execution_count": null,
   "metadata": {},
   "outputs": [],
   "source": [
    "group_1_df.head()"
   ]
  },
  {
   "cell_type": "markdown",
   "metadata": {},
   "source": [
    "```\n",
    "#####  Group 1 : 367 points: 200B 167M (January 1989)\n",
    "```"
   ]
  },
  {
   "cell_type": "code",
   "execution_count": null,
   "metadata": {},
   "outputs": [],
   "source": [
    "group_1_df.shape"
   ]
  },
  {
   "cell_type": "code",
   "execution_count": null,
   "metadata": {},
   "outputs": [],
   "source": [
    "def group_to_df(group):\n",
    "    group = [(line.replace('\\n','')\n",
    "                    .split(',')) for line in group]\n",
    "    group = np.array(group, dtype=int)\n",
    "    group_df = pd.DataFrame(group)\n",
    "    return group_df"
   ]
  },
  {
   "cell_type": "markdown",
   "metadata": {},
   "source": [
    "```\n",
    "#####  Group 1 : 367 points: 200B 167M (January 1989)\n",
    "\n",
    "#####  Revised Jan 10, 1991: Replaced zero bare nuclei in 1080185 & 1187805 \n",
    "\n",
    "#####  Revised Nov 22,1991: Removed 765878,4,5,9,7,10,10,10,3,8,1 no record\n",
    "\n",
    "#####                     : Removed 484201,2,7,8,8,4,3,10,3,4,1 zero epithelial \n",
    "\n",
    "#####\t\t\t  : Changed 0 to 1 in field 6 of sample 1219406\n",
    "\n",
    "#####\t\t\t  : Changed 0 to 1 in field 8 of following sample:\n",
    "\n",
    "#####\t\t\t  : 1182404,2,3,1,1,1,2,0,1,1,1\n",
    "\n",
    "##### Group 2 : 70 points: 57B 13M (October 1989)\n",
    "\n",
    "##### Group 3 : 31 points: 22B 9M (February 1990)\n",
    "\n",
    "##### Group 4 : 17 points: 14B 3M (April 1990)\n",
    "\n",
    "##### Group 5 : 48 points: 36B 12M (August 1990)\n",
    "\n",
    "##### Group 6: 49 Points: 40B  9M (December 7, 1990; Updated Jan 8, 1991\n",
    "\n",
    "##### by dropping 2 unsatisfactorily   measured points 803531 &\n",
    "\n",
    "##### 1268952,4,10,10,7,2,7,1,4,3,3) <-----Reappears in Group 8 as:\n",
    "\n",
    "##### 1268952,4,10,10,7,8,7,1,10,10,3 \n",
    "\n",
    "##### Group 7: 31 Points: 16B  15M (June 1991)\n",
    "\n",
    "##### Group 8: 86 Points: 72B  14M  (November 1991)\n",
    "\n",
    "##### Current Total 698 points\n",
    "\n",
    "##### End\n",
    "```"
   ]
  },
  {
   "cell_type": "code",
   "execution_count": null,
   "metadata": {},
   "outputs": [],
   "source": [
    "for group in groups:\n",
    "    print(len(group)) "
   ]
  },
  {
   "cell_type": "code",
   "execution_count": null,
   "metadata": {},
   "outputs": [],
   "source": [
    "group_1_df = group_to_df(groups[1])\n",
    "group_2_df = group_to_df(groups[2])\n",
    "group_3_df = group_to_df(groups[3])\n",
    "group_4_df = group_to_df(groups[4])\n",
    "group_5_df = group_to_df(groups[5])\n",
    "group_6_df = group_to_df(groups[7])\n",
    "group_7_df = group_to_df(groups[8])\n",
    "group_8_df = group_to_df(groups[9])"
   ]
  },
  {
   "cell_type": "code",
   "execution_count": null,
   "metadata": {},
   "outputs": [],
   "source": [
    "from IPython.display import display"
   ]
  },
  {
   "cell_type": "code",
   "execution_count": null,
   "metadata": {},
   "outputs": [],
   "source": [
    "print(group_1_df.shape)\n",
    "print(group_2_df.shape)\n",
    "print(group_3_df.shape)\n",
    "print(group_4_df.shape)\n",
    "print(group_5_df.shape)\n",
    "print(group_6_df.shape)\n",
    "print(group_7_df.shape)\n",
    "print(group_8_df.shape)"
   ]
  },
  {
   "cell_type": "code",
   "execution_count": null,
   "metadata": {},
   "outputs": [],
   "source": [
    "group_1_df['group'] = 'group_1'\n",
    "group_2_df['group'] = 'group_2'\n",
    "group_3_df['group'] = 'group_3'\n",
    "group_4_df['group'] = 'group_4'\n",
    "group_5_df['group'] = 'group_5'\n",
    "group_6_df['group'] = 'group_6'\n",
    "group_7_df['group'] = 'group_7'\n",
    "group_8_df['group'] = 'group_8'"
   ]
  },
  {
   "cell_type": "code",
   "execution_count": null,
   "metadata": {},
   "outputs": [],
   "source": [
    "breast_cancer_df = pd.concat([group_1_df, group_2_df, group_3_df, group_4_df, \n",
    "                              group_5_df, group_6_df, group_7_df, group_8_df])"
   ]
  },
  {
   "cell_type": "code",
   "execution_count": null,
   "metadata": {},
   "outputs": [],
   "source": [
    "breast_cancer_df.shape"
   ]
  },
  {
   "cell_type": "markdown",
   "metadata": {},
   "source": [
    "```\n",
    "##### Current Total 698 points\n",
    "```"
   ]
  },
  {
   "cell_type": "markdown",
   "metadata": {},
   "source": [
    "![](https://www.evernote.com/l/AAHnO3y39xlDerYJwOvrQdUoTxXpGB2dlAcB/image.png)"
   ]
  },
  {
   "cell_type": "markdown",
   "metadata": {},
   "source": [
    "### Dataframes\n"
   ]
  },
  {
   "cell_type": "code",
   "execution_count": null,
   "metadata": {},
   "outputs": [],
   "source": [
    "breast_cancer_df.head()"
   ]
  },
  {
   "cell_type": "code",
   "execution_count": null,
   "metadata": {},
   "outputs": [],
   "source": [
    "type(breast_cancer_df)"
   ]
  },
  {
   "cell_type": "code",
   "execution_count": null,
   "metadata": {},
   "outputs": [],
   "source": [
    "bc_columns = [\n",
    "    'Sample_code_number',\n",
    "    'Clump_Thickness',\n",
    "    'Uniformity_of_Cell_Size',\n",
    "    'Uniformity_of_Cell_Shape',\n",
    "    'Marginal_Adhesion',\n",
    "    'Single_Epithelial_Cell_Size',\n",
    "    'Bare_Nuclei',\n",
    "    'Bland_Chromatin',\n",
    "    'Normal_Nucleoli',\n",
    "    'Mitoses',\n",
    "    'Diagnosis',\n",
    "    'group'\n",
    "]"
   ]
  },
  {
   "cell_type": "code",
   "execution_count": null,
   "metadata": {},
   "outputs": [],
   "source": [
    "breast_cancer_df.columns = bc_columns"
   ]
  },
  {
   "cell_type": "code",
   "execution_count": null,
   "metadata": {
    "scrolled": true
   },
   "outputs": [],
   "source": [
    "breast_cancer_df.head()"
   ]
  },
  {
   "cell_type": "markdown",
   "metadata": {},
   "source": [
    "### Export to CSV\n",
    "\n",
    "Ultimately, we will export a CSV of the dataframe to disk. This will make it easy to access the same data from both Python and R.\n"
   ]
  },
  {
   "cell_type": "code",
   "execution_count": null,
   "metadata": {},
   "outputs": [],
   "source": [
    "%ls"
   ]
  },
  {
   "cell_type": "code",
   "execution_count": null,
   "metadata": {},
   "outputs": [],
   "source": [
    "%mkdir -p data"
   ]
  },
  {
   "cell_type": "code",
   "execution_count": null,
   "metadata": {},
   "outputs": [],
   "source": [
    "%ls"
   ]
  },
  {
   "cell_type": "code",
   "execution_count": null,
   "metadata": {},
   "outputs": [],
   "source": [
    "breast_cancer_df.to_csv('data/breast_cancer.csv', index=False)"
   ]
  }
 ],
 "metadata": {
  "kernelspec": {
   "display_name": "Python 3",
   "language": "python",
   "name": "python3"
  },
  "language_info": {
   "codemirror_mode": {
    "name": "ipython",
    "version": 3
   },
   "file_extension": ".py",
   "mimetype": "text/x-python",
   "name": "python",
   "nbconvert_exporter": "python",
   "pygments_lexer": "ipython3",
   "version": "3.6.5"
  }
 },
 "nbformat": 4,
 "nbformat_minor": 2
}
