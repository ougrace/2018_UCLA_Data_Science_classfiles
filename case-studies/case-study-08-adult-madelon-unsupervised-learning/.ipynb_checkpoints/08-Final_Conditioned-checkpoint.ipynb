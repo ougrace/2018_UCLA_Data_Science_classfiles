{
 "cells": [
  {
   "cell_type": "code",
   "execution_count": 1,
   "metadata": {},
   "outputs": [
    {
     "name": "stdout",
     "output_type": "stream",
     "text": [
      "/home/jovyan/adult_classification_3rd_session\n"
     ]
    }
   ],
   "source": [
    "cd .."
   ]
  },
  {
   "cell_type": "code",
   "execution_count": 2,
   "metadata": {},
   "outputs": [],
   "source": [
    "%run __init__.py"
   ]
  },
  {
   "cell_type": "code",
   "execution_count": 3,
   "metadata": {},
   "outputs": [
    {
     "name": "stderr",
     "output_type": "stream",
     "text": [
      "/opt/conda/lib/python3.6/site-packages/scipy/stats/morestats.py:901: RuntimeWarning: overflow encountered in square\n",
      "  llf -= N / 2.0 * np.log(np.sum((y - y_mean)**2. / N, axis=0))\n"
     ]
    }
   ],
   "source": [
    "%run src/load_data.py"
   ]
  },
  {
   "cell_type": "code",
   "execution_count": 4,
   "metadata": {},
   "outputs": [
    {
     "name": "stdout",
     "output_type": "stream",
     "text": [
      "Variable               Type         Data/Info\n",
      "---------------------------------------------\n",
      "adult_train_df         DataFrame           age  fnlwgt  capit<...>[30162 rows x 99 columns]\n",
      "col                    str          target\n",
      "columns_with_na_vals   list         n=3\n",
      "get_ipython            function     <function get_ipython at 0x7fc374569b70>\n",
      "names                  list         n=15\n",
      "np                     module       <module 'numpy' from '/op<...>kages/numpy/__init__.py'>\n",
      "pd                     module       <module 'pandas' from '/o<...>ages/pandas/__init__.py'>\n",
      "plt                    module       <module 'matplotlib.pyplo<...>es/matplotlib/pyplot.py'>\n",
      "sns                    module       <module 'seaborn' from '/<...>ges/seaborn/__init__.py'>\n",
      "stats                  module       <module 'scipy.stats' fro<...>scipy/stats/__init__.py'>\n"
     ]
    }
   ],
   "source": [
    "%whos"
   ]
  },
  {
   "cell_type": "code",
   "execution_count": 5,
   "metadata": {},
   "outputs": [
    {
     "data": {
      "text/plain": [
       "age                                           int64\n",
       "fnlwgt                                        int64\n",
       "capital-gain                                  int64\n",
       "capital-loss                                  int64\n",
       "hours-per-week                                int64\n",
       "capital-net                                   int64\n",
       "has_capital_gain_filter_7500                   bool\n",
       "has_capital_net_filter_7500                    bool\n",
       "workclass_ Local-gov                          uint8\n",
       "workclass_ Private                            uint8\n",
       "workclass_ Self-emp-inc                       uint8\n",
       "workclass_ Self-emp-not-inc                   uint8\n",
       "workclass_ State-gov                          uint8\n",
       "workclass_ Without-pay                        uint8\n",
       "education_ 11th                               uint8\n",
       "education_ 12th                               uint8\n",
       "education_ 1st-4th                            uint8\n",
       "education_ 5th-6th                            uint8\n",
       "education_ 7th-8th                            uint8\n",
       "education_ 9th                                uint8\n",
       "education_ Assoc-acdm                         uint8\n",
       "education_ Assoc-voc                          uint8\n",
       "education_ Bachelors                          uint8\n",
       "education_ Doctorate                          uint8\n",
       "education_ HS-grad                            uint8\n",
       "education_ Masters                            uint8\n",
       "education_ Preschool                          uint8\n",
       "education_ Prof-school                        uint8\n",
       "education_ Some-college                       uint8\n",
       "marital-status_ Married-AF-spouse             uint8\n",
       "                                              ...  \n",
       "native-country_ Guatemala                     uint8\n",
       "native-country_ Haiti                         uint8\n",
       "native-country_ Holand-Netherlands            uint8\n",
       "native-country_ Honduras                      uint8\n",
       "native-country_ Hong                          uint8\n",
       "native-country_ Hungary                       uint8\n",
       "native-country_ India                         uint8\n",
       "native-country_ Iran                          uint8\n",
       "native-country_ Ireland                       uint8\n",
       "native-country_ Italy                         uint8\n",
       "native-country_ Jamaica                       uint8\n",
       "native-country_ Japan                         uint8\n",
       "native-country_ Laos                          uint8\n",
       "native-country_ Mexico                        uint8\n",
       "native-country_ Nicaragua                     uint8\n",
       "native-country_ Outlying-US(Guam-USVI-etc)    uint8\n",
       "native-country_ Peru                          uint8\n",
       "native-country_ Philippines                   uint8\n",
       "native-country_ Poland                        uint8\n",
       "native-country_ Portugal                      uint8\n",
       "native-country_ Puerto-Rico                   uint8\n",
       "native-country_ Scotland                      uint8\n",
       "native-country_ South                         uint8\n",
       "native-country_ Taiwan                        uint8\n",
       "native-country_ Thailand                      uint8\n",
       "native-country_ Trinadad&Tobago               uint8\n",
       "native-country_ United-States                 uint8\n",
       "native-country_ Vietnam                       uint8\n",
       "native-country_ Yugoslavia                    uint8\n",
       "target_ >50K                                  uint8\n",
       "dtype: object"
      ]
     },
     "execution_count": 5,
     "metadata": {},
     "output_type": "execute_result"
    }
   ],
   "source": [
    "adult_train_df.dtypes"
   ]
  },
  {
   "cell_type": "code",
   "execution_count": null,
   "metadata": {},
   "outputs": [],
   "source": []
  }
 ],
 "metadata": {
  "kernelspec": {
   "display_name": "Python 3",
   "language": "python",
   "name": "python3"
  },
  "language_info": {
   "codemirror_mode": {
    "name": "ipython",
    "version": 3
   },
   "file_extension": ".py",
   "mimetype": "text/x-python",
   "name": "python",
   "nbconvert_exporter": "python",
   "pygments_lexer": "ipython3",
   "version": "3.6.3"
  }
 },
 "nbformat": 4,
 "nbformat_minor": 2
}
