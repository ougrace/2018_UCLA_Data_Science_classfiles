{
 "cells": [
  {
   "cell_type": "code",
   "execution_count": 1,
   "metadata": {
    "scrolled": true
   },
   "outputs": [
    {
     "name": "stdout",
     "output_type": "stream",
     "text": [
      "/home/jovyan/projects/data_science/gt_ml_project_1\n"
     ]
    }
   ],
   "source": [
    "cd .."
   ]
  },
  {
   "cell_type": "code",
   "execution_count": 2,
   "metadata": {},
   "outputs": [],
   "source": [
    "%run __init__.py"
   ]
  },
  {
   "cell_type": "code",
   "execution_count": 3,
   "metadata": {
    "scrolled": true
   },
   "outputs": [],
   "source": [
    "%run __load_data__.py"
   ]
  },
  {
   "cell_type": "markdown",
   "metadata": {},
   "source": [
    "### Education Redundancy\n",
    "\n",
    "- `education-num`\n",
    "- Does `education-num` correspond one-to-one to `education`?\n",
    "\n"
   ]
  },
  {
   "cell_type": "code",
   "execution_count": 4,
   "metadata": {},
   "outputs": [
    {
     "data": {
      "text/plain": [
       "[' Some-college',\n",
       " ' Masters',\n",
       " ' Assoc-voc',\n",
       " ' HS-grad',\n",
       " ' Bachelors',\n",
       " ' 12th',\n",
       " ' 1st-4th',\n",
       " ' Assoc-acdm',\n",
       " ' 9th',\n",
       " ' Prof-school',\n",
       " ' 10th',\n",
       " ' Doctorate',\n",
       " ' 7th-8th',\n",
       " ' 11th',\n",
       " ' 5th-6th',\n",
       " ' Preschool']"
      ]
     },
     "execution_count": 4,
     "metadata": {},
     "output_type": "execute_result"
    }
   ],
   "source": [
    "list(adult_train_data['education'].unique())"
   ]
  },
  {
   "cell_type": "code",
   "execution_count": 5,
   "metadata": {},
   "outputs": [
    {
     "data": {
      "text/plain": [
       "[(0, ' '),\n",
       " (1, ' Preschool'),\n",
       " (2, ' 1st-4th'),\n",
       " (3, ' 5th-6th'),\n",
       " (4, ' 7th-8th'),\n",
       " (5, ' 9th'),\n",
       " (6, ' 10th'),\n",
       " (7, ' 11th'),\n",
       " (8, ' 12th'),\n",
       " (9, ' HS-grad'),\n",
       " (10, ' Some-college'),\n",
       " (11, ' Assoc-voc'),\n",
       " (12, ' Assoc-acdm'),\n",
       " (13, ' Bachelors'),\n",
       " (14, ' Masters'),\n",
       " (15, ' Prof-school'),\n",
       " (16, ' Doctorate')]"
      ]
     },
     "execution_count": 5,
     "metadata": {},
     "output_type": "execute_result"
    }
   ],
   "source": [
    "ed_labels =  [' ',\n",
    "              ' Preschool',\n",
    "              ' 1st-4th',\n",
    "              ' 5th-6th',\n",
    "              ' 7th-8th',\n",
    "              ' 9th',\n",
    "              ' 10th',\n",
    "              ' 11th',\n",
    "              ' 12th',\n",
    "              ' HS-grad',\n",
    "              ' Some-college',\n",
    "              ' Assoc-voc',\n",
    "              ' Assoc-acdm',\n",
    "              ' Bachelors',\n",
    "              ' Masters',\n",
    "              ' Prof-school',\n",
    "              ' Doctorate',]\n",
    "ed_labels_num = list(enumerate(ed_labels))\n",
    "ed_labels_num"
   ]
  },
  {
   "cell_type": "code",
   "execution_count": 6,
   "metadata": {
    "scrolled": false
   },
   "outputs": [],
   "source": [
    "def compare_ed_num(ednum, edlabel):    \n",
    "    is_edlabel = adult_train_data['education'] == edlabel\n",
    "    is_ednum = adult_train_data['education-num'] == ednum\n",
    "    edlabel_sum = len(adult_train_data[is_edlabel]['education'])\n",
    "    ednum_sum = len(adult_train_data[is_ednum]['education-num'])\n",
    "    edboth_sum = len(adult_train_data[is_edlabel & is_ednum])\n",
    "    return edlabel, edlabel_sum, ednum_sum, edboth_sum"
   ]
  },
  {
   "cell_type": "code",
   "execution_count": 7,
   "metadata": {},
   "outputs": [
    {
     "name": "stdout",
     "output_type": "stream",
     "text": [
      "(' ', 0, 0, 0)\n",
      "(' Preschool', 38, 38, 38)\n",
      "(' 1st-4th', 139, 139, 139)\n",
      "(' 5th-6th', 273, 273, 273)\n",
      "(' 7th-8th', 507, 507, 507)\n",
      "(' 9th', 397, 397, 397)\n",
      "(' 10th', 708, 708, 708)\n",
      "(' 11th', 905, 905, 905)\n",
      "(' 12th', 345, 345, 345)\n",
      "(' HS-grad', 8028, 8028, 8028)\n",
      "(' Some-college', 5593, 5593, 5593)\n",
      "(' Assoc-voc', 1066, 1066, 1066)\n",
      "(' Assoc-acdm', 850, 850, 850)\n",
      "(' Bachelors', 4107, 4107, 4107)\n",
      "(' Masters', 1362, 1362, 1362)\n",
      "(' Prof-school', 437, 437, 437)\n",
      "(' Doctorate', 316, 316, 316)\n"
     ]
    }
   ],
   "source": [
    "for ed_tuple in ed_labels_num:\n",
    "    print(compare_ed_num(*ed_tuple))"
   ]
  },
  {
   "cell_type": "markdown",
   "metadata": {},
   "source": [
    "##### Verified they are one-to-one\n",
    "\n",
    "Drop the feature. \n",
    "\n",
    "This is done in `__load_data__.py`."
   ]
  },
  {
   "cell_type": "markdown",
   "metadata": {},
   "source": [
    "### One-Hot Encode Categorical Features"
   ]
  },
  {
   "cell_type": "code",
   "execution_count": 8,
   "metadata": {},
   "outputs": [
    {
     "data": {
      "text/plain": [
       "age                  int64\n",
       "workclass         category\n",
       "fnlwgt               int64\n",
       "education         category\n",
       "education-num        int64\n",
       "marital-status    category\n",
       "occupation        category\n",
       "relationship      category\n",
       "race              category\n",
       "sex               category\n",
       "capital-gain         int64\n",
       "capital-loss         int64\n",
       "hours-per-week       int64\n",
       "native-country    category\n",
       "dtype: object"
      ]
     },
     "execution_count": 8,
     "metadata": {},
     "output_type": "execute_result"
    }
   ],
   "source": [
    "adult_train_data.dtypes"
   ]
  },
  {
   "cell_type": "code",
   "execution_count": 9,
   "metadata": {},
   "outputs": [],
   "source": [
    "adult_train_data = pd.get_dummies(adult_train_data, drop_first=True)\n",
    "adult_test_data = pd.get_dummies(adult_test_data, drop_first=True)"
   ]
  },
  {
   "cell_type": "code",
   "execution_count": 10,
   "metadata": {},
   "outputs": [
    {
     "data": {
      "text/plain": [
       "array([dtype('int64'), dtype('uint8')], dtype=object)"
      ]
     },
     "execution_count": 10,
     "metadata": {},
     "output_type": "execute_result"
    }
   ],
   "source": [
    "adult_train_data.dtypes.unique()"
   ]
  },
  {
   "cell_type": "code",
   "execution_count": 11,
   "metadata": {},
   "outputs": [],
   "source": [
    "adult_train_feature_names = set(adult_train_data.columns)\n",
    "adult_test_feature_names = set(adult_test_data.columns)"
   ]
  },
  {
   "cell_type": "code",
   "execution_count": 12,
   "metadata": {},
   "outputs": [
    {
     "data": {
      "text/plain": [
       "{'native-country_ Holand-Netherlands'}"
      ]
     },
     "execution_count": 12,
     "metadata": {},
     "output_type": "execute_result"
    }
   ],
   "source": [
    "adult_train_feature_names - adult_test_feature_names"
   ]
  },
  {
   "cell_type": "code",
   "execution_count": 13,
   "metadata": {},
   "outputs": [
    {
     "data": {
      "text/plain": [
       "set()"
      ]
     },
     "execution_count": 13,
     "metadata": {},
     "output_type": "execute_result"
    }
   ],
   "source": [
    "adult_test_feature_names - adult_train_feature_names"
   ]
  },
  {
   "cell_type": "code",
   "execution_count": null,
   "metadata": {},
   "outputs": [],
   "source": []
  }
 ],
 "metadata": {
  "kernelspec": {
   "display_name": "Python 3",
   "language": "python",
   "name": "python3"
  },
  "language_info": {
   "codemirror_mode": {
    "name": "ipython",
    "version": 3
   },
   "file_extension": ".py",
   "mimetype": "text/x-python",
   "name": "python",
   "nbconvert_exporter": "python",
   "pygments_lexer": "ipython3",
   "version": "3.6.3"
  }
 },
 "nbformat": 4,
 "nbformat_minor": 2
}
