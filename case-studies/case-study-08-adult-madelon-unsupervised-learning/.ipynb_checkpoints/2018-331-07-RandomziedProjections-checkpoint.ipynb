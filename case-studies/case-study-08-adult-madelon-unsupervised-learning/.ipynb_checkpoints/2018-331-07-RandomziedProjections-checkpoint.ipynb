{
 "cells": [
  {
   "cell_type": "code",
   "execution_count": 1,
   "metadata": {},
   "outputs": [
    {
     "name": "stdout",
     "output_type": "stream",
     "text": [
      "/Users/Amar/Dropbox/Computer_Science/GATECH-OMSCS/7641_ML/gatech-p3\n"
     ]
    }
   ],
   "source": [
    "cd .."
   ]
  },
  {
   "cell_type": "code",
   "execution_count": 2,
   "metadata": {},
   "outputs": [],
   "source": [
    "%run __init__.py\n",
    "%run src/load_data.py\n",
    "sns.set()"
   ]
  },
  {
   "cell_type": "code",
   "execution_count": 3,
   "metadata": {},
   "outputs": [],
   "source": [
    "adult_train_f = data['adult']['train']['engineered']\n",
    "adult_test_f = data['adult']['test']['engineered']\n",
    "adult_train_label = data['adult']['train']['labels']\n",
    "adult_test_label = data['adult']['test']['labels']\n",
    "\n",
    "madelon_train_label = data['madelon']['train']['labels']\n",
    "madelon_test_label = data['madelon']['test']['labels']\n",
    "madelon_train_f = data['madelon']['train']['raw_data']\n",
    "madelon_test_f = data['madelon']['test']['raw_data']"
   ]
  },
  {
   "cell_type": "code",
   "execution_count": 4,
   "metadata": {},
   "outputs": [],
   "source": [
    "## Get raw data, and drop columns for adult\n",
    "\n",
    "adult_train_no_dummy = data['adult']['train'][\"raw_data\"]\n",
    "adult_train_no_dummy.drop('education-num', axis=1, inplace = True)\n",
    "adult_train_no_dummy.drop('fnlwgt', axis=1, inplace = True)\n",
    "\n",
    "educ = {'education' :{\n",
    "        \" Preschool\" :1,\n",
    "        \" 1st-4th\" :2,\n",
    "        \" 5th-6th\" :3, \n",
    "        \" 7th-8th\" :4,\n",
    "        \" 9th\" :5, \n",
    "        \" 10th\" :6, \n",
    "        \" 11th\" :7,\n",
    "        \" 12th\" :8,\n",
    "        \" HS-grad\" :9, \n",
    "        \" Assoc-voc\" :10, \n",
    "        \" Assoc-acdm\" : 10,\n",
    "        \" Some-college\" : 9.5, \n",
    "        \" Prof-school\" : 11,\n",
    "        \" Bachelors\" : 12,\n",
    "        \" Masters\" : 13, \n",
    "        \" Doctorate\" : 14,}}\n",
    "        \n",
    "adult_train_no_dummy.replace(educ, inplace = True)"
   ]
  },
  {
   "cell_type": "code",
   "execution_count": 5,
   "metadata": {},
   "outputs": [],
   "source": [
    "madelon_train_labels.replace(-1,0, inplace = True)\n",
    "madelon_test_labels.replace(-1,0, inplace= True)"
   ]
  },
  {
   "cell_type": "code",
   "execution_count": 6,
   "metadata": {},
   "outputs": [],
   "source": [
    "from sklearn.preprocessing import StandardScaler\n",
    "scaler = StandardScaler()\n",
    "adult_train_f = scaler.fit_transform(adult_train_f)\n",
    "adult_test_f = scaler.transform(adult_test_f)\n",
    "\n",
    "scaler = StandardScaler()\n",
    "cont_columns = ['age','education','capital-gain','capital-loss','hours-per-week']\n",
    "scaled = scaler.fit_transform(adult_train_no_dummy[cont_columns])\n",
    "adult_train_no_dummy[cont_columns] = scaled\n",
    "\n",
    "scaler = StandardScaler()\n",
    "madelon_train_f = scaler.fit_transform(madelon_train_f)\n",
    "madelon_test_f = scaler.transform(madelon_test_f)\n",
    "\n"
   ]
  },
  {
   "cell_type": "markdown",
   "metadata": {},
   "source": [
    "- Can you describe how the data look in the new spaces you created with the various aglorithms? For PCA, what is the distribution of eigenvalues? For ICA, how kurtotic are the distributions? Do the projection axes for ICA seem to capture anything \"meaningful\"? Assuming you only generate k projections (i.e., you do dimensionality reduction), how well is the data reconstructed by the randomized projections? PCA? How much variation did you get when you re-ran your RP several times (I know I don't have to mention that you might want to run RP many times to see what happens, but I hope you forgive me)?"
   ]
  },
  {
   "cell_type": "code",
   "execution_count": null,
   "metadata": {},
   "outputs": [],
   "source": []
  },
  {
   "cell_type": "code",
   "execution_count": 12,
   "metadata": {},
   "outputs": [],
   "source": [
    "from sklearn.random_projection import SparseRandomProjection"
   ]
  },
  {
   "cell_type": "code",
   "execution_count": 19,
   "metadata": {},
   "outputs": [],
   "source": [
    "srp_madelon = SparseRandomProjection(n_components=100)"
   ]
  },
  {
   "cell_type": "code",
   "execution_count": 20,
   "metadata": {},
   "outputs": [],
   "source": [
    "new_features = srp_madelon.fit_transform(madelon_train_f)"
   ]
  },
  {
   "cell_type": "code",
   "execution_count": 21,
   "metadata": {},
   "outputs": [
    {
     "data": {
      "text/plain": [
       "(2000, 100)"
      ]
     },
     "execution_count": 21,
     "metadata": {},
     "output_type": "execute_result"
    }
   ],
   "source": [
    "new_features.shape"
   ]
  },
  {
   "cell_type": "code",
   "execution_count": 22,
   "metadata": {},
   "outputs": [],
   "source": [
    "import scipy.sparse as sps\n",
    "from scipy.linalg import pinv"
   ]
  },
  {
   "cell_type": "code",
   "execution_count": 23,
   "metadata": {},
   "outputs": [],
   "source": [
    "def reconstructionError(projections,X):\n",
    "    W = projections.components_\n",
    "    if sps.issparse(W):\n",
    "        W = W.todense()\n",
    "    p = pinv(W)\n",
    "    reconstructed = ((p@W)@(X.T)).T # Unproject projected data\n",
    "    errors = np.square(X-reconstructed)\n",
    "    return np.nanmean(errors)"
   ]
  },
  {
   "cell_type": "code",
   "execution_count": 24,
   "metadata": {},
   "outputs": [
    {
     "data": {
      "text/plain": [
       "0.79983706485945982"
      ]
     },
     "execution_count": 24,
     "metadata": {},
     "output_type": "execute_result"
    }
   ],
   "source": [
    "reconstructionError(srp_madelon, madelon_train_f)"
   ]
  },
  {
   "cell_type": "code",
   "execution_count": null,
   "metadata": {},
   "outputs": [],
   "source": []
  }
 ],
 "metadata": {
  "kernelspec": {
   "display_name": "Python 3",
   "language": "python",
   "name": "python3"
  },
  "language_info": {
   "codemirror_mode": {
    "name": "ipython",
    "version": 3
   },
   "file_extension": ".py",
   "mimetype": "text/x-python",
   "name": "python",
   "nbconvert_exporter": "python",
   "pygments_lexer": "ipython3",
   "version": "3.6.4"
  }
 },
 "nbformat": 4,
 "nbformat_minor": 2
}
