{
 "cells": [
  {
   "cell_type": "markdown",
   "metadata": {},
   "source": [
    "How do you know when the pasta is cooked?\n",
    "\n",
    "Spark metaphor\n",
    "M4.xxxxx metaphor\n",
    "\n",
    "Are these better than simply tasting the pasta?"
   ]
  },
  {
   "cell_type": "code",
   "execution_count": 1,
   "metadata": {},
   "outputs": [
    {
     "name": "stdout",
     "output_type": "stream",
     "text": [
      "/home/jovyan/adult_classification_3rd_session\n"
     ]
    }
   ],
   "source": [
    "cd .."
   ]
  },
  {
   "cell_type": "code",
   "execution_count": 2,
   "metadata": {},
   "outputs": [
    {
     "data": {
      "text/plain": [
       "'/home/jovyan/adult_classification_3rd_session'"
      ]
     },
     "execution_count": 2,
     "metadata": {},
     "output_type": "execute_result"
    }
   ],
   "source": [
    "pwd"
   ]
  },
  {
   "cell_type": "code",
   "execution_count": 3,
   "metadata": {},
   "outputs": [],
   "source": [
    "%run __init__.py"
   ]
  },
  {
   "cell_type": "code",
   "execution_count": 4,
   "metadata": {},
   "outputs": [],
   "source": [
    "%matplotlib inline"
   ]
  },
  {
   "cell_type": "code",
   "execution_count": 5,
   "metadata": {},
   "outputs": [],
   "source": [
    "adult_train_df = pd.read_pickle('data/adult_train.p')"
   ]
  },
  {
   "cell_type": "markdown",
   "metadata": {},
   "source": [
    "# Where sampling came from\n",
    "limitations on computational power\n",
    "\n",
    "toward boiling down a great deal of information to a few data points -> assume the data has a normal distribution, now you are representing it using mean and variance alone\n",
    "\n",
    "Techniques\n",
    "1.  Simple random sample with replacement"
   ]
  },
  {
   "cell_type": "markdown",
   "metadata": {},
   "source": [
    "# Modern Data\n",
    "\n",
    "No limitations on computational power\n",
    "\n",
    "\"He in return asked me whether I have forgotten statistics after joining the corporate. Reasons being, I could have just taken a random sample of 30-40% of the data to get my answers and not worry about the rest of the data at all.\"\n",
    "\n",
    "demonstrate with Adult"
   ]
  },
  {
   "cell_type": "markdown",
   "metadata": {},
   "source": [
    "## The train-test split is sampling"
   ]
  },
  {
   "cell_type": "markdown",
   "metadata": {},
   "source": [
    "# Conclusion\n",
    "When you have 100 records the difference between 40 records and 70 records is critical. \n",
    "\n",
    "When you have 100000 records is the difference between 40000 and 70000 records important?"
   ]
  },
  {
   "cell_type": "code",
   "execution_count": null,
   "metadata": {},
   "outputs": [],
   "source": []
  }
 ],
 "metadata": {
  "kernelspec": {
   "display_name": "Python 3",
   "language": "python",
   "name": "python3"
  },
  "language_info": {
   "codemirror_mode": {
    "name": "ipython",
    "version": 3
   },
   "file_extension": ".py",
   "mimetype": "text/x-python",
   "name": "python",
   "nbconvert_exporter": "python",
   "pygments_lexer": "ipython3",
   "version": "3.6.3"
  }
 },
 "nbformat": 4,
 "nbformat_minor": 2
}
