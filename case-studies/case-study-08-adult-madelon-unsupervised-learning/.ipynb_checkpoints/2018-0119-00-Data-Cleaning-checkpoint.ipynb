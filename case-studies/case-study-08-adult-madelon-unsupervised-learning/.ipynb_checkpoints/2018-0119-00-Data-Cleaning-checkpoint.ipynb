{
 "cells": [
  {
   "cell_type": "code",
   "execution_count": 1,
   "metadata": {},
   "outputs": [
    {
     "name": "stdout",
     "output_type": "stream",
     "text": [
      "/home/jovyan\n"
     ]
    }
   ],
   "source": [
    "cd .."
   ]
  },
  {
   "cell_type": "code",
   "execution_count": 2,
   "metadata": {},
   "outputs": [],
   "source": [
    "%run __init__.py"
   ]
  },
  {
   "cell_type": "code",
   "execution_count": 3,
   "metadata": {},
   "outputs": [
    {
     "name": "stdout",
     "output_type": "stream",
     "text": [
      "adult.data.csv       adult_train_labels.p   madelon_train_labels.p\r\n",
      "adult.names.txt      _Dataset.pdf           madelon_train.labels.txt\r\n",
      "adult.test.csv       madelon.param.txt      madelon_valid.data.txt\r\n",
      "adult_test_data.p    madelon_test_data.p    madelon_valid.labels.txt\r\n",
      "adult_test_labels.p  madelon_test.data.txt\r\n",
      "adult_train_data.p   madelon_test_labels.p\r\n"
     ]
    }
   ],
   "source": [
    "ls data"
   ]
  },
  {
   "cell_type": "markdown",
   "metadata": {},
   "source": [
    "## Loading the Adult Dataset"
   ]
  },
  {
   "cell_type": "code",
   "execution_count": 4,
   "metadata": {},
   "outputs": [],
   "source": [
    "adult_feature_names = ['age', 'workclass', 'fnlwgt', 'education', 'education-num', \n",
    "                       'marital-status', 'occupation', 'relationship', \n",
    "                       'race', 'sex', 'capital-gain', 'capital-loss', \n",
    "                       'hours-per-week', 'native-country', 'target_class']"
   ]
  },
  {
   "cell_type": "code",
   "execution_count": 5,
   "metadata": {},
   "outputs": [],
   "source": [
    "adult_df = pd.read_csv('data/adult.data.csv', header=None)\n",
    "adult_df.columns = adult_feature_names\n",
    "adult_data_df = adult_df.drop('target_class', axis=1)\n",
    "adult_labels_srs = adult_df['target_class']"
   ]
  },
  {
   "cell_type": "code",
   "execution_count": 6,
   "metadata": {},
   "outputs": [
    {
     "data": {
      "text/plain": [
       "Index                 80\n",
       "age               260488\n",
       "workclass         260488\n",
       "fnlwgt            260488\n",
       "education         260488\n",
       "education-num     260488\n",
       "marital-status    260488\n",
       "occupation        260488\n",
       "relationship      260488\n",
       "race              260488\n",
       "sex               260488\n",
       "capital-gain      260488\n",
       "capital-loss      260488\n",
       "hours-per-week    260488\n",
       "native-country    260488\n",
       "target_class      260488\n",
       "dtype: int64"
      ]
     },
     "execution_count": 6,
     "metadata": {},
     "output_type": "execute_result"
    }
   ],
   "source": [
    "adult_df.memory_usage()"
   ]
  },
  {
   "cell_type": "markdown",
   "metadata": {},
   "source": [
    "#### Encode Label Data"
   ]
  },
  {
   "cell_type": "code",
   "execution_count": 7,
   "metadata": {},
   "outputs": [
    {
     "data": {
      "text/plain": [
       "array([' <=50K', ' >50K'], dtype=object)"
      ]
     },
     "execution_count": 7,
     "metadata": {},
     "output_type": "execute_result"
    }
   ],
   "source": [
    "adult_labels_srs.unique()"
   ]
  },
  {
   "cell_type": "code",
   "execution_count": 8,
   "metadata": {},
   "outputs": [],
   "source": [
    "from sklearn.preprocessing import LabelEncoder\n",
    "adult_labels_srs = pd.Series(LabelEncoder().fit_transform(adult_labels_srs))"
   ]
  },
  {
   "cell_type": "code",
   "execution_count": 9,
   "metadata": {},
   "outputs": [
    {
     "data": {
      "text/plain": [
       "array([0, 1])"
      ]
     },
     "execution_count": 9,
     "metadata": {},
     "output_type": "execute_result"
    }
   ],
   "source": [
    "adult_labels_srs.unique()"
   ]
  },
  {
   "cell_type": "markdown",
   "metadata": {},
   "source": [
    "#### Display Distribution of Classes"
   ]
  },
  {
   "cell_type": "code",
   "execution_count": 10,
   "metadata": {},
   "outputs": [
    {
     "data": {
      "image/png": "[encoded data removed]",
      "text/plain": [
       "<matplotlib.figure.Figure at 0x7f8496b677f0>"
      ]
     },
     "metadata": {},
     "output_type": "display_data"
    }
   ],
   "source": [
    "plt.hist(adult_labels_srs);"
   ]
  },
  {
   "cell_type": "markdown",
   "metadata": {},
   "source": [
    "#### Set Aside Test Data"
   ]
  },
  {
   "cell_type": "code",
   "execution_count": 11,
   "metadata": {},
   "outputs": [],
   "source": [
    "from sklearn.model_selection import train_test_split"
   ]
  },
  {
   "cell_type": "code",
   "execution_count": 12,
   "metadata": {},
   "outputs": [],
   "source": [
    "adult_train_data, \\\n",
    "    adult_test_data, \\\n",
    "    adult_train_labels, \\\n",
    "    adult_test_labels = train_test_split(adult_data_df, adult_labels_srs, test_size=0.23, \n",
    "                                         random_state=42, stratify=adult_labels_srs)"
   ]
  },
  {
   "cell_type": "code",
   "execution_count": 13,
   "metadata": {},
   "outputs": [],
   "source": [
    "adult_train_data = adult_train_data.copy()\n",
    "adult_test_data = adult_test_data.copy()\n",
    "adult_train_labels = adult_train_labels.copy()\n",
    "adult_test_labels = adult_test_labels.copy()"
   ]
  },
  {
   "cell_type": "markdown",
   "metadata": {},
   "source": [
    "#### Distribution of Target Class"
   ]
  },
  {
   "cell_type": "code",
   "execution_count": 14,
   "metadata": {},
   "outputs": [
    {
     "data": {
      "text/plain": [
       "<matplotlib.legend.Legend at 0x7f8492341f60>"
      ]
     },
     "execution_count": 14,
     "metadata": {},
     "output_type": "execute_result"
    },
    {
     "data": {
      "image/png": "[encoded data removed]",
      "text/plain": [
       "<matplotlib.figure.Figure at 0x7f8492d661d0>"
      ]
     },
     "metadata": {},
     "output_type": "display_data"
    }
   ],
   "source": [
    "fig = plt.figure(figsize=(12,4))\n",
    "fig.add_subplot(1,2,1)\n",
    "plt.hist(adult_train_labels, label='train')\n",
    "plt.hist(adult_test_labels, label='test')\n",
    "plt.legend()\n",
    "fig.add_subplot(1,2,2)\n",
    "sns.distplot(adult_train_labels, label='train')\n",
    "sns.distplot(adult_test_labels, label='test')\n",
    "plt.legend()"
   ]
  },
  {
   "cell_type": "markdown",
   "metadata": {},
   "source": [
    "#### Shape of Data"
   ]
  },
  {
   "cell_type": "code",
   "execution_count": 15,
   "metadata": {},
   "outputs": [
    {
     "data": {
      "text/plain": [
       "((25071, 14), (7490, 14), (25071,), (7490,))"
      ]
     },
     "execution_count": 15,
     "metadata": {},
     "output_type": "execute_result"
    }
   ],
   "source": [
    "(adult_train_data.shape,\n",
    " adult_test_data.shape,\n",
    " adult_train_labels.shape,\n",
    " adult_test_labels.shape)"
   ]
  },
  {
   "cell_type": "markdown",
   "metadata": {},
   "source": [
    "#### Sample of Data"
   ]
  },
  {
   "cell_type": "code",
   "execution_count": 16,
   "metadata": {},
   "outputs": [
    {
     "data": {
      "text/html": [
       "<div>\n",
       "<table border=\"1\" class=\"dataframe\">\n",
       "  <thead>\n",
       "    <tr style=\"text-align: right;\">\n",
       "      <th></th>\n",
       "      <th>age</th>\n",
       "      <th>workclass</th>\n",
       "      <th>fnlwgt</th>\n",
       "      <th>education</th>\n",
       "      <th>education-num</th>\n",
       "      <th>marital-status</th>\n",
       "      <th>occupation</th>\n",
       "      <th>relationship</th>\n",
       "      <th>race</th>\n",
       "      <th>sex</th>\n",
       "      <th>capital-gain</th>\n",
       "      <th>capital-loss</th>\n",
       "      <th>hours-per-week</th>\n",
       "      <th>native-country</th>\n",
       "    </tr>\n",
       "  </thead>\n",
       "  <tbody>\n",
       "    <tr>\n",
       "      <th>19733</th>\n",
       "      <td>58</td>\n",
       "      <td>Federal-gov</td>\n",
       "      <td>244830</td>\n",
       "      <td>Bachelors</td>\n",
       "      <td>13</td>\n",
       "      <td>Separated</td>\n",
       "      <td>Prof-specialty</td>\n",
       "      <td>Not-in-family</td>\n",
       "      <td>White</td>\n",
       "      <td>Male</td>\n",
       "      <td>4787</td>\n",
       "      <td>0</td>\n",
       "      <td>40</td>\n",
       "      <td>United-States</td>\n",
       "    </tr>\n",
       "    <tr>\n",
       "      <th>24158</th>\n",
       "      <td>21</td>\n",
       "      <td>Private</td>\n",
       "      <td>25265</td>\n",
       "      <td>Assoc-voc</td>\n",
       "      <td>11</td>\n",
       "      <td>Never-married</td>\n",
       "      <td>Machine-op-inspct</td>\n",
       "      <td>Not-in-family</td>\n",
       "      <td>White</td>\n",
       "      <td>Male</td>\n",
       "      <td>0</td>\n",
       "      <td>0</td>\n",
       "      <td>30</td>\n",
       "      <td>United-States</td>\n",
       "    </tr>\n",
       "    <tr>\n",
       "      <th>27865</th>\n",
       "      <td>38</td>\n",
       "      <td>Private</td>\n",
       "      <td>111128</td>\n",
       "      <td>Assoc-acdm</td>\n",
       "      <td>12</td>\n",
       "      <td>Married-civ-spouse</td>\n",
       "      <td>Exec-managerial</td>\n",
       "      <td>Husband</td>\n",
       "      <td>White</td>\n",
       "      <td>Male</td>\n",
       "      <td>0</td>\n",
       "      <td>0</td>\n",
       "      <td>40</td>\n",
       "      <td>United-States</td>\n",
       "    </tr>\n",
       "    <tr>\n",
       "      <th>31320</th>\n",
       "      <td>24</td>\n",
       "      <td>Private</td>\n",
       "      <td>103064</td>\n",
       "      <td>Bachelors</td>\n",
       "      <td>13</td>\n",
       "      <td>Never-married</td>\n",
       "      <td>Tech-support</td>\n",
       "      <td>Not-in-family</td>\n",
       "      <td>White</td>\n",
       "      <td>Female</td>\n",
       "      <td>3674</td>\n",
       "      <td>0</td>\n",
       "      <td>40</td>\n",
       "      <td>United-States</td>\n",
       "    </tr>\n",
       "  </tbody>\n",
       "</table>\n",
       "</div>"
      ],
      "text/plain": [
       "       age     workclass  fnlwgt    education  education-num  \\\n",
       "19733   58   Federal-gov  244830    Bachelors             13   \n",
       "24158   21       Private   25265    Assoc-voc             11   \n",
       "27865   38       Private  111128   Assoc-acdm             12   \n",
       "31320   24       Private  103064    Bachelors             13   \n",
       "\n",
       "            marital-status          occupation    relationship    race  \\\n",
       "19733            Separated      Prof-specialty   Not-in-family   White   \n",
       "24158        Never-married   Machine-op-inspct   Not-in-family   White   \n",
       "27865   Married-civ-spouse     Exec-managerial         Husband   White   \n",
       "31320        Never-married        Tech-support   Not-in-family   White   \n",
       "\n",
       "           sex  capital-gain  capital-loss  hours-per-week  native-country  \n",
       "19733     Male          4787             0              40   United-States  \n",
       "24158     Male             0             0              30   United-States  \n",
       "27865     Male             0             0              40   United-States  \n",
       "31320   Female          3674             0              40   United-States  "
      ]
     },
     "metadata": {},
     "output_type": "display_data"
    },
    {
     "data": {
      "text/html": [
       "<div>\n",
       "<table border=\"1\" class=\"dataframe\">\n",
       "  <thead>\n",
       "    <tr style=\"text-align: right;\">\n",
       "      <th></th>\n",
       "      <th>age</th>\n",
       "      <th>workclass</th>\n",
       "      <th>fnlwgt</th>\n",
       "      <th>education</th>\n",
       "      <th>education-num</th>\n",
       "      <th>marital-status</th>\n",
       "      <th>occupation</th>\n",
       "      <th>relationship</th>\n",
       "      <th>race</th>\n",
       "      <th>sex</th>\n",
       "      <th>capital-gain</th>\n",
       "      <th>capital-loss</th>\n",
       "      <th>hours-per-week</th>\n",
       "      <th>native-country</th>\n",
       "    </tr>\n",
       "  </thead>\n",
       "  <tbody>\n",
       "    <tr>\n",
       "      <th>7292</th>\n",
       "      <td>33</td>\n",
       "      <td>Private</td>\n",
       "      <td>150570</td>\n",
       "      <td>Bachelors</td>\n",
       "      <td>13</td>\n",
       "      <td>Married-civ-spouse</td>\n",
       "      <td>Sales</td>\n",
       "      <td>Husband</td>\n",
       "      <td>White</td>\n",
       "      <td>Male</td>\n",
       "      <td>0</td>\n",
       "      <td>0</td>\n",
       "      <td>40</td>\n",
       "      <td>United-States</td>\n",
       "    </tr>\n",
       "    <tr>\n",
       "      <th>24130</th>\n",
       "      <td>37</td>\n",
       "      <td>Private</td>\n",
       "      <td>199251</td>\n",
       "      <td>Some-college</td>\n",
       "      <td>10</td>\n",
       "      <td>Married-civ-spouse</td>\n",
       "      <td>Other-service</td>\n",
       "      <td>Wife</td>\n",
       "      <td>White</td>\n",
       "      <td>Female</td>\n",
       "      <td>0</td>\n",
       "      <td>0</td>\n",
       "      <td>40</td>\n",
       "      <td>United-States</td>\n",
       "    </tr>\n",
       "    <tr>\n",
       "      <th>12174</th>\n",
       "      <td>52</td>\n",
       "      <td>State-gov</td>\n",
       "      <td>125796</td>\n",
       "      <td>Masters</td>\n",
       "      <td>14</td>\n",
       "      <td>Married-civ-spouse</td>\n",
       "      <td>Prof-specialty</td>\n",
       "      <td>Wife</td>\n",
       "      <td>Black</td>\n",
       "      <td>Female</td>\n",
       "      <td>0</td>\n",
       "      <td>1848</td>\n",
       "      <td>40</td>\n",
       "      <td>United-States</td>\n",
       "    </tr>\n",
       "    <tr>\n",
       "      <th>9560</th>\n",
       "      <td>42</td>\n",
       "      <td>Local-gov</td>\n",
       "      <td>351161</td>\n",
       "      <td>Some-college</td>\n",
       "      <td>10</td>\n",
       "      <td>Divorced</td>\n",
       "      <td>Craft-repair</td>\n",
       "      <td>Not-in-family</td>\n",
       "      <td>White</td>\n",
       "      <td>Male</td>\n",
       "      <td>0</td>\n",
       "      <td>0</td>\n",
       "      <td>40</td>\n",
       "      <td>United-States</td>\n",
       "    </tr>\n",
       "  </tbody>\n",
       "</table>\n",
       "</div>"
      ],
      "text/plain": [
       "       age   workclass  fnlwgt      education  education-num  \\\n",
       "7292    33     Private  150570      Bachelors             13   \n",
       "24130   37     Private  199251   Some-college             10   \n",
       "12174   52   State-gov  125796        Masters             14   \n",
       "9560    42   Local-gov  351161   Some-college             10   \n",
       "\n",
       "            marital-status       occupation    relationship    race      sex  \\\n",
       "7292    Married-civ-spouse            Sales         Husband   White     Male   \n",
       "24130   Married-civ-spouse    Other-service            Wife   White   Female   \n",
       "12174   Married-civ-spouse   Prof-specialty            Wife   Black   Female   \n",
       "9560              Divorced     Craft-repair   Not-in-family   White     Male   \n",
       "\n",
       "       capital-gain  capital-loss  hours-per-week  native-country  \n",
       "7292              0             0              40   United-States  \n",
       "24130             0             0              40   United-States  \n",
       "12174             0          1848              40   United-States  \n",
       "9560              0             0              40   United-States  "
      ]
     },
     "metadata": {},
     "output_type": "display_data"
    }
   ],
   "source": [
    "display(adult_train_data.sample(4))\n",
    "display(adult_test_data.sample(4))"
   ]
  },
  {
   "cell_type": "markdown",
   "metadata": {},
   "source": [
    "## Loading the Madelon Dataset"
   ]
  },
  {
   "cell_type": "markdown",
   "metadata": {},
   "source": [
    "#### Training Data"
   ]
  },
  {
   "cell_type": "code",
   "execution_count": 18,
   "metadata": {},
   "outputs": [],
   "source": [
    "madelon_train_data = pd.read_csv('data/madelon_train.data.txt', header=None, sep=\" \")\n",
    "madelon_train_data.drop(500, axis=1, inplace=True)\n",
    "madelon_train_labels = pd.read_csv('data/madelon_train.labels.txt', header=None)[0]"
   ]
  },
  {
   "cell_type": "markdown",
   "metadata": {},
   "source": [
    "#### Test Data"
   ]
  },
  {
   "cell_type": "code",
   "execution_count": 19,
   "metadata": {},
   "outputs": [],
   "source": [
    "madelon_test_data = pd.read_csv('data/madelon_valid.data.txt', header=None, sep=\" \")\n",
    "madelon_test_data.drop(500, axis=1, inplace=True)\n",
    "madelon_test_labels = pd.read_csv('data/madelon_valid.labels.txt', header=None)[0]"
   ]
  },
  {
   "cell_type": "markdown",
   "metadata": {},
   "source": [
    "#### Distribution of Target Class"
   ]
  },
  {
   "cell_type": "code",
   "execution_count": 20,
   "metadata": {},
   "outputs": [
    {
     "data": {
      "text/plain": [
       "<matplotlib.legend.Legend at 0x7f84910d4f98>"
      ]
     },
     "execution_count": 20,
     "metadata": {},
     "output_type": "execute_result"
    },
    {
     "data": {
      "image/png": "[encoded data removed]",
      "text/plain": [
       "<matplotlib.figure.Figure at 0x7f8491f8b588>"
      ]
     },
     "metadata": {},
     "output_type": "display_data"
    }
   ],
   "source": [
    "fig = plt.figure(figsize=(12,4))\n",
    "fig.add_subplot(1,2,1)\n",
    "plt.hist(madelon_train_labels, label='train')\n",
    "plt.hist(madelon_test_labels, label='test')\n",
    "plt.legend()\n",
    "fig.add_subplot(1,2,2)\n",
    "sns.distplot(madelon_train_labels, label='train')\n",
    "sns.distplot(madelon_test_labels, label='test')\n",
    "plt.legend()"
   ]
  },
  {
   "cell_type": "markdown",
   "metadata": {},
   "source": [
    "#### Data Shape"
   ]
  },
  {
   "cell_type": "code",
   "execution_count": 21,
   "metadata": {},
   "outputs": [
    {
     "data": {
      "text/plain": [
       "((2000, 500), (2000,), (600, 500), (600,))"
      ]
     },
     "execution_count": 21,
     "metadata": {},
     "output_type": "execute_result"
    }
   ],
   "source": [
    "(madelon_train_data.shape, \n",
    " madelon_train_labels.shape,\n",
    " madelon_test_data.shape,\n",
    " madelon_test_labels.shape)"
   ]
  },
  {
   "cell_type": "markdown",
   "metadata": {},
   "source": [
    "#### Samples of Each Set"
   ]
  },
  {
   "cell_type": "code",
   "execution_count": 22,
   "metadata": {},
   "outputs": [
    {
     "data": {
      "text/html": [
       "<div>\n",
       "<table border=\"1\" class=\"dataframe\">\n",
       "  <thead>\n",
       "    <tr style=\"text-align: right;\">\n",
       "      <th></th>\n",
       "      <th>0</th>\n",
       "      <th>1</th>\n",
       "      <th>2</th>\n",
       "      <th>3</th>\n",
       "      <th>4</th>\n",
       "      <th>5</th>\n",
       "      <th>6</th>\n",
       "      <th>7</th>\n",
       "      <th>8</th>\n",
       "      <th>9</th>\n",
       "      <th>...</th>\n",
       "      <th>490</th>\n",
       "      <th>491</th>\n",
       "      <th>492</th>\n",
       "      <th>493</th>\n",
       "      <th>494</th>\n",
       "      <th>495</th>\n",
       "      <th>496</th>\n",
       "      <th>497</th>\n",
       "      <th>498</th>\n",
       "      <th>499</th>\n",
       "    </tr>\n",
       "  </thead>\n",
       "  <tbody>\n",
       "    <tr>\n",
       "      <th>773</th>\n",
       "      <td>483</td>\n",
       "      <td>492</td>\n",
       "      <td>504</td>\n",
       "      <td>488</td>\n",
       "      <td>491</td>\n",
       "      <td>490</td>\n",
       "      <td>458</td>\n",
       "      <td>477</td>\n",
       "      <td>479</td>\n",
       "      <td>487</td>\n",
       "      <td>...</td>\n",
       "      <td>459</td>\n",
       "      <td>481</td>\n",
       "      <td>457</td>\n",
       "      <td>568</td>\n",
       "      <td>497</td>\n",
       "      <td>549</td>\n",
       "      <td>485</td>\n",
       "      <td>459</td>\n",
       "      <td>476</td>\n",
       "      <td>473</td>\n",
       "    </tr>\n",
       "    <tr>\n",
       "      <th>1890</th>\n",
       "      <td>485</td>\n",
       "      <td>493</td>\n",
       "      <td>534</td>\n",
       "      <td>479</td>\n",
       "      <td>518</td>\n",
       "      <td>488</td>\n",
       "      <td>462</td>\n",
       "      <td>476</td>\n",
       "      <td>504</td>\n",
       "      <td>479</td>\n",
       "      <td>...</td>\n",
       "      <td>514</td>\n",
       "      <td>479</td>\n",
       "      <td>462</td>\n",
       "      <td>599</td>\n",
       "      <td>532</td>\n",
       "      <td>489</td>\n",
       "      <td>465</td>\n",
       "      <td>475</td>\n",
       "      <td>485</td>\n",
       "      <td>456</td>\n",
       "    </tr>\n",
       "    <tr>\n",
       "      <th>791</th>\n",
       "      <td>485</td>\n",
       "      <td>482</td>\n",
       "      <td>531</td>\n",
       "      <td>472</td>\n",
       "      <td>500</td>\n",
       "      <td>479</td>\n",
       "      <td>520</td>\n",
       "      <td>480</td>\n",
       "      <td>498</td>\n",
       "      <td>484</td>\n",
       "      <td>...</td>\n",
       "      <td>511</td>\n",
       "      <td>476</td>\n",
       "      <td>470</td>\n",
       "      <td>582</td>\n",
       "      <td>447</td>\n",
       "      <td>576</td>\n",
       "      <td>472</td>\n",
       "      <td>502</td>\n",
       "      <td>457</td>\n",
       "      <td>478</td>\n",
       "    </tr>\n",
       "    <tr>\n",
       "      <th>884</th>\n",
       "      <td>489</td>\n",
       "      <td>450</td>\n",
       "      <td>444</td>\n",
       "      <td>486</td>\n",
       "      <td>463</td>\n",
       "      <td>485</td>\n",
       "      <td>542</td>\n",
       "      <td>478</td>\n",
       "      <td>463</td>\n",
       "      <td>472</td>\n",
       "      <td>...</td>\n",
       "      <td>476</td>\n",
       "      <td>477</td>\n",
       "      <td>541</td>\n",
       "      <td>429</td>\n",
       "      <td>548</td>\n",
       "      <td>575</td>\n",
       "      <td>478</td>\n",
       "      <td>479</td>\n",
       "      <td>495</td>\n",
       "      <td>444</td>\n",
       "    </tr>\n",
       "  </tbody>\n",
       "</table>\n",
       "<p>4 rows × 500 columns</p>\n",
       "</div>"
      ],
      "text/plain": [
       "      0    1    2    3    4    5    6    7    8    9   ...   490  491  492  \\\n",
       "773   483  492  504  488  491  490  458  477  479  487 ...   459  481  457   \n",
       "1890  485  493  534  479  518  488  462  476  504  479 ...   514  479  462   \n",
       "791   485  482  531  472  500  479  520  480  498  484 ...   511  476  470   \n",
       "884   489  450  444  486  463  485  542  478  463  472 ...   476  477  541   \n",
       "\n",
       "      493  494  495  496  497  498  499  \n",
       "773   568  497  549  485  459  476  473  \n",
       "1890  599  532  489  465  475  485  456  \n",
       "791   582  447  576  472  502  457  478  \n",
       "884   429  548  575  478  479  495  444  \n",
       "\n",
       "[4 rows x 500 columns]"
      ]
     },
     "metadata": {},
     "output_type": "display_data"
    },
    {
     "data": {
      "text/html": [
       "<div>\n",
       "<table border=\"1\" class=\"dataframe\">\n",
       "  <thead>\n",
       "    <tr style=\"text-align: right;\">\n",
       "      <th></th>\n",
       "      <th>0</th>\n",
       "      <th>1</th>\n",
       "      <th>2</th>\n",
       "      <th>3</th>\n",
       "      <th>4</th>\n",
       "      <th>5</th>\n",
       "      <th>6</th>\n",
       "      <th>7</th>\n",
       "      <th>8</th>\n",
       "      <th>9</th>\n",
       "      <th>...</th>\n",
       "      <th>490</th>\n",
       "      <th>491</th>\n",
       "      <th>492</th>\n",
       "      <th>493</th>\n",
       "      <th>494</th>\n",
       "      <th>495</th>\n",
       "      <th>496</th>\n",
       "      <th>497</th>\n",
       "      <th>498</th>\n",
       "      <th>499</th>\n",
       "    </tr>\n",
       "  </thead>\n",
       "  <tbody>\n",
       "    <tr>\n",
       "      <th>454</th>\n",
       "      <td>484</td>\n",
       "      <td>463</td>\n",
       "      <td>498</td>\n",
       "      <td>476</td>\n",
       "      <td>556</td>\n",
       "      <td>485</td>\n",
       "      <td>514</td>\n",
       "      <td>476</td>\n",
       "      <td>487</td>\n",
       "      <td>492</td>\n",
       "      <td>...</td>\n",
       "      <td>482</td>\n",
       "      <td>484</td>\n",
       "      <td>532</td>\n",
       "      <td>637</td>\n",
       "      <td>501</td>\n",
       "      <td>459</td>\n",
       "      <td>475</td>\n",
       "      <td>487</td>\n",
       "      <td>494</td>\n",
       "      <td>480</td>\n",
       "    </tr>\n",
       "    <tr>\n",
       "      <th>50</th>\n",
       "      <td>488</td>\n",
       "      <td>525</td>\n",
       "      <td>520</td>\n",
       "      <td>494</td>\n",
       "      <td>551</td>\n",
       "      <td>483</td>\n",
       "      <td>517</td>\n",
       "      <td>477</td>\n",
       "      <td>466</td>\n",
       "      <td>485</td>\n",
       "      <td>...</td>\n",
       "      <td>498</td>\n",
       "      <td>471</td>\n",
       "      <td>501</td>\n",
       "      <td>413</td>\n",
       "      <td>562</td>\n",
       "      <td>466</td>\n",
       "      <td>478</td>\n",
       "      <td>480</td>\n",
       "      <td>517</td>\n",
       "      <td>448</td>\n",
       "    </tr>\n",
       "    <tr>\n",
       "      <th>168</th>\n",
       "      <td>490</td>\n",
       "      <td>510</td>\n",
       "      <td>486</td>\n",
       "      <td>481</td>\n",
       "      <td>413</td>\n",
       "      <td>476</td>\n",
       "      <td>443</td>\n",
       "      <td>477</td>\n",
       "      <td>504</td>\n",
       "      <td>480</td>\n",
       "      <td>...</td>\n",
       "      <td>491</td>\n",
       "      <td>474</td>\n",
       "      <td>492</td>\n",
       "      <td>428</td>\n",
       "      <td>464</td>\n",
       "      <td>497</td>\n",
       "      <td>476</td>\n",
       "      <td>496</td>\n",
       "      <td>544</td>\n",
       "      <td>543</td>\n",
       "    </tr>\n",
       "    <tr>\n",
       "      <th>328</th>\n",
       "      <td>486</td>\n",
       "      <td>481</td>\n",
       "      <td>559</td>\n",
       "      <td>483</td>\n",
       "      <td>490</td>\n",
       "      <td>489</td>\n",
       "      <td>535</td>\n",
       "      <td>479</td>\n",
       "      <td>459</td>\n",
       "      <td>460</td>\n",
       "      <td>...</td>\n",
       "      <td>480</td>\n",
       "      <td>480</td>\n",
       "      <td>458</td>\n",
       "      <td>552</td>\n",
       "      <td>484</td>\n",
       "      <td>499</td>\n",
       "      <td>472</td>\n",
       "      <td>478</td>\n",
       "      <td>499</td>\n",
       "      <td>492</td>\n",
       "    </tr>\n",
       "  </tbody>\n",
       "</table>\n",
       "<p>4 rows × 500 columns</p>\n",
       "</div>"
      ],
      "text/plain": [
       "     0    1    2    3    4    5    6    7    8    9   ...   490  491  492  \\\n",
       "454  484  463  498  476  556  485  514  476  487  492 ...   482  484  532   \n",
       "50   488  525  520  494  551  483  517  477  466  485 ...   498  471  501   \n",
       "168  490  510  486  481  413  476  443  477  504  480 ...   491  474  492   \n",
       "328  486  481  559  483  490  489  535  479  459  460 ...   480  480  458   \n",
       "\n",
       "     493  494  495  496  497  498  499  \n",
       "454  637  501  459  475  487  494  480  \n",
       "50   413  562  466  478  480  517  448  \n",
       "168  428  464  497  476  496  544  543  \n",
       "328  552  484  499  472  478  499  492  \n",
       "\n",
       "[4 rows x 500 columns]"
      ]
     },
     "metadata": {},
     "output_type": "display_data"
    }
   ],
   "source": [
    "display(madelon_train_data.sample(4))\n",
    "display(madelon_test_data.sample(4))"
   ]
  },
  {
   "cell_type": "markdown",
   "metadata": {},
   "source": [
    "## Fill the nan values/missing values."
   ]
  },
  {
   "cell_type": "markdown",
   "metadata": {},
   "source": [
    "#### Training Data with NA values"
   ]
  },
  {
   "cell_type": "code",
   "execution_count": 23,
   "metadata": {},
   "outputs": [
    {
     "name": "stdout",
     "output_type": "stream",
     "text": [
      "workclass 1411\n",
      "education 0\n",
      "marital-status 0\n",
      "occupation 1417\n",
      "relationship 0\n",
      "race 0\n",
      "sex 0\n",
      "native-country 443\n"
     ]
    }
   ],
   "source": [
    "for col in adult_train_data.columns:\n",
    "    if adult_train_data[col].dtype == object:\n",
    "        print(col, adult_train_data[col].str.contains(' \\?').sum())"
   ]
  },
  {
   "cell_type": "markdown",
   "metadata": {},
   "source": [
    "#### Testing Data with NA values"
   ]
  },
  {
   "cell_type": "code",
   "execution_count": 24,
   "metadata": {},
   "outputs": [
    {
     "name": "stdout",
     "output_type": "stream",
     "text": [
      "workclass 425\n",
      "education 0\n",
      "marital-status 0\n",
      "occupation 426\n",
      "relationship 0\n",
      "race 0\n",
      "sex 0\n",
      "native-country 140\n"
     ]
    }
   ],
   "source": [
    "for col in adult_test_data.columns:\n",
    "    if adult_test_data[col].dtype == object:\n",
    "        print(col, adult_test_data[col].str.contains(' \\?').sum())"
   ]
  },
  {
   "cell_type": "markdown",
   "metadata": {},
   "source": [
    "#### Replace `' ?'` with `np.nan`"
   ]
  },
  {
   "cell_type": "code",
   "execution_count": 25,
   "metadata": {},
   "outputs": [],
   "source": [
    "columns_with_na_vals = ['workclass', 'occupation', 'native-country']"
   ]
  },
  {
   "cell_type": "code",
   "execution_count": 26,
   "metadata": {},
   "outputs": [],
   "source": [
    "for col in columns_with_na_vals:\n",
    "    adult_train_data[col] = (adult_train_data[col]\n",
    "                             .replace(to_replace=' ?', value=np.nan))\n",
    "    adult_test_data[col] = (adult_test_data[col]\n",
    "                            .replace(to_replace=' ?', value=np.nan))\n",
    "    "
   ]
  },
  {
   "cell_type": "markdown",
   "metadata": {},
   "source": [
    "#### Training Data with NA values"
   ]
  },
  {
   "cell_type": "code",
   "execution_count": 27,
   "metadata": {},
   "outputs": [
    {
     "name": "stdout",
     "output_type": "stream",
     "text": [
      "workclass 0\n",
      "education 0\n",
      "marital-status 0\n",
      "occupation 0\n",
      "relationship 0\n",
      "race 0\n",
      "sex 0\n",
      "native-country 0\n"
     ]
    }
   ],
   "source": [
    "for col in adult_train_data.columns:\n",
    "    if adult_train_data[col].dtype == object:\n",
    "        print(col, adult_train_data[col].str.contains(' \\?').sum())"
   ]
  },
  {
   "cell_type": "markdown",
   "metadata": {},
   "source": [
    "#### Testing Data with NA values"
   ]
  },
  {
   "cell_type": "code",
   "execution_count": 28,
   "metadata": {},
   "outputs": [
    {
     "name": "stdout",
     "output_type": "stream",
     "text": [
      "workclass 0\n",
      "education 0\n",
      "marital-status 0\n",
      "occupation 0\n",
      "relationship 0\n",
      "race 0\n",
      "sex 0\n",
      "native-country 0\n"
     ]
    }
   ],
   "source": [
    "for col in adult_test_data.columns:\n",
    "    if adult_test_data[col].dtype == object:\n",
    "        print(col, adult_test_data[col].str.contains(' \\?').sum())"
   ]
  },
  {
   "cell_type": "code",
   "execution_count": 29,
   "metadata": {},
   "outputs": [
    {
     "name": "stdout",
     "output_type": "stream",
     "text": [
      "workclass 1411\n",
      "education 0\n",
      "marital-status 0\n",
      "occupation 1417\n",
      "relationship 0\n",
      "race 0\n",
      "sex 0\n",
      "native-country 443\n"
     ]
    }
   ],
   "source": [
    "for col in adult_train_data.columns:\n",
    "    if adult_train_data[col].dtype == object:\n",
    "        print(col, sum(adult_train_data[col].isnull()))"
   ]
  },
  {
   "cell_type": "code",
   "execution_count": 30,
   "metadata": {},
   "outputs": [
    {
     "name": "stdout",
     "output_type": "stream",
     "text": [
      "workclass 425\n",
      "education 0\n",
      "marital-status 0\n",
      "occupation 426\n",
      "relationship 0\n",
      "race 0\n",
      "sex 0\n",
      "native-country 140\n"
     ]
    }
   ],
   "source": [
    "for col in adult_test_data.columns:\n",
    "    if adult_test_data[col].dtype == object:\n",
    "        print(col, sum(adult_test_data[col].isnull()))"
   ]
  },
  {
   "cell_type": "code",
   "execution_count": 31,
   "metadata": {},
   "outputs": [],
   "source": [
    "workclass_null_indices = set(adult_train_data[adult_train_data['workclass'].isnull()].index)\n",
    "occupation_null_indices = set(adult_train_data[adult_train_data['occupation'].isnull()].index)\n",
    "native_country_null_indices = set(adult_train_data[adult_train_data['native-country'].isnull()].index)"
   ]
  },
  {
   "cell_type": "code",
   "execution_count": 32,
   "metadata": {},
   "outputs": [
    {
     "data": {
      "text/plain": [
       "0.07339156794703043"
      ]
     },
     "execution_count": 32,
     "metadata": {},
     "output_type": "execute_result"
    }
   ],
   "source": [
    "len(workclass_null_indices | occupation_null_indices | native_country_null_indices)/len(adult_train_data)"
   ]
  },
  {
   "cell_type": "code",
   "execution_count": 33,
   "metadata": {},
   "outputs": [],
   "source": [
    "workclass_null_indices = set(adult_test_data[adult_test_data['workclass'].isnull()].index)\n",
    "occupation_null_indices = set(adult_test_data[adult_test_data['occupation'].isnull()].index)\n",
    "native_country_null_indices = set(adult_test_data[adult_test_data['native-country'].isnull()].index)"
   ]
  },
  {
   "cell_type": "code",
   "execution_count": 34,
   "metadata": {},
   "outputs": [
    {
     "data": {
      "text/plain": [
       "0.0746328437917223"
      ]
     },
     "execution_count": 34,
     "metadata": {},
     "output_type": "execute_result"
    }
   ],
   "source": [
    "len(workclass_null_indices | occupation_null_indices | native_country_null_indices)/len(adult_test_data)"
   ]
  },
  {
   "cell_type": "code",
   "execution_count": null,
   "metadata": {},
   "outputs": [],
   "source": []
  },
  {
   "cell_type": "markdown",
   "metadata": {},
   "source": [
    "## Check the data types"
   ]
  },
  {
   "cell_type": "code",
   "execution_count": 35,
   "metadata": {},
   "outputs": [],
   "source": [
    "actual_types = ['continuous','categorical','continuous','categorical','continuous','categorical','categorical','categorical','categorical','categorical','continuous','continuous','continuous','categorical']"
   ]
  },
  {
   "cell_type": "code",
   "execution_count": 36,
   "metadata": {},
   "outputs": [],
   "source": [
    "actual_types = pd.Series(actual_types, index=adult_train_data.dtypes.index)"
   ]
  },
  {
   "cell_type": "code",
   "execution_count": 37,
   "metadata": {},
   "outputs": [
    {
     "data": {
      "text/html": [
       "<div>\n",
       "<table border=\"1\" class=\"dataframe\">\n",
       "  <thead>\n",
       "    <tr style=\"text-align: right;\">\n",
       "      <th></th>\n",
       "      <th>train_set</th>\n",
       "      <th>test_set</th>\n",
       "      <th>actual_types</th>\n",
       "    </tr>\n",
       "  </thead>\n",
       "  <tbody>\n",
       "    <tr>\n",
       "      <th>age</th>\n",
       "      <td>int64</td>\n",
       "      <td>int64</td>\n",
       "      <td>continuous</td>\n",
       "    </tr>\n",
       "    <tr>\n",
       "      <th>workclass</th>\n",
       "      <td>object</td>\n",
       "      <td>object</td>\n",
       "      <td>categorical</td>\n",
       "    </tr>\n",
       "    <tr>\n",
       "      <th>fnlwgt</th>\n",
       "      <td>int64</td>\n",
       "      <td>int64</td>\n",
       "      <td>continuous</td>\n",
       "    </tr>\n",
       "    <tr>\n",
       "      <th>education</th>\n",
       "      <td>object</td>\n",
       "      <td>object</td>\n",
       "      <td>categorical</td>\n",
       "    </tr>\n",
       "    <tr>\n",
       "      <th>education-num</th>\n",
       "      <td>int64</td>\n",
       "      <td>int64</td>\n",
       "      <td>continuous</td>\n",
       "    </tr>\n",
       "    <tr>\n",
       "      <th>marital-status</th>\n",
       "      <td>object</td>\n",
       "      <td>object</td>\n",
       "      <td>categorical</td>\n",
       "    </tr>\n",
       "    <tr>\n",
       "      <th>occupation</th>\n",
       "      <td>object</td>\n",
       "      <td>object</td>\n",
       "      <td>categorical</td>\n",
       "    </tr>\n",
       "    <tr>\n",
       "      <th>relationship</th>\n",
       "      <td>object</td>\n",
       "      <td>object</td>\n",
       "      <td>categorical</td>\n",
       "    </tr>\n",
       "    <tr>\n",
       "      <th>race</th>\n",
       "      <td>object</td>\n",
       "      <td>object</td>\n",
       "      <td>categorical</td>\n",
       "    </tr>\n",
       "    <tr>\n",
       "      <th>sex</th>\n",
       "      <td>object</td>\n",
       "      <td>object</td>\n",
       "      <td>categorical</td>\n",
       "    </tr>\n",
       "    <tr>\n",
       "      <th>capital-gain</th>\n",
       "      <td>int64</td>\n",
       "      <td>int64</td>\n",
       "      <td>continuous</td>\n",
       "    </tr>\n",
       "    <tr>\n",
       "      <th>capital-loss</th>\n",
       "      <td>int64</td>\n",
       "      <td>int64</td>\n",
       "      <td>continuous</td>\n",
       "    </tr>\n",
       "    <tr>\n",
       "      <th>hours-per-week</th>\n",
       "      <td>int64</td>\n",
       "      <td>int64</td>\n",
       "      <td>continuous</td>\n",
       "    </tr>\n",
       "    <tr>\n",
       "      <th>native-country</th>\n",
       "      <td>object</td>\n",
       "      <td>object</td>\n",
       "      <td>categorical</td>\n",
       "    </tr>\n",
       "  </tbody>\n",
       "</table>\n",
       "</div>"
      ],
      "text/plain": [
       "               train_set test_set actual_types\n",
       "age                int64    int64   continuous\n",
       "workclass         object   object  categorical\n",
       "fnlwgt             int64    int64   continuous\n",
       "education         object   object  categorical\n",
       "education-num      int64    int64   continuous\n",
       "marital-status    object   object  categorical\n",
       "occupation        object   object  categorical\n",
       "relationship      object   object  categorical\n",
       "race              object   object  categorical\n",
       "sex               object   object  categorical\n",
       "capital-gain       int64    int64   continuous\n",
       "capital-loss       int64    int64   continuous\n",
       "hours-per-week     int64    int64   continuous\n",
       "native-country    object   object  categorical"
      ]
     },
     "execution_count": 37,
     "metadata": {},
     "output_type": "execute_result"
    }
   ],
   "source": [
    "pd.DataFrame([adult_train_data.dtypes, adult_test_data.dtypes, actual_types], \n",
    "             index=['train_set','test_set', 'actual_types']).T"
   ]
  },
  {
   "cell_type": "code",
   "execution_count": 38,
   "metadata": {},
   "outputs": [],
   "source": [
    "for col in adult_train_data.columns:\n",
    "    if adult_train_data[col].dtype == object:\n",
    "        adult_train_data[col] = adult_train_data[col].astype('category')"
   ]
  },
  {
   "cell_type": "code",
   "execution_count": 39,
   "metadata": {},
   "outputs": [],
   "source": [
    "for col in adult_test_data.columns:\n",
    "    if adult_test_data[col].dtype == object:\n",
    "        adult_test_data[col] = adult_test_data[col].astype('category')"
   ]
  },
  {
   "cell_type": "code",
   "execution_count": 40,
   "metadata": {},
   "outputs": [
    {
     "data": {
      "text/html": [
       "<div>\n",
       "<table border=\"1\" class=\"dataframe\">\n",
       "  <thead>\n",
       "    <tr style=\"text-align: right;\">\n",
       "      <th></th>\n",
       "      <th>train_set</th>\n",
       "      <th>test_set</th>\n",
       "      <th>actual_types</th>\n",
       "    </tr>\n",
       "  </thead>\n",
       "  <tbody>\n",
       "    <tr>\n",
       "      <th>age</th>\n",
       "      <td>int64</td>\n",
       "      <td>int64</td>\n",
       "      <td>continuous</td>\n",
       "    </tr>\n",
       "    <tr>\n",
       "      <th>workclass</th>\n",
       "      <td>category</td>\n",
       "      <td>category</td>\n",
       "      <td>categorical</td>\n",
       "    </tr>\n",
       "    <tr>\n",
       "      <th>fnlwgt</th>\n",
       "      <td>int64</td>\n",
       "      <td>int64</td>\n",
       "      <td>continuous</td>\n",
       "    </tr>\n",
       "    <tr>\n",
       "      <th>education</th>\n",
       "      <td>category</td>\n",
       "      <td>category</td>\n",
       "      <td>categorical</td>\n",
       "    </tr>\n",
       "    <tr>\n",
       "      <th>education-num</th>\n",
       "      <td>int64</td>\n",
       "      <td>int64</td>\n",
       "      <td>continuous</td>\n",
       "    </tr>\n",
       "    <tr>\n",
       "      <th>marital-status</th>\n",
       "      <td>category</td>\n",
       "      <td>category</td>\n",
       "      <td>categorical</td>\n",
       "    </tr>\n",
       "    <tr>\n",
       "      <th>occupation</th>\n",
       "      <td>category</td>\n",
       "      <td>category</td>\n",
       "      <td>categorical</td>\n",
       "    </tr>\n",
       "    <tr>\n",
       "      <th>relationship</th>\n",
       "      <td>category</td>\n",
       "      <td>category</td>\n",
       "      <td>categorical</td>\n",
       "    </tr>\n",
       "    <tr>\n",
       "      <th>race</th>\n",
       "      <td>category</td>\n",
       "      <td>category</td>\n",
       "      <td>categorical</td>\n",
       "    </tr>\n",
       "    <tr>\n",
       "      <th>sex</th>\n",
       "      <td>category</td>\n",
       "      <td>category</td>\n",
       "      <td>categorical</td>\n",
       "    </tr>\n",
       "    <tr>\n",
       "      <th>capital-gain</th>\n",
       "      <td>int64</td>\n",
       "      <td>int64</td>\n",
       "      <td>continuous</td>\n",
       "    </tr>\n",
       "    <tr>\n",
       "      <th>capital-loss</th>\n",
       "      <td>int64</td>\n",
       "      <td>int64</td>\n",
       "      <td>continuous</td>\n",
       "    </tr>\n",
       "    <tr>\n",
       "      <th>hours-per-week</th>\n",
       "      <td>int64</td>\n",
       "      <td>int64</td>\n",
       "      <td>continuous</td>\n",
       "    </tr>\n",
       "    <tr>\n",
       "      <th>native-country</th>\n",
       "      <td>category</td>\n",
       "      <td>category</td>\n",
       "      <td>categorical</td>\n",
       "    </tr>\n",
       "  </tbody>\n",
       "</table>\n",
       "</div>"
      ],
      "text/plain": [
       "               train_set  test_set actual_types\n",
       "age                int64     int64   continuous\n",
       "workclass       category  category  categorical\n",
       "fnlwgt             int64     int64   continuous\n",
       "education       category  category  categorical\n",
       "education-num      int64     int64   continuous\n",
       "marital-status  category  category  categorical\n",
       "occupation      category  category  categorical\n",
       "relationship    category  category  categorical\n",
       "race            category  category  categorical\n",
       "sex             category  category  categorical\n",
       "capital-gain       int64     int64   continuous\n",
       "capital-loss       int64     int64   continuous\n",
       "hours-per-week     int64     int64   continuous\n",
       "native-country  category  category  categorical"
      ]
     },
     "execution_count": 40,
     "metadata": {},
     "output_type": "execute_result"
    }
   ],
   "source": [
    "pd.DataFrame([adult_train_data.dtypes, adult_test_data.dtypes, actual_types], \n",
    "             index=['train_set','test_set', 'actual_types']).T"
   ]
  },
  {
   "cell_type": "markdown",
   "metadata": {},
   "source": [
    "### Check Null Count and Data Type"
   ]
  },
  {
   "cell_type": "code",
   "execution_count": 41,
   "metadata": {},
   "outputs": [
    {
     "data": {
      "text/plain": [
       "(0, 0)"
      ]
     },
     "execution_count": 41,
     "metadata": {},
     "output_type": "execute_result"
    }
   ],
   "source": [
    "madelon_types = pd.DataFrame([madelon_train_data.dtypes, madelon_test_data.dtypes],\n",
    "                             index=['train_set', 'test_set']).T\n",
    "(madelon_types['train_set'] != int).sum(), (madelon_types['test_set'] != int).sum()"
   ]
  },
  {
   "cell_type": "code",
   "execution_count": 42,
   "metadata": {},
   "outputs": [],
   "source": [
    "for col in madelon_train_data.columns:\n",
    "    null_count = madelon_train_data[col].isnull().sum()\n",
    "    if null_count > 0: print(col)\n",
    "    null_count = madelon_test_data[col].isnull().sum()\n",
    "    if null_count > 0: print(col)"
   ]
  },
  {
   "cell_type": "markdown",
   "metadata": {},
   "source": [
    "## Pickle Data"
   ]
  },
  {
   "cell_type": "code",
   "execution_count": 43,
   "metadata": {},
   "outputs": [],
   "source": [
    "adult_train_data.to_pickle('data/adult_train_data.p')\n",
    "adult_test_data.to_pickle('data/adult_test_data.p')\n",
    "adult_train_labels.to_pickle('data/adult_train_labels.p')\n",
    "adult_test_labels.to_pickle('data/adult_test_labels.p')"
   ]
  },
  {
   "cell_type": "code",
   "execution_count": 44,
   "metadata": {},
   "outputs": [],
   "source": [
    "madelon_train_data.to_pickle('data/madelon_train_data.p')\n",
    "madelon_test_data.to_pickle('data/madelon_test_data.p')\n",
    "madelon_train_labels.to_pickle('data/madelon_train_labels.p')\n",
    "madelon_test_labels.to_pickle('data/madelon_test_labels.p')"
   ]
  },
  {
   "cell_type": "code",
   "execution_count": null,
   "metadata": {},
   "outputs": [],
   "source": []
  }
 ],
 "metadata": {
  "kernelspec": {
   "display_name": "Python 3",
   "language": "python",
   "name": "python3"
  },
  "language_info": {
   "codemirror_mode": {
    "name": "ipython",
    "version": 3
   },
   "file_extension": ".py",
   "mimetype": "text/x-python",
   "name": "python",
   "nbconvert_exporter": "python",
   "pygments_lexer": "ipython3",
   "version": "3.6.3"
  }
 },
 "nbformat": 4,
 "nbformat_minor": 2
}
