{
 "cells": [
  {
   "cell_type": "code",
   "execution_count": 2,
   "metadata": {},
   "outputs": [
    {
     "name": "stdout",
     "output_type": "stream",
     "text": [
      "/home/jovyan\n"
     ]
    }
   ],
   "source": [
    "cd .."
   ]
  },
  {
   "cell_type": "code",
   "execution_count": 3,
   "metadata": {},
   "outputs": [],
   "source": [
    "import pandas as pd"
   ]
  },
  {
   "cell_type": "code",
   "execution_count": 4,
   "metadata": {},
   "outputs": [],
   "source": [
    "adult_scaled = pd.read_pickle('data/adult_cluster-scaled.p')"
   ]
  },
  {
   "cell_type": "code",
   "execution_count": 5,
   "metadata": {},
   "outputs": [],
   "source": [
    "adult_models = adult_scaled[(adult_scaled.index == 10) |\n",
    "                            (adult_scaled.index == 11) |\n",
    "                            (adult_scaled.index == 12) |\n",
    "                            (adult_scaled.index == 13) |\n",
    "                            (adult_scaled.index == 14)\n",
    "                            ]['model_x']\n",
    "\n",
    "adult_models.columns = ['full', 'diag']\n",
    "adult_models = adult_models.full.values\n"
   ]
  },
  {
   "cell_type": "code",
   "execution_count": 6,
   "metadata": {},
   "outputs": [
    {
     "data": {
      "text/plain": [
       "array([ GaussianMixture(covariance_type='full', init_params='kmeans', max_iter=100,\n",
       "        means_init=None, n_components=10, n_init=1, precisions_init=None,\n",
       "        random_state=0, reg_covar=1e-06, tol=0.001, verbose=0,\n",
       "        verbose_interval=10, warm_start=False, weights_init=None),\n",
       "       GaussianMixture(covariance_type='full', init_params='kmeans', max_iter=100,\n",
       "        means_init=None, n_components=11, n_init=1, precisions_init=None,\n",
       "        random_state=0, reg_covar=1e-06, tol=0.001, verbose=0,\n",
       "        verbose_interval=10, warm_start=False, weights_init=None),\n",
       "       GaussianMixture(covariance_type='full', init_params='kmeans', max_iter=100,\n",
       "        means_init=None, n_components=12, n_init=1, precisions_init=None,\n",
       "        random_state=0, reg_covar=1e-06, tol=0.001, verbose=0,\n",
       "        verbose_interval=10, warm_start=False, weights_init=None),\n",
       "       GaussianMixture(covariance_type='full', init_params='kmeans', max_iter=100,\n",
       "        means_init=None, n_components=13, n_init=1, precisions_init=None,\n",
       "        random_state=0, reg_covar=1e-06, tol=0.001, verbose=0,\n",
       "        verbose_interval=10, warm_start=False, weights_init=None),\n",
       "       GaussianMixture(covariance_type='full', init_params='kmeans', max_iter=100,\n",
       "        means_init=None, n_components=14, n_init=1, precisions_init=None,\n",
       "        random_state=0, reg_covar=1e-06, tol=0.001, verbose=0,\n",
       "        verbose_interval=10, warm_start=False, weights_init=None)], dtype=object)"
      ]
     },
     "execution_count": 6,
     "metadata": {},
     "output_type": "execute_result"
    }
   ],
   "source": [
    "adult_models"
   ]
  },
  {
   "cell_type": "code",
   "execution_count": 7,
   "metadata": {},
   "outputs": [],
   "source": [
    "run src/load_data.py"
   ]
  },
  {
   "cell_type": "code",
   "execution_count": 8,
   "metadata": {},
   "outputs": [],
   "source": [
    "adult_train_scaled = data['adult']['train']['scaled']\n",
    "madelon_train_scaled = data['madelon']['train']['scaled']"
   ]
  },
  {
   "cell_type": "code",
   "execution_count": 9,
   "metadata": {},
   "outputs": [],
   "source": [
    "from sklearn.metrics import f1_score"
   ]
  },
  {
   "cell_type": "code",
   "execution_count": 10,
   "metadata": {},
   "outputs": [],
   "source": [
    "madelon_final = pd.read_pickle('data/madelon_cluster_final.p')"
   ]
  },
  {
   "cell_type": "code",
   "execution_count": 11,
   "metadata": {},
   "outputs": [
    {
     "data": {
      "text/plain": [
       "KMeans(algorithm='auto', copy_x=True, init='k-means++', max_iter=300,\n",
       "    n_clusters=2, n_init=10, n_jobs=1, precompute_distances='auto',\n",
       "    random_state=None, tol=0.0001, verbose=0)"
      ]
     },
     "execution_count": 11,
     "metadata": {},
     "output_type": "execute_result"
    }
   ],
   "source": [
    "madelon_final_model = madelon_final.model.values[0]\n",
    "madelon_final_model"
   ]
  },
  {
   "cell_type": "code",
   "execution_count": 12,
   "metadata": {},
   "outputs": [
    {
     "data": {
      "text/plain": [
       "0.4211586901763224"
      ]
     },
     "execution_count": 12,
     "metadata": {},
     "output_type": "execute_result"
    }
   ],
   "source": [
    "f1_score(madelon_train_labels.replace(-1,0), madelon_final_model.labels_)"
   ]
  },
  {
   "cell_type": "code",
   "execution_count": 29,
   "metadata": {},
   "outputs": [],
   "source": [
    "pd.Series(madelon_final_model.labels_, index=madelon_train_labels.index).to_pickle('data/madelon_best_cl_2.p')"
   ]
  },
  {
   "cell_type": "markdown",
   "metadata": {},
   "source": [
    "Compare to 0.801917 peak performance on project 1 and 0.666667 dummy performance."
   ]
  },
  {
   "cell_type": "code",
   "execution_count": 13,
   "metadata": {},
   "outputs": [],
   "source": [
    "adult_10_clusters = adult_models[0].predict(adult_train_scaled)\n",
    "adult_11_clusters = adult_models[1].predict(adult_train_scaled)\n",
    "adult_12_clusters = adult_models[2].predict(adult_train_scaled)\n",
    "adult_13_clusters = adult_models[3].predict(adult_train_scaled)\n",
    "adult_14_clusters = adult_models[4].predict(adult_train_scaled)"
   ]
  },
  {
   "cell_type": "code",
   "execution_count": 14,
   "metadata": {},
   "outputs": [],
   "source": [
    "adult_10_df = pd.DataFrame([adult_10_clusters, adult_train_labels]).T\n",
    "adult_11_df = pd.DataFrame([adult_11_clusters, adult_train_labels]).T\n",
    "adult_12_df = pd.DataFrame([adult_12_clusters, adult_train_labels]).T\n",
    "adult_13_df = pd.DataFrame([adult_13_clusters, adult_train_labels]).T\n",
    "adult_14_df = pd.DataFrame([adult_14_clusters, adult_train_labels]).T\n",
    "adult_10_df.columns = ['cluster', 'label']\n",
    "adult_11_df.columns = ['cluster', 'label']\n",
    "adult_12_df.columns = ['cluster', 'label']\n",
    "adult_13_df.columns = ['cluster', 'label']\n",
    "adult_14_df.columns = ['cluster', 'label']"
   ]
  },
  {
   "cell_type": "code",
   "execution_count": 16,
   "metadata": {},
   "outputs": [
    {
     "data": {
      "text/html": [
       "<div>\n",
       "<table border=\"1\" class=\"dataframe\">\n",
       "  <thead>\n",
       "    <tr>\n",
       "      <th>cluster</th>\n",
       "      <th colspan=\"2\" halign=\"left\">0</th>\n",
       "      <th colspan=\"2\" halign=\"left\">1</th>\n",
       "      <th colspan=\"2\" halign=\"left\">2</th>\n",
       "      <th>3</th>\n",
       "      <th colspan=\"2\" halign=\"left\">4</th>\n",
       "      <th colspan=\"2\" halign=\"left\">5</th>\n",
       "      <th colspan=\"2\" halign=\"left\">6</th>\n",
       "      <th colspan=\"2\" halign=\"left\">7</th>\n",
       "      <th colspan=\"2\" halign=\"left\">8</th>\n",
       "      <th colspan=\"2\" halign=\"left\">9</th>\n",
       "    </tr>\n",
       "    <tr>\n",
       "      <th>label</th>\n",
       "      <th>0</th>\n",
       "      <th>1</th>\n",
       "      <th>0</th>\n",
       "      <th>1</th>\n",
       "      <th>0</th>\n",
       "      <th>1</th>\n",
       "      <th>1</th>\n",
       "      <th>0</th>\n",
       "      <th>1</th>\n",
       "      <th>0</th>\n",
       "      <th>1</th>\n",
       "      <th>0</th>\n",
       "      <th>1</th>\n",
       "      <th>0</th>\n",
       "      <th>1</th>\n",
       "      <th>0</th>\n",
       "      <th>1</th>\n",
       "      <th>0</th>\n",
       "      <th>1</th>\n",
       "    </tr>\n",
       "  </thead>\n",
       "  <tbody>\n",
       "    <tr>\n",
       "      <th>label</th>\n",
       "      <td>628</td>\n",
       "      <td>282</td>\n",
       "      <td>4846</td>\n",
       "      <td>297</td>\n",
       "      <td>4671</td>\n",
       "      <td>3640</td>\n",
       "      <td>113</td>\n",
       "      <td>1172</td>\n",
       "      <td>234</td>\n",
       "      <td>553</td>\n",
       "      <td>584</td>\n",
       "      <td>430</td>\n",
       "      <td>235</td>\n",
       "      <td>4693</td>\n",
       "      <td>193</td>\n",
       "      <td>1597</td>\n",
       "      <td>401</td>\n",
       "      <td>444</td>\n",
       "      <td>58</td>\n",
       "    </tr>\n",
       "  </tbody>\n",
       "</table>\n",
       "</div>"
      ],
      "text/plain": [
       "cluster    0          1          2          3     4         5         6       \\\n",
       "label      0    1     0    1     0     1    1     0    1    0    1    0    1   \n",
       "label    628  282  4846  297  4671  3640  113  1172  234  553  584  430  235   \n",
       "\n",
       "cluster     7          8         9      \n",
       "label       0    1     0    1    0   1  \n",
       "label    4693  193  1597  401  444  58  "
      ]
     },
     "execution_count": 16,
     "metadata": {},
     "output_type": "execute_result"
    }
   ],
   "source": [
    "adult_10_df.groupby(['cluster', 'label',]).agg({'label' : 'count'}).T"
   ]
  },
  {
   "cell_type": "code",
   "execution_count": 17,
   "metadata": {},
   "outputs": [],
   "source": [
    "adult_10_df_unmelt = adult_10_df.groupby(['cluster', 'label',]).agg({'label' : 'count'}).unstack().reset_index().fillna(0)\n",
    "adult_10_classes = (adult_10_df_unmelt['label'][0] < adult_10_df_unmelt['label'][1]).astype(int)\n",
    "adult_11_df_unmelt = adult_11_df.groupby(['cluster', 'label',]).agg({'label' : 'count'}).unstack().reset_index().fillna(0)\n",
    "adult_11_classes = (adult_11_df_unmelt['label'][0] < adult_11_df_unmelt['label'][1]).astype(int)\n",
    "adult_12_df_unmelt = adult_12_df.groupby(['cluster', 'label',]).agg({'label' : 'count'}).unstack().reset_index().fillna(0)\n",
    "adult_12_classes = (adult_12_df_unmelt['label'][0] < adult_12_df_unmelt['label'][1]).astype(int)\n",
    "adult_13_df_unmelt = adult_13_df.groupby(['cluster', 'label',]).agg({'label' : 'count'}).unstack().reset_index().fillna(0)\n",
    "adult_13_classes = (adult_13_df_unmelt['label'][0] < adult_13_df_unmelt['label'][1]).astype(int)\n",
    "adult_14_df_unmelt = adult_14_df.groupby(['cluster', 'label',]).agg({'label' : 'count'}).unstack().reset_index().fillna(0)\n",
    "adult_14_classes = (adult_14_df_unmelt['label'][0] < adult_14_df_unmelt['label'][1]).astype(int)"
   ]
  },
  {
   "cell_type": "code",
   "execution_count": 18,
   "metadata": {},
   "outputs": [],
   "source": [
    "adult_10_df['cluster_labels'] = adult_10_df.cluster.apply(lambda x: adult_10_classes[x])\n",
    "adult_11_df['cluster_labels'] = adult_11_df.cluster.apply(lambda x: adult_11_classes[x])\n",
    "adult_12_df['cluster_labels'] = adult_12_df.cluster.apply(lambda x: adult_12_classes[x])\n",
    "adult_13_df['cluster_labels'] = adult_13_df.cluster.apply(lambda x: adult_13_classes[x])\n",
    "adult_14_df['cluster_labels'] = adult_14_df.cluster.apply(lambda x: adult_14_classes[x])"
   ]
  },
  {
   "cell_type": "code",
   "execution_count": 19,
   "metadata": {},
   "outputs": [
    {
     "data": {
      "text/plain": [
       "0.19129957458487717"
      ]
     },
     "metadata": {},
     "output_type": "display_data"
    },
    {
     "data": {
      "text/plain": [
       "0.036747967479674799"
      ]
     },
     "metadata": {},
     "output_type": "display_data"
    },
    {
     "data": {
      "text/plain": [
       "0.036747967479674799"
      ]
     },
     "metadata": {},
     "output_type": "display_data"
    },
    {
     "data": {
      "text/plain": [
       "0.18597518472047958"
      ]
     },
     "metadata": {},
     "output_type": "display_data"
    },
    {
     "data": {
      "text/plain": [
       "0.52729164695866049"
      ]
     },
     "metadata": {},
     "output_type": "display_data"
    }
   ],
   "source": [
    "display(f1_score(adult_10_df.label, adult_10_df.cluster_labels))\n",
    "display(f1_score(adult_11_df.label, adult_11_df.cluster_labels))\n",
    "display(f1_score(adult_12_df.label, adult_12_df.cluster_labels))\n",
    "display(f1_score(adult_13_df.label, adult_13_df.cluster_labels))\n",
    "display(f1_score(adult_14_df.label, adult_14_df.cluster_labels))"
   ]
  },
  {
   "cell_type": "code",
   "execution_count": 20,
   "metadata": {},
   "outputs": [],
   "source": [
    "final_adult_model = adult_models[4]"
   ]
  },
  {
   "cell_type": "code",
   "execution_count": 21,
   "metadata": {},
   "outputs": [
    {
     "data": {
      "text/plain": [
       "['data/madelon-final-cluster.pkl']"
      ]
     },
     "execution_count": 21,
     "metadata": {},
     "output_type": "execute_result"
    }
   ],
   "source": [
    "from sklearn.externals import joblib\n",
    "joblib.dump(final_adult_model, 'data/adult-final-cluster.pkl') \n",
    "joblib.dump(madelon_final_model, 'data/madelon-final-cluster.pkl')"
   ]
  },
  {
   "cell_type": "code",
   "execution_count": 22,
   "metadata": {},
   "outputs": [
    {
     "data": {
      "text/html": [
       "<div>\n",
       "<table border=\"1\" class=\"dataframe\">\n",
       "  <thead>\n",
       "    <tr>\n",
       "      <th>cluster</th>\n",
       "      <th colspan=\"2\" halign=\"left\">0</th>\n",
       "      <th colspan=\"2\" halign=\"left\">1</th>\n",
       "      <th colspan=\"2\" halign=\"left\">2</th>\n",
       "      <th>3</th>\n",
       "      <th colspan=\"2\" halign=\"left\">4</th>\n",
       "      <th>5</th>\n",
       "      <th>...</th>\n",
       "      <th colspan=\"2\" halign=\"left\">7</th>\n",
       "      <th colspan=\"2\" halign=\"left\">8</th>\n",
       "      <th colspan=\"2\" halign=\"left\">9</th>\n",
       "      <th colspan=\"2\" halign=\"left\">10</th>\n",
       "      <th colspan=\"2\" halign=\"left\">11</th>\n",
       "    </tr>\n",
       "    <tr>\n",
       "      <th>label</th>\n",
       "      <th>0</th>\n",
       "      <th>1</th>\n",
       "      <th>0</th>\n",
       "      <th>1</th>\n",
       "      <th>0</th>\n",
       "      <th>1</th>\n",
       "      <th>1</th>\n",
       "      <th>0</th>\n",
       "      <th>1</th>\n",
       "      <th>0</th>\n",
       "      <th>...</th>\n",
       "      <th>0</th>\n",
       "      <th>1</th>\n",
       "      <th>0</th>\n",
       "      <th>1</th>\n",
       "      <th>0</th>\n",
       "      <th>1</th>\n",
       "      <th>0</th>\n",
       "      <th>1</th>\n",
       "      <th>0</th>\n",
       "      <th>1</th>\n",
       "    </tr>\n",
       "  </thead>\n",
       "  <tbody>\n",
       "    <tr>\n",
       "      <th>label</th>\n",
       "      <td>3834</td>\n",
       "      <td>3069</td>\n",
       "      <td>1683</td>\n",
       "      <td>256</td>\n",
       "      <td>1352</td>\n",
       "      <td>801</td>\n",
       "      <td>113</td>\n",
       "      <td>722</td>\n",
       "      <td>21</td>\n",
       "      <td>714</td>\n",
       "      <td>...</td>\n",
       "      <td>2625</td>\n",
       "      <td>155</td>\n",
       "      <td>635</td>\n",
       "      <td>63</td>\n",
       "      <td>597</td>\n",
       "      <td>468</td>\n",
       "      <td>2364</td>\n",
       "      <td>148</td>\n",
       "      <td>3842</td>\n",
       "      <td>65</td>\n",
       "    </tr>\n",
       "  </tbody>\n",
       "</table>\n",
       "<p>1 rows × 23 columns</p>\n",
       "</div>"
      ],
      "text/plain": [
       "cluster    0           1          2         3    4        5  ...    7        \\\n",
       "label       0     1     0    1     0    1    1    0   1    0 ...     0    1   \n",
       "label    3834  3069  1683  256  1352  801  113  722  21  714 ...  2625  155   \n",
       "\n",
       "cluster   8        9          10         11      \n",
       "label      0   1    0    1     0    1     0   1  \n",
       "label    635  63  597  468  2364  148  3842  65  \n",
       "\n",
       "[1 rows x 23 columns]"
      ]
     },
     "metadata": {},
     "output_type": "display_data"
    }
   ],
   "source": [
    "display(adult_12_df.groupby(['cluster', 'label',]).agg({'label' : 'count'}).T)"
   ]
  },
  {
   "cell_type": "code",
   "execution_count": 23,
   "metadata": {},
   "outputs": [
    {
     "data": {
      "text/html": [
       "<div>\n",
       "<table border=\"1\" class=\"dataframe\">\n",
       "  <thead>\n",
       "    <tr>\n",
       "      <th>cluster</th>\n",
       "      <th colspan=\"2\" halign=\"left\">0</th>\n",
       "      <th colspan=\"2\" halign=\"left\">1</th>\n",
       "      <th colspan=\"2\" halign=\"left\">2</th>\n",
       "      <th>3</th>\n",
       "      <th colspan=\"2\" halign=\"left\">4</th>\n",
       "      <th>5</th>\n",
       "      <th>...</th>\n",
       "      <th colspan=\"2\" halign=\"left\">8</th>\n",
       "      <th colspan=\"2\" halign=\"left\">9</th>\n",
       "      <th colspan=\"2\" halign=\"left\">10</th>\n",
       "      <th colspan=\"2\" halign=\"left\">11</th>\n",
       "      <th colspan=\"2\" halign=\"left\">12</th>\n",
       "    </tr>\n",
       "    <tr>\n",
       "      <th>label</th>\n",
       "      <th>0</th>\n",
       "      <th>1</th>\n",
       "      <th>0</th>\n",
       "      <th>1</th>\n",
       "      <th>0</th>\n",
       "      <th>1</th>\n",
       "      <th>1</th>\n",
       "      <th>0</th>\n",
       "      <th>1</th>\n",
       "      <th>0</th>\n",
       "      <th>...</th>\n",
       "      <th>0</th>\n",
       "      <th>1</th>\n",
       "      <th>0</th>\n",
       "      <th>1</th>\n",
       "      <th>0</th>\n",
       "      <th>1</th>\n",
       "      <th>0</th>\n",
       "      <th>1</th>\n",
       "      <th>0</th>\n",
       "      <th>1</th>\n",
       "    </tr>\n",
       "  </thead>\n",
       "  <tbody>\n",
       "    <tr>\n",
       "      <th>label</th>\n",
       "      <td>965</td>\n",
       "      <td>433</td>\n",
       "      <td>1725</td>\n",
       "      <td>258</td>\n",
       "      <td>4155</td>\n",
       "      <td>3441</td>\n",
       "      <td>113</td>\n",
       "      <td>1554</td>\n",
       "      <td>47</td>\n",
       "      <td>469</td>\n",
       "      <td>...</td>\n",
       "      <td>1550</td>\n",
       "      <td>155</td>\n",
       "      <td>539</td>\n",
       "      <td>457</td>\n",
       "      <td>753</td>\n",
       "      <td>29</td>\n",
       "      <td>2272</td>\n",
       "      <td>49</td>\n",
       "      <td>666</td>\n",
       "      <td>162</td>\n",
       "    </tr>\n",
       "  </tbody>\n",
       "</table>\n",
       "<p>1 rows × 25 columns</p>\n",
       "</div>"
      ],
      "text/plain": [
       "cluster   0          1          2          3     4        5  ...     8        \\\n",
       "label      0    1     0    1     0     1    1     0   1    0 ...      0    1   \n",
       "label    965  433  1725  258  4155  3441  113  1554  47  469 ...   1550  155   \n",
       "\n",
       "cluster   9         10        11       12       \n",
       "label      0    1    0   1     0   1    0    1  \n",
       "label    539  457  753  29  2272  49  666  162  \n",
       "\n",
       "[1 rows x 25 columns]"
      ]
     },
     "metadata": {},
     "output_type": "display_data"
    }
   ],
   "source": [
    "display(adult_13_df.groupby(['cluster', 'label',]).agg({'label' : 'count'}).T)"
   ]
  },
  {
   "cell_type": "code",
   "execution_count": 24,
   "metadata": {},
   "outputs": [
    {
     "data": {
      "text/html": [
       "<div>\n",
       "<table border=\"1\" class=\"dataframe\">\n",
       "  <thead>\n",
       "    <tr>\n",
       "      <th>cluster</th>\n",
       "      <th colspan=\"2\" halign=\"left\">0</th>\n",
       "      <th colspan=\"2\" halign=\"left\">1</th>\n",
       "      <th colspan=\"2\" halign=\"left\">2</th>\n",
       "      <th>3</th>\n",
       "      <th colspan=\"2\" halign=\"left\">4</th>\n",
       "      <th>5</th>\n",
       "      <th>...</th>\n",
       "      <th colspan=\"2\" halign=\"left\">9</th>\n",
       "      <th colspan=\"2\" halign=\"left\">10</th>\n",
       "      <th colspan=\"2\" halign=\"left\">11</th>\n",
       "      <th colspan=\"2\" halign=\"left\">12</th>\n",
       "      <th colspan=\"2\" halign=\"left\">13</th>\n",
       "    </tr>\n",
       "    <tr>\n",
       "      <th>label</th>\n",
       "      <th>0</th>\n",
       "      <th>1</th>\n",
       "      <th>0</th>\n",
       "      <th>1</th>\n",
       "      <th>0</th>\n",
       "      <th>1</th>\n",
       "      <th>1</th>\n",
       "      <th>0</th>\n",
       "      <th>1</th>\n",
       "      <th>0</th>\n",
       "      <th>...</th>\n",
       "      <th>0</th>\n",
       "      <th>1</th>\n",
       "      <th>0</th>\n",
       "      <th>1</th>\n",
       "      <th>0</th>\n",
       "      <th>1</th>\n",
       "      <th>0</th>\n",
       "      <th>1</th>\n",
       "      <th>0</th>\n",
       "      <th>1</th>\n",
       "    </tr>\n",
       "  </thead>\n",
       "  <tbody>\n",
       "    <tr>\n",
       "      <th>label</th>\n",
       "      <td>2954</td>\n",
       "      <td>995</td>\n",
       "      <td>1765</td>\n",
       "      <td>265</td>\n",
       "      <td>535</td>\n",
       "      <td>231</td>\n",
       "      <td>113</td>\n",
       "      <td>1491</td>\n",
       "      <td>42</td>\n",
       "      <td>582</td>\n",
       "      <td>...</td>\n",
       "      <td>542</td>\n",
       "      <td>463</td>\n",
       "      <td>478</td>\n",
       "      <td>17</td>\n",
       "      <td>2132</td>\n",
       "      <td>40</td>\n",
       "      <td>433</td>\n",
       "      <td>122</td>\n",
       "      <td>1747</td>\n",
       "      <td>2674</td>\n",
       "    </tr>\n",
       "  </tbody>\n",
       "</table>\n",
       "<p>1 rows × 27 columns</p>\n",
       "</div>"
      ],
      "text/plain": [
       "cluster    0          1         2         3     4        5   ...    9        \\\n",
       "label       0    1     0    1    0    1    1     0   1    0  ...     0    1   \n",
       "label    2954  995  1765  265  535  231  113  1491  42  582  ...   542  463   \n",
       "\n",
       "cluster   10        11       12         13        \n",
       "label      0   1     0   1    0    1     0     1  \n",
       "label    478  17  2132  40  433  122  1747  2674  \n",
       "\n",
       "[1 rows x 27 columns]"
      ]
     },
     "metadata": {},
     "output_type": "display_data"
    }
   ],
   "source": [
    "display(adult_14_df.groupby(['cluster', 'label',]).agg({'label' : 'count'}).T)"
   ]
  },
  {
   "cell_type": "code",
   "execution_count": 26,
   "metadata": {},
   "outputs": [],
   "source": [
    "adult_14_df.to_pickle('data/adult_best_cl_14.p')"
   ]
  },
  {
   "cell_type": "code",
   "execution_count": null,
   "metadata": {},
   "outputs": [],
   "source": []
  }
 ],
 "metadata": {
  "kernelspec": {
   "display_name": "Python 3",
   "language": "python",
   "name": "python3"
  },
  "language_info": {
   "codemirror_mode": {
    "name": "ipython",
    "version": 3
   },
   "file_extension": ".py",
   "mimetype": "text/x-python",
   "name": "python",
   "nbconvert_exporter": "python",
   "pygments_lexer": "ipython3",
   "version": "3.6.4"
  }
 },
 "nbformat": 4,
 "nbformat_minor": 2
}
