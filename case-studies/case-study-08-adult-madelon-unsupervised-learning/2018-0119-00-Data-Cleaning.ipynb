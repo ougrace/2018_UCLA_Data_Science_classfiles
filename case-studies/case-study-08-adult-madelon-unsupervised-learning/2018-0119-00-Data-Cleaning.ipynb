{
 "cells": [
  {
   "cell_type": "code",
   "execution_count": 1,
   "metadata": {},
   "outputs": [
    {
     "name": "stdout",
     "output_type": "stream",
     "text": [
      "/Users/Amar/Dropbox/Computer_Science/GATECH-OMSCS/7641_ML/gatech-p3\n"
     ]
    }
   ],
   "source": [
    "cd .."
   ]
  },
  {
   "cell_type": "code",
   "execution_count": 2,
   "metadata": {
    "collapsed": true
   },
   "outputs": [],
   "source": [
    "%run __init__.py"
   ]
  },
  {
   "cell_type": "code",
   "execution_count": 3,
   "metadata": {},
   "outputs": [
    {
     "name": "stdout",
     "output_type": "stream",
     "text": [
      "_Dataset.pdf              adult_train_data.p        madelon_train.data.txt\n",
      "adult.data.csv            adult_train_labels.p      madelon_train.labels.txt\n",
      "adult.names.txt           madelon.param.txt         madelon_train_data.p\n",
      "adult.test.csv            madelon_test.data.txt     madelon_train_labels.p\n",
      "adult_test_data.p         madelon_test_data.p       madelon_valid.data.txt\n",
      "adult_test_labels.p       madelon_test_labels.p     madelon_valid.labels.txt\n"
     ]
    }
   ],
   "source": [
    "ls data"
   ]
  },
  {
   "cell_type": "markdown",
   "metadata": {},
   "source": [
    "## Loading the Adult Dataset"
   ]
  },
  {
   "cell_type": "code",
   "execution_count": 4,
   "metadata": {
    "collapsed": true
   },
   "outputs": [],
   "source": [
    "adult_feature_names = ['age', 'workclass', 'fnlwgt', 'education', 'education-num', \n",
    "                       'marital-status', 'occupation', 'relationship', \n",
    "                       'race', 'sex', 'capital-gain', 'capital-loss', \n",
    "                       'hours-per-week', 'native-country', 'target_class']"
   ]
  },
  {
   "cell_type": "code",
   "execution_count": 5,
   "metadata": {
    "collapsed": true
   },
   "outputs": [],
   "source": [
    "adult_df = pd.read_csv('data/adult.data.csv', header=None)\n",
    "adult_df.columns = adult_feature_names\n",
    "adult_data_df = adult_df.drop('target_class', axis=1)\n",
    "adult_labels_srs = adult_df['target_class']"
   ]
  },
  {
   "cell_type": "code",
   "execution_count": 6,
   "metadata": {},
   "outputs": [
    {
     "data": {
      "text/plain": [
       "Index                 80\n",
       "age               260488\n",
       "workclass         260488\n",
       "fnlwgt            260488\n",
       "education         260488\n",
       "education-num     260488\n",
       "marital-status    260488\n",
       "occupation        260488\n",
       "relationship      260488\n",
       "race              260488\n",
       "sex               260488\n",
       "capital-gain      260488\n",
       "capital-loss      260488\n",
       "hours-per-week    260488\n",
       "native-country    260488\n",
       "target_class      260488\n",
       "dtype: int64"
      ]
     },
     "execution_count": 6,
     "metadata": {},
     "output_type": "execute_result"
    }
   ],
   "source": [
    "adult_df.memory_usage()"
   ]
  },
  {
   "cell_type": "markdown",
   "metadata": {},
   "source": [
    "#### Encode Label Data"
   ]
  },
  {
   "cell_type": "code",
   "execution_count": 7,
   "metadata": {},
   "outputs": [
    {
     "data": {
      "text/plain": [
       "array([' <=50K', ' >50K'], dtype=object)"
      ]
     },
     "execution_count": 7,
     "metadata": {},
     "output_type": "execute_result"
    }
   ],
   "source": [
    "adult_labels_srs.unique()"
   ]
  },
  {
   "cell_type": "code",
   "execution_count": 8,
   "metadata": {
    "collapsed": true
   },
   "outputs": [],
   "source": [
    "from sklearn.preprocessing import LabelEncoder\n",
    "adult_labels_srs = pd.Series(LabelEncoder().fit_transform(adult_labels_srs))"
   ]
  },
  {
   "cell_type": "code",
   "execution_count": 9,
   "metadata": {},
   "outputs": [
    {
     "data": {
      "text/plain": [
       "array([0, 1])"
      ]
     },
     "execution_count": 9,
     "metadata": {},
     "output_type": "execute_result"
    }
   ],
   "source": [
    "adult_labels_srs.unique()"
   ]
  },
  {
   "cell_type": "markdown",
   "metadata": {},
   "source": [
    "#### Display Distribution of Classes"
   ]
  },
  {
   "cell_type": "code",
   "execution_count": 10,
   "metadata": {},
   "outputs": [
    {
     "data": {
      "image/png": "[encoded data removed]",
      "text/plain": [
       "<matplotlib.figure.Figure at 0x10f1f1a58>"
      ]
     },
     "metadata": {},
     "output_type": "display_data"
    }
   ],
   "source": [
    "plt.hist(adult_labels_srs);"
   ]
  },
  {
   "cell_type": "markdown",
   "metadata": {},
   "source": [
    "#### Set Aside Test Data"
   ]
  },
  {
   "cell_type": "code",
   "execution_count": 11,
   "metadata": {
    "collapsed": true
   },
   "outputs": [],
   "source": [
    "from sklearn.model_selection import train_test_split"
   ]
  },
  {
   "cell_type": "code",
   "execution_count": 12,
   "metadata": {
    "collapsed": true
   },
   "outputs": [],
   "source": [
    "adult_train_data, \\\n",
    "    adult_test_data, \\\n",
    "    adult_train_labels, \\\n",
    "    adult_test_labels = train_test_split(adult_data_df, adult_labels_srs, test_size=0.23, \n",
    "                                         random_state=42, stratify=adult_labels_srs)"
   ]
  },
  {
   "cell_type": "code",
   "execution_count": 13,
   "metadata": {
    "collapsed": true
   },
   "outputs": [],
   "source": [
    "adult_train_data = adult_train_data.copy()\n",
    "adult_test_data = adult_test_data.copy()\n",
    "adult_train_labels = adult_train_labels.copy()\n",
    "adult_test_labels = adult_test_labels.copy()"
   ]
  },
  {
   "cell_type": "markdown",
   "metadata": {},
   "source": [
    "#### Distribution of Target Class"
   ]
  },
  {
   "cell_type": "code",
   "execution_count": 14,
   "metadata": {},
   "outputs": [
    {
     "data": {
      "text/plain": [
       "<matplotlib.legend.Legend at 0x10f9b57f0>"
      ]
     },
     "execution_count": 14,
     "metadata": {},
     "output_type": "execute_result"
    },
    {
     "data": {
      "image/png": "[encoded data removed]",
      "text/plain": [
       "<matplotlib.figure.Figure at 0x1109f6780>"
      ]
     },
     "metadata": {},
     "output_type": "display_data"
    }
   ],
   "source": [
    "fig = plt.figure(figsize=(12,4))\n",
    "fig.add_subplot(1,2,1)\n",
    "plt.hist(adult_train_labels, label='train')\n",
    "plt.hist(adult_test_labels, label='test')\n",
    "plt.legend()\n",
    "fig.add_subplot(1,2,2)\n",
    "sns.distplot(adult_train_labels, label='train')\n",
    "sns.distplot(adult_test_labels, label='test')\n",
    "plt.legend()"
   ]
  },
  {
   "cell_type": "markdown",
   "metadata": {},
   "source": [
    "#### Shape of Data"
   ]
  },
  {
   "cell_type": "code",
   "execution_count": 15,
   "metadata": {},
   "outputs": [
    {
     "data": {
      "text/plain": [
       "((25071, 14), (7490, 14), (25071,), (7490,))"
      ]
     },
     "execution_count": 15,
     "metadata": {},
     "output_type": "execute_result"
    }
   ],
   "source": [
    "(adult_train_data.shape,\n",
    " adult_test_data.shape,\n",
    " adult_train_labels.shape,\n",
    " adult_test_labels.shape)"
   ]
  },
  {
   "cell_type": "markdown",
   "metadata": {},
   "source": [
    "#### Sample of Data"
   ]
  },
  {
   "cell_type": "code",
   "execution_count": 16,
   "metadata": {},
   "outputs": [
    {
     "data": {
      "text/html": [
       "<div>\n",
       "<style>\n",
       "    .dataframe thead tr:only-child th {\n",
       "        text-align: right;\n",
       "    }\n",
       "\n",
       "    .dataframe thead th {\n",
       "        text-align: left;\n",
       "    }\n",
       "\n",
       "    .dataframe tbody tr th {\n",
       "        vertical-align: top;\n",
       "    }\n",
       "</style>\n",
       "<table border=\"1\" class=\"dataframe\">\n",
       "  <thead>\n",
       "    <tr style=\"text-align: right;\">\n",
       "      <th></th>\n",
       "      <th>age</th>\n",
       "      <th>workclass</th>\n",
       "      <th>fnlwgt</th>\n",
       "      <th>education</th>\n",
       "      <th>education-num</th>\n",
       "      <th>marital-status</th>\n",
       "      <th>occupation</th>\n",
       "      <th>relationship</th>\n",
       "      <th>race</th>\n",
       "      <th>sex</th>\n",
       "      <th>capital-gain</th>\n",
       "      <th>capital-loss</th>\n",
       "      <th>hours-per-week</th>\n",
       "      <th>native-country</th>\n",
       "    </tr>\n",
       "  </thead>\n",
       "  <tbody>\n",
       "    <tr>\n",
       "      <th>18387</th>\n",
       "      <td>51</td>\n",
       "      <td>Local-gov</td>\n",
       "      <td>110327</td>\n",
       "      <td>Bachelors</td>\n",
       "      <td>13</td>\n",
       "      <td>Married-civ-spouse</td>\n",
       "      <td>Exec-managerial</td>\n",
       "      <td>Husband</td>\n",
       "      <td>White</td>\n",
       "      <td>Male</td>\n",
       "      <td>0</td>\n",
       "      <td>0</td>\n",
       "      <td>40</td>\n",
       "      <td>United-States</td>\n",
       "    </tr>\n",
       "    <tr>\n",
       "      <th>2230</th>\n",
       "      <td>59</td>\n",
       "      <td>Self-emp-not-inc</td>\n",
       "      <td>174056</td>\n",
       "      <td>Bachelors</td>\n",
       "      <td>13</td>\n",
       "      <td>Married-civ-spouse</td>\n",
       "      <td>Sales</td>\n",
       "      <td>Husband</td>\n",
       "      <td>White</td>\n",
       "      <td>Male</td>\n",
       "      <td>15024</td>\n",
       "      <td>0</td>\n",
       "      <td>40</td>\n",
       "      <td>United-States</td>\n",
       "    </tr>\n",
       "    <tr>\n",
       "      <th>25454</th>\n",
       "      <td>54</td>\n",
       "      <td>Local-gov</td>\n",
       "      <td>196307</td>\n",
       "      <td>10th</td>\n",
       "      <td>6</td>\n",
       "      <td>Married-civ-spouse</td>\n",
       "      <td>Adm-clerical</td>\n",
       "      <td>Husband</td>\n",
       "      <td>White</td>\n",
       "      <td>Male</td>\n",
       "      <td>0</td>\n",
       "      <td>0</td>\n",
       "      <td>40</td>\n",
       "      <td>United-States</td>\n",
       "    </tr>\n",
       "    <tr>\n",
       "      <th>3201</th>\n",
       "      <td>28</td>\n",
       "      <td>Private</td>\n",
       "      <td>142264</td>\n",
       "      <td>9th</td>\n",
       "      <td>5</td>\n",
       "      <td>Never-married</td>\n",
       "      <td>Machine-op-inspct</td>\n",
       "      <td>Not-in-family</td>\n",
       "      <td>White</td>\n",
       "      <td>Male</td>\n",
       "      <td>0</td>\n",
       "      <td>0</td>\n",
       "      <td>50</td>\n",
       "      <td>Dominican-Republic</td>\n",
       "    </tr>\n",
       "  </tbody>\n",
       "</table>\n",
       "</div>"
      ],
      "text/plain": [
       "       age          workclass  fnlwgt   education  education-num  \\\n",
       "18387   51          Local-gov  110327   Bachelors             13   \n",
       "2230    59   Self-emp-not-inc  174056   Bachelors             13   \n",
       "25454   54          Local-gov  196307        10th              6   \n",
       "3201    28            Private  142264         9th              5   \n",
       "\n",
       "            marital-status          occupation    relationship    race    sex  \\\n",
       "18387   Married-civ-spouse     Exec-managerial         Husband   White   Male   \n",
       "2230    Married-civ-spouse               Sales         Husband   White   Male   \n",
       "25454   Married-civ-spouse        Adm-clerical         Husband   White   Male   \n",
       "3201         Never-married   Machine-op-inspct   Not-in-family   White   Male   \n",
       "\n",
       "       capital-gain  capital-loss  hours-per-week       native-country  \n",
       "18387             0             0              40        United-States  \n",
       "2230          15024             0              40        United-States  \n",
       "25454             0             0              40        United-States  \n",
       "3201              0             0              50   Dominican-Republic  "
      ]
     },
     "metadata": {},
     "output_type": "display_data"
    },
    {
     "data": {
      "text/html": [
       "<div>\n",
       "<style>\n",
       "    .dataframe thead tr:only-child th {\n",
       "        text-align: right;\n",
       "    }\n",
       "\n",
       "    .dataframe thead th {\n",
       "        text-align: left;\n",
       "    }\n",
       "\n",
       "    .dataframe tbody tr th {\n",
       "        vertical-align: top;\n",
       "    }\n",
       "</style>\n",
       "<table border=\"1\" class=\"dataframe\">\n",
       "  <thead>\n",
       "    <tr style=\"text-align: right;\">\n",
       "      <th></th>\n",
       "      <th>age</th>\n",
       "      <th>workclass</th>\n",
       "      <th>fnlwgt</th>\n",
       "      <th>education</th>\n",
       "      <th>education-num</th>\n",
       "      <th>marital-status</th>\n",
       "      <th>occupation</th>\n",
       "      <th>relationship</th>\n",
       "      <th>race</th>\n",
       "      <th>sex</th>\n",
       "      <th>capital-gain</th>\n",
       "      <th>capital-loss</th>\n",
       "      <th>hours-per-week</th>\n",
       "      <th>native-country</th>\n",
       "    </tr>\n",
       "  </thead>\n",
       "  <tbody>\n",
       "    <tr>\n",
       "      <th>370</th>\n",
       "      <td>26</td>\n",
       "      <td>Federal-gov</td>\n",
       "      <td>185885</td>\n",
       "      <td>Some-college</td>\n",
       "      <td>10</td>\n",
       "      <td>Never-married</td>\n",
       "      <td>Adm-clerical</td>\n",
       "      <td>Unmarried</td>\n",
       "      <td>White</td>\n",
       "      <td>Female</td>\n",
       "      <td>0</td>\n",
       "      <td>0</td>\n",
       "      <td>15</td>\n",
       "      <td>United-States</td>\n",
       "    </tr>\n",
       "    <tr>\n",
       "      <th>4560</th>\n",
       "      <td>24</td>\n",
       "      <td>Private</td>\n",
       "      <td>403671</td>\n",
       "      <td>Some-college</td>\n",
       "      <td>10</td>\n",
       "      <td>Never-married</td>\n",
       "      <td>Machine-op-inspct</td>\n",
       "      <td>Not-in-family</td>\n",
       "      <td>White</td>\n",
       "      <td>Male</td>\n",
       "      <td>0</td>\n",
       "      <td>0</td>\n",
       "      <td>40</td>\n",
       "      <td>United-States</td>\n",
       "    </tr>\n",
       "    <tr>\n",
       "      <th>2282</th>\n",
       "      <td>31</td>\n",
       "      <td>Private</td>\n",
       "      <td>219509</td>\n",
       "      <td>HS-grad</td>\n",
       "      <td>9</td>\n",
       "      <td>Married-civ-spouse</td>\n",
       "      <td>Other-service</td>\n",
       "      <td>Husband</td>\n",
       "      <td>White</td>\n",
       "      <td>Male</td>\n",
       "      <td>0</td>\n",
       "      <td>0</td>\n",
       "      <td>40</td>\n",
       "      <td>Mexico</td>\n",
       "    </tr>\n",
       "    <tr>\n",
       "      <th>7101</th>\n",
       "      <td>37</td>\n",
       "      <td>Private</td>\n",
       "      <td>120045</td>\n",
       "      <td>HS-grad</td>\n",
       "      <td>9</td>\n",
       "      <td>Divorced</td>\n",
       "      <td>Machine-op-inspct</td>\n",
       "      <td>Not-in-family</td>\n",
       "      <td>White</td>\n",
       "      <td>Female</td>\n",
       "      <td>0</td>\n",
       "      <td>0</td>\n",
       "      <td>56</td>\n",
       "      <td>United-States</td>\n",
       "    </tr>\n",
       "  </tbody>\n",
       "</table>\n",
       "</div>"
      ],
      "text/plain": [
       "      age     workclass  fnlwgt      education  education-num  \\\n",
       "370    26   Federal-gov  185885   Some-college             10   \n",
       "4560   24       Private  403671   Some-college             10   \n",
       "2282   31       Private  219509        HS-grad              9   \n",
       "7101   37       Private  120045        HS-grad              9   \n",
       "\n",
       "           marital-status          occupation    relationship    race  \\\n",
       "370         Never-married        Adm-clerical       Unmarried   White   \n",
       "4560        Never-married   Machine-op-inspct   Not-in-family   White   \n",
       "2282   Married-civ-spouse       Other-service         Husband   White   \n",
       "7101             Divorced   Machine-op-inspct   Not-in-family   White   \n",
       "\n",
       "          sex  capital-gain  capital-loss  hours-per-week  native-country  \n",
       "370    Female             0             0              15   United-States  \n",
       "4560     Male             0             0              40   United-States  \n",
       "2282     Male             0             0              40          Mexico  \n",
       "7101   Female             0             0              56   United-States  "
      ]
     },
     "metadata": {},
     "output_type": "display_data"
    }
   ],
   "source": [
    "display(adult_train_data.sample(4))\n",
    "display(adult_test_data.sample(4))"
   ]
  },
  {
   "cell_type": "markdown",
   "metadata": {},
   "source": [
    "## Loading the Madelon Dataset"
   ]
  },
  {
   "cell_type": "markdown",
   "metadata": {},
   "source": [
    "#### Training Data"
   ]
  },
  {
   "cell_type": "code",
   "execution_count": 17,
   "metadata": {
    "collapsed": true
   },
   "outputs": [],
   "source": [
    "madelon_train_data = pd.read_csv('data/madelon_train.data.txt', header=None, sep=\" \")\n",
    "madelon_train_data.drop(500, axis=1, inplace=True)\n",
    "madelon_train_labels = pd.read_csv('data/madelon_train.labels.txt', header=None)[0]"
   ]
  },
  {
   "cell_type": "markdown",
   "metadata": {},
   "source": [
    "#### Test Data"
   ]
  },
  {
   "cell_type": "code",
   "execution_count": 18,
   "metadata": {
    "collapsed": true
   },
   "outputs": [],
   "source": [
    "madelon_test_data = pd.read_csv('data/madelon_valid.data.txt', header=None, sep=\" \")\n",
    "madelon_test_data.drop(500, axis=1, inplace=True)\n",
    "madelon_test_labels = pd.read_csv('data/madelon_valid.labels.txt', header=None)[0]"
   ]
  },
  {
   "cell_type": "markdown",
   "metadata": {},
   "source": [
    "#### Distribution of Target Class"
   ]
  },
  {
   "cell_type": "code",
   "execution_count": 19,
   "metadata": {},
   "outputs": [
    {
     "data": {
      "text/plain": [
       "<matplotlib.legend.Legend at 0x1108dd4a8>"
      ]
     },
     "execution_count": 19,
     "metadata": {},
     "output_type": "execute_result"
    },
    {
     "data": {
      "image/png": "[encoded data removed]",
      "text/plain": [
       "<matplotlib.figure.Figure at 0x1109f6400>"
      ]
     },
     "metadata": {},
     "output_type": "display_data"
    }
   ],
   "source": [
    "fig = plt.figure(figsize=(12,4))\n",
    "fig.add_subplot(1,2,1)\n",
    "plt.hist(madelon_train_labels, label='train')\n",
    "plt.hist(madelon_test_labels, label='test')\n",
    "plt.legend()\n",
    "fig.add_subplot(1,2,2)\n",
    "sns.distplot(madelon_train_labels, label='train')\n",
    "sns.distplot(madelon_test_labels, label='test')\n",
    "plt.legend()"
   ]
  },
  {
   "cell_type": "markdown",
   "metadata": {},
   "source": [
    "#### Data Shape"
   ]
  },
  {
   "cell_type": "code",
   "execution_count": 20,
   "metadata": {},
   "outputs": [
    {
     "data": {
      "text/plain": [
       "((2000, 500), (2000,), (600, 500), (600,))"
      ]
     },
     "execution_count": 20,
     "metadata": {},
     "output_type": "execute_result"
    }
   ],
   "source": [
    "(madelon_train_data.shape, \n",
    " madelon_train_labels.shape,\n",
    " madelon_test_data.shape,\n",
    " madelon_test_labels.shape)"
   ]
  },
  {
   "cell_type": "markdown",
   "metadata": {},
   "source": [
    "#### Samples of Each Set"
   ]
  },
  {
   "cell_type": "code",
   "execution_count": 21,
   "metadata": {},
   "outputs": [
    {
     "data": {
      "text/html": [
       "<div>\n",
       "<style>\n",
       "    .dataframe thead tr:only-child th {\n",
       "        text-align: right;\n",
       "    }\n",
       "\n",
       "    .dataframe thead th {\n",
       "        text-align: left;\n",
       "    }\n",
       "\n",
       "    .dataframe tbody tr th {\n",
       "        vertical-align: top;\n",
       "    }\n",
       "</style>\n",
       "<table border=\"1\" class=\"dataframe\">\n",
       "  <thead>\n",
       "    <tr style=\"text-align: right;\">\n",
       "      <th></th>\n",
       "      <th>0</th>\n",
       "      <th>1</th>\n",
       "      <th>2</th>\n",
       "      <th>3</th>\n",
       "      <th>4</th>\n",
       "      <th>5</th>\n",
       "      <th>6</th>\n",
       "      <th>7</th>\n",
       "      <th>8</th>\n",
       "      <th>9</th>\n",
       "      <th>...</th>\n",
       "      <th>490</th>\n",
       "      <th>491</th>\n",
       "      <th>492</th>\n",
       "      <th>493</th>\n",
       "      <th>494</th>\n",
       "      <th>495</th>\n",
       "      <th>496</th>\n",
       "      <th>497</th>\n",
       "      <th>498</th>\n",
       "      <th>499</th>\n",
       "    </tr>\n",
       "  </thead>\n",
       "  <tbody>\n",
       "    <tr>\n",
       "      <th>1787</th>\n",
       "      <td>479</td>\n",
       "      <td>484</td>\n",
       "      <td>530</td>\n",
       "      <td>473</td>\n",
       "      <td>585</td>\n",
       "      <td>481</td>\n",
       "      <td>484</td>\n",
       "      <td>477</td>\n",
       "      <td>471</td>\n",
       "      <td>490</td>\n",
       "      <td>...</td>\n",
       "      <td>487</td>\n",
       "      <td>485</td>\n",
       "      <td>490</td>\n",
       "      <td>603</td>\n",
       "      <td>492</td>\n",
       "      <td>513</td>\n",
       "      <td>484</td>\n",
       "      <td>481</td>\n",
       "      <td>472</td>\n",
       "      <td>525</td>\n",
       "    </tr>\n",
       "    <tr>\n",
       "      <th>506</th>\n",
       "      <td>483</td>\n",
       "      <td>460</td>\n",
       "      <td>537</td>\n",
       "      <td>479</td>\n",
       "      <td>474</td>\n",
       "      <td>490</td>\n",
       "      <td>474</td>\n",
       "      <td>475</td>\n",
       "      <td>493</td>\n",
       "      <td>474</td>\n",
       "      <td>...</td>\n",
       "      <td>496</td>\n",
       "      <td>480</td>\n",
       "      <td>485</td>\n",
       "      <td>690</td>\n",
       "      <td>429</td>\n",
       "      <td>524</td>\n",
       "      <td>478</td>\n",
       "      <td>461</td>\n",
       "      <td>603</td>\n",
       "      <td>518</td>\n",
       "    </tr>\n",
       "    <tr>\n",
       "      <th>1118</th>\n",
       "      <td>476</td>\n",
       "      <td>484</td>\n",
       "      <td>466</td>\n",
       "      <td>485</td>\n",
       "      <td>472</td>\n",
       "      <td>482</td>\n",
       "      <td>478</td>\n",
       "      <td>475</td>\n",
       "      <td>477</td>\n",
       "      <td>484</td>\n",
       "      <td>...</td>\n",
       "      <td>466</td>\n",
       "      <td>477</td>\n",
       "      <td>462</td>\n",
       "      <td>393</td>\n",
       "      <td>459</td>\n",
       "      <td>524</td>\n",
       "      <td>475</td>\n",
       "      <td>483</td>\n",
       "      <td>492</td>\n",
       "      <td>445</td>\n",
       "    </tr>\n",
       "    <tr>\n",
       "      <th>1627</th>\n",
       "      <td>483</td>\n",
       "      <td>490</td>\n",
       "      <td>526</td>\n",
       "      <td>476</td>\n",
       "      <td>516</td>\n",
       "      <td>497</td>\n",
       "      <td>418</td>\n",
       "      <td>477</td>\n",
       "      <td>451</td>\n",
       "      <td>500</td>\n",
       "      <td>...</td>\n",
       "      <td>432</td>\n",
       "      <td>482</td>\n",
       "      <td>532</td>\n",
       "      <td>486</td>\n",
       "      <td>463</td>\n",
       "      <td>521</td>\n",
       "      <td>485</td>\n",
       "      <td>470</td>\n",
       "      <td>462</td>\n",
       "      <td>470</td>\n",
       "    </tr>\n",
       "  </tbody>\n",
       "</table>\n",
       "<p>4 rows × 500 columns</p>\n",
       "</div>"
      ],
      "text/plain": [
       "      0    1    2    3    4    5    6    7    8    9   ...   490  491  492  \\\n",
       "1787  479  484  530  473  585  481  484  477  471  490 ...   487  485  490   \n",
       "506   483  460  537  479  474  490  474  475  493  474 ...   496  480  485   \n",
       "1118  476  484  466  485  472  482  478  475  477  484 ...   466  477  462   \n",
       "1627  483  490  526  476  516  497  418  477  451  500 ...   432  482  532   \n",
       "\n",
       "      493  494  495  496  497  498  499  \n",
       "1787  603  492  513  484  481  472  525  \n",
       "506   690  429  524  478  461  603  518  \n",
       "1118  393  459  524  475  483  492  445  \n",
       "1627  486  463  521  485  470  462  470  \n",
       "\n",
       "[4 rows x 500 columns]"
      ]
     },
     "metadata": {},
     "output_type": "display_data"
    },
    {
     "data": {
      "text/html": [
       "<div>\n",
       "<style>\n",
       "    .dataframe thead tr:only-child th {\n",
       "        text-align: right;\n",
       "    }\n",
       "\n",
       "    .dataframe thead th {\n",
       "        text-align: left;\n",
       "    }\n",
       "\n",
       "    .dataframe tbody tr th {\n",
       "        vertical-align: top;\n",
       "    }\n",
       "</style>\n",
       "<table border=\"1\" class=\"dataframe\">\n",
       "  <thead>\n",
       "    <tr style=\"text-align: right;\">\n",
       "      <th></th>\n",
       "      <th>0</th>\n",
       "      <th>1</th>\n",
       "      <th>2</th>\n",
       "      <th>3</th>\n",
       "      <th>4</th>\n",
       "      <th>5</th>\n",
       "      <th>6</th>\n",
       "      <th>7</th>\n",
       "      <th>8</th>\n",
       "      <th>9</th>\n",
       "      <th>...</th>\n",
       "      <th>490</th>\n",
       "      <th>491</th>\n",
       "      <th>492</th>\n",
       "      <th>493</th>\n",
       "      <th>494</th>\n",
       "      <th>495</th>\n",
       "      <th>496</th>\n",
       "      <th>497</th>\n",
       "      <th>498</th>\n",
       "      <th>499</th>\n",
       "    </tr>\n",
       "  </thead>\n",
       "  <tbody>\n",
       "    <tr>\n",
       "      <th>467</th>\n",
       "      <td>478</td>\n",
       "      <td>410</td>\n",
       "      <td>583</td>\n",
       "      <td>492</td>\n",
       "      <td>515</td>\n",
       "      <td>485</td>\n",
       "      <td>446</td>\n",
       "      <td>478</td>\n",
       "      <td>479</td>\n",
       "      <td>479</td>\n",
       "      <td>...</td>\n",
       "      <td>466</td>\n",
       "      <td>482</td>\n",
       "      <td>484</td>\n",
       "      <td>570</td>\n",
       "      <td>534</td>\n",
       "      <td>479</td>\n",
       "      <td>482</td>\n",
       "      <td>477</td>\n",
       "      <td>454</td>\n",
       "      <td>529</td>\n",
       "    </tr>\n",
       "    <tr>\n",
       "      <th>31</th>\n",
       "      <td>480</td>\n",
       "      <td>508</td>\n",
       "      <td>549</td>\n",
       "      <td>495</td>\n",
       "      <td>541</td>\n",
       "      <td>468</td>\n",
       "      <td>476</td>\n",
       "      <td>475</td>\n",
       "      <td>497</td>\n",
       "      <td>474</td>\n",
       "      <td>...</td>\n",
       "      <td>486</td>\n",
       "      <td>475</td>\n",
       "      <td>501</td>\n",
       "      <td>755</td>\n",
       "      <td>504</td>\n",
       "      <td>543</td>\n",
       "      <td>478</td>\n",
       "      <td>477</td>\n",
       "      <td>498</td>\n",
       "      <td>491</td>\n",
       "    </tr>\n",
       "    <tr>\n",
       "      <th>206</th>\n",
       "      <td>479</td>\n",
       "      <td>440</td>\n",
       "      <td>549</td>\n",
       "      <td>477</td>\n",
       "      <td>531</td>\n",
       "      <td>471</td>\n",
       "      <td>450</td>\n",
       "      <td>480</td>\n",
       "      <td>481</td>\n",
       "      <td>478</td>\n",
       "      <td>...</td>\n",
       "      <td>489</td>\n",
       "      <td>475</td>\n",
       "      <td>492</td>\n",
       "      <td>375</td>\n",
       "      <td>429</td>\n",
       "      <td>486</td>\n",
       "      <td>483</td>\n",
       "      <td>478</td>\n",
       "      <td>473</td>\n",
       "      <td>510</td>\n",
       "    </tr>\n",
       "    <tr>\n",
       "      <th>268</th>\n",
       "      <td>477</td>\n",
       "      <td>523</td>\n",
       "      <td>566</td>\n",
       "      <td>492</td>\n",
       "      <td>447</td>\n",
       "      <td>488</td>\n",
       "      <td>497</td>\n",
       "      <td>479</td>\n",
       "      <td>467</td>\n",
       "      <td>470</td>\n",
       "      <td>...</td>\n",
       "      <td>475</td>\n",
       "      <td>481</td>\n",
       "      <td>499</td>\n",
       "      <td>632</td>\n",
       "      <td>513</td>\n",
       "      <td>582</td>\n",
       "      <td>478</td>\n",
       "      <td>502</td>\n",
       "      <td>508</td>\n",
       "      <td>484</td>\n",
       "    </tr>\n",
       "  </tbody>\n",
       "</table>\n",
       "<p>4 rows × 500 columns</p>\n",
       "</div>"
      ],
      "text/plain": [
       "     0    1    2    3    4    5    6    7    8    9   ...   490  491  492  \\\n",
       "467  478  410  583  492  515  485  446  478  479  479 ...   466  482  484   \n",
       "31   480  508  549  495  541  468  476  475  497  474 ...   486  475  501   \n",
       "206  479  440  549  477  531  471  450  480  481  478 ...   489  475  492   \n",
       "268  477  523  566  492  447  488  497  479  467  470 ...   475  481  499   \n",
       "\n",
       "     493  494  495  496  497  498  499  \n",
       "467  570  534  479  482  477  454  529  \n",
       "31   755  504  543  478  477  498  491  \n",
       "206  375  429  486  483  478  473  510  \n",
       "268  632  513  582  478  502  508  484  \n",
       "\n",
       "[4 rows x 500 columns]"
      ]
     },
     "metadata": {},
     "output_type": "display_data"
    }
   ],
   "source": [
    "display(madelon_train_data.sample(4))\n",
    "display(madelon_test_data.sample(4))"
   ]
  },
  {
   "cell_type": "markdown",
   "metadata": {},
   "source": [
    "## Fill the nan values/missing values."
   ]
  },
  {
   "cell_type": "markdown",
   "metadata": {},
   "source": [
    "#### Training Data with NA values"
   ]
  },
  {
   "cell_type": "code",
   "execution_count": 22,
   "metadata": {},
   "outputs": [
    {
     "name": "stdout",
     "output_type": "stream",
     "text": [
      "workclass 1411\n",
      "education 0\n",
      "marital-status 0\n",
      "occupation 1417\n",
      "relationship 0\n",
      "race 0\n",
      "sex 0\n",
      "native-country 443\n"
     ]
    }
   ],
   "source": [
    "for col in adult_train_data.columns:\n",
    "    if adult_train_data[col].dtype == object:\n",
    "        print(col, adult_train_data[col].str.contains(' \\?').sum())"
   ]
  },
  {
   "cell_type": "markdown",
   "metadata": {},
   "source": [
    "#### Testing Data with NA values"
   ]
  },
  {
   "cell_type": "code",
   "execution_count": 23,
   "metadata": {},
   "outputs": [
    {
     "name": "stdout",
     "output_type": "stream",
     "text": [
      "workclass 425\n",
      "education 0\n",
      "marital-status 0\n",
      "occupation 426\n",
      "relationship 0\n",
      "race 0\n",
      "sex 0\n",
      "native-country 140\n"
     ]
    }
   ],
   "source": [
    "for col in adult_test_data.columns:\n",
    "    if adult_test_data[col].dtype == object:\n",
    "        print(col, adult_test_data[col].str.contains(' \\?').sum())"
   ]
  },
  {
   "cell_type": "markdown",
   "metadata": {},
   "source": [
    "#### Replace `' ?'` with `np.nan`"
   ]
  },
  {
   "cell_type": "code",
   "execution_count": 24,
   "metadata": {
    "collapsed": true
   },
   "outputs": [],
   "source": [
    "columns_with_na_vals = ['workclass', 'occupation', 'native-country']"
   ]
  },
  {
   "cell_type": "code",
   "execution_count": 25,
   "metadata": {
    "collapsed": true
   },
   "outputs": [],
   "source": [
    "for col in columns_with_na_vals:\n",
    "    adult_train_data[col] = (adult_train_data[col]\n",
    "                             .replace(to_replace=' ?', value=np.nan))\n",
    "    adult_test_data[col] = (adult_test_data[col]\n",
    "                            .replace(to_replace=' ?', value=np.nan))\n",
    "    "
   ]
  },
  {
   "cell_type": "markdown",
   "metadata": {},
   "source": [
    "#### Training Data with NA values"
   ]
  },
  {
   "cell_type": "code",
   "execution_count": 26,
   "metadata": {},
   "outputs": [
    {
     "name": "stdout",
     "output_type": "stream",
     "text": [
      "workclass 0\n",
      "education 0\n",
      "marital-status 0\n",
      "occupation 0\n",
      "relationship 0\n",
      "race 0\n",
      "sex 0\n",
      "native-country 0\n"
     ]
    }
   ],
   "source": [
    "for col in adult_train_data.columns:\n",
    "    if adult_train_data[col].dtype == object:\n",
    "        print(col, adult_train_data[col].str.contains(' \\?').sum())"
   ]
  },
  {
   "cell_type": "markdown",
   "metadata": {},
   "source": [
    "#### Testing Data with NA values"
   ]
  },
  {
   "cell_type": "code",
   "execution_count": 27,
   "metadata": {},
   "outputs": [
    {
     "name": "stdout",
     "output_type": "stream",
     "text": [
      "workclass 0\n",
      "education 0\n",
      "marital-status 0\n",
      "occupation 0\n",
      "relationship 0\n",
      "race 0\n",
      "sex 0\n",
      "native-country 0\n"
     ]
    }
   ],
   "source": [
    "for col in adult_test_data.columns:\n",
    "    if adult_test_data[col].dtype == object:\n",
    "        print(col, adult_test_data[col].str.contains(' \\?').sum())"
   ]
  },
  {
   "cell_type": "code",
   "execution_count": 28,
   "metadata": {},
   "outputs": [
    {
     "name": "stdout",
     "output_type": "stream",
     "text": [
      "workclass 1411\n",
      "education 0\n",
      "marital-status 0\n",
      "occupation 1417\n",
      "relationship 0\n",
      "race 0\n",
      "sex 0\n",
      "native-country 443\n"
     ]
    }
   ],
   "source": [
    "for col in adult_train_data.columns:\n",
    "    if adult_train_data[col].dtype == object:\n",
    "        print(col, sum(adult_train_data[col].isnull()))"
   ]
  },
  {
   "cell_type": "code",
   "execution_count": 29,
   "metadata": {},
   "outputs": [
    {
     "name": "stdout",
     "output_type": "stream",
     "text": [
      "workclass 425\n",
      "education 0\n",
      "marital-status 0\n",
      "occupation 426\n",
      "relationship 0\n",
      "race 0\n",
      "sex 0\n",
      "native-country 140\n"
     ]
    }
   ],
   "source": [
    "for col in adult_test_data.columns:\n",
    "    if adult_test_data[col].dtype == object:\n",
    "        print(col, sum(adult_test_data[col].isnull()))"
   ]
  },
  {
   "cell_type": "code",
   "execution_count": 30,
   "metadata": {
    "collapsed": true
   },
   "outputs": [],
   "source": [
    "workclass_null_indices = set(adult_train_data[adult_train_data['workclass'].isnull()].index)\n",
    "occupation_null_indices = set(adult_train_data[adult_train_data['occupation'].isnull()].index)\n",
    "native_country_null_indices = set(adult_train_data[adult_train_data['native-country'].isnull()].index)"
   ]
  },
  {
   "cell_type": "code",
   "execution_count": 31,
   "metadata": {},
   "outputs": [
    {
     "data": {
      "text/plain": [
       "0.07339156794703043"
      ]
     },
     "execution_count": 31,
     "metadata": {},
     "output_type": "execute_result"
    }
   ],
   "source": [
    "len(workclass_null_indices | occupation_null_indices | native_country_null_indices)/len(adult_train_data)"
   ]
  },
  {
   "cell_type": "code",
   "execution_count": 32,
   "metadata": {
    "collapsed": true
   },
   "outputs": [],
   "source": [
    "workclass_null_indices = set(adult_test_data[adult_test_data['workclass'].isnull()].index)\n",
    "occupation_null_indices = set(adult_test_data[adult_test_data['occupation'].isnull()].index)\n",
    "native_country_null_indices = set(adult_test_data[adult_test_data['native-country'].isnull()].index)"
   ]
  },
  {
   "cell_type": "code",
   "execution_count": 33,
   "metadata": {},
   "outputs": [
    {
     "data": {
      "text/plain": [
       "0.0746328437917223"
      ]
     },
     "execution_count": 33,
     "metadata": {},
     "output_type": "execute_result"
    }
   ],
   "source": [
    "len(workclass_null_indices | occupation_null_indices | native_country_null_indices)/len(adult_test_data)"
   ]
  },
  {
   "cell_type": "code",
   "execution_count": null,
   "metadata": {
    "collapsed": true
   },
   "outputs": [],
   "source": []
  },
  {
   "cell_type": "markdown",
   "metadata": {},
   "source": [
    "## Check the data types"
   ]
  },
  {
   "cell_type": "code",
   "execution_count": 34,
   "metadata": {
    "collapsed": true
   },
   "outputs": [],
   "source": [
    "actual_types = ['continuous','categorical','continuous','categorical','continuous','categorical','categorical','categorical','categorical','categorical','continuous','continuous','continuous','categorical']"
   ]
  },
  {
   "cell_type": "code",
   "execution_count": 35,
   "metadata": {
    "collapsed": true
   },
   "outputs": [],
   "source": [
    "actual_types = pd.Series(actual_types, index=adult_train_data.dtypes.index)"
   ]
  },
  {
   "cell_type": "code",
   "execution_count": 36,
   "metadata": {},
   "outputs": [
    {
     "data": {
      "text/html": [
       "<div>\n",
       "<style>\n",
       "    .dataframe thead tr:only-child th {\n",
       "        text-align: right;\n",
       "    }\n",
       "\n",
       "    .dataframe thead th {\n",
       "        text-align: left;\n",
       "    }\n",
       "\n",
       "    .dataframe tbody tr th {\n",
       "        vertical-align: top;\n",
       "    }\n",
       "</style>\n",
       "<table border=\"1\" class=\"dataframe\">\n",
       "  <thead>\n",
       "    <tr style=\"text-align: right;\">\n",
       "      <th></th>\n",
       "      <th>train_set</th>\n",
       "      <th>test_set</th>\n",
       "      <th>actual_types</th>\n",
       "    </tr>\n",
       "  </thead>\n",
       "  <tbody>\n",
       "    <tr>\n",
       "      <th>age</th>\n",
       "      <td>int64</td>\n",
       "      <td>int64</td>\n",
       "      <td>continuous</td>\n",
       "    </tr>\n",
       "    <tr>\n",
       "      <th>workclass</th>\n",
       "      <td>object</td>\n",
       "      <td>object</td>\n",
       "      <td>categorical</td>\n",
       "    </tr>\n",
       "    <tr>\n",
       "      <th>fnlwgt</th>\n",
       "      <td>int64</td>\n",
       "      <td>int64</td>\n",
       "      <td>continuous</td>\n",
       "    </tr>\n",
       "    <tr>\n",
       "      <th>education</th>\n",
       "      <td>object</td>\n",
       "      <td>object</td>\n",
       "      <td>categorical</td>\n",
       "    </tr>\n",
       "    <tr>\n",
       "      <th>education-num</th>\n",
       "      <td>int64</td>\n",
       "      <td>int64</td>\n",
       "      <td>continuous</td>\n",
       "    </tr>\n",
       "    <tr>\n",
       "      <th>marital-status</th>\n",
       "      <td>object</td>\n",
       "      <td>object</td>\n",
       "      <td>categorical</td>\n",
       "    </tr>\n",
       "    <tr>\n",
       "      <th>occupation</th>\n",
       "      <td>object</td>\n",
       "      <td>object</td>\n",
       "      <td>categorical</td>\n",
       "    </tr>\n",
       "    <tr>\n",
       "      <th>relationship</th>\n",
       "      <td>object</td>\n",
       "      <td>object</td>\n",
       "      <td>categorical</td>\n",
       "    </tr>\n",
       "    <tr>\n",
       "      <th>race</th>\n",
       "      <td>object</td>\n",
       "      <td>object</td>\n",
       "      <td>categorical</td>\n",
       "    </tr>\n",
       "    <tr>\n",
       "      <th>sex</th>\n",
       "      <td>object</td>\n",
       "      <td>object</td>\n",
       "      <td>categorical</td>\n",
       "    </tr>\n",
       "    <tr>\n",
       "      <th>capital-gain</th>\n",
       "      <td>int64</td>\n",
       "      <td>int64</td>\n",
       "      <td>continuous</td>\n",
       "    </tr>\n",
       "    <tr>\n",
       "      <th>capital-loss</th>\n",
       "      <td>int64</td>\n",
       "      <td>int64</td>\n",
       "      <td>continuous</td>\n",
       "    </tr>\n",
       "    <tr>\n",
       "      <th>hours-per-week</th>\n",
       "      <td>int64</td>\n",
       "      <td>int64</td>\n",
       "      <td>continuous</td>\n",
       "    </tr>\n",
       "    <tr>\n",
       "      <th>native-country</th>\n",
       "      <td>object</td>\n",
       "      <td>object</td>\n",
       "      <td>categorical</td>\n",
       "    </tr>\n",
       "  </tbody>\n",
       "</table>\n",
       "</div>"
      ],
      "text/plain": [
       "               train_set test_set actual_types\n",
       "age                int64    int64   continuous\n",
       "workclass         object   object  categorical\n",
       "fnlwgt             int64    int64   continuous\n",
       "education         object   object  categorical\n",
       "education-num      int64    int64   continuous\n",
       "marital-status    object   object  categorical\n",
       "occupation        object   object  categorical\n",
       "relationship      object   object  categorical\n",
       "race              object   object  categorical\n",
       "sex               object   object  categorical\n",
       "capital-gain       int64    int64   continuous\n",
       "capital-loss       int64    int64   continuous\n",
       "hours-per-week     int64    int64   continuous\n",
       "native-country    object   object  categorical"
      ]
     },
     "execution_count": 36,
     "metadata": {},
     "output_type": "execute_result"
    }
   ],
   "source": [
    "pd.DataFrame([adult_train_data.dtypes, adult_test_data.dtypes, actual_types], \n",
    "             index=['train_set','test_set', 'actual_types']).T"
   ]
  },
  {
   "cell_type": "code",
   "execution_count": 37,
   "metadata": {
    "collapsed": true
   },
   "outputs": [],
   "source": [
    "for col in adult_train_data.columns:\n",
    "    if adult_train_data[col].dtype == object:\n",
    "        adult_train_data[col] = adult_train_data[col].astype('category')"
   ]
  },
  {
   "cell_type": "code",
   "execution_count": 38,
   "metadata": {
    "collapsed": true
   },
   "outputs": [],
   "source": [
    "for col in adult_test_data.columns:\n",
    "    if adult_test_data[col].dtype == object:\n",
    "        adult_test_data[col] = adult_test_data[col].astype('category')"
   ]
  },
  {
   "cell_type": "code",
   "execution_count": 39,
   "metadata": {},
   "outputs": [
    {
     "data": {
      "text/html": [
       "<div>\n",
       "<style>\n",
       "    .dataframe thead tr:only-child th {\n",
       "        text-align: right;\n",
       "    }\n",
       "\n",
       "    .dataframe thead th {\n",
       "        text-align: left;\n",
       "    }\n",
       "\n",
       "    .dataframe tbody tr th {\n",
       "        vertical-align: top;\n",
       "    }\n",
       "</style>\n",
       "<table border=\"1\" class=\"dataframe\">\n",
       "  <thead>\n",
       "    <tr style=\"text-align: right;\">\n",
       "      <th></th>\n",
       "      <th>train_set</th>\n",
       "      <th>test_set</th>\n",
       "      <th>actual_types</th>\n",
       "    </tr>\n",
       "  </thead>\n",
       "  <tbody>\n",
       "    <tr>\n",
       "      <th>age</th>\n",
       "      <td>int64</td>\n",
       "      <td>int64</td>\n",
       "      <td>continuous</td>\n",
       "    </tr>\n",
       "    <tr>\n",
       "      <th>workclass</th>\n",
       "      <td>category</td>\n",
       "      <td>category</td>\n",
       "      <td>categorical</td>\n",
       "    </tr>\n",
       "    <tr>\n",
       "      <th>fnlwgt</th>\n",
       "      <td>int64</td>\n",
       "      <td>int64</td>\n",
       "      <td>continuous</td>\n",
       "    </tr>\n",
       "    <tr>\n",
       "      <th>education</th>\n",
       "      <td>category</td>\n",
       "      <td>category</td>\n",
       "      <td>categorical</td>\n",
       "    </tr>\n",
       "    <tr>\n",
       "      <th>education-num</th>\n",
       "      <td>int64</td>\n",
       "      <td>int64</td>\n",
       "      <td>continuous</td>\n",
       "    </tr>\n",
       "    <tr>\n",
       "      <th>marital-status</th>\n",
       "      <td>category</td>\n",
       "      <td>category</td>\n",
       "      <td>categorical</td>\n",
       "    </tr>\n",
       "    <tr>\n",
       "      <th>occupation</th>\n",
       "      <td>category</td>\n",
       "      <td>category</td>\n",
       "      <td>categorical</td>\n",
       "    </tr>\n",
       "    <tr>\n",
       "      <th>relationship</th>\n",
       "      <td>category</td>\n",
       "      <td>category</td>\n",
       "      <td>categorical</td>\n",
       "    </tr>\n",
       "    <tr>\n",
       "      <th>race</th>\n",
       "      <td>category</td>\n",
       "      <td>category</td>\n",
       "      <td>categorical</td>\n",
       "    </tr>\n",
       "    <tr>\n",
       "      <th>sex</th>\n",
       "      <td>category</td>\n",
       "      <td>category</td>\n",
       "      <td>categorical</td>\n",
       "    </tr>\n",
       "    <tr>\n",
       "      <th>capital-gain</th>\n",
       "      <td>int64</td>\n",
       "      <td>int64</td>\n",
       "      <td>continuous</td>\n",
       "    </tr>\n",
       "    <tr>\n",
       "      <th>capital-loss</th>\n",
       "      <td>int64</td>\n",
       "      <td>int64</td>\n",
       "      <td>continuous</td>\n",
       "    </tr>\n",
       "    <tr>\n",
       "      <th>hours-per-week</th>\n",
       "      <td>int64</td>\n",
       "      <td>int64</td>\n",
       "      <td>continuous</td>\n",
       "    </tr>\n",
       "    <tr>\n",
       "      <th>native-country</th>\n",
       "      <td>category</td>\n",
       "      <td>category</td>\n",
       "      <td>categorical</td>\n",
       "    </tr>\n",
       "  </tbody>\n",
       "</table>\n",
       "</div>"
      ],
      "text/plain": [
       "               train_set  test_set actual_types\n",
       "age                int64     int64   continuous\n",
       "workclass       category  category  categorical\n",
       "fnlwgt             int64     int64   continuous\n",
       "education       category  category  categorical\n",
       "education-num      int64     int64   continuous\n",
       "marital-status  category  category  categorical\n",
       "occupation      category  category  categorical\n",
       "relationship    category  category  categorical\n",
       "race            category  category  categorical\n",
       "sex             category  category  categorical\n",
       "capital-gain       int64     int64   continuous\n",
       "capital-loss       int64     int64   continuous\n",
       "hours-per-week     int64     int64   continuous\n",
       "native-country  category  category  categorical"
      ]
     },
     "execution_count": 39,
     "metadata": {},
     "output_type": "execute_result"
    }
   ],
   "source": [
    "pd.DataFrame([adult_train_data.dtypes, adult_test_data.dtypes, actual_types], \n",
    "             index=['train_set','test_set', 'actual_types']).T"
   ]
  },
  {
   "cell_type": "markdown",
   "metadata": {},
   "source": [
    "### Check Null Count and Data Type"
   ]
  },
  {
   "cell_type": "code",
   "execution_count": 40,
   "metadata": {},
   "outputs": [
    {
     "data": {
      "text/plain": [
       "(0, 0)"
      ]
     },
     "execution_count": 40,
     "metadata": {},
     "output_type": "execute_result"
    }
   ],
   "source": [
    "madelon_types = pd.DataFrame([madelon_train_data.dtypes, madelon_test_data.dtypes],\n",
    "                             index=['train_set', 'test_set']).T\n",
    "(madelon_types['train_set'] != int).sum(), (madelon_types['test_set'] != int).sum()"
   ]
  },
  {
   "cell_type": "code",
   "execution_count": 41,
   "metadata": {
    "collapsed": true
   },
   "outputs": [],
   "source": [
    "for col in madelon_train_data.columns:\n",
    "    null_count = madelon_train_data[col].isnull().sum()\n",
    "    if null_count > 0: print(col)\n",
    "    null_count = madelon_test_data[col].isnull().sum()\n",
    "    if null_count > 0: print(col)"
   ]
  },
  {
   "cell_type": "markdown",
   "metadata": {},
   "source": [
    "## Pickle Data"
   ]
  },
  {
   "cell_type": "code",
   "execution_count": 42,
   "metadata": {
    "collapsed": true
   },
   "outputs": [],
   "source": [
    "adult_train_data.to_pickle('data/adult_train_data.p')\n",
    "adult_test_data.to_pickle('data/adult_test_data.p')\n",
    "adult_train_labels.to_pickle('data/adult_train_labels.p')\n",
    "adult_test_labels.to_pickle('data/adult_test_labels.p')"
   ]
  },
  {
   "cell_type": "code",
   "execution_count": 43,
   "metadata": {
    "collapsed": true
   },
   "outputs": [],
   "source": [
    "madelon_train_data.to_pickle('data/madelon_train_data.p')\n",
    "madelon_test_data.to_pickle('data/madelon_test_data.p')\n",
    "madelon_train_labels.to_pickle('data/madelon_train_labels.p')\n",
    "madelon_test_labels.to_pickle('data/madelon_test_labels.p')"
   ]
  },
  {
   "cell_type": "code",
   "execution_count": null,
   "metadata": {},
   "outputs": [],
   "source": []
  }
 ],
 "metadata": {
  "kernelspec": {
   "display_name": "Python [default]",
   "language": "python",
   "name": "python3"
  },
  "language_info": {
   "codemirror_mode": {
    "name": "ipython",
    "version": 3
   },
   "file_extension": ".py",
   "mimetype": "text/x-python",
   "name": "python",
   "nbconvert_exporter": "python",
   "pygments_lexer": "ipython3",
   "version": "3.5.2"
  }
 },
 "nbformat": 4,
 "nbformat_minor": 2
}
