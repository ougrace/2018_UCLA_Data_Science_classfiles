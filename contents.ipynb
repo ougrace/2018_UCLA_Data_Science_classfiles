{
 "cells": [
  {
   "cell_type": "markdown",
   "metadata": {},
   "source": [
    "# <booktitle>UCLA Data Science Intensive</booktitle>\n",
    "\n",
    "<author>Joshua Cook</author>"
   ]
  },
  {
   "cell_type": "markdown",
   "metadata": {},
   "source": [
    "## Introductory Lectures"
   ]
  },
  {
   "cell_type": "markdown",
   "metadata": {},
   "source": [
    "<include type=\"notebook\" url=\"ipynb/lecture-02-vectors-and-matrices.ipynb\">\n",
    "  <a href=\"ipynb/lecture-02-vectors-and-matrices.ipynb\">Vectors and Matrices</a>\n",
    "</include>"
   ]
  },
  {
   "cell_type": "markdown",
   "metadata": {},
   "source": [
    "<include type=\"notebook\" url=\"ipynb/lecture-03-statistical-learning.ipynb\">\n",
    "  <a href=\"ipynb/lecture-03-statistical-learning.ipynb\">Statistical Learning</a>\n",
    "</include>"
   ]
  },
  {
   "cell_type": "markdown",
   "metadata": {},
   "source": [
    "<include type=\"notebook\" url=\"ipynb/lecture-06-model-accuracy.ipynb\">\n",
    "  <a href=\"ipynb/lecture-06-model-accuracy.ipynb\">The Bias-Variance Tradeoff</a>\n",
    "</include>"
   ]
  },
  {
   "cell_type": "markdown",
   "metadata": {},
   "source": [
    "<include type=\"notebook\" url=\"ipynb/lecture-07-probability.ipynb\">\n",
    "  <a href=\"ipynb/lecture-07-probability.ipynb\">Probability</a>\n",
    "</include>"
   ]
  },
  {
   "cell_type": "markdown",
   "metadata": {},
   "source": [
    "<include type=\"notebook\" url=\"ipynb/lecture-08-probabilistic-model-selection.ipynb\">\n",
    "  <a href=\"ipynb/lecture-08-probabilistic-model-selection.ipynb\">Probabilistic Model Selection</a>\n",
    "</include>"
   ]
  },
  {
   "cell_type": "markdown",
   "metadata": {},
   "source": [
    "<include type=\"notebook\" url=\"ipynb/lecture-09-masks-to-create-a-vector.ipynb\">\n",
    "  <a href=\"ipynb/lecture-09-masks-to-create-a-vector.ipynb\">Using Masks to Create a Vector</a>\n",
    "</include>"
   ]
  },
  {
   "cell_type": "markdown",
   "metadata": {},
   "source": [
    "<include type=\"notebook\" url=\"ipynb/lecture-10-the-curse-of-dimensionality.ipynb\">\n",
    "  <a href=\"ipynb/lecture-10-the-curse-of-dimensionality.ipynb\">The Curse of Dimensionality</a>\n",
    "</include>"
   ]
  },
  {
   "cell_type": "markdown",
   "metadata": {},
   "source": [
    "<include type=\"notebook\" url=\"ipynb/lecture-11-the-bias-variance-tradeoff.ipynb\">\n",
    "  <a href=\"ipynb/lecture-11-the-bias-variance-tradeoff.ipynb\">The Bias-Variance Tradeoff Revisited</a>\n",
    "</include>"
   ]
  },
  {
   "cell_type": "markdown",
   "metadata": {},
   "source": [
    "## Case Study: Seeds"
   ]
  },
  {
   "cell_type": "markdown",
   "metadata": {},
   "source": [
    "This will be a study of the Seeds data set available through the UCI Machine Learning Repository<sup>uciML</sup>, where additional information on the data set can be found<sup>seeds</sup>. The data set is very similar to Fisher's Iris data set. It is used here as an alternative to Iris, as a simple and straightforward data set that is useful for introducing the main concepts of statistical learning and data science, especially Supervised and Unsupervised Learning and Classficication, Regression, and Clustering.\n",
    "\n",
    "uciML: https://archive.ics.uci.edu/ml/index.php\n",
    "\n",
    "seeds: https://archive.ics.uci.edu/ml/datasets/seeds\n"
   ]
  },
  {
   "cell_type": "markdown",
   "metadata": {},
   "source": [
    "The UCI ML Repository describes the data as\n",
    "\n",
    "> The data collected here is measurements of geometrical properties of kernels belonging to three different varieties of wheat. A soft X-ray technique and GRAINS package were used to construct all seven, real-valued attributes.\n",
    "\n",
    "The **target** (also called labels, response, or dependent variable) fall into one of three classes just as in the Iris data set. The $n$, the number of observations (or points or rows), in the data set is very small. Iris contains 150 rows, whereas Seeds contains 210. The $p$, the number of salient **features** (also called predictors, input, or independent variables) is a bit larger than in Iris. Iris has four features, whereas Seeds has seven. In both data sets, all of the features are numerical and continuous."
   ]
  },
  {
   "cell_type": "markdown",
   "metadata": {},
   "source": [
    "<include type=\"notebook\" url=\"case-studies/case-study-01-seeds/00-introduction.ipynb\">\n",
    "  <a href=\"case-studies/case-study-01-seeds/00-introduction.ipynb\">Introduction Notebook</a>\n",
    "</include>"
   ]
  },
  {
   "cell_type": "markdown",
   "metadata": {},
   "source": [
    "<include type=\"notebook\" url=\"case-studies/case-study-01-seeds/01-load-and-verify-data.ipynb\">\n",
    "  <a href=\"case-studies/case-study-01-seeds/01-load-and-verify-data.ipynb\">Load and Verify the Data Notebook</a>\n",
    "</include>"
   ]
  },
  {
   "cell_type": "markdown",
   "metadata": {},
   "source": [
    "<include type=\"notebook\" url=\"case-studies/case-study-01-seeds/02-exploratory-data-analysis.ipynb\">\n",
    "  <a href=\"case-studies/case-study-01-seeds/02-exploratory-data-analysis.ipynb\">Exploratory Data Analysis Notebook</a>\n",
    "</include>"
   ]
  },
  {
   "cell_type": "markdown",
   "metadata": {},
   "source": [
    "<include type=\"notebook\" url=\"case-studies/case-study-01-seeds/03-developing-a-predictive-model.ipynb\">\n",
    "  <a href=\"case-studies/case-study-01-seeds/03-developing-a-predictive-model.ipynb\">Developing a Predictive Model Notebook</a>\n",
    "</include>"
   ]
  },
  {
   "cell_type": "markdown",
   "metadata": {},
   "source": [
    "## Configuring AWS"
   ]
  },
  {
   "cell_type": "markdown",
   "metadata": {},
   "source": [
    "In this first chapter, you will configure your local system and create an AWS instance in order to do data science work. To do this work, you will use the containerization technology Docker in order to streamline the work of configuring and provisioning your data science platform. You will use Docker Compose to manage the platform and its two containers and rely on Amazon Web Services (AWS) to manage your hardware."
   ]
  },
  {
   "cell_type": "markdown",
   "metadata": {},
   "source": [
    "If you have your own Jupyter Notebook setup previously installed, feel free to use it, in which case, it is not necessary to work through this first chapter. "
   ]
  },
  {
   "cell_type": "markdown",
   "metadata": {},
   "source": [
    "<include type=\"notebook\" url=\"ipynb/getting_started.ipynb\">\n",
    "  <a href=\"ipynb/getting_started.ipynb\">Configuring AWS</a>\n",
    "</include>"
   ]
  }
 ],
 "metadata": {
  "kernelspec": {
   "display_name": "Python 3",
   "language": "python",
   "name": "python3"
  },
  "language_info": {
   "codemirror_mode": {
    "name": "ipython",
    "version": 3
   },
   "file_extension": ".py",
   "mimetype": "text/x-python",
   "name": "python",
   "nbconvert_exporter": "python",
   "pygments_lexer": "ipython3",
   "version": "3.6.6"
  }
 },
 "nbformat": 4,
 "nbformat_minor": 2
}
